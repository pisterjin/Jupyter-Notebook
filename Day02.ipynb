{
 "cells": [
  {
   "cell_type": "code",
   "execution_count": 2,
   "id": "3e230fd6",
   "metadata": {},
   "outputs": [],
   "source": [
    "list1=[1, 'a', True, 0.12 ,None]"
   ]
  },
  {
   "cell_type": "code",
   "execution_count": 3,
   "id": "adc2e469",
   "metadata": {},
   "outputs": [
    {
     "data": {
      "text/plain": [
       "list"
      ]
     },
     "execution_count": 3,
     "metadata": {},
     "output_type": "execute_result"
    }
   ],
   "source": [
    "type(list1) #list"
   ]
  },
  {
   "cell_type": "code",
   "execution_count": 4,
   "id": "daad8aea",
   "metadata": {},
   "outputs": [
    {
     "data": {
      "text/plain": [
       "[1, 'a', True, 0.12, None]"
      ]
     },
     "execution_count": 4,
     "metadata": {},
     "output_type": "execute_result"
    }
   ],
   "source": [
    "list1 #SHIFT+TAB (도움말)"
   ]
  },
  {
   "cell_type": "code",
   "execution_count": 5,
   "id": "aca505a8",
   "metadata": {},
   "outputs": [
    {
     "data": {
      "text/plain": [
       "['__add__',\n",
       " '__class__',\n",
       " '__class_getitem__',\n",
       " '__contains__',\n",
       " '__delattr__',\n",
       " '__delitem__',\n",
       " '__dir__',\n",
       " '__doc__',\n",
       " '__eq__',\n",
       " '__format__',\n",
       " '__ge__',\n",
       " '__getattribute__',\n",
       " '__getitem__',\n",
       " '__getstate__',\n",
       " '__gt__',\n",
       " '__hash__',\n",
       " '__iadd__',\n",
       " '__imul__',\n",
       " '__init__',\n",
       " '__init_subclass__',\n",
       " '__iter__',\n",
       " '__le__',\n",
       " '__len__',\n",
       " '__lt__',\n",
       " '__mul__',\n",
       " '__ne__',\n",
       " '__new__',\n",
       " '__reduce__',\n",
       " '__reduce_ex__',\n",
       " '__repr__',\n",
       " '__reversed__',\n",
       " '__rmul__',\n",
       " '__setattr__',\n",
       " '__setitem__',\n",
       " '__sizeof__',\n",
       " '__str__',\n",
       " '__subclasshook__',\n",
       " 'append',\n",
       " 'clear',\n",
       " 'copy',\n",
       " 'count',\n",
       " 'extend',\n",
       " 'index',\n",
       " 'insert',\n",
       " 'pop',\n",
       " 'remove',\n",
       " 'reverse',\n",
       " 'sort']"
      ]
     },
     "execution_count": 5,
     "metadata": {},
     "output_type": "execute_result"
    }
   ],
   "source": [
    "dir(list1)"
   ]
  },
  {
   "cell_type": "code",
   "execution_count": 6,
   "id": "063c11e0",
   "metadata": {},
   "outputs": [
    {
     "data": {
      "text/plain": [
       "[1, 'a', True, 0.12, None, 'Hello']"
      ]
     },
     "execution_count": 6,
     "metadata": {},
     "output_type": "execute_result"
    }
   ],
   "source": [
    "list1.append('Hello')\n",
    "list1"
   ]
  },
  {
   "cell_type": "code",
   "execution_count": 7,
   "id": "3a97ffaf",
   "metadata": {},
   "outputs": [
    {
     "data": {
      "text/plain": [
       "[3.14, 1, 'a', True, 0.12, None, 'Hello']"
      ]
     },
     "execution_count": 7,
     "metadata": {},
     "output_type": "execute_result"
    }
   ],
   "source": [
    "list1.insert(0, 3.14)\n",
    "list1"
   ]
  },
  {
   "cell_type": "code",
   "execution_count": 8,
   "id": "5f8f6475",
   "metadata": {},
   "outputs": [
    {
     "name": "stdout",
     "output_type": "stream",
     "text": [
      "3.14\n",
      "1\n",
      "a\n",
      "True\n",
      "0.12\n",
      "None\n",
      "Hello\n"
     ]
    }
   ],
   "source": [
    "for elem in list1:\n",
    "    print(elem)"
   ]
  },
  {
   "cell_type": "code",
   "execution_count": 10,
   "id": "88b665af",
   "metadata": {},
   "outputs": [
    {
     "ename": "IndexError",
     "evalue": "pop index out of range",
     "output_type": "error",
     "traceback": [
      "\u001b[1;31m---------------------------------------------------------------------------\u001b[0m",
      "\u001b[1;31mIndexError\u001b[0m                                Traceback (most recent call last)",
      "Cell \u001b[1;32mIn[10], line 1\u001b[0m\n\u001b[1;32m----> 1\u001b[0m list1\u001b[38;5;241m.\u001b[39mpop(\u001b[38;5;241m9\u001b[39m)\n\u001b[0;32m      2\u001b[0m list1\n",
      "\u001b[1;31mIndexError\u001b[0m: pop index out of range"
     ]
    }
   ],
   "source": [
    "list1.pop(9)\n",
    "list1 # 리스트 인덱스 범위를 벗어난 내용이라 에러 남"
   ]
  },
  {
   "cell_type": "code",
   "execution_count": 11,
   "id": "6e2d4984",
   "metadata": {},
   "outputs": [
    {
     "data": {
      "text/plain": [
       "'Hello'"
      ]
     },
     "execution_count": 11,
     "metadata": {},
     "output_type": "execute_result"
    }
   ],
   "source": [
    "list1.pop(6) # 인덱스 0부터 시작하니 6번째 자리가 지워지므로 이걸 실행하면 값이 Hello가 나옴\n",
    "#이 상태에서 list1을 출력하면 'Hello'가 빠진 리스트가 출력됨"
   ]
  },
  {
   "cell_type": "code",
   "execution_count": 12,
   "id": "4e396cbf",
   "metadata": {
    "scrolled": false
   },
   "outputs": [
    {
     "data": {
      "text/plain": [
       "[3.14, 1, 'a', True, 0.12]"
      ]
     },
     "execution_count": 12,
     "metadata": {},
     "output_type": "execute_result"
    }
   ],
   "source": [
    "list1.pop() # pop는 기본적으로 맨 끝 값을 디폴트로 가진다고 #SHIFT+TAB (도움말)에 나와 있으므로 빈 칸으로 두면 맨 끝 값이 지워짐\n",
    "# 현재는 None이 맨 끝 값임\n",
    "list1  # None이 지워진 값이 출력됨"
   ]
  },
  {
   "cell_type": "code",
   "execution_count": 13,
   "id": "b3d8133b",
   "metadata": {},
   "outputs": [
    {
     "data": {
      "text/plain": [
       "0.12"
      ]
     },
     "execution_count": 13,
     "metadata": {},
     "output_type": "execute_result"
    }
   ],
   "source": [
    "list1.pop()  # 현재 리스트의 맨 끝 값 출력"
   ]
  },
  {
   "cell_type": "code",
   "execution_count": 14,
   "id": "02342718",
   "metadata": {},
   "outputs": [
    {
     "data": {
      "text/plain": [
       "['a', True]"
      ]
     },
     "execution_count": 14,
     "metadata": {},
     "output_type": "execute_result"
    }
   ],
   "source": [
    "list1.remove(3.14)  # 값을 직접 넣어 삭제함\n",
    "list1.remove(1) # 값을 직접 넣어 삭제함\n",
    "list1  # 3.14와 1이 삭제된 채로 리스트가 출력됨"
   ]
  },
  {
   "cell_type": "code",
   "execution_count": 15,
   "id": "d60fa742",
   "metadata": {},
   "outputs": [
    {
     "data": {
      "text/plain": [
       "[True, 'a']"
      ]
     },
     "execution_count": 15,
     "metadata": {},
     "output_type": "execute_result"
    }
   ],
   "source": [
    "list1.reverse()  # 앞과 뒤(앞과 끝)의 순서를 역으로 바꿔줌\n",
    "list1"
   ]
  },
  {
   "cell_type": "code",
   "execution_count": 16,
   "id": "40902347",
   "metadata": {},
   "outputs": [
    {
     "data": {
      "text/plain": [
       "[3, 2, 7, 1, 5, 4]"
      ]
     },
     "execution_count": 16,
     "metadata": {},
     "output_type": "execute_result"
    }
   ],
   "source": [
    "list1=[3,2,7,1,5,4]\n",
    "list1"
   ]
  },
  {
   "cell_type": "code",
   "execution_count": 17,
   "id": "cf66608c",
   "metadata": {},
   "outputs": [
    {
     "data": {
      "text/plain": [
       "[1, 2, 3, 4, 5, 7]"
      ]
     },
     "execution_count": 17,
     "metadata": {},
     "output_type": "execute_result"
    }
   ],
   "source": [
    "list1.sort()  # 정렬\n",
    "list1"
   ]
  },
  {
   "cell_type": "code",
   "execution_count": 18,
   "id": "632280c1",
   "metadata": {},
   "outputs": [
    {
     "data": {
      "text/plain": [
       "4"
      ]
     },
     "execution_count": 18,
     "metadata": {},
     "output_type": "execute_result"
    }
   ],
   "source": [
    "list1.index(5)"
   ]
  },
  {
   "cell_type": "code",
   "execution_count": 19,
   "id": "d7bfdc4b",
   "metadata": {},
   "outputs": [
    {
     "data": {
      "text/plain": [
       "[1, 2, 3, 4, 5, 7, 8, 9, 10]"
      ]
     },
     "execution_count": 19,
     "metadata": {},
     "output_type": "execute_result"
    }
   ],
   "source": [
    "list2=[8,9,10]\n",
    "list1.extend(list2)\n",
    "list1"
   ]
  },
  {
   "cell_type": "code",
   "execution_count": 20,
   "id": "b49bd9e5",
   "metadata": {},
   "outputs": [
    {
     "data": {
      "text/plain": [
       "[1, 2, 3, 4, 5, 7, 8, 9, 10, 3, 6, 3, 8, 7]"
      ]
     },
     "execution_count": 20,
     "metadata": {},
     "output_type": "execute_result"
    }
   ],
   "source": [
    "list1.extend([3,6,3,8,7])\n",
    "list1"
   ]
  },
  {
   "cell_type": "code",
   "execution_count": 21,
   "id": "ddf68e0c",
   "metadata": {},
   "outputs": [
    {
     "data": {
      "text/plain": [
       "2"
      ]
     },
     "execution_count": 21,
     "metadata": {},
     "output_type": "execute_result"
    }
   ],
   "source": [
    "list1.count(7)"
   ]
  },
  {
   "cell_type": "code",
   "execution_count": 22,
   "id": "2962c6d7",
   "metadata": {},
   "outputs": [
    {
     "data": {
      "text/plain": [
       "([1, 2, 3, 4, 5, 7, 8, 9, 10, 3, 6, 3, 8, 7],\n",
       " [1, 2, 3, 4, 5, 7, 8, 9, 10, 3, 6, 3, 8, 7])"
      ]
     },
     "execution_count": 22,
     "metadata": {},
     "output_type": "execute_result"
    }
   ],
   "source": [
    "list2 = list1.copy()\n",
    "(list1, list2)"
   ]
  },
  {
   "cell_type": "code",
   "execution_count": 23,
   "id": "c6147577",
   "metadata": {},
   "outputs": [
    {
     "data": {
      "text/plain": [
       "7"
      ]
     },
     "execution_count": 23,
     "metadata": {},
     "output_type": "execute_result"
    }
   ],
   "source": [
    "list2.pop()"
   ]
  },
  {
   "cell_type": "code",
   "execution_count": 24,
   "id": "265b8290",
   "metadata": {},
   "outputs": [
    {
     "data": {
      "text/plain": [
       "([1, 2, 3, 4, 5, 7, 8, 9, 10, 3, 6, 3, 8, 7],\n",
       " [1, 2, 3, 4, 5, 7, 8, 9, 10, 3, 6, 3, 8])"
      ]
     },
     "execution_count": 24,
     "metadata": {},
     "output_type": "execute_result"
    }
   ],
   "source": [
    "(list1, list2)  #list2가 list1을 copy하였으나 list2.pop()를 했을 때 list2만 변경되는 것을 알 수 있음 (딥 카피-독립적-가 됨)"
   ]
  },
  {
   "cell_type": "code",
   "execution_count": 25,
   "id": "29e31510",
   "metadata": {},
   "outputs": [
    {
     "data": {
      "text/plain": [
       "[1, 2, 3, 4, 5, 7, 8, 9, 10, 3, 6, 3, 8, 7]"
      ]
     },
     "execution_count": 25,
     "metadata": {},
     "output_type": "execute_result"
    }
   ],
   "source": [
    "list1"
   ]
  },
  {
   "cell_type": "code",
   "execution_count": 26,
   "id": "bf012af4",
   "metadata": {},
   "outputs": [
    {
     "data": {
      "text/plain": [
       "[1, 2, 3, 4, 5, 7, 8, 9, 10, 3, 6, 3, 8]"
      ]
     },
     "execution_count": 26,
     "metadata": {},
     "output_type": "execute_result"
    }
   ],
   "source": [
    "list2"
   ]
  },
  {
   "cell_type": "code",
   "execution_count": 27,
   "id": "47e0e3e8",
   "metadata": {},
   "outputs": [
    {
     "data": {
      "text/plain": [
       "[]"
      ]
     },
     "execution_count": 27,
     "metadata": {},
     "output_type": "execute_result"
    }
   ],
   "source": [
    "list1.clear()\n",
    "list1   # clear는 통으로 지움"
   ]
  },
  {
   "cell_type": "code",
   "execution_count": 28,
   "id": "13f982fe",
   "metadata": {},
   "outputs": [
    {
     "data": {
      "text/plain": [
       "[1, 2, 3, 4, 5, 7, 8, 9, 10, 3, 6, 3, 8]"
      ]
     },
     "execution_count": 28,
     "metadata": {},
     "output_type": "execute_result"
    }
   ],
   "source": [
    "list2 #list2가 list1을 copy하였어도 독립된 값을 유지(파이썬에서는 독립적인 값 유지 카피를 딥 카피라고 함)"
   ]
  },
  {
   "cell_type": "code",
   "execution_count": 29,
   "id": "572f655a",
   "metadata": {},
   "outputs": [
    {
     "data": {
      "text/plain": [
       "int"
      ]
     },
     "execution_count": 29,
     "metadata": {},
     "output_type": "execute_result"
    }
   ],
   "source": [
    "val=(3)\n",
    "type(val)  # 리턴 값을 알아야 반복문 등을 쓸 수 있어서 파이썬이 지정한 리턴값 알고 싶을 때 type을 씀"
   ]
  },
  {
   "cell_type": "code",
   "execution_count": 30,
   "id": "54ec8b5e",
   "metadata": {},
   "outputs": [
    {
     "data": {
      "text/plain": [
       "int"
      ]
     },
     "execution_count": 30,
     "metadata": {},
     "output_type": "execute_result"
    }
   ],
   "source": [
    "val=(3+4)*2\n",
    "type(val)"
   ]
  },
  {
   "cell_type": "code",
   "execution_count": 31,
   "id": "3fb8fd2f",
   "metadata": {},
   "outputs": [
    {
     "data": {
      "text/plain": [
       "tuple"
      ]
     },
     "execution_count": 31,
     "metadata": {},
     "output_type": "execute_result"
    }
   ],
   "source": [
    "val=(3,)\n",
    "type(val)  # 단일 값이 있는 소괄호는 기본적으로도 쓰이기 때문에 튜플로 인정되지 않으나 소괄호가 있고 값에 쉽표가 들어가면 튜플로 봄"
   ]
  },
  {
   "cell_type": "code",
   "execution_count": 32,
   "id": "375d13fe",
   "metadata": {},
   "outputs": [
    {
     "data": {
      "text/plain": [
       "list"
      ]
     },
     "execution_count": 32,
     "metadata": {},
     "output_type": "execute_result"
    }
   ],
   "source": [
    "type([])"
   ]
  },
  {
   "cell_type": "code",
   "execution_count": 33,
   "id": "58c8ba82",
   "metadata": {},
   "outputs": [
    {
     "data": {
      "text/plain": [
       "dict"
      ]
     },
     "execution_count": 33,
     "metadata": {},
     "output_type": "execute_result"
    }
   ],
   "source": [
    "type({})"
   ]
  },
  {
   "cell_type": "code",
   "execution_count": 34,
   "id": "8a363950",
   "metadata": {},
   "outputs": [
    {
     "data": {
      "text/plain": [
       "[{'name': 'Smith', 'sal': 3000}, {'name': 'James', 'sal': 4000}]"
      ]
     },
     "execution_count": 34,
     "metadata": {},
     "output_type": "execute_result"
    }
   ],
   "source": [
    "mems = [\n",
    "    {\"name\":\"Smith\", \"sal\":3000},\n",
    "    {\"name\":\"James\", \"sal\":4000}\n",
    "]\n",
    "mems"
   ]
  },
  {
   "cell_type": "code",
   "execution_count": 35,
   "id": "40893685",
   "metadata": {},
   "outputs": [
    {
     "data": {
      "text/plain": [
       "{'name': 'Smith', 'sal': 3000}"
      ]
     },
     "execution_count": 35,
     "metadata": {},
     "output_type": "execute_result"
    }
   ],
   "source": [
    "mems[0]"
   ]
  },
  {
   "cell_type": "code",
   "execution_count": 36,
   "id": "c3df8225",
   "metadata": {},
   "outputs": [
    {
     "data": {
      "text/plain": [
       "[{'name': 'Smith', 'sal': 3000},\n",
       " {'name': 'James', 'sal': 4000},\n",
       " {'name': 'blake', 'sal': 4000}]"
      ]
     },
     "execution_count": 36,
     "metadata": {},
     "output_type": "execute_result"
    }
   ],
   "source": [
    "mems2 = [\n",
    "   {\"name\":\"blake\", \"sal\":4000}\n",
    "]\n",
    "mems+mems2"
   ]
  },
  {
   "cell_type": "code",
   "execution_count": 37,
   "id": "ef677ea6",
   "metadata": {},
   "outputs": [
    {
     "data": {
      "text/plain": [
       "[{'name': 'Smith', 'sal': 3000},\n",
       " {'name': 'James', 'sal': 4000},\n",
       " {'name': 'Kale', 'sal': 4000}]"
      ]
     },
     "execution_count": 37,
     "metadata": {},
     "output_type": "execute_result"
    }
   ],
   "source": [
    "mems.append({\"name\":\"Kale\", \"sal\":4000})\n",
    "mems"
   ]
  },
  {
   "cell_type": "code",
   "execution_count": 38,
   "id": "f6381354",
   "metadata": {},
   "outputs": [
    {
     "name": "stdout",
     "output_type": "stream",
     "text": [
      "Smith \t 3000\n",
      "James \t 4000\n",
      "Kale \t 4000\n"
     ]
    }
   ],
   "source": [
    "for mem in mems:\n",
    "    print(mem['name'], '\\t', mem['sal'])"
   ]
  },
  {
   "cell_type": "code",
   "execution_count": 39,
   "id": "909d5ae5",
   "metadata": {},
   "outputs": [],
   "source": [
    "# 참조 복사\n",
    "list1 = [1,2,3]\n",
    "list2 = list1"
   ]
  },
  {
   "cell_type": "code",
   "execution_count": 40,
   "id": "a2b0ca39",
   "metadata": {},
   "outputs": [
    {
     "data": {
      "text/plain": [
       "[1, 2, 3, 4]"
      ]
     },
     "execution_count": 40,
     "metadata": {},
     "output_type": "execute_result"
    }
   ],
   "source": [
    "list2.append(4)\n",
    "list1"
   ]
  },
  {
   "cell_type": "code",
   "execution_count": 41,
   "id": "94b647d3",
   "metadata": {},
   "outputs": [],
   "source": [
    "# Shallow copy\n",
    "list1 = [1, 2, []]\n",
    "list2 = list1.copy()"
   ]
  },
  {
   "cell_type": "code",
   "execution_count": 42,
   "id": "27b3ac9f",
   "metadata": {},
   "outputs": [
    {
     "data": {
      "text/plain": [
       "[1, 2, [3]]"
      ]
     },
     "execution_count": 42,
     "metadata": {},
     "output_type": "execute_result"
    }
   ],
   "source": [
    "list2[-1].append(3)\n",
    "list1"
   ]
  },
  {
   "cell_type": "code",
   "execution_count": 43,
   "id": "c33e40fe",
   "metadata": {},
   "outputs": [],
   "source": [
    "# Deep copy\n",
    "import copy   # 기본적으로 파이썬에서 copy 파일 제공하고 있으므로 import copy 가능"
   ]
  },
  {
   "cell_type": "code",
   "execution_count": 44,
   "id": "dc02e20f",
   "metadata": {},
   "outputs": [],
   "source": [
    "list3 = [1, 2, []]\n",
    "list4 = copy.deepcopy(list3)"
   ]
  },
  {
   "cell_type": "code",
   "execution_count": 45,
   "id": "50cc8645",
   "metadata": {},
   "outputs": [
    {
     "data": {
      "text/plain": [
       "[1, 2, []]"
      ]
     },
     "execution_count": 45,
     "metadata": {},
     "output_type": "execute_result"
    }
   ],
   "source": [
    "list4[-1].append(3)\n",
    "list3"
   ]
  },
  {
   "cell_type": "code",
   "execution_count": 46,
   "id": "ab2bbd7c",
   "metadata": {},
   "outputs": [
    {
     "data": {
      "text/plain": [
       "dict"
      ]
     },
     "execution_count": 46,
     "metadata": {},
     "output_type": "execute_result"
    }
   ],
   "source": [
    "# 딕셔너리\n",
    "type({})"
   ]
  },
  {
   "cell_type": "code",
   "execution_count": 47,
   "id": "ddc5969e",
   "metadata": {},
   "outputs": [
    {
     "data": {
      "text/plain": [
       "{'empno': 11, 'ename': 'James', 'married': True}"
      ]
     },
     "execution_count": 47,
     "metadata": {},
     "output_type": "execute_result"
    }
   ],
   "source": [
    "emp = {\"empno\":11, \"ename\":\"James\", \"married\":True}\n",
    "emp"
   ]
  },
  {
   "cell_type": "code",
   "execution_count": 48,
   "id": "121194f1",
   "metadata": {},
   "outputs": [
    {
     "data": {
      "text/plain": [
       "{'empno': 11, 'ename': 'James', 'married': True, 'deptno': 20}"
      ]
     },
     "execution_count": 48,
     "metadata": {},
     "output_type": "execute_result"
    }
   ],
   "source": [
    "emp['deptno']=20\n",
    "emp   # 'deptno': 20 이라는 값 추가"
   ]
  },
  {
   "cell_type": "code",
   "execution_count": 49,
   "id": "d265bc16",
   "metadata": {},
   "outputs": [
    {
     "data": {
      "text/plain": [
       "{'empno': 11, 'ename': 'James', 'married': False, 'deptno': 20}"
      ]
     },
     "execution_count": 49,
     "metadata": {},
     "output_type": "execute_result"
    }
   ],
   "source": [
    "emp['married']=False\n",
    "emp  # 'married': True를 'married': 'False'로 수정"
   ]
  },
  {
   "cell_type": "code",
   "execution_count": 50,
   "id": "0782e426",
   "metadata": {},
   "outputs": [
    {
     "data": {
      "text/plain": [
       "{'empno': 11, 'ename': 'James', 'deptno': 20}"
      ]
     },
     "execution_count": 50,
     "metadata": {},
     "output_type": "execute_result"
    }
   ],
   "source": [
    "emp.pop('married') # married': False 삭제\n",
    "emp"
   ]
  },
  {
   "cell_type": "code",
   "execution_count": 51,
   "id": "96b990cf",
   "metadata": {},
   "outputs": [
    {
     "data": {
      "text/plain": [
       "['__class__',\n",
       " '__class_getitem__',\n",
       " '__contains__',\n",
       " '__delattr__',\n",
       " '__delitem__',\n",
       " '__dir__',\n",
       " '__doc__',\n",
       " '__eq__',\n",
       " '__format__',\n",
       " '__ge__',\n",
       " '__getattribute__',\n",
       " '__getitem__',\n",
       " '__getstate__',\n",
       " '__gt__',\n",
       " '__hash__',\n",
       " '__init__',\n",
       " '__init_subclass__',\n",
       " '__ior__',\n",
       " '__iter__',\n",
       " '__le__',\n",
       " '__len__',\n",
       " '__lt__',\n",
       " '__ne__',\n",
       " '__new__',\n",
       " '__or__',\n",
       " '__reduce__',\n",
       " '__reduce_ex__',\n",
       " '__repr__',\n",
       " '__reversed__',\n",
       " '__ror__',\n",
       " '__setattr__',\n",
       " '__setitem__',\n",
       " '__sizeof__',\n",
       " '__str__',\n",
       " '__subclasshook__',\n",
       " 'clear',\n",
       " 'copy',\n",
       " 'fromkeys',\n",
       " 'get',\n",
       " 'items',\n",
       " 'keys',\n",
       " 'pop',\n",
       " 'popitem',\n",
       " 'setdefault',\n",
       " 'update',\n",
       " 'values']"
      ]
     },
     "execution_count": 51,
     "metadata": {},
     "output_type": "execute_result"
    }
   ],
   "source": [
    "dir(emp)"
   ]
  },
  {
   "cell_type": "code",
   "execution_count": 52,
   "id": "f5cd323f",
   "metadata": {},
   "outputs": [
    {
     "name": "stdout",
     "output_type": "stream",
     "text": [
      "<class 'str'>\n",
      "<class 'str'>\n",
      "<class 'str'>\n"
     ]
    }
   ],
   "source": [
    "for v in emp:\n",
    "    print(type(v))"
   ]
  },
  {
   "cell_type": "code",
   "execution_count": 53,
   "id": "3c0b1c51",
   "metadata": {},
   "outputs": [
    {
     "name": "stdout",
     "output_type": "stream",
     "text": [
      "empno\n",
      "ename\n",
      "deptno\n"
     ]
    }
   ],
   "source": [
    "for v in emp:\n",
    "    print(v)"
   ]
  },
  {
   "cell_type": "code",
   "execution_count": 54,
   "id": "b62788be",
   "metadata": {},
   "outputs": [
    {
     "name": "stdout",
     "output_type": "stream",
     "text": [
      "11\n",
      "James\n",
      "20\n"
     ]
    }
   ],
   "source": [
    "for key in emp:\n",
    "    print(emp[key])"
   ]
  },
  {
   "cell_type": "code",
   "execution_count": 55,
   "id": "4656ad54",
   "metadata": {},
   "outputs": [
    {
     "data": {
      "text/plain": [
       "dict_items"
      ]
     },
     "execution_count": 55,
     "metadata": {},
     "output_type": "execute_result"
    }
   ],
   "source": [
    "type(emp.items())"
   ]
  },
  {
   "cell_type": "code",
   "execution_count": 56,
   "id": "80366cdc",
   "metadata": {},
   "outputs": [
    {
     "name": "stdout",
     "output_type": "stream",
     "text": [
      "<class 'tuple'>\n",
      "<class 'tuple'>\n",
      "<class 'tuple'>\n"
     ]
    }
   ],
   "source": [
    "for v in emp.items():\n",
    "    print(type(v))"
   ]
  },
  {
   "cell_type": "code",
   "execution_count": 57,
   "id": "c8ff1fc8",
   "metadata": {},
   "outputs": [
    {
     "name": "stdout",
     "output_type": "stream",
     "text": [
      "2\n",
      "2\n",
      "2\n"
     ]
    }
   ],
   "source": [
    "for v in emp.items():\n",
    "    print(len(v))"
   ]
  },
  {
   "cell_type": "code",
   "execution_count": 58,
   "id": "0498ba44",
   "metadata": {},
   "outputs": [
    {
     "name": "stdout",
     "output_type": "stream",
     "text": [
      "empno \t 11\n",
      "ename \t James\n",
      "deptno \t 20\n"
     ]
    }
   ],
   "source": [
    "for (k,v) in emp.items():\n",
    "    print(k,'\\t',v)"
   ]
  },
  {
   "cell_type": "code",
   "execution_count": 59,
   "id": "ba51b58e",
   "metadata": {},
   "outputs": [
    {
     "name": "stdout",
     "output_type": "stream",
     "text": [
      "empno 11\n",
      "ename James\n",
      "deptno 20\n"
     ]
    }
   ],
   "source": [
    "for (k,v) in emp.items():\n",
    "    print(k,v)"
   ]
  },
  {
   "cell_type": "code",
   "execution_count": 60,
   "id": "609f4e14",
   "metadata": {},
   "outputs": [
    {
     "data": {
      "text/plain": [
       "('James', 'James')"
      ]
     },
     "execution_count": 60,
     "metadata": {},
     "output_type": "execute_result"
    }
   ],
   "source": [
    "emp['ename'], emp.get('ename')  # 둘 다 결과는 동일하나 삭제한 값일 경우에는 결과가 다름"
   ]
  },
  {
   "cell_type": "code",
   "execution_count": 61,
   "id": "fcd2d075",
   "metadata": {},
   "outputs": [
    {
     "ename": "KeyError",
     "evalue": "'married'",
     "output_type": "error",
     "traceback": [
      "\u001b[1;31m---------------------------------------------------------------------------\u001b[0m",
      "\u001b[1;31mKeyError\u001b[0m                                  Traceback (most recent call last)",
      "Cell \u001b[1;32mIn[61], line 1\u001b[0m\n\u001b[1;32m----> 1\u001b[0m emp[\u001b[38;5;124m'\u001b[39m\u001b[38;5;124mmarried\u001b[39m\u001b[38;5;124m'\u001b[39m]\n",
      "\u001b[1;31mKeyError\u001b[0m: 'married'"
     ]
    }
   ],
   "source": [
    "emp['married']  # 지웠으므로 키 에러 나옴(지운 게 확실할 때 이거 씀)"
   ]
  },
  {
   "cell_type": "code",
   "execution_count": 62,
   "id": "38a69e26",
   "metadata": {},
   "outputs": [],
   "source": [
    "emp.get('marrid') # 값이 없어서 나오는 출력 값은 없으나 에러 안 남(지운 게 불확실할 때 이거 씀)"
   ]
  },
  {
   "cell_type": "code",
   "execution_count": 63,
   "id": "4caa304b",
   "metadata": {},
   "outputs": [
    {
     "data": {
      "text/plain": [
       "{'empno': 11, 'ename': 'James', 'deptno': 20, 'married': False}"
      ]
     },
     "execution_count": 63,
     "metadata": {},
     "output_type": "execute_result"
    }
   ],
   "source": [
    "emp.update({'married': False})\n",
    "emp"
   ]
  },
  {
   "cell_type": "code",
   "execution_count": 64,
   "id": "999a485a",
   "metadata": {},
   "outputs": [
    {
     "data": {
      "text/plain": [
       "True"
      ]
     },
     "execution_count": 64,
     "metadata": {},
     "output_type": "execute_result"
    }
   ],
   "source": [
    "'ename' in emp"
   ]
  },
  {
   "cell_type": "code",
   "execution_count": 65,
   "id": "584a9162",
   "metadata": {},
   "outputs": [
    {
     "name": "stdout",
     "output_type": "stream",
     "text": [
      "James\n"
     ]
    }
   ],
   "source": [
    "if 'ename' in emp:\n",
    "    print(emp['ename'])"
   ]
  },
  {
   "cell_type": "code",
   "execution_count": 66,
   "id": "8b4535bb",
   "metadata": {},
   "outputs": [],
   "source": [
    "list1=[1,2,3]"
   ]
  },
  {
   "cell_type": "code",
   "execution_count": 67,
   "id": "a790bd13",
   "metadata": {},
   "outputs": [
    {
     "data": {
      "text/plain": [
       "[1, 2, 3, 1, 2, 3]"
      ]
     },
     "execution_count": 67,
     "metadata": {},
     "output_type": "execute_result"
    }
   ],
   "source": [
    "list1*2  # list를 곱한 수만큼 반복"
   ]
  },
  {
   "cell_type": "code",
   "execution_count": 68,
   "id": "785266f4",
   "metadata": {},
   "outputs": [
    {
     "data": {
      "text/plain": [
       "[1, 2, 3]"
      ]
     },
     "execution_count": 68,
     "metadata": {},
     "output_type": "execute_result"
    }
   ],
   "source": [
    "list1 # 곱하기 했어도 list1에는 변화 없음"
   ]
  },
  {
   "cell_type": "code",
   "execution_count": 69,
   "id": "2d7ab0c6",
   "metadata": {},
   "outputs": [
    {
     "data": {
      "text/plain": [
       "[1, 2, 3, 1, 2, 3]"
      ]
     },
     "execution_count": 69,
     "metadata": {},
     "output_type": "execute_result"
    }
   ],
   "source": [
    "list2 = list1*2\n",
    "list2"
   ]
  },
  {
   "cell_type": "code",
   "execution_count": 70,
   "id": "cfcc2e07",
   "metadata": {},
   "outputs": [
    {
     "ename": "TypeError",
     "evalue": "can only concatenate list (not \"int\") to list",
     "output_type": "error",
     "traceback": [
      "\u001b[1;31m---------------------------------------------------------------------------\u001b[0m",
      "\u001b[1;31mTypeError\u001b[0m                                 Traceback (most recent call last)",
      "Cell \u001b[1;32mIn[70], line 1\u001b[0m\n\u001b[1;32m----> 1\u001b[0m list1\u001b[38;5;241m+\u001b[39m\u001b[38;5;241m3\u001b[39m\n",
      "\u001b[1;31mTypeError\u001b[0m: can only concatenate list (not \"int\") to list"
     ]
    }
   ],
   "source": [
    "list1+3   # 파이썬에선 오류나나 실제 빅테이터에서는 정상 계산 가능함"
   ]
  },
  {
   "cell_type": "code",
   "execution_count": 71,
   "id": "95cef968",
   "metadata": {},
   "outputs": [
    {
     "data": {
      "text/plain": [
       "[1, 2, 3, 4, 5, 6]"
      ]
     },
     "execution_count": 71,
     "metadata": {},
     "output_type": "execute_result"
    }
   ],
   "source": [
    "list2=list1 + [4,5,6]\n",
    "list2"
   ]
  },
  {
   "cell_type": "code",
   "execution_count": 72,
   "id": "fea6ed98",
   "metadata": {},
   "outputs": [
    {
     "data": {
      "text/plain": [
       "4"
      ]
     },
     "execution_count": 72,
     "metadata": {},
     "output_type": "execute_result"
    }
   ],
   "source": [
    "2*2"
   ]
  },
  {
   "cell_type": "code",
   "execution_count": 73,
   "id": "76e9a17a",
   "metadata": {},
   "outputs": [
    {
     "data": {
      "text/plain": [
       "8"
      ]
     },
     "execution_count": 73,
     "metadata": {},
     "output_type": "execute_result"
    }
   ],
   "source": [
    "2**3  # ** 이렇게 별표 2개 하면 지수 표수"
   ]
  },
  {
   "cell_type": "code",
   "execution_count": 74,
   "id": "d0f85cfd",
   "metadata": {},
   "outputs": [
    {
     "data": {
      "text/plain": [
       "2.5"
      ]
     },
     "execution_count": 74,
     "metadata": {},
     "output_type": "execute_result"
    }
   ],
   "source": [
    "5/2 # 이렇게 나눗셈할 때 자바는 정수끼리 나눗셈이라 몫만 출력하나 파이썬은 값 그대로 출력"
   ]
  },
  {
   "cell_type": "code",
   "execution_count": 75,
   "id": "a5f6a41e",
   "metadata": {},
   "outputs": [
    {
     "data": {
      "text/plain": [
       "2"
      ]
     },
     "execution_count": 75,
     "metadata": {},
     "output_type": "execute_result"
    }
   ],
   "source": [
    "5//2 # 나눗셈의 몫만 출력 원할 때 슬러시 2개"
   ]
  },
  {
   "cell_type": "code",
   "execution_count": 76,
   "id": "98951475",
   "metadata": {},
   "outputs": [
    {
     "data": {
      "text/plain": [
       "[1, 2]"
      ]
     },
     "execution_count": 76,
     "metadata": {},
     "output_type": "execute_result"
    }
   ],
   "source": [
    "list1.pop()\n",
    "list1"
   ]
  },
  {
   "cell_type": "code",
   "execution_count": 77,
   "id": "4d09ca77",
   "metadata": {},
   "outputs": [
    {
     "data": {
      "text/plain": [
       "[1]"
      ]
     },
     "execution_count": 77,
     "metadata": {},
     "output_type": "execute_result"
    }
   ],
   "source": [
    "list1.remove(list1[-1])  # list1[-1]은 리스트에서 맨 뒤의 원소(역으로 세니까 -1)를 가리킴\n",
    "list1"
   ]
  },
  {
   "cell_type": "code",
   "execution_count": 78,
   "id": "dd27e4e0",
   "metadata": {},
   "outputs": [
    {
     "data": {
      "text/plain": [
       "[1, 2, 3, 4, 5, 6, 7, 8]"
      ]
     },
     "execution_count": 78,
     "metadata": {},
     "output_type": "execute_result"
    }
   ],
   "source": [
    "list1 = [1,2,3,4,5,6,7,8]\n",
    "list1"
   ]
  },
  {
   "cell_type": "code",
   "execution_count": 79,
   "id": "18abd2a1",
   "metadata": {},
   "outputs": [
    {
     "data": {
      "text/plain": [
       "[1, 2, 3, 4]"
      ]
     },
     "execution_count": 79,
     "metadata": {},
     "output_type": "execute_result"
    }
   ],
   "source": [
    "list1[0:4] #Slicing => 0의 인덱스 자리부터 4 이전의 인덱스자리까지 출력됨"
   ]
  },
  {
   "cell_type": "code",
   "execution_count": 80,
   "id": "0d8f3b38",
   "metadata": {},
   "outputs": [
    {
     "data": {
      "text/plain": [
       "[1, 2, 3, 4]"
      ]
     },
     "execution_count": 80,
     "metadata": {},
     "output_type": "execute_result"
    }
   ],
   "source": [
    "list2 = list1[0:4]\n",
    "list2"
   ]
  },
  {
   "cell_type": "code",
   "execution_count": 81,
   "id": "3e67adf4",
   "metadata": {},
   "outputs": [
    {
     "data": {
      "text/plain": [
       "[1, 2, 3, 4, 5, 6, 7, 8]"
      ]
     },
     "execution_count": 81,
     "metadata": {},
     "output_type": "execute_result"
    }
   ],
   "source": [
    "list2[0] = 100\n",
    "list1  # list1[0:4]의 값을 list2에 넣고 list2[0] 자리(list2의 인덱스 0번째 자리)에 100을 넣어도 list1의 값은 안 바뀜 "
   ]
  },
  {
   "cell_type": "code",
   "execution_count": 82,
   "id": "38ccacd5",
   "metadata": {},
   "outputs": [
    {
     "data": {
      "text/plain": [
       "[1, 2]"
      ]
     },
     "execution_count": 82,
     "metadata": {},
     "output_type": "execute_result"
    }
   ],
   "source": [
    "list1[:2] #시작 부분이 생략, 0으로 간주됨"
   ]
  },
  {
   "cell_type": "code",
   "execution_count": 83,
   "id": "c827c3dd",
   "metadata": {
    "scrolled": true
   },
   "outputs": [
    {
     "data": {
      "text/plain": [
       "[1, 2, 3, 4, 5, 6, 7, 8]"
      ]
     },
     "execution_count": 83,
     "metadata": {},
     "output_type": "execute_result"
    }
   ],
   "source": [
    "list1[0:] # 끝 부분이 생략, 주어진 값에서 끝까지로 간주됨"
   ]
  },
  {
   "cell_type": "code",
   "execution_count": 84,
   "id": "23c5b99e",
   "metadata": {},
   "outputs": [
    {
     "data": {
      "text/plain": [
       "[1, 2, 3, 4, 5, 6, 7, 8]"
      ]
     },
     "execution_count": 84,
     "metadata": {},
     "output_type": "execute_result"
    }
   ],
   "source": [
    "list2 = list1[:]  # 둘 다 비면 시작은 0, 끝은 주어진 값 끝까지를 의미\n",
    "list2"
   ]
  },
  {
   "cell_type": "code",
   "execution_count": 85,
   "id": "2b18bcaa",
   "metadata": {},
   "outputs": [
    {
     "data": {
      "text/plain": [
       "([100, 2, 3, 4, 5, 6, 7, 8], [1, 2, 3, 4, 5, 6, 7, 8])"
      ]
     },
     "execution_count": 85,
     "metadata": {},
     "output_type": "execute_result"
    }
   ],
   "source": [
    "list2[0] = 100\n",
    "(list2, list1)"
   ]
  },
  {
   "cell_type": "code",
   "execution_count": 86,
   "id": "e08c7c73",
   "metadata": {},
   "outputs": [
    {
     "data": {
      "text/plain": [
       "[1, 3, 5]"
      ]
     },
     "execution_count": 86,
     "metadata": {},
     "output_type": "execute_result"
    }
   ],
   "source": [
    "list1[0:5:2]  # 인덱스 0번째부터 5번째까지 가져오되 2자리씩 건너서 인덱스를 세서 가져오라는 의미"
   ]
  },
  {
   "cell_type": "code",
   "execution_count": 87,
   "id": "b69bbeee",
   "metadata": {},
   "outputs": [
    {
     "data": {
      "text/plain": [
       "[1, 2, 3, 4, 5]"
      ]
     },
     "execution_count": 87,
     "metadata": {},
     "output_type": "execute_result"
    }
   ],
   "source": [
    "list1[0:5:]"
   ]
  },
  {
   "cell_type": "code",
   "execution_count": 88,
   "id": "36858044",
   "metadata": {},
   "outputs": [
    {
     "data": {
      "text/plain": [
       "[1, 2, 3, 4, 5]"
      ]
     },
     "execution_count": 88,
     "metadata": {},
     "output_type": "execute_result"
    }
   ],
   "source": [
    "list1[0:5:1]  # 두 값이 동일(디폴트 값이 1과 마찬가지)"
   ]
  },
  {
   "cell_type": "code",
   "execution_count": 89,
   "id": "dafc62e6",
   "metadata": {},
   "outputs": [
    {
     "data": {
      "text/plain": [
       "[1, 3, 5, 7]"
      ]
     },
     "execution_count": 89,
     "metadata": {},
     "output_type": "execute_result"
    }
   ],
   "source": [
    "list1[0:-1:2] # 인덱스 0번째부터 마지막 인덱스 전의 자리까지 가져오되 2자리씩 건너서 가져오라는 의미"
   ]
  },
  {
   "cell_type": "code",
   "execution_count": 90,
   "id": "cea58cfc",
   "metadata": {},
   "outputs": [
    {
     "data": {
      "text/plain": [
       "[1, 3, 5, 7]"
      ]
     },
     "execution_count": 90,
     "metadata": {},
     "output_type": "execute_result"
    }
   ],
   "source": [
    "list1[0::2]# 인덱스 0번째부터 마지막 인덱스 자리까지 가져오되 2자리씩 건너서 가져오라는 의미"
   ]
  },
  {
   "cell_type": "code",
   "execution_count": 91,
   "id": "ef184ad7",
   "metadata": {},
   "outputs": [
    {
     "data": {
      "text/plain": [
       "'H'"
      ]
     },
     "execution_count": 91,
     "metadata": {},
     "output_type": "execute_result"
    }
   ],
   "source": [
    "str1 = 'HelloWorld'\n",
    "str1[0]  # 문자도 인덱스로 출력 가능"
   ]
  },
  {
   "cell_type": "code",
   "execution_count": 92,
   "id": "cac027ea",
   "metadata": {},
   "outputs": [
    {
     "data": {
      "text/plain": [
       "'Hello'"
      ]
     },
     "execution_count": 92,
     "metadata": {},
     "output_type": "execute_result"
    }
   ],
   "source": [
    "str1[0:5] # 인덱스 0번째부터 인덱스 5번째의 앞자리(4번째 자리)까지 가져오라는 의미 "
   ]
  },
  {
   "cell_type": "code",
   "execution_count": 93,
   "id": "c91898cc",
   "metadata": {},
   "outputs": [
    {
     "data": {
      "text/plain": [
       "10"
      ]
     },
     "execution_count": 93,
     "metadata": {},
     "output_type": "execute_result"
    }
   ],
   "source": [
    "len(str1)"
   ]
  },
  {
   "cell_type": "code",
   "execution_count": 94,
   "id": "d245590e",
   "metadata": {},
   "outputs": [
    {
     "data": {
      "text/plain": [
       "str"
      ]
     },
     "execution_count": 94,
     "metadata": {},
     "output_type": "execute_result"
    }
   ],
   "source": [
    "type(str1)"
   ]
  },
  {
   "cell_type": "code",
   "execution_count": 95,
   "id": "c112893e",
   "metadata": {},
   "outputs": [
    {
     "data": {
      "text/plain": [
       "125"
      ]
     },
     "execution_count": 95,
     "metadata": {},
     "output_type": "execute_result"
    }
   ],
   "source": [
    "a = '123'\n",
    "int(a)+2 # 문자를 숫자로 형변환하여 계산"
   ]
  },
  {
   "cell_type": "code",
   "execution_count": 96,
   "id": "4df041c7",
   "metadata": {},
   "outputs": [
    {
     "ename": "TypeError",
     "evalue": "can only concatenate str (not \"int\") to str",
     "output_type": "error",
     "traceback": [
      "\u001b[1;31m---------------------------------------------------------------------------\u001b[0m",
      "\u001b[1;31mTypeError\u001b[0m                                 Traceback (most recent call last)",
      "Cell \u001b[1;32mIn[96], line 1\u001b[0m\n\u001b[1;32m----> 1\u001b[0m \u001b[38;5;124m'\u001b[39m\u001b[38;5;124mHello \u001b[39m\u001b[38;5;124m'\u001b[39m \u001b[38;5;241m+\u001b[39m \u001b[38;5;241m100\u001b[39m\n",
      "\u001b[1;31mTypeError\u001b[0m: can only concatenate str (not \"int\") to str"
     ]
    }
   ],
   "source": [
    "'Hello ' + 100  # 자바와 달리 문자+숫자가 문자로 되지 않고 숫지는 int로 보기 때문에 에러남"
   ]
  },
  {
   "cell_type": "code",
   "execution_count": 97,
   "id": "ef24d3c3",
   "metadata": {},
   "outputs": [
    {
     "data": {
      "text/plain": [
       "'Hello 100'"
      ]
     },
     "execution_count": 97,
     "metadata": {},
     "output_type": "execute_result"
    }
   ],
   "source": [
    "'Hello ' + str(100) # 이용자에게 입력 요청시 리터럴을 쓸 수 없으니 str()을 써서 형변환해 계산 진행 가능"
   ]
  },
  {
   "cell_type": "code",
   "execution_count": 98,
   "id": "86654081",
   "metadata": {},
   "outputs": [
    {
     "data": {
      "text/plain": [
       "'Hello 100'"
      ]
     },
     "execution_count": 98,
     "metadata": {},
     "output_type": "execute_result"
    }
   ],
   "source": [
    "'Hello ' + '100' # 직접 개발자가 조작 가능할 때 문자열 + 숫자 병합은 이 방법도 쓸 수 있음"
   ]
  },
  {
   "cell_type": "code",
   "execution_count": 99,
   "id": "71a2a8bc",
   "metadata": {},
   "outputs": [
    {
     "name": "stdout",
     "output_type": "stream",
     "text": [
      "1\n"
     ]
    }
   ],
   "source": [
    "s = \"문자열을 다루는 \\\"메소드\\\"들을 공부합니다\"  # s = \"문자열을 다루는 '메소드'들을 공부합니다\" //오후 수업\n",
    "s.count('다루는')  # 해당 문자열이 들어간 수 만큼 카운팅한 숫자가 출력됨\n",
    "s.lower()\n",
    "s.upper()\n",
    "s.lstrip()\n",
    "s.rstrip()\n",
    "s.strip()\n",
    "s.replace('다루는', '대상으로 하는')\n",
    "s.split('　')\n",
    "s.find('을') #3\n",
    "s.rfind('을') #13\n",
    "print(s.count('다루는'))"
   ]
  },
  {
   "cell_type": "code",
   "execution_count": 100,
   "id": "09f339d0",
   "metadata": {},
   "outputs": [],
   "source": [
    "list1 = [1,2,3,4,5]"
   ]
  },
  {
   "cell_type": "code",
   "execution_count": 101,
   "id": "b4e4d774",
   "metadata": {},
   "outputs": [
    {
     "data": {
      "text/plain": [
       "[1, 2, 4, 5]"
      ]
     },
     "execution_count": 101,
     "metadata": {},
     "output_type": "execute_result"
    }
   ],
   "source": [
    "del list1[2]\n",
    "list1"
   ]
  },
  {
   "cell_type": "code",
   "execution_count": 102,
   "id": "3b632590",
   "metadata": {},
   "outputs": [
    {
     "data": {
      "text/plain": [
       "{'a': 10}"
      ]
     },
     "execution_count": 102,
     "metadata": {},
     "output_type": "execute_result"
    }
   ],
   "source": [
    "dict1 = {\"a\":10, \"b\":20}\n",
    "del dict1['b']\n",
    "dict1"
   ]
  },
  {
   "cell_type": "code",
   "execution_count": 103,
   "id": "a00326fa",
   "metadata": {},
   "outputs": [],
   "source": [
    "del dict1  # 삭제는 되나 del은 리턴을 하지 않아서 출력값을 안 보여줌"
   ]
  },
  {
   "cell_type": "code",
   "execution_count": 104,
   "id": "da6dd8d6",
   "metadata": {},
   "outputs": [
    {
     "ename": "NameError",
     "evalue": "name 'dict1' is not defined",
     "output_type": "error",
     "traceback": [
      "\u001b[1;31m---------------------------------------------------------------------------\u001b[0m",
      "\u001b[1;31mNameError\u001b[0m                                 Traceback (most recent call last)",
      "Cell \u001b[1;32mIn[104], line 1\u001b[0m\n\u001b[1;32m----> 1\u001b[0m dict1\n",
      "\u001b[1;31mNameError\u001b[0m: name 'dict1' is not defined"
     ]
    }
   ],
   "source": [
    "dict1 # 데이터 삭제 돼 오류남"
   ]
  },
  {
   "cell_type": "code",
   "execution_count": 105,
   "id": "b2b7d922",
   "metadata": {},
   "outputs": [],
   "source": [
    "#전역 변수(Global), 지역 변수(Local) 개념\n",
    "def increaseNum():\n",
    "    num = 0\n",
    "    num += 1\n",
    "    print('num=', num)"
   ]
  },
  {
   "cell_type": "code",
   "execution_count": 106,
   "id": "2ead23a5",
   "metadata": {},
   "outputs": [
    {
     "name": "stdout",
     "output_type": "stream",
     "text": [
      "num= 1\n"
     ]
    }
   ],
   "source": [
    "increaseNum()  #  num += 1이 있어도 계속 컨트럴+엔터로 실행해도  num += 1 조건이 있어도 num = 0 으로 초기화 되어 1만 나옴"
   ]
  },
  {
   "cell_type": "code",
   "execution_count": 107,
   "id": "fbaeea1d",
   "metadata": {},
   "outputs": [],
   "source": [
    "num = 0   # 전역 변수 선언"
   ]
  },
  {
   "cell_type": "code",
   "execution_count": 108,
   "id": "3cbacb29",
   "metadata": {},
   "outputs": [],
   "source": [
    "#전역 변수(Global), 지역 변수(Local)  # num += 1의 num을 지역변수로 보고 오류남\n",
    "def increaseNum():\n",
    "    num += 1\n",
    "    print('num=', num)"
   ]
  },
  {
   "cell_type": "code",
   "execution_count": 109,
   "id": "e8698814",
   "metadata": {},
   "outputs": [
    {
     "ename": "UnboundLocalError",
     "evalue": "cannot access local variable 'num' where it is not associated with a value",
     "output_type": "error",
     "traceback": [
      "\u001b[1;31m---------------------------------------------------------------------------\u001b[0m",
      "\u001b[1;31mUnboundLocalError\u001b[0m                         Traceback (most recent call last)",
      "Cell \u001b[1;32mIn[109], line 1\u001b[0m\n\u001b[1;32m----> 1\u001b[0m increaseNum()\n",
      "Cell \u001b[1;32mIn[108], line 3\u001b[0m, in \u001b[0;36mincreaseNum\u001b[1;34m()\u001b[0m\n\u001b[0;32m      2\u001b[0m \u001b[38;5;28;01mdef\u001b[39;00m \u001b[38;5;21mincreaseNum\u001b[39m():\n\u001b[1;32m----> 3\u001b[0m     num \u001b[38;5;241m+\u001b[39m\u001b[38;5;241m=\u001b[39m \u001b[38;5;241m1\u001b[39m\n\u001b[0;32m      4\u001b[0m     \u001b[38;5;28mprint\u001b[39m(\u001b[38;5;124m'\u001b[39m\u001b[38;5;124mnum=\u001b[39m\u001b[38;5;124m'\u001b[39m, num)\n",
      "\u001b[1;31mUnboundLocalError\u001b[0m: cannot access local variable 'num' where it is not associated with a value"
     ]
    }
   ],
   "source": [
    "increaseNum()"
   ]
  },
  {
   "cell_type": "code",
   "execution_count": 110,
   "id": "71f12c36",
   "metadata": {},
   "outputs": [],
   "source": [
    "num = 0  # 전역 변수 선언"
   ]
  },
  {
   "cell_type": "code",
   "execution_count": 111,
   "id": "b46a07f1",
   "metadata": {},
   "outputs": [],
   "source": [
    "#전역 변수(Global), 지역 변수(Local)\n",
    "def increaseNum():\n",
    "    global num   # global num 을 써서 오류 안 남\n",
    "    num += 1\n",
    "    print('num=', num)"
   ]
  },
  {
   "cell_type": "code",
   "execution_count": 116,
   "id": "22f77c2f",
   "metadata": {},
   "outputs": [
    {
     "name": "stdout",
     "output_type": "stream",
     "text": [
      "num= 5\n"
     ]
    }
   ],
   "source": [
    "increaseNum() # 컨트럴+엔터로 실행하면  num += 1 에 의해 지속 값 증가"
   ]
  },
  {
   "cell_type": "code",
   "execution_count": 117,
   "id": "00dadebd",
   "metadata": {},
   "outputs": [],
   "source": [
    "def test(a,b,c,d,e):\n",
    "    return a+b+c+d+e"
   ]
  },
  {
   "cell_type": "code",
   "execution_count": 118,
   "id": "357eb863",
   "metadata": {},
   "outputs": [
    {
     "data": {
      "text/plain": [
       "15"
      ]
     },
     "execution_count": 118,
     "metadata": {},
     "output_type": "execute_result"
    }
   ],
   "source": [
    "test(1,2,3,4,5)"
   ]
  },
  {
   "cell_type": "code",
   "execution_count": 119,
   "id": "8bbcab1a",
   "metadata": {},
   "outputs": [
    {
     "ename": "TypeError",
     "evalue": "test() missing 3 required positional arguments: 'c', 'd', and 'e'",
     "output_type": "error",
     "traceback": [
      "\u001b[1;31m---------------------------------------------------------------------------\u001b[0m",
      "\u001b[1;31mTypeError\u001b[0m                                 Traceback (most recent call last)",
      "Cell \u001b[1;32mIn[119], line 1\u001b[0m\n\u001b[1;32m----> 1\u001b[0m test(\u001b[38;5;241m1\u001b[39m,\u001b[38;5;241m2\u001b[39m)\n",
      "\u001b[1;31mTypeError\u001b[0m: test() missing 3 required positional arguments: 'c', 'd', and 'e'"
     ]
    }
   ],
   "source": [
    "test(1,2)  # ,c,d,e 값 없어서 오류남"
   ]
  },
  {
   "cell_type": "code",
   "execution_count": 120,
   "id": "5d50803e",
   "metadata": {},
   "outputs": [],
   "source": [
    "def test(a,b,c=0,d=0,e=0):\n",
    "    return a+b+c+d+e"
   ]
  },
  {
   "cell_type": "code",
   "execution_count": 121,
   "id": "89096094",
   "metadata": {},
   "outputs": [
    {
     "data": {
      "text/plain": [
       "3"
      ]
     },
     "execution_count": 121,
     "metadata": {},
     "output_type": "execute_result"
    }
   ],
   "source": [
    "test(1,2)"
   ]
  },
  {
   "cell_type": "code",
   "execution_count": 122,
   "id": "8e87b685",
   "metadata": {},
   "outputs": [
    {
     "data": {
      "text/plain": [
       "20"
      ]
     },
     "execution_count": 122,
     "metadata": {},
     "output_type": "execute_result"
    }
   ],
   "source": [
    "test(2,3,4,5,6)"
   ]
  },
  {
   "cell_type": "code",
   "execution_count": 123,
   "id": "a6e99736",
   "metadata": {},
   "outputs": [],
   "source": [
    "def test(*arg):   \n",
    "    print(type(arg))  # 뭐더라? 녹화 듣기"
   ]
  },
  {
   "cell_type": "code",
   "execution_count": 124,
   "id": "8a399e9d",
   "metadata": {},
   "outputs": [
    {
     "name": "stdout",
     "output_type": "stream",
     "text": [
      "<class 'tuple'>\n"
     ]
    }
   ],
   "source": [
    "test(1,2,3,4,5,4,3,2,1)  "
   ]
  },
  {
   "cell_type": "code",
   "execution_count": 125,
   "id": "1948e948",
   "metadata": {},
   "outputs": [],
   "source": [
    "def test(*arg):\n",
    "    print(arg)"
   ]
  },
  {
   "cell_type": "code",
   "execution_count": 126,
   "id": "cf619e1b",
   "metadata": {},
   "outputs": [],
   "source": [
    "def test(**kargs):    # ** => 딕셔너리로 바꿔줌\n",
    "    print(kargs)"
   ]
  },
  {
   "cell_type": "code",
   "execution_count": 127,
   "id": "2c280a2d",
   "metadata": {},
   "outputs": [
    {
     "name": "stdout",
     "output_type": "stream",
     "text": [
      "{'name': 'Smith', 'empno': 7369, 'hiredate': '2012-12-05'}\n"
     ]
    }
   ],
   "source": [
    "test(name=\"Smith\", empno=7369, hiredate=\"2012-12-05\")"
   ]
  },
  {
   "cell_type": "markdown",
   "id": "e3a265a5",
   "metadata": {},
   "source": [
    "# 문제) 키보드 입력을 이용하여 list, dictronary 자료 구조에 저장/수정/삭제/검색\n",
    "\n",
    "- 사번, 이름, 부서, 급여, 입사일\n",
    "- 프로그램이 시작되면 메뉴 표시\n",
    "- 무한히 실행되는 기능 구현\n",
    "- 이용자가 x 입력시 종료\n",
    "- 키보드에서 5개의 정보를 입력하여 파이썬 자료구조에 저장하기\n",
    "- 추가(a), 목록(s), 검색(f), 수정(u), 삭제(d), 종료(x)"
   ]
  },
  {
   "cell_type": "code",
   "execution_count": null,
   "id": "23356933",
   "metadata": {},
   "outputs": [],
   "source": [
    "# 내가 푼 답:"
   ]
  },
  {
   "cell_type": "code",
   "execution_count": 128,
   "id": "afa20f64",
   "metadata": {},
   "outputs": [
    {
     "name": "stdout",
     "output_type": "stream",
     "text": [
      "['추가(a)', '목록(s)', '검색(f)', '수정(u)', '삭제(d)', '종료(x)']\n",
      "메뉴를 선택하세요: a\n",
      "사번: 11\n",
      "이름: smith\n",
      "부서: 20\n",
      "급여: 3000\n",
      "입사일: 2020-0101\n",
      "[{'empno': '11', 'ename': 'smith', 'deptno': '20', 'sal': '3000', 'hiredate': '2020-0101'}]\n",
      "메뉴를 선택하세요: scott\n",
      "잘못된 메뉴 선택입니다.\n",
      "메뉴를 선택하세요: a\n",
      "사번: 12\n",
      "이름: scott\n",
      "부서: 30\n",
      "급여: 2800\n",
      "입사일: 2020-10-10\n",
      "[{'empno': '11', 'ename': 'smith', 'deptno': '20', 'sal': '3000', 'hiredate': '2020-0101'}, {'empno': '12', 'ename': 'scott', 'deptno': '30', 'sal': '2800', 'hiredate': '2020-10-10'}]\n",
      "메뉴를 선택하세요: f\n",
      "검색할 사원명을 입력하세요: scott\n",
      "{'empno': '12', 'ename': 'scott', 'deptno': '30', 'sal': '2800', 'hiredate': '2020-10-10'}\n",
      "메뉴를 선택하세요: u\n",
      "수정할 사원명을 입력하세요: smith\n",
      "수정할 부서번호를 입력하세요: 20\n",
      "smith님의 정보가 수정되었습니다.\n",
      "[{'empno': '11', 'ename': 'smith', 'deptno': '20', 'sal': '3000', 'hiredate': '2020-0101'}, {'empno': '12', 'ename': 'scott', 'deptno': '30', 'sal': '2800', 'hiredate': '2020-10-10'}]\n",
      "메뉴를 선택하세요: u\n",
      "수정할 사원명을 입력하세요: scott\n",
      "수정할 부서번호를 입력하세요: 30\n",
      "scott님의 정보가 수정되었습니다.\n",
      "[{'empno': '11', 'ename': 'smith', 'deptno': '20', 'sal': '3000', 'hiredate': '2020-0101'}, {'empno': '12', 'ename': 'scott', 'deptno': '30', 'sal': '2800', 'hiredate': '2020-10-10'}]\n",
      "메뉴를 선택하세요: u\n",
      "수정할 사원명을 입력하세요: scott\n",
      "수정할 부서번호를 입력하세요: 40\n",
      "scott님의 정보가 수정되었습니다.\n",
      "[{'empno': '11', 'ename': 'smith', 'deptno': '20', 'sal': '3000', 'hiredate': '2020-0101'}, {'empno': '12', 'ename': 'scott', 'deptno': '40', 'sal': '2800', 'hiredate': '2020-10-10'}]\n",
      "메뉴를 선택하세요: d\n",
      "삭제할 사원명을 입력하세요: smith\n",
      "smith님의 정보가 삭제되었습니다.\n",
      "[{'empno': '12', 'ename': 'scott', 'deptno': '40', 'sal': '2800', 'hiredate': '2020-10-10'}]\n",
      "메뉴를 선택하세요: s\n",
      "[{'empno': '12', 'ename': 'scott', 'deptno': '40', 'sal': '2800', 'hiredate': '2020-10-10'}]\n",
      "메뉴를 선택하세요: x\n",
      "종료되었습니다\n"
     ]
    }
   ],
   "source": [
    "menu = ['추가(a)', '목록(s)', '검색(f)', '수정(u)', '삭제(d)', '종료(x)']\n",
    "print(menu)\n",
    "\n",
    "employees = []\n",
    "while True:\n",
    "   \n",
    "    choice = input(\"메뉴를 선택하세요: \")\n",
    "\n",
    "    if choice == 'a':\n",
    "        empno = input(\"사번: \")\n",
    "        ename = input(\"이름: \")\n",
    "        deptno = input(\"부서: \")\n",
    "        sal = input(\"급여: \")\n",
    "        hiredate = input(\"입사일: \")\n",
    "\n",
    "        emp = {'empno': empno, 'ename': ename, 'deptno': deptno, 'sal': sal, 'hiredate': hiredate}\n",
    "        employees.append(emp)  # 리스트에 사원 정보 딕셔너리 추가\n",
    "        print(employees)\n",
    "    elif choice == 's':\n",
    "        print(employees)\n",
    "    elif choice == 'f':\n",
    "        ename = input(\"검색할 사원명을 입력하세요: \")\n",
    "        def findbyename(employees, ename):\n",
    "            for emp in employees:\n",
    "                if emp['ename'] == ename:\n",
    "                    print(emp)\n",
    "        findbyename(employees, ename)\n",
    "    elif choice == 'u':\n",
    "        ename = input(\"수정할 사원명을 입력하세요: \")\n",
    "        deptno = input(\"수정할 부서번호를 입력하세요: \")\n",
    "        found = False\n",
    "        for emp in employees:\n",
    "            if emp['ename'] == ename:\n",
    "                emp['deptno'] = deptno\n",
    "                found = True\n",
    "                break\n",
    "\n",
    "        if found:\n",
    "            print(f\"{ename}님의 정보가 수정되었습니다.\")\n",
    "        else:\n",
    "            print(f\"{ename}님의 정보를 찾을 수 없습니다.\")\n",
    "\n",
    "        print(employees)\n",
    "\n",
    "    elif choice == 'd':\n",
    "        ename = input(\"삭제할 사원명을 입력하세요: \")\n",
    "        found = False\n",
    "        for emp in employees:\n",
    "            if emp['ename'] == ename:\n",
    "                employees.remove(emp)\n",
    "                found = True\n",
    "                break\n",
    "\n",
    "        if found:\n",
    "            print(f\"{ename}님의 정보가 삭제되었습니다.\")\n",
    "        else:\n",
    "            print(f\"{ename}님의 정보를 찾을 수 없습니다.\")\n",
    "\n",
    "        print(employees)\n",
    "\n",
    "    elif choice == 'x':\n",
    "        print(\"종료되었습니다\")\n",
    "        break\n",
    "    else:\n",
    "        print(\"잘못된 메뉴 선택입니다.\")"
   ]
  },
  {
   "cell_type": "code",
   "execution_count": null,
   "id": "3d5f87b9",
   "metadata": {},
   "outputs": [],
   "source": [
    "# 강사님 답: "
   ]
  },
  {
   "cell_type": "markdown",
   "id": "06ccb1ab",
   "metadata": {},
   "source": [
    "#### 키보드 입력을 이용하여 list, dictionary 자료구조에 저장/수정/삭제/검색\n",
    "- 사번, 이름, 부서, 급여, 입사일\n",
    "- 프로그램이 시작되면 메뉴 표시\n",
    "- 무한히 실행되는 기능구현\n",
    "- 이용자가 x 입력시 종료\n",
    "- 키보드에서 5개의 정보를 입력하여 파이썬 자료구조에 저장하기\n",
    "- 추가(a), 목록(s), 검색(f), 수정(u), 삭제(d), 종료(x)"
   ]
  },
  {
   "cell_type": "code",
   "execution_count": 129,
   "id": "fa6f8998",
   "metadata": {},
   "outputs": [],
   "source": [
    "emps = []"
   ]
  },
  {
   "cell_type": "code",
   "execution_count": 130,
   "id": "cf737443",
   "metadata": {},
   "outputs": [],
   "source": [
    "def add():\n",
    "    global emps\n",
    "    empno = int(input('사번:'))\n",
    "    ename = input('이름:')\n",
    "    deptno = int(input('부서:'))\n",
    "    sal = int(input('급여:'))\n",
    "    hiredate = input('입사일:')\n",
    "    emp = {\"empno\":empno, \"ename\":ename,\"deptno\":deptno, \"sal\":sal, \"hiredate\":hiredate}\n",
    "    emps.append(emp)\n",
    "    print('사원정보 저장 성공')"
   ]
  },
  {
   "cell_type": "code",
   "execution_count": 132,
   "id": "72245e54",
   "metadata": {},
   "outputs": [],
   "source": [
    "def empList():\n",
    "    global emps\n",
    "    for emp in emps:\n",
    "        for (k,v) in emp.items():\n",
    "            print(v,'\\t',end=\" \")\n",
    "        print()"
   ]
  },
  {
   "cell_type": "code",
   "execution_count": 133,
   "id": "07500fc8",
   "metadata": {},
   "outputs": [],
   "source": [
    "def find_index(empno):\n",
    "    found = False\n",
    "    for emp in emps:\n",
    "        if emp['empno']==empno:\n",
    "            found = True\n",
    "            return emps.index(emp)\n",
    "    if not found:\n",
    "        return -1"
   ]
  },
  {
   "cell_type": "code",
   "execution_count": 134,
   "id": "52e16912",
   "metadata": {},
   "outputs": [],
   "source": [
    "def find():\n",
    "    global emps\n",
    "    empno = int(input('검색할 사번:'))\n",
    "    idx = find_index(empno)\n",
    "    if idx==-1:\n",
    "        print('검색 실패')\n",
    "    else:\n",
    "        for (k,v) in emps[idx].items():\n",
    "            print(v, '\\t', end=\" \")"
   ]
  },
  {
   "cell_type": "code",
   "execution_count": 135,
   "id": "14c11878",
   "metadata": {},
   "outputs": [],
   "source": [
    "def update():\n",
    "    empno = int(input('변경대상 사번:'))\n",
    "    newSal = int(input('새 급여:'))\n",
    "    idx = find_index(empno)\n",
    "    if idx==-1:\n",
    "        print('변경 실패')\n",
    "    else:\n",
    "        emps[idx]['sal'] = newSal\n",
    "        print('변경 성공')"
   ]
  },
  {
   "cell_type": "code",
   "execution_count": 136,
   "id": "81329a7c",
   "metadata": {},
   "outputs": [],
   "source": [
    "def delete():\n",
    "    empno = int(input('삭제대상 사번:'))\n",
    "    idx = find_index(empno)\n",
    "    if idx==-1:\n",
    "        print('삭제 실패')\n",
    "    else:\n",
    "        del emps[idx]\n",
    "        print('삭제 성공')"
   ]
  },
  {
   "cell_type": "code",
   "execution_count": 137,
   "id": "451b1bbd",
   "metadata": {},
   "outputs": [
    {
     "name": "stdout",
     "output_type": "stream",
     "text": [
      "추가(a), 목록(s), 검색(f), 수정(u), 삭제(d), 종료(x):a\n",
      "사번:11\n",
      "이름:smith\n",
      "부서:30\n",
      "급여:3000\n",
      "입사일:2010-10-01\n",
      "사원정보 저장 성공\n",
      "추가(a), 목록(s), 검색(f), 수정(u), 삭제(d), 종료(x):x\n",
      "프로그램 종료\n"
     ]
    }
   ],
   "source": [
    "go=True\n",
    "while go:\n",
    "    menu = input('추가(a), 목록(s), 검색(f), 수정(u), 삭제(d), 종료(x):')\n",
    "    if menu=='a':\n",
    "        add()\n",
    "    elif menu==\"s\":\n",
    "        empList()\n",
    "    elif menu==\"f\":\n",
    "        find()\n",
    "    elif menu==\"u\":\n",
    "        update()\n",
    "    elif menu==\"d\":\n",
    "        delete()\n",
    "    elif menu=='x':\n",
    "        go = False\n",
    "    else:\n",
    "        print('메뉴입력 오류')\n",
    "print('프로그램 종료')"
   ]
  },
  {
   "cell_type": "code",
   "execution_count": null,
   "id": "4cc86b17",
   "metadata": {},
   "outputs": [],
   "source": []
  }
 ],
 "metadata": {
  "kernelspec": {
   "display_name": "Python 3 (ipykernel)",
   "language": "python",
   "name": "python3"
  },
  "language_info": {
   "codemirror_mode": {
    "name": "ipython",
    "version": 3
   },
   "file_extension": ".py",
   "mimetype": "text/x-python",
   "name": "python",
   "nbconvert_exporter": "python",
   "pygments_lexer": "ipython3",
   "version": "3.11.3"
  }
 },
 "nbformat": 4,
 "nbformat_minor": 5
}
