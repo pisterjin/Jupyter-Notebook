{
 "cells": [
  {
   "cell_type": "markdown",
   "id": "b5585a48",
   "metadata": {},
   "source": [
    "## 인스턴스 변수 vs 클래스 변수\n",
    "- 인스턴스 변수 :인스턴스 생성할 때마다 반복적으로 생성되는 변수\n",
    "- 인스턴스가 100개 생성되어 있다면 인스턴스 변수도 100번 반복 생성됨\n",
    "- 클래스 변수: 인스턴스 생성과 무관하게 한 번 생성되어유지되는 변수\n",
    "<br>\n",
    "\n",
    "- Java에서 클래스 변수 선언: static 키워드 사용\n",
    "- Java에서 인스턴스 변수 선언: none-static\n",
    "<br>\n",
    "\n",
    "- Python 클래스 변수 선언: 클래스 내부, 메소드 밖에 선언\n",
    "- Python 클래스 변수는 클래스 참조를 이용하여 동적으로 생성 가능\n",
    "- Python에서 인스턴스 변수 선언: 메소드 내부에서 인스턴스 참조 사용\n",
    "- Python에서 인스턴스 변수는 인스턴스 참조를 이용하여 동적으로 생성 가능"
   ]
  },
  {
   "cell_type": "code",
   "execution_count": null,
   "id": "80510f6c",
   "metadata": {},
   "outputs": [],
   "source": [
    "# 인스턴스 변수, 클래스 변수\n",
    "class Student:\n",
    "    \n",
    "    school_name = '신림고'   # 클래스 변수(메모리에 한 번만 로드)\n",
    "    \n",
    "    def __init__(self):      # 인스턴스 정의\n",
    "        self.num = 11\n",
    "        self.name = '홍길동'   "
   ]
  },
  {
   "cell_type": "code",
   "execution_count": null,
   "id": "99c1ce8d",
   "metadata": {},
   "outputs": [],
   "source": [
    "# Student 클래스의 인스턴스 생성\n",
    "# 인스턴스 생성에 앞서 믈래스가 메모리에 로드된다\n",
    "# 클래스가 로드될 때 그 안에 선언된 클래스 변수도 생성된다\n",
    "\n",
    "student = Student()"
   ]
  },
  {
   "cell_type": "code",
   "execution_count": null,
   "id": "9990946c",
   "metadata": {},
   "outputs": [],
   "source": [
    "# 클래스 참조\n",
    "Student.__dict__"
   ]
  },
  {
   "cell_type": "code",
   "execution_count": null,
   "id": "c455ccfc",
   "metadata": {},
   "outputs": [],
   "source": [
    "# 인스턴스 참조\n",
    "student.__dict__"
   ]
  },
  {
   "cell_type": "code",
   "execution_count": null,
   "id": "2a2894b4",
   "metadata": {},
   "outputs": [],
   "source": [
    "student.num = 12   # 인스턴스 참조\n",
    "student.__dict__  # 인스턴스 참조 메모리 확인"
   ]
  },
  {
   "cell_type": "code",
   "execution_count": null,
   "id": "b8c26012",
   "metadata": {},
   "outputs": [],
   "source": [
    "st2 = Student() # 인스턴스 생성\n",
    "st2.__dict__"
   ]
  },
  {
   "cell_type": "code",
   "execution_count": null,
   "id": "a770fe61",
   "metadata": {},
   "outputs": [],
   "source": [
    "st2.num = 12\n",
    "st2.name = '박찬호'\n",
    "st2.__dict__"
   ]
  },
  {
   "cell_type": "code",
   "execution_count": null,
   "id": "36977e54",
   "metadata": {},
   "outputs": [],
   "source": [
    "st1 = student # 인스턴스 생성\n",
    "st1.num = 11"
   ]
  },
  {
   "cell_type": "code",
   "execution_count": null,
   "id": "1300e7e4",
   "metadata": {},
   "outputs": [],
   "source": [
    "# 인스턴스 참조 메모리 확인\n",
    "print(st1.__dict__)\n",
    "print(st2.__dict__)"
   ]
  },
  {
   "cell_type": "code",
   "execution_count": null,
   "id": "3c1c7c45",
   "metadata": {},
   "outputs": [],
   "source": [
    "# 클래스 참조 메모리 확인\n",
    "Student.__dict__"
   ]
  },
  {
   "cell_type": "code",
   "execution_count": null,
   "id": "45c2797a",
   "metadata": {},
   "outputs": [],
   "source": [
    "st1==st2   # False\n",
    "st1 is st2   # False\n",
    "id(st1), id(st2)    # (2210435631440, 2210435590480)"
   ]
  },
  {
   "cell_type": "code",
   "execution_count": null,
   "id": "37dbad74",
   "metadata": {},
   "outputs": [],
   "source": [
    "st3 = Student()\n",
    "st3.num = 13\n",
    "st3.name = 'Scott'"
   ]
  },
  {
   "cell_type": "code",
   "execution_count": null,
   "id": "6a0aba8d",
   "metadata": {},
   "outputs": [],
   "source": [
    "st4 = Student()\n",
    "st4.num = 13\n",
    "st4.name = 'Scott'"
   ]
  },
  {
   "cell_type": "code",
   "execution_count": null,
   "id": "02a387f9",
   "metadata": {},
   "outputs": [],
   "source": [
    "st3==st4    # False"
   ]
  },
  {
   "cell_type": "code",
   "execution_count": null,
   "id": "597f4ceb",
   "metadata": {},
   "outputs": [],
   "source": [
    "st3.__dict__"
   ]
  },
  {
   "cell_type": "code",
   "execution_count": null,
   "id": "ee075f50",
   "metadata": {},
   "outputs": [],
   "source": [
    "st4.__dict__  "
   ]
  },
  {
   "cell_type": "code",
   "execution_count": null,
   "id": "5a6fc36d",
   "metadata": {},
   "outputs": [],
   "source": [
    "st3 is st4  # 참조가 다르다"
   ]
  },
  {
   "cell_type": "markdown",
   "id": "65e17952",
   "metadata": {},
   "source": [
    "## Built-In 메소드 오버로드\n",
    "- 위에서 내용 비교를 했을 때 객체의 내용이 동일함에도 불구하고  == 결과가 False인 점을 개조할 필요가 있다\n",
    "- \\__eq__\\() 메소드 오버로드"
   ]
  },
  {
   "cell_type": "code",
   "execution_count": null,
   "id": "6f3c54d3",
   "metadata": {},
   "outputs": [],
   "source": [
    "# 인스턴스 변수, 클래스 변수\n",
    "class Student:\n",
    "    \n",
    "    school_name = '신림고'   # 클래스 변수(메모리에 한 번만 로드)\n",
    "    \n",
    "    def __init__(self, num, name):      # 인스턴스 정의\n",
    "        self.num = num\n",
    "        self.name = name   \n",
    "    def __eq__(self, other):  \n",
    "        return self.num==other.num and self.name==other.name"
   ]
  },
  {
   "cell_type": "code",
   "execution_count": null,
   "id": "b1595c4e",
   "metadata": {},
   "outputs": [],
   "source": [
    "st1 = Student(11, 'Smith')\n",
    "st2 = Student(11, 'Smith')   # 내용은 동일하나 객체는 다름"
   ]
  },
  {
   "cell_type": "code",
   "execution_count": null,
   "id": "4986679c",
   "metadata": {},
   "outputs": [],
   "source": [
    "st1 is st2    # False"
   ]
  },
  {
   "cell_type": "code",
   "execution_count": null,
   "id": "260ad1ca",
   "metadata": {},
   "outputs": [],
   "source": [
    "st1 == st2      # True"
   ]
  },
  {
   "cell_type": "code",
   "execution_count": null,
   "id": "d1a510cb",
   "metadata": {},
   "outputs": [],
   "source": [
    "print(st1)"
   ]
  },
  {
   "cell_type": "code",
   "execution_count": null,
   "id": "f00c4984",
   "metadata": {},
   "outputs": [],
   "source": [
    "dir(st1)"
   ]
  },
  {
   "cell_type": "code",
   "execution_count": null,
   "id": "0f7d3fd8",
   "metadata": {},
   "outputs": [],
   "source": [
    "# 인스턴스 변수, 클래스 변수\n",
    "class Student:\n",
    "    \n",
    "    school_name = '신림고'   # 클래스 변수(메모리에 한 번만 로드)\n",
    "    \n",
    "    def __init__(self, num, name):      # 인스턴스 정의\n",
    "        self.num = num\n",
    "        self.name = name   \n",
    "    def __eq__(self, other):  \n",
    "        return self.num==other.num and self.name==other.name\n",
    "    def __str__(self):\n",
    "        return f'num: {self.num}, name: {self.name}'"
   ]
  },
  {
   "cell_type": "code",
   "execution_count": null,
   "id": "d2163a81",
   "metadata": {},
   "outputs": [],
   "source": [
    "st1 = Student(11, 'Smith')\n",
    "print(st1)"
   ]
  },
  {
   "cell_type": "code",
   "execution_count": null,
   "id": "f8e4c430",
   "metadata": {},
   "outputs": [],
   "source": [
    "# 서식 문자열 방법- day03 시간에 배운 것\n",
    "'%s의 나이는 %s' %(name, age)\n",
    "'{}의 나이는 {}'.format(name, age)\n",
    "f'{name}의 나이는 {age}'"
   ]
  },
  {
   "cell_type": "code",
   "execution_count": null,
   "id": "11a563dc",
   "metadata": {},
   "outputs": [],
   "source": [
    "# 인스턴스 변수, 클래스 변수\n",
    "class Student:\n",
    "    \n",
    "    school_name = '신림고'   # 클래스 변수(메모리에 한 번만 로드)\n",
    "    \n",
    "    def __init__(self, num, name):      # 인스턴스 정의\n",
    "        self.num = num\n",
    "        self.name = name   \n",
    "    def __eq__(self, other):  \n",
    "        return self.num==other.num and self.name==other.name\n",
    "    def __str__(self):         # 이게 없으면 해쉬코드로 나오므로 자바의 toSting()과 마찬가지\n",
    "        return '{}\\t{}'.format(self.num, self.name)"
   ]
  },
  {
   "cell_type": "code",
   "execution_count": null,
   "id": "775267ef",
   "metadata": {},
   "outputs": [],
   "source": [
    "st = Student(11, 'Laura')\n",
    "print(Student.school_name, end='\\t')\n",
    "print(st)"
   ]
  },
  {
   "cell_type": "markdown",
   "id": "876317bf",
   "metadata": {},
   "source": [
    "## 클래스 변수의 값 변경하기\n",
    "- 클래스 이름.클래스 변수 = 값\n",
    "- Student.school_name='관악고'"
   ]
  },
  {
   "cell_type": "code",
   "execution_count": null,
   "id": "0a593672",
   "metadata": {},
   "outputs": [],
   "source": [
    "Student.school_name='관악고'\n",
    "# 이렇게 변수의 직접 접근은 필터링 효과가 없어서 한자든, 영어든 다 기재하면\n",
    "# 값으로 넣어주기 때문에 불안정 위험 있음\n",
    "# 필터링 기능을 이용하려면 메소드가 필요함"
   ]
  },
  {
   "cell_type": "code",
   "execution_count": null,
   "id": "44c7426f",
   "metadata": {},
   "outputs": [],
   "source": [
    "print('학교명:{}'.format(st.school_name), end=\"\\t\") # 인스턴스 참조 st를 통해 클래스 에어리어 접근 가능\n",
    "# 클래스 변수 school_name은 하나밖에 없으므로 가능하나 이렇게 쓰면 클래스 변수가 아닌,\n",
    "# 인스턴스 변수처럼 보여 가독성 떨어짐. \n",
    "print(st)  "
   ]
  },
  {
   "cell_type": "code",
   "execution_count": null,
   "id": "c633e475",
   "metadata": {},
   "outputs": [],
   "source": [
    "print('학교명:{}'.format(Student.school_name), end=\"\\t\")\n",
    "print(st)"
   ]
  },
  {
   "cell_type": "code",
   "execution_count": null,
   "id": "c5c0c430",
   "metadata": {},
   "outputs": [],
   "source": [
    "class Student:\n",
    "    school_name = '신림고'  # 클래스 변수 (메모리에 한 번만 로드)\n",
    "\n",
    "    def __init__(self, num, name):  # 인스턴스 정의\n",
    "        self.num = num\n",
    "        self.name = name\n",
    "\n",
    "    def __eq__(self, other):\n",
    "        return self.num == other.num and self.name == other.name\n",
    "\n",
    "    def __str__(self):\n",
    "        return '{}\\t{}'.format(self.num, self.name)\n",
    "    \n",
    "    @classmethod\n",
    "    def set_school_name(cls, school_name):    # 필터링 기능을 이용하기 위해 셋 메소드 이용\n",
    "        cls.school_name = school_name       # cls 는 클래스를 참조하기 위한 변수. 이름은 아무거나 무방"
   ]
  },
  {
   "cell_type": "code",
   "execution_count": null,
   "id": "8038bbdd",
   "metadata": {},
   "outputs": [],
   "source": [
    "st = Student(15, 'Laura')\n",
    "Student.set_school_name('강남고')   # 클래스 메소드 호출\n",
    "print(Student.school_name, end=\"\\t\")\n",
    "print(st)"
   ]
  },
  {
   "cell_type": "markdown",
   "id": "e06332a2",
   "metadata": {},
   "source": [
    "### Python 메소드의 종류\n",
    "- 인스턴스 메소드(Instance Method) : 인스턴스 변수를 읽고 쓰기 가능<br>\n",
    "  클래스 변수의 값을 읽을 수 있으나 할당할 수는 없다\n",
    "- 클래스 메소드(Class Method) : 클래스 변수의 값을 읽고 쓰기 가능<br>\n",
    "  인스턴스 변수의 값에 접근할 수 없다\n",
    "- 정적 메소드(Static Method) : 인스턴스 변수나 클래스 변수에 접근 불가"
   ]
  },
  {
   "cell_type": "code",
   "execution_count": null,
   "id": "759b6150",
   "metadata": {},
   "outputs": [],
   "source": [
    "class Student:\n",
    "    school_name = '신림고'  # 클래스 변수 (메모리에 한 번만 로드)\n",
    "\n",
    "    def __init__(self, num, name):  # 인스턴스 정의\n",
    "        self.num = num\n",
    "        self.name = name\n",
    "\n",
    "    def __eq__(self, other):\n",
    "        return self.num == other.num and self.name == other.name\n",
    "\n",
    "    def __str__(self):\n",
    "        return '{}\\t{}'.format(self.num, self.name)\n",
    "    \n",
    "    @classmethod\n",
    "    def set_school_name(cls, school_name):\n",
    "        cls.school_name = school_name\n",
    "        # 위의 문장은 아래 문장과 동일함\n",
    "        Student.school_name = school_name\n",
    "    @staticmethod\n",
    "    def print_address(address):\n",
    "        print(address)"
   ]
  },
  {
   "cell_type": "markdown",
   "id": "682e0263",
   "metadata": {},
   "source": [
    "### 인스턴스 참조를 이용하여 클래스 변수 다루기"
   ]
  },
  {
   "cell_type": "code",
   "execution_count": null,
   "id": "eeb5d7c7",
   "metadata": {},
   "outputs": [],
   "source": [
    "st = Student(11, 'Jane')\n",
    "st.school_name    # '신림고' => 정상 실행됨"
   ]
  },
  {
   "cell_type": "code",
   "execution_count": null,
   "id": "3f864fab",
   "metadata": {},
   "outputs": [],
   "source": [
    "st.school_name = '관악고'    # 동적으로 생성한 인스턴스 변수\n",
    "# 자바와 달리 파이썬은 인스턴스 값을 중간에 바꿀 수 있음\n",
    "# 그래서 인스턴스별로 차이가 있을 수 있다"
   ]
  },
  {
   "cell_type": "code",
   "execution_count": null,
   "id": "79654147",
   "metadata": {},
   "outputs": [],
   "source": [
    "st.school_name    # '관악고'"
   ]
  },
  {
   "cell_type": "code",
   "execution_count": null,
   "id": "47b8a706",
   "metadata": {},
   "outputs": [],
   "source": [
    "Student.school_name   # '신림고'"
   ]
  },
  {
   "cell_type": "code",
   "execution_count": null,
   "id": "c69e9386",
   "metadata": {},
   "outputs": [],
   "source": [
    "Student.__dict__"
   ]
  },
  {
   "cell_type": "code",
   "execution_count": null,
   "id": "85ef2421",
   "metadata": {},
   "outputs": [],
   "source": [
    "st.__dict__    # {'num': 11, 'name': 'Jane', 'school_name': '관악고'}"
   ]
  },
  {
   "cell_type": "code",
   "execution_count": null,
   "id": "84e97b37",
   "metadata": {},
   "outputs": [],
   "source": [
    "# 위의 현상을 정리하자면,\n",
    "# 클래스 참조를 이용하여 인스턴스 변수의 값에 접근 가능할까?\n",
    "# 클래스 참조 => 클래스 변수 읽기/쓰기 가능\n",
    "# 인스턴스 참조 => 인스턴스 변수 읽기/쓰기 가능, 클래스 변수 읽기 가능, 쓰기 불가"
   ]
  },
  {
   "cell_type": "markdown",
   "id": "3c2a1cab",
   "metadata": {},
   "source": [
    "## 모듈 안에 클래스 선언하고 사용하기\n",
    "- mymodule.py 안에 Goods 클래스를 선언한다\n",
    "- import mymodule 으로 모듈을 사용한다\n",
    "- mymodule.Goods를 코드에서 사용한다\n",
    "- from mymodule import Goods을 사용해도 된다\n",
    "- goods = Goods()"
   ]
  },
  {
   "cell_type": "code",
   "execution_count": null,
   "id": "ff990552",
   "metadata": {},
   "outputs": [],
   "source": [
    "%%writefile mymodule.py\n",
    "class Goods:\n",
    "    def __init__(self,name,price):\n",
    "        self.name = name\n",
    "        self.price = price\n",
    "        \n",
    "    def __str__(self):\n",
    "        return '{}\\t{}'.format(self.name, self.price)"
   ]
  },
  {
   "cell_type": "code",
   "execution_count": null,
   "id": "5cde7e4e",
   "metadata": {},
   "outputs": [],
   "source": [
    "import mymodule     # import mymodule 으로 모듈을 사용\n",
    "goods = mymodule.Goods('노트북', 2000)  #mymodule.Goods를 코드에서 사용\n",
    "print(goods)"
   ]
  },
  {
   "cell_type": "code",
   "execution_count": null,
   "id": "6e659cd5",
   "metadata": {},
   "outputs": [],
   "source": [
    "from mymodule import Goods   # from mymodule import Goods을 사용(위와 결과는 동일)\n",
    "\n",
    "goods = Goods('Sonata',2500)   # goods = Goods()를 사용(위와 결과는 동일)\n",
    "print(goods)"
   ]
  },
  {
   "cell_type": "code",
   "execution_count": null,
   "id": "29da9faa",
   "metadata": {},
   "outputs": [],
   "source": [
    "g1 = Goods('Sonata',2500)\n",
    "g2 = Goods('Notebook',150)"
   ]
  },
  {
   "cell_type": "code",
   "execution_count": null,
   "id": "9a9b6362",
   "metadata": {},
   "outputs": [],
   "source": [
    "print(g1,g2)"
   ]
  },
  {
   "cell_type": "code",
   "execution_count": null,
   "id": "ee167d6f",
   "metadata": {},
   "outputs": [],
   "source": [
    "g1<g2   # TypeError: '<' not supported between instances of 'Goods' and 'Goods'  에러\n",
    "# => 따로 조치 필요 :\n",
    "# > :  __gt__ 사용\n",
    "# < : __lt__ 사용  "
   ]
  },
  {
   "cell_type": "code",
   "execution_count": null,
   "id": "6c93ae49",
   "metadata": {},
   "outputs": [],
   "source": [
    "dir(g1)"
   ]
  },
  {
   "cell_type": "markdown",
   "id": "c1566861",
   "metadata": {},
   "source": [
    "## 연산자 오버로드(Operator Overload)\n",
    "- 덧셈 연산자(+)\n",
    "- 대소비교 연산자(>.<)"
   ]
  },
  {
   "cell_type": "code",
   "execution_count": null,
   "id": "365b2765",
   "metadata": {},
   "outputs": [],
   "source": [
    "class Goods:\n",
    "    def __init__(self,name,price):\n",
    "        self.name = name\n",
    "        self.price = price\n",
    "        \n",
    "    def __str__(self):\n",
    "        return '{}\\t{}'.format(self.name, self.price)\n",
    "    def __gt__ (self, other):\n",
    "        return self.price > other.price\n",
    "    def __lt__ (self, other):\n",
    "        return self.price < other.price\n",
    "    def __add__(self, other):\n",
    "        return self.price + other.price"
   ]
  },
  {
   "cell_type": "code",
   "execution_count": null,
   "id": "424e25cc",
   "metadata": {},
   "outputs": [],
   "source": [
    "g1 = Goods('Sonata', 2500)\n",
    "g2 = Goods('Notebook', 150)\n",
    "\n",
    "print(g1+g2)\n",
    "print(g1>g2)"
   ]
  },
  {
   "cell_type": "markdown",
   "id": "b5b66a84",
   "metadata": {},
   "source": [
    "## 인스턴스 변수의 직접 접근을 막고 할당을 위한 메소드 사용하기\n",
    "- self.name = '홍길동'       => 변수에 직접 접근 가능\n",
    "- self.__name = '홍길동'      => 변수에 직접 접근을 막기 위함"
   ]
  },
  {
   "cell_type": "code",
   "execution_count": null,
   "id": "4b56d4ee",
   "metadata": {},
   "outputs": [],
   "source": [
    "class Member:\n",
    "    def __init__(self, name, num):\n",
    "        self.__name = name\n",
    "        self.num = num\n",
    "    def __str__(self):\n",
    "        return '{}\\t{}'.format(self.__name, self.num)"
   ]
  },
  {
   "cell_type": "code",
   "execution_count": null,
   "id": "b5cb0df0",
   "metadata": {},
   "outputs": [],
   "source": [
    "son = Member('손흥민',20)\n",
    "seri = Member('박세리',12)"
   ]
  },
  {
   "cell_type": "code",
   "execution_count": null,
   "id": "0ed67184",
   "metadata": {},
   "outputs": [],
   "source": [
    "print(son)\n",
    "print(seri)"
   ]
  },
  {
   "cell_type": "code",
   "execution_count": null,
   "id": "2ef3f0c1",
   "metadata": {},
   "outputs": [],
   "source": [
    "son.name = '이수근'   # 동적으로 인스턴스 변수 생성"
   ]
  },
  {
   "cell_type": "code",
   "execution_count": null,
   "id": "804d0f76",
   "metadata": {},
   "outputs": [],
   "source": [
    "print(son)   # 손흥민\t20이 출력됨 ()'_Member__name': '손흥민'를 보호)/ 변경하려면 겟과 셋 필요"
   ]
  },
  {
   "cell_type": "code",
   "execution_count": null,
   "id": "f8d136de",
   "metadata": {},
   "outputs": [],
   "source": [
    "son.__dict__     #{'_Member__name': '손흥민', 'num': 20, 'name': '이수근'}"
   ]
  },
  {
   "cell_type": "code",
   "execution_count": null,
   "id": "3a035548",
   "metadata": {},
   "outputs": [],
   "source": [
    "class Member:\n",
    "    def __init__(self, name, num):\n",
    "        self.__name = name    # 직접 접근 막기 위한 방법\n",
    "        self.num = num\n",
    "    def __str__(self):\n",
    "        return '{}\\t{}'.format(self.__name, self.num)\n",
    "    \n",
    "    @property      # 자바의 겟 메소드    # 손흥민\t20이 출력됨 ()'_Member__name': '손흥민'를 보호) \n",
    "    def name(self):                     # 변경하려면 겟과 셋 필요\n",
    "        print('property 메소드 실행')\n",
    "        return self.__name\n",
    "    \n",
    "    @name.setter    # 자바의 셋 메소드   \n",
    "    def name(self, name):\n",
    "        print('setter 메소드 실행')\n",
    "        self.__name = name"
   ]
  },
  {
   "cell_type": "code",
   "execution_count": null,
   "id": "ec12d06c",
   "metadata": {},
   "outputs": [],
   "source": [
    "son = Member('손흥민',20)\n",
    "seri = Member('박세리',12)"
   ]
  },
  {
   "cell_type": "code",
   "execution_count": null,
   "id": "fadd9d31",
   "metadata": {},
   "outputs": [],
   "source": [
    "print(son)\n",
    "print(seri)"
   ]
  },
  {
   "cell_type": "code",
   "execution_count": null,
   "id": "672d9ce0",
   "metadata": {
    "scrolled": true
   },
   "outputs": [],
   "source": [
    "son.name  # 변수에 직접 접근처럼 보이지만 @property 메소드 실행"
   ]
  },
  {
   "cell_type": "code",
   "execution_count": null,
   "id": "cd1bff0d",
   "metadata": {},
   "outputs": [],
   "source": [
    "son.name = '이수근'     # 직접 접근처럼 편리하지만 setter 메소드 실행"
   ]
  },
  {
   "cell_type": "code",
   "execution_count": null,
   "id": "1c908f10",
   "metadata": {
    "scrolled": true
   },
   "outputs": [],
   "source": [
    "print(son)"
   ]
  },
  {
   "cell_type": "code",
   "execution_count": null,
   "id": "5247d9de",
   "metadata": {},
   "outputs": [],
   "source": [
    "son.__name    # AttributeError: 'Member' object has no attribute '__name'"
   ]
  },
  {
   "cell_type": "code",
   "execution_count": null,
   "id": "bbfa6930",
   "metadata": {},
   "outputs": [],
   "source": [
    "son.__dict__"
   ]
  },
  {
   "cell_type": "code",
   "execution_count": null,
   "id": "a359cc68",
   "metadata": {},
   "outputs": [],
   "source": [
    "# 오후 수업"
   ]
  },
  {
   "cell_type": "code",
   "execution_count": null,
   "id": "0fb74e61",
   "metadata": {},
   "outputs": [],
   "source": [
    "son.__dict__['_Member__name']='박선홍'"
   ]
  },
  {
   "cell_type": "code",
   "execution_count": null,
   "id": "659deed5",
   "metadata": {},
   "outputs": [],
   "source": [
    "son.name     # '박선홍' 결과 나옴"
   ]
  },
  {
   "cell_type": "markdown",
   "id": "4d70d28b",
   "metadata": {},
   "source": [
    "## 상속과 메소드 오버라이드"
   ]
  },
  {
   "cell_type": "code",
   "execution_count": null,
   "id": "dbd05876",
   "metadata": {},
   "outputs": [],
   "source": [
    "# 부모 클래스\n",
    "class Aircraft:\n",
    "    def __init__(self, model, speed):\n",
    "        self.model = model\n",
    "        self.speed = speed\n",
    "    def __str__(self):\n",
    "        return '{}\\t{}'.format(self.model, self.speed)"
   ]
  },
  {
   "cell_type": "code",
   "execution_count": null,
   "id": "499c0ad1",
   "metadata": {},
   "outputs": [],
   "source": [
    "class Fighter(Aircraft):\n",
    "    def __init__(self, model, speed, arm):\n",
    "        # 부모 클래스의 초기자를 활용하여 인스턴스 변수 초기화\n",
    "        # Aircraft. __init__(self, model, speed)\n",
    "        # 위의 코드는 아래처럼 해도 동일함\n",
    "        super().__init__(model,speed)\n",
    "        self.arm = arm\n",
    "    def __str__(self):     # 오버라이드\n",
    "        return '{}\\t{}\\t{}'.format(self.model, self.speed, self.arm)\n",
    "    def attack(self):\n",
    "        print('missle fired!')"
   ]
  },
  {
   "cell_type": "code",
   "execution_count": null,
   "id": "42a31f00",
   "metadata": {},
   "outputs": [],
   "source": [
    "aircraft = Aircraft('C-15', 100)\n",
    "fa50 = Fighter('FA50', 500, 'M-5')"
   ]
  },
  {
   "cell_type": "code",
   "execution_count": null,
   "id": "7b0ae9b9",
   "metadata": {},
   "outputs": [],
   "source": [
    "print(aircraft)\n",
    "print(fa50)"
   ]
  },
  {
   "cell_type": "code",
   "execution_count": null,
   "id": "8da7fc92",
   "metadata": {},
   "outputs": [],
   "source": [
    "fa50.attack()"
   ]
  },
  {
   "cell_type": "markdown",
   "id": "68055dd5",
   "metadata": {},
   "source": [
    "### 클래스와 객체를 이용한 학생 성적관리 CRUD\n",
    "- Student(num, name, python, java, javascript)\n",
    "- 자바식: List\\<Student\\>\n",
    "- 파이썬식: [ Student....]\n",
    "- 수정 기능: python, java, javascript 과목의 성적만 수정되게 update 기능 만들기\n",
    "- 목록(s), 추가(a), 검색(f), 수정(u), 삭제(d), 종료(x)"
   ]
  },
  {
   "cell_type": "code",
   "execution_count": 4,
   "id": "2f3af102",
   "metadata": {},
   "outputs": [],
   "source": [
    "# 메모리 저장만으로 진행 . 내가 한 것\n",
    "\n",
    "class Student:\n",
    "    def __init__(self, num, name=None, python=0, java=0, javascript=0):\n",
    "        self.__num = num   \n",
    "        self.__name = name\n",
    "        self.__python = python\n",
    "        self.__java = java\n",
    "        self.__javascript = javascript\n",
    "        \n",
    "    def __eq__(self, other):\n",
    "        return self.num == other.num and self.name == other.name\n",
    "    \n",
    "    def __str__(self):\n",
    "        return '{}\\t{}\\t{}\\t{}\\t{}'.format(self.__num, self.__name, self.__python, self.__java, self.javascript)\n",
    "    #def __str__(self):\n",
    "    #    return f\"번호: {self.__num}, 이름: {self.__name}, 파이썬 점수: {self.__python}, 자바 점수: {self.__java}, 자바 스크립트 점수: {self.__javascript}\"   \n",
    "    \n",
    "    @property\n",
    "    def num(self):\n",
    "        return self.__num\n",
    "        \n",
    "    @property      \n",
    "    def python(self):                   \n",
    "        return self.__python\n",
    "    \n",
    "    @python.setter   \n",
    "    def python(self, python):  \n",
    "        self.__python = python\n",
    "        \n",
    "    @property      \n",
    "    def java(self):                   \n",
    "        return self.__java\n",
    "    \n",
    "    @java.setter   \n",
    "    def java(self, java):  \n",
    "        self.__java = java\n",
    "        \n",
    "    @property      \n",
    "    def javascript(self):                   \n",
    "        return self.__javascript\n",
    "    \n",
    "    @javascript.setter   \n",
    "    def javascript(self, javascript):  \n",
    "        self.__javascript = javascript  "
   ]
  },
  {
   "cell_type": "code",
   "execution_count": 5,
   "id": "5a921a5a",
   "metadata": {
    "scrolled": true
   },
   "outputs": [
    {
     "name": "stdout",
     "output_type": "stream",
     "text": [
      "['추가(a)', '목록(s)', '검색(f)', '수정(u)', '삭제(d)', '종료(x)']\n",
      "메뉴 선택: x\n",
      " 프로그램 종료\n"
     ]
    }
   ],
   "source": [
    "menu = ['추가(a)', '목록(s)', '검색(f)', '수정(u)', '삭제(d)', '종료(x)']\n",
    "print(menu)\n",
    "\n",
    "students = []\n",
    "while True:\n",
    "   \n",
    "    choice = input(\"메뉴 선택: \")\n",
    "\n",
    "    if choice == 'a':\n",
    "        num=input('번호: ')\n",
    "        name=input('이름: ')\n",
    "        python=input('파이썬 점수: ')\n",
    "        java=input('자바 점수: ')\n",
    "        javascript=input('자바 스크립트 점수: ')\n",
    "\n",
    "        student = Student(num, name, float(python), float(java), float(javascript))\n",
    "        students.append(student) \n",
    "        print(student)\n",
    "        \n",
    "    elif choice == 's':\n",
    "        for student in students:\n",
    "            print(student)\n",
    "            \n",
    "    elif choice == 'f':\n",
    "        num = input(\"검색할 번호 입력: \")\n",
    "        def findbynum(students, num):\n",
    "            for student in students:\n",
    "                if student.num == num:\n",
    "                    return student\n",
    "            return None\n",
    "        result = findbynum(students, num)\n",
    "        if result:\n",
    "            print(\"검색 결과: \", result)\n",
    "        else:\n",
    "            print(f\"{num} 학생 확인 불가.\")\n",
    "    \n",
    "    elif choice == 'u':\n",
    "        num = input(\"수정할 번호 입력: \")\n",
    "        newPython = input(\"python 수정할 점수 입력: \")\n",
    "        newJava = input(\"java 수정할 점수 입력: \")\n",
    "        newJavascript = input(\"javascript 수정할 점수 입력: \") \n",
    "        \n",
    "        nc = {}\n",
    "        nc['num'] = num\n",
    "        nc['python'] = newPython\n",
    "        nc['java'] = newJava\n",
    "        nc['javascript'] = newJavascript\n",
    "        \n",
    "        found = False\n",
    "        \n",
    "        for student in students:\n",
    "            if student.num == num:\n",
    "                student.python = newPython\n",
    "                student.java = newJava\n",
    "                student.javascript = newJavascript\n",
    "                found = True\n",
    "                break\n",
    "        if found:\n",
    "            print(f\"{num} 학생의 정보 수정 완료.\")\n",
    "            print(student)\n",
    "        else:\n",
    "            print(f\"{num} 학생의 정보 수정 실패.\")\n",
    "\n",
    "    elif choice == 'd':\n",
    "        num = input(\"삭제할 번호를 입력: \")\n",
    "        found = False\n",
    "        for student in students:\n",
    "             if student.num == num:\n",
    "                students.remove(student)\n",
    "                found = True\n",
    "                break\n",
    "\n",
    "        if found:\n",
    "            print(f\"{num} 학생의 정보 삭제 완료\")\n",
    "            print(student)\n",
    "        else:\n",
    "            print(f\"{num} 학생의 정보 삭제 실패.\")\n",
    "       \n",
    "\n",
    "    elif choice == 'x':\n",
    "        print(\" 프로그램 종료\")\n",
    "        break\n",
    "    else:\n",
    "        print(\"잘못된 메뉴 선택.\")"
   ]
  },
  {
   "cell_type": "code",
   "execution_count": 8,
   "id": "041775dc",
   "metadata": {},
   "outputs": [],
   "source": [
    "# 강사님 버전\n",
    "stlist = []"
   ]
  },
  {
   "cell_type": "code",
   "execution_count": 9,
   "id": "d47ae57f",
   "metadata": {},
   "outputs": [
    {
     "ename": "IndentationError",
     "evalue": "expected an indented block after class definition on line 1 (786358884.py, line 2)",
     "output_type": "error",
     "traceback": [
      "\u001b[1;36m  Cell \u001b[1;32mIn[9], line 2\u001b[1;36m\u001b[0m\n\u001b[1;33m    def __init__(self,num,name=None, python=0, java=0, javascript=0):\u001b[0m\n\u001b[1;37m    ^\u001b[0m\n\u001b[1;31mIndentationError\u001b[0m\u001b[1;31m:\u001b[0m expected an indented block after class definition on line 1\n"
     ]
    }
   ],
   "source": [
    "class Student:\n",
    "    \n",
    "    def __init__(self,num,name=None, python=0, java=0, javascript=0):\n",
    "        self.num = num\n",
    "        self.name = name\n",
    "        self.python = python\n",
    "        self.java = java\n",
    "        self.javascript = javascript\n",
    "        self.total = 0\n",
    "        self.sum()\n",
    "        \n",
    "    def __str__(self):\n",
    "        return '{}\\t{}\\t{}\\t{}\\t{}\\t{}'.format(\n",
    "            self.num, self.name, self.python, self.java, self.javascript, self.total)\n",
    "    \n",
    "    def __repr__(self):  # 리스트를 문자열형태로 출력할 때 이 메소드가 호출됨, 4개의 공백은 마크다운 줄바꿈\n",
    "        return '{}\\t{}\\t{}\\t{}\\t{}\\t{}    '.format(\n",
    "            self.num, self.name, self.python, self.java, self.javascript, self.total)\n",
    "    \n",
    "    def __eq__(self, other):\n",
    "        return self.num==other.num\n",
    "    \n",
    "    def sum(self):\n",
    "        self.total = self.python + self.java + self.javascript"
   ]
  },
  {
   "cell_type": "code",
   "execution_count": null,
   "id": "fc179e4f",
   "metadata": {},
   "outputs": [],
   "source": [
    "def add():\n",
    "    info = input('번호 이름 python java javascript:')\n",
    "    (num,name,python,java,javascript) = info.split(' ')\n",
    "    stlist.append(Student(int(num),name,int(python),int(java),int(javascript)))\n",
    "    print('리스트에 추가 성공')\n"
   ]
  },
  {
   "cell_type": "code",
   "execution_count": null,
   "id": "c672b94a",
   "metadata": {},
   "outputs": [],
   "source": [
    "def print_list():\n",
    "    stlist.sort(key=lambda s:s.total, reverse=True)  # 성적순으로 정렬\n",
    "    for s in stlist:\n",
    "        print(s)\n"
   ]
  },
  {
   "cell_type": "code",
   "execution_count": null,
   "id": "3214a168",
   "metadata": {},
   "outputs": [],
   "source": [
    "def find():\n",
    "    st_num = int(input('검색대상 학번:'))\n",
    "    key = Student(st_num)\n",
    "    found = False\n",
    "    if key in stlist:\n",
    "        idx = stlist.index(key)\n",
    "        print(stlist[idx])\n",
    "        found = True\n",
    "    if not found:\n",
    "        print('검색 실패')"
   ]
  },
  {
   "cell_type": "code",
   "execution_count": null,
   "id": "6b65d472",
   "metadata": {},
   "outputs": [],
   "source": [
    "def update():\n",
    "    info = input('수정대상 학번 python java javascript:')\n",
    "    (num, python, java, javascript) = info.split(' ')\n",
    "    key = Student(int(num))\n",
    "    updated = False\n",
    "    if key in stlist:\n",
    "        idx = stlist.index(key)\n",
    "        stlist[idx].python = int(python)\n",
    "        stlist[idx].java = int(java)\n",
    "        stlist[idx].javascript = int(javascript)\n",
    "        stlist[idx].sum()\n",
    "        print('수정 성공')\n",
    "        updated = True\n",
    "    if not updated:\n",
    "        print('수정 실패')"
   ]
  },
  {
   "cell_type": "code",
   "execution_count": null,
   "id": "04329473",
   "metadata": {},
   "outputs": [],
   "source": [
    "def delete():\n",
    "    num = int(input('삭제대상 학번:'))\n",
    "    key = Student(num)\n",
    "    if key in stlist:\n",
    "        idx = stlist.index(key)\n",
    "        del stlist[idx]\n",
    "        # 아래처럼 해도 됨\n",
    "        #stlist.remove(key)\n",
    "        print('삭제 성공')\n",
    "    else:\n",
    "        print('삭제 실패')"
   ]
  },
  {
   "cell_type": "code",
   "execution_count": null,
   "id": "3c52cdbb",
   "metadata": {},
   "outputs": [],
   "source": [
    "while True:\n",
    "    menu = input('목록(s), 추가(a), 검색(f), 수정(u), 삭제(d), 종료(x):')\n",
    "    if menu=='a':\n",
    "        add()\n",
    "    elif menu=='s':\n",
    "        print_list()\n",
    "    elif menu=='f':\n",
    "        find()\n",
    "    elif menu=='u':\n",
    "        update()\n",
    "    elif menu=='d':\n",
    "        delete()\n",
    "    elif menu=='x':\n",
    "        break\n",
    "    else:\n",
    "        print('메뉴입력 오류')\n",
    "print('프로그램 종료')"
   ]
  }
 ],
 "metadata": {
  "kernelspec": {
   "display_name": "Python 3 (ipykernel)",
   "language": "python",
   "name": "python3"
  },
  "language_info": {
   "codemirror_mode": {
    "name": "ipython",
    "version": 3
   },
   "file_extension": ".py",
   "mimetype": "text/x-python",
   "name": "python",
   "nbconvert_exporter": "python",
   "pygments_lexer": "ipython3",
   "version": "3.11.3"
  }
 },
 "nbformat": 4,
 "nbformat_minor": 5
}
