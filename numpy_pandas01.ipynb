{
 "cells": [
  {
   "cell_type": "markdown",
   "id": "db98d21e",
   "metadata": {},
   "source": [
    "### numpy, pandas \n",
    "- number, python\n",
    "- 선형대수(벡터, 행렬 등)\n",
    "- 수학, 과학, 계산용 모듈\n",
    "- ndarray\n",
    "- Series : pandas 에서 1차원 데이터 표현\n",
    "- DataFrame(Series 모여서 2처원 데이터 표현)\n",
    "- AI : 문제(데이터)-정답((데이터)\n",
    "- 데이터 처리, 정제, 제거, 탐색적 분석"
   ]
  },
  {
   "cell_type": "code",
   "execution_count": null,
   "id": "6a798086",
   "metadata": {},
   "outputs": [],
   "source": [
    "import numpy as np"
   ]
  },
  {
   "cell_type": "code",
   "execution_count": null,
   "id": "9b2b3afc",
   "metadata": {},
   "outputs": [],
   "source": [
    "nums = [1,-2,-3,4,5,6]"
   ]
  },
  {
   "cell_type": "code",
   "execution_count": null,
   "id": "72661b64",
   "metadata": {},
   "outputs": [],
   "source": [
    "nums * 2"
   ]
  },
  {
   "cell_type": "code",
   "execution_count": null,
   "id": "bc3ebe92",
   "metadata": {},
   "outputs": [],
   "source": [
    "for n in nums:\n",
    "    print(n*2, end = \", \")"
   ]
  },
  {
   "cell_type": "code",
   "execution_count": null,
   "id": "84250395",
   "metadata": {},
   "outputs": [],
   "source": [
    "arr = np.array(nums)"
   ]
  },
  {
   "cell_type": "code",
   "execution_count": null,
   "id": "9e817da0",
   "metadata": {},
   "outputs": [],
   "source": [
    "arr *2"
   ]
  },
  {
   "cell_type": "code",
   "execution_count": null,
   "id": "5e6e1602",
   "metadata": {},
   "outputs": [],
   "source": [
    "type(arr)  # 다차원 배열"
   ]
  },
  {
   "cell_type": "code",
   "execution_count": null,
   "id": "96750222",
   "metadata": {},
   "outputs": [],
   "source": [
    "# 스칼라(Scalar) : 수 한 개, 크기의 의미만 갖는다\n",
    "# 벡터(Vector) : 여러 개의 수로 구성(2,5), 크기와 방향의 의미를 갖는다\n",
    "arr * 2"
   ]
  },
  {
   "cell_type": "code",
   "execution_count": null,
   "id": "88572603",
   "metadata": {},
   "outputs": [],
   "source": [
    "arr + 2"
   ]
  },
  {
   "cell_type": "code",
   "execution_count": null,
   "id": "d9256352",
   "metadata": {},
   "outputs": [],
   "source": [
    "dir(arr)\n",
    "arr.ndim     # 1  => 1차원 자료 구조\n",
    "# ndim은 넘파이 배열의 차원(차원의 수)을 나타내는 속성. 정수로 표현됨"
   ]
  },
  {
   "cell_type": "code",
   "execution_count": null,
   "id": "3caef856",
   "metadata": {},
   "outputs": [],
   "source": [
    "data1 = [[1,2,3,4],[5,6,7,8]]\n",
    "arr2 = np.array(data1)\n",
    "arr2"
   ]
  },
  {
   "cell_type": "code",
   "execution_count": null,
   "id": "57eebb82",
   "metadata": {},
   "outputs": [],
   "source": [
    "arr.ndim, arr2.ndim   # 튜플은 표현식에서 괄호 생략 가능    # (1, 2)"
   ]
  },
  {
   "cell_type": "code",
   "execution_count": null,
   "id": "d938b3f4",
   "metadata": {},
   "outputs": [],
   "source": [
    "arr.shape, arr2.shape    # ((6,) => 1차원:1행으로 6개의 원소를 지닌다는 의미 /  (2, 4))  => 2행 4열 // # ((6,), (2, 4))"
   ]
  },
  {
   "cell_type": "code",
   "execution_count": null,
   "id": "19ca2527",
   "metadata": {},
   "outputs": [],
   "source": [
    "arr2.reshape((4,2))   \n",
    "#  reshape은 자료구조를 바꿔줌. arr2.reshape(4,2)로 해도 답이 동일  # 정석은 원하는 벡터 (4,2)형식을 튜플 형식으로 써야 함\n",
    "# 2행 4열을 4행 2열로 바꾸고 싶을 때"
   ]
  },
  {
   "cell_type": "code",
   "execution_count": null,
   "id": "f084b9d4",
   "metadata": {},
   "outputs": [],
   "source": [
    "arr2   # reshape 해도 원본은 동일"
   ]
  },
  {
   "cell_type": "code",
   "execution_count": null,
   "id": "66c4c206",
   "metadata": {},
   "outputs": [],
   "source": [
    "arr2.ravel()    # array([1, 2, 3, 4, 5, 6, 7, 8])  => 2차원을 1차원으로 바꿔줌\n",
    "arr2          # 원본은 원래형으로 유지됨  [즉, 사본을 만들어 바꾼 것임]"
   ]
  },
  {
   "cell_type": "code",
   "execution_count": null,
   "id": "902abd57",
   "metadata": {},
   "outputs": [],
   "source": [
    "arr2.flatten()  # flatten() 도 ravel()처럼 2차원을 1차원으로 바꿔줌 [flatten이 '납작하게 만들다', '평평하게 만들다'의 의미]"
   ]
  },
  {
   "cell_type": "code",
   "execution_count": null,
   "id": "5961a85e",
   "metadata": {},
   "outputs": [],
   "source": [
    "_arr2 = arr.ravel()\n",
    "_arr2   # array([ 1, -2, -3,  4,  5,  6]) => 사본은 변경됨"
   ]
  },
  {
   "cell_type": "code",
   "execution_count": null,
   "id": "91a1895d",
   "metadata": {},
   "outputs": [],
   "source": [
    "arr2  # 원본은 차원 수 변경 없이 그대로 있음"
   ]
  },
  {
   "cell_type": "markdown",
   "id": "a35b2500",
   "metadata": {},
   "source": [
    "## ndarray 생성하기"
   ]
  },
  {
   "cell_type": "code",
   "execution_count": null,
   "id": "7ddb3530",
   "metadata": {},
   "outputs": [],
   "source": [
    "np.array([1,2,3,4,5])   # 리스트를 사용하여 ndarray 생성"
   ]
  },
  {
   "cell_type": "code",
   "execution_count": null,
   "id": "ae4baf25",
   "metadata": {},
   "outputs": [],
   "source": [
    "arr_1 = np.array([1,2,3,4,5])   # 데이터를 통해 자료형을 지정\n",
    "arr_1"
   ]
  },
  {
   "cell_type": "code",
   "execution_count": null,
   "id": "aaa5f24f",
   "metadata": {
    "scrolled": true
   },
   "outputs": [],
   "source": [
    "arr_1.dtype # dtype('int32')"
   ]
  },
  {
   "cell_type": "code",
   "execution_count": null,
   "id": "709bb925",
   "metadata": {},
   "outputs": [],
   "source": [
    "arr_2 = np.array([1.,2.,3.,4.,5])    # 데이터를 통해 자료형을 지정\n",
    "# arrayf를 shift+tab 도움말을 봤을 때 dtpe이 None이 디폴트라서 데이터 자료형을 명시하여 줄 수 있음 \n",
    "arr_2"
   ]
  },
  {
   "cell_type": "code",
   "execution_count": null,
   "id": "2a76e41f",
   "metadata": {
    "scrolled": true
   },
   "outputs": [],
   "source": [
    "arr_2.dtype  # dtype('float64')"
   ]
  },
  {
   "cell_type": "code",
   "execution_count": null,
   "id": "ffdda8bd",
   "metadata": {},
   "outputs": [],
   "source": [
    "arr_3 = np.array([1,2,3], dtype = 'float64')  # 자료형을 지정하여 실수가 나옴 dtype의 속성을 이용하여 자료형을 지정\n",
    "arr_3"
   ]
  },
  {
   "cell_type": "code",
   "execution_count": null,
   "id": "fab7990a",
   "metadata": {},
   "outputs": [],
   "source": [
    "arr_3.dtype  # dtype('float64')"
   ]
  },
  {
   "cell_type": "code",
   "execution_count": null,
   "id": "33e0b864",
   "metadata": {},
   "outputs": [],
   "source": [
    "np.zeros(5)   #  1차원    # 0을 5개 출력하라고 자료형 명시하지 않으니 시스템이 알아서 자료형 지정해 출력\n",
    "# array([0., 0., 0., 0., 0.])  # 자료형을 명시하지 않으면 시스템은 실수가 정수를 포함하므로 0.실수가 출력됨\n",
    "# 데이터를 통해 자료형을 지정하거나 dtype의 속성을 이용하여 자료형을 지정할 수 있음"
   ]
  },
  {
   "cell_type": "code",
   "execution_count": null,
   "id": "f4ce7083",
   "metadata": {},
   "outputs": [],
   "source": [
    "arr_5 = np.array([1,2,3,4], dtype=np.float64)  # dtype의 속성을 이용하여 자료형을 지정\n",
    "arr_5"
   ]
  },
  {
   "cell_type": "code",
   "execution_count": null,
   "id": "6819e4a1",
   "metadata": {},
   "outputs": [],
   "source": [
    "arr_5.dtype   # dtype('float64')"
   ]
  },
  {
   "cell_type": "code",
   "execution_count": null,
   "id": "b6eaeadd",
   "metadata": {},
   "outputs": [],
   "source": [
    "np.zeros((2,3))"
   ]
  },
  {
   "cell_type": "code",
   "execution_count": null,
   "id": "bee31056",
   "metadata": {},
   "outputs": [],
   "source": [
    "np.zeros_like(arr2)   # like는 자료구조를 모방하는 것"
   ]
  },
  {
   "cell_type": "code",
   "execution_count": null,
   "id": "705f7df1",
   "metadata": {
    "scrolled": true
   },
   "outputs": [],
   "source": [
    "np.ones(4)"
   ]
  },
  {
   "cell_type": "code",
   "execution_count": null,
   "id": "71cf46cd",
   "metadata": {},
   "outputs": [],
   "source": [
    "ones_arr = np.ones(4)\n",
    "ones_arr "
   ]
  },
  {
   "cell_type": "code",
   "execution_count": null,
   "id": "4e413c76",
   "metadata": {
    "scrolled": true
   },
   "outputs": [],
   "source": [
    "ones_arr.dtype   # dtype "
   ]
  },
  {
   "cell_type": "code",
   "execution_count": null,
   "id": "365cd089",
   "metadata": {},
   "outputs": [],
   "source": [
    "arr_4 = np.ones(5)\n",
    "arr_4"
   ]
  },
  {
   "cell_type": "code",
   "execution_count": null,
   "id": "b5a289c8",
   "metadata": {},
   "outputs": [],
   "source": [
    "arr_4.dtype "
   ]
  },
  {
   "cell_type": "code",
   "execution_count": null,
   "id": "ce4477ad",
   "metadata": {},
   "outputs": [],
   "source": [
    "np.ones_like(arr2)"
   ]
  },
  {
   "cell_type": "code",
   "execution_count": null,
   "id": "28f69822",
   "metadata": {
    "scrolled": false
   },
   "outputs": [],
   "source": [
    "np.empty((2,5))  # 0, NaN, nan, NAN, Not A Number, 6.23042070e-307, 4.67296746e-307, 1.69121096e-306 등 메모리에 남은 garbage"
   ]
  },
  {
   "cell_type": "code",
   "execution_count": null,
   "id": "d02caae6",
   "metadata": {},
   "outputs": [],
   "source": [
    "help(np.empty((2,2)))"
   ]
  },
  {
   "cell_type": "code",
   "execution_count": null,
   "id": "37b47e5b",
   "metadata": {
    "scrolled": true
   },
   "outputs": [],
   "source": [
    "f_arr = np.empty((2,5))\n",
    "f_arr"
   ]
  },
  {
   "cell_type": "code",
   "execution_count": null,
   "id": "52d48a24",
   "metadata": {},
   "outputs": [],
   "source": [
    "np.empty_like(arr2)"
   ]
  },
  {
   "cell_type": "code",
   "execution_count": null,
   "id": "1a9fdf77",
   "metadata": {
    "scrolled": true
   },
   "outputs": [],
   "source": [
    "f_arr.dtype  # dtype('float64')"
   ]
  },
  {
   "cell_type": "code",
   "execution_count": null,
   "id": "6ba7e887",
   "metadata": {
    "scrolled": true
   },
   "outputs": [],
   "source": [
    "type(np.empty((2,5)))"
   ]
  },
  {
   "cell_type": "code",
   "execution_count": null,
   "id": "f9e81b63",
   "metadata": {
    "scrolled": true
   },
   "outputs": [],
   "source": [
    "np.eye(5)  # 5행 5열에서 단위 행렬을 만듬"
   ]
  },
  {
   "cell_type": "code",
   "execution_count": null,
   "id": "1e587939",
   "metadata": {
    "scrolled": true
   },
   "outputs": [],
   "source": [
    "np.identity(5)  # eye 와 identity 동일"
   ]
  },
  {
   "cell_type": "markdown",
   "id": "ac12504c",
   "metadata": {},
   "source": [
    "## 자료형 변경"
   ]
  },
  {
   "cell_type": "code",
   "execution_count": null,
   "id": "eaace5a8",
   "metadata": {},
   "outputs": [],
   "source": [
    "a = int(3.14)"
   ]
  },
  {
   "cell_type": "code",
   "execution_count": null,
   "id": "a147fe1d",
   "metadata": {},
   "outputs": [],
   "source": [
    "arr = np.array([1,2,3,4,5])\n",
    "arr_1=arr.astype(np.float64)\n",
    "arr_1  # array([1., 2., 3., 4., 5.])\n",
    "arr    # array([1, 2, 3, 4, 5])  =>  원본 유지"
   ]
  },
  {
   "cell_type": "code",
   "execution_count": null,
   "id": "e38f2166",
   "metadata": {},
   "outputs": [],
   "source": [
    "arr_1"
   ]
  },
  {
   "cell_type": "code",
   "execution_count": null,
   "id": "87ef0099",
   "metadata": {},
   "outputs": [],
   "source": [
    "arr_1.astype(np.int32)   # array([1, 2, 3, 4, 5])"
   ]
  },
  {
   "cell_type": "code",
   "execution_count": null,
   "id": "27015a1d",
   "metadata": {},
   "outputs": [],
   "source": [
    "#  무작위 실수 10개를 구해서 화면에 표시하고\n",
    "# 정수로 변환하여 화면에 표시해보세요.\n",
    "import random\n",
    "\n",
    "a = [random.uniform(0, 10) for _ in range(10)]\n",
    "print(a)"
   ]
  },
  {
   "cell_type": "code",
   "execution_count": null,
   "id": "e6a2db3a",
   "metadata": {},
   "outputs": [],
   "source": [
    "f_random = [random.random()*100 for _ in range(10)]\n",
    "f_random_arr = np.array(f_random)\n",
    "f_random_arr"
   ]
  },
  {
   "cell_type": "code",
   "execution_count": null,
   "id": "69380648",
   "metadata": {},
   "outputs": [],
   "source": [
    "int_arr = f_random_arr.astype(np.int8)   # 정수는 8-64 비트 수(bit length) 8에서 64비트(1byte~8byte)\n",
    "# 8, 16, 32, 64\n",
    "int_arr"
   ]
  },
  {
   "cell_type": "code",
   "execution_count": null,
   "id": "3c62c0f4",
   "metadata": {},
   "outputs": [],
   "source": [
    "# 실수(float)는 16-128 비트까지(2bytes~16bytes)\n",
    "# 16, 32, 64, 128"
   ]
  },
  {
   "cell_type": "code",
   "execution_count": null,
   "id": "2bd2fb47",
   "metadata": {},
   "outputs": [],
   "source": [
    "# 자바에서 양수만 표현할 수 있는 자료형은? : char\n",
    "# unsigned intrger : 부호 없는 정수(양수먼 저장 가능한 공간)\n",
    "\n",
    "#### 축약형 ####\n",
    "# 파이썬의 양수: u1 - u8 (u1[uint8과 같음], u2[uint16과 같음], u4[uint32], u8[uint64])\n",
    "# u1, u2, u4, u8 등은 각각 1바이트, 2바이트, 4바이트, 8바이트를 의미.\n",
    "# int32 -> i4[integet 4byte]\n",
    "# float64 -> f8[float 8byte]\n",
    "# float128 -> f16\n",
    "# bool, object, string_, unicode_\n",
    "# bool -> ?\n",
    "# object -> O \n",
    "# string_ -> S\n",
    "# unicode_  -> U"
   ]
  },
  {
   "cell_type": "code",
   "execution_count": null,
   "id": "ec38e482",
   "metadata": {},
   "outputs": [],
   "source": [
    "# u1: 1바이트 크기의 부호 없는 정수 (0부터 255까지의 양수를 표현 가능 : uint8 8비트)\n",
    "# u2: 2바이트 크기의 부호 없는 정수 (0부터 65535까지의 양수를 표현 가능 : uint16 16비트)\n",
    "# u4: 4바이트 크기의 부호 없는 정수 (0부터 4294967295까지의 양수를 표현 가능 : uint32 32비트)\n",
    "# u8: 8바이트 크기의 부호 없는 정수 (0부터 18446744073709551615까지의 양수를 표현 가능 : uint64 64비트)\n",
    "#여기서 \"u\"는 unsigned(부호 없는)를 의미하며, 크기는 해당 데이터 타입이 표현할 수 있는 범위를 나타냅니다."
   ]
  },
  {
   "cell_type": "code",
   "execution_count": null,
   "id": "2c2d73b8",
   "metadata": {},
   "outputs": [],
   "source": [
    "np.empty(8, dtype='u4')  # dtype=uint32 => 양수 32비트"
   ]
  },
  {
   "cell_type": "markdown",
   "id": "92a28196",
   "metadata": {},
   "source": [
    "## 배열과 스칼라 연산"
   ]
  },
  {
   "cell_type": "code",
   "execution_count": null,
   "id": "384308b1",
   "metadata": {},
   "outputs": [],
   "source": [
    "arr = np.array([[1.,2.,3.],[4.,5.,6.]])"
   ]
  },
  {
   "cell_type": "code",
   "execution_count": null,
   "id": "388d36cd",
   "metadata": {},
   "outputs": [],
   "source": [
    "arr.ndim, arr.shape"
   ]
  },
  {
   "cell_type": "code",
   "execution_count": null,
   "id": "dd729493",
   "metadata": {},
   "outputs": [],
   "source": [
    "arr * 3"
   ]
  },
  {
   "cell_type": "code",
   "execution_count": null,
   "id": "34d9a9b9",
   "metadata": {},
   "outputs": [],
   "source": [
    "arr * arr "
   ]
  },
  {
   "cell_type": "code",
   "execution_count": null,
   "id": "01287650",
   "metadata": {},
   "outputs": [],
   "source": [
    "arr - arr "
   ]
  },
  {
   "cell_type": "code",
   "execution_count": null,
   "id": "704769c1",
   "metadata": {},
   "outputs": [],
   "source": [
    "1 / arr"
   ]
  },
  {
   "cell_type": "code",
   "execution_count": null,
   "id": "c61e4652",
   "metadata": {
    "scrolled": true
   },
   "outputs": [],
   "source": [
    "arr ** 0.5  # arr에 루트 씌운 것과 동일"
   ]
  },
  {
   "cell_type": "code",
   "execution_count": null,
   "id": "87bc3e10",
   "metadata": {},
   "outputs": [],
   "source": [
    "np.sqrt(arr) # 스퀘어 루트  # arr ** 0.5 와 np.sqrt(arr)는 동일"
   ]
  },
  {
   "cell_type": "markdown",
   "id": "cfab2247",
   "metadata": {},
   "source": [
    "## 인덱싱(색인), 슬라이싱"
   ]
  },
  {
   "cell_type": "code",
   "execution_count": null,
   "id": "15a40b46",
   "metadata": {},
   "outputs": [],
   "source": [
    "range(10)    # python\n",
    "arr = np.arange(10)  # numpy\n",
    "arr"
   ]
  },
  {
   "cell_type": "code",
   "execution_count": null,
   "id": "4d19e87e",
   "metadata": {},
   "outputs": [],
   "source": [
    "arr[5]"
   ]
  },
  {
   "cell_type": "code",
   "execution_count": null,
   "id": "3e6d05f7",
   "metadata": {},
   "outputs": [],
   "source": [
    "arr[5:8] = 12\n",
    "arr"
   ]
  },
  {
   "cell_type": "code",
   "execution_count": null,
   "id": "9c31ad43",
   "metadata": {},
   "outputs": [],
   "source": [
    "arr_1 = arr[5:8]   # 구간을 슬라이싱. arr_1을 view라고 함 \n",
    "arr_1"
   ]
  },
  {
   "cell_type": "code",
   "execution_count": null,
   "id": "7cc5a69d",
   "metadata": {},
   "outputs": [],
   "source": [
    "arr_1[0] = 5\n",
    "arr_1"
   ]
  },
  {
   "cell_type": "code",
   "execution_count": null,
   "id": "2e794ebc",
   "metadata": {},
   "outputs": [],
   "source": [
    "arr"
   ]
  },
  {
   "cell_type": "code",
   "execution_count": null,
   "id": "e5db05a8",
   "metadata": {},
   "outputs": [],
   "source": [
    "arr_1[1:]=10\n",
    "arr"
   ]
  },
  {
   "cell_type": "code",
   "execution_count": null,
   "id": "b360139c",
   "metadata": {},
   "outputs": [],
   "source": [
    "arr_1"
   ]
  },
  {
   "cell_type": "code",
   "execution_count": null,
   "id": "cde7a613",
   "metadata": {},
   "outputs": [],
   "source": [
    "arr_1[:] #ndarray의 장점"
   ]
  },
  {
   "cell_type": "code",
   "execution_count": null,
   "id": "f5948e4a",
   "metadata": {},
   "outputs": [],
   "source": [
    "arr"
   ]
  },
  {
   "cell_type": "code",
   "execution_count": null,
   "id": "eb0c8b0d",
   "metadata": {},
   "outputs": [],
   "source": [
    "arr_cpy = arr.copy()\n",
    "arr_cpy"
   ]
  },
  {
   "cell_type": "code",
   "execution_count": null,
   "id": "84660ccc",
   "metadata": {},
   "outputs": [],
   "source": [
    "arr_cpy[0]=100\n",
    "arr_cpy"
   ]
  },
  {
   "cell_type": "code",
   "execution_count": null,
   "id": "a7580f08",
   "metadata": {},
   "outputs": [],
   "source": [
    "arr  # 사본을 변경해도 원본은 변하지 않는다"
   ]
  },
  {
   "cell_type": "code",
   "execution_count": null,
   "id": "8c0f2316",
   "metadata": {},
   "outputs": [],
   "source": [
    "a2d = np.array([[1,2,3],[4,5,6],[7,8,9]])\n",
    "a2d"
   ]
  },
  {
   "cell_type": "code",
   "execution_count": null,
   "id": "b76a0cb8",
   "metadata": {},
   "outputs": [],
   "source": [
    "a2d.ndim, a2d.shape, a2d.dtype"
   ]
  },
  {
   "cell_type": "code",
   "execution_count": null,
   "id": "dee43d08",
   "metadata": {
    "scrolled": true
   },
   "outputs": [],
   "source": [
    "a2d[0]  # 1차원 원소 호출 "
   ]
  },
  {
   "cell_type": "code",
   "execution_count": null,
   "id": "6877c4ce",
   "metadata": {
    "scrolled": true
   },
   "outputs": [],
   "source": [
    "a2d[0][0]  # 1 ([0][0]이 행과 열을 각각 가리킴)"
   ]
  },
  {
   "cell_type": "code",
   "execution_count": null,
   "id": "a3c5a33c",
   "metadata": {},
   "outputs": [],
   "source": [
    "# 파이썬에서만 가능한 축약법. a2d[0][0] 와 동일 ([0][0]이 행과 열을 각각 가리킴)\n",
    "a2d[0,0] #1"
   ]
  },
  {
   "cell_type": "code",
   "execution_count": null,
   "id": "1b141ee4",
   "metadata": {},
   "outputs": [],
   "source": [
    "a2d[0].ndim, a2d[0].shape"
   ]
  },
  {
   "cell_type": "code",
   "execution_count": null,
   "id": "307f94a8",
   "metadata": {},
   "outputs": [],
   "source": [
    "cpy = a2d[0].copy()\n",
    "cpy"
   ]
  },
  {
   "cell_type": "code",
   "execution_count": null,
   "id": "abf535db",
   "metadata": {},
   "outputs": [],
   "source": [
    "cpy[0] = 100\n",
    "a2d"
   ]
  },
  {
   "cell_type": "code",
   "execution_count": null,
   "id": "8e20c978",
   "metadata": {},
   "outputs": [],
   "source": [
    "cpy"
   ]
  },
  {
   "cell_type": "code",
   "execution_count": null,
   "id": "9a67384b",
   "metadata": {},
   "outputs": [],
   "source": [
    "a1d = np.arange(5)\n",
    "a1d[:]\n",
    "#aid[0,0]  # 오류, 1차원에는 첨자 1개만 가능"
   ]
  },
  {
   "cell_type": "markdown",
   "id": "627028a7",
   "metadata": {},
   "source": [
    "## 슬라이스 색인\n",
    "- ndarray의 슬라이스 결과는 View일 뿐이므로 원본 배열의 특정 구간을 가리키는 색인 방법의 하나이다\n",
    "- 그러므로 슬라이싱 색인을 이용하여 특정 구간의 값을 추출하거나 변경할 수 있다"
   ]
  },
  {
   "cell_type": "code",
   "execution_count": null,
   "id": "89e0e75c",
   "metadata": {
    "scrolled": true
   },
   "outputs": [],
   "source": [
    "a2d = np.arange(1,13).reshape((3,4))\n",
    "a2d"
   ]
  },
  {
   "cell_type": "code",
   "execution_count": null,
   "id": "aaca47aa",
   "metadata": {},
   "outputs": [],
   "source": [
    "a2d[1]   # 배열로부터 값 출력"
   ]
  },
  {
   "cell_type": "code",
   "execution_count": null,
   "id": "d20b7bc0",
   "metadata": {},
   "outputs": [],
   "source": [
    "a2d[1:3]   # 1~2행(2차원 구조가 리턴됨)  # 배열로부터 값 출력\n",
    "#nbarray의 슬라이싱 (파이썬의 슬라이싱과 다름)"
   ]
  },
  {
   "cell_type": "code",
   "execution_count": null,
   "id": "b230e831",
   "metadata": {
    "scrolled": true
   },
   "outputs": [],
   "source": [
    "a2d[1,3] # 8"
   ]
  },
  {
   "cell_type": "code",
   "execution_count": null,
   "id": "e97f5767",
   "metadata": {
    "scrolled": true
   },
   "outputs": [],
   "source": [
    "a2d[1] = 1   # 배열에 값 입력\n",
    "a2d"
   ]
  },
  {
   "cell_type": "code",
   "execution_count": null,
   "id": "d393396e",
   "metadata": {},
   "outputs": [],
   "source": [
    "a2d[1:3]  = 15   #nbarray의 슬라이싱 (파이썬의 슬라이싱과 다름)\n",
    "a2d"
   ]
  },
  {
   "cell_type": "code",
   "execution_count": null,
   "id": "d2e1f71f",
   "metadata": {},
   "outputs": [],
   "source": [
    "a2d[1:3][0]  # [1:3] 그 중에서 첫번째 행[0] "
   ]
  },
  {
   "cell_type": "code",
   "execution_count": null,
   "id": "3a20a813",
   "metadata": {},
   "outputs": [],
   "source": [
    "a2d[1:3][0][0]  #15   [1:3] 그 중에서 첫번째 행[0]과 열[0]   "
   ]
  },
  {
   "cell_type": "code",
   "execution_count": null,
   "id": "a2a037c3",
   "metadata": {},
   "outputs": [],
   "source": [
    "a2d[1:3][0,0]  #15    인덱스 언의 ':' => '안덱싱 슬라이스'  [0,0] => 행과 열을 파이썬에서 쓰는 것을 펜시 인덱싱"
   ]
  },
  {
   "cell_type": "code",
   "execution_count": null,
   "id": "aad410a3",
   "metadata": {},
   "outputs": [],
   "source": [
    "a2d[:2,1:]"
   ]
  },
  {
   "cell_type": "code",
   "execution_count": null,
   "id": "301d8c6c",
   "metadata": {
    "scrolled": true
   },
   "outputs": [],
   "source": [
    "a2d[:2,1:] = 9\n",
    "a2d"
   ]
  },
  {
   "cell_type": "markdown",
   "id": "f8d367e4",
   "metadata": {},
   "source": [
    "## Boolean Indexing"
   ]
  },
  {
   "cell_type": "code",
   "execution_count": null,
   "id": "b646f9e8",
   "metadata": {},
   "outputs": [],
   "source": [
    "names = np.array(['Bob','Joe','Will','Bob', 'Will','Joe','Joe'])\n",
    "names.dtype"
   ]
  },
  {
   "cell_type": "code",
   "execution_count": null,
   "id": "d3b688e3",
   "metadata": {},
   "outputs": [],
   "source": [
    "names == 'Bob'  # array([ True, False, False, True, False, False, False])  "
   ]
  },
  {
   "cell_type": "code",
   "execution_count": null,
   "id": "2c7f1e3b",
   "metadata": {
    "scrolled": false
   },
   "outputs": [],
   "source": [
    "arr_num = np.arange(28).reshape((7,4))\n",
    "arr_num"
   ]
  },
  {
   "cell_type": "code",
   "execution_count": null,
   "id": "6eb12394",
   "metadata": {
    "scrolled": true
   },
   "outputs": [],
   "source": [
    "arr_num[names == 'Bob']   # Boolean Indexing\n",
    "#arr_num[[ True, False, False, True, False, False, False]]"
   ]
  },
  {
   "cell_type": "code",
   "execution_count": null,
   "id": "a1ce145e",
   "metadata": {},
   "outputs": [],
   "source": [
    "arr_num[names == 'Bob'][:, [False,True,False,True]]    #True 값만 반환해주고 있음.  불리언보다 주로 수식이 더 많이 쓰임"
   ]
  },
  {
   "cell_type": "code",
   "execution_count": null,
   "id": "d828d1e5",
   "metadata": {},
   "outputs": [],
   "source": [
    "# False,True가 아닌 서식(숫자)으로 Bob를 가져오기 \n",
    "# 내가 한 것\n",
    "\n",
    "arr2 = arr_num[names == 'Bob']  \n",
    "print(arr2[:, [1, 3]])"
   ]
  },
  {
   "cell_type": "code",
   "execution_count": null,
   "id": "824128be",
   "metadata": {},
   "outputs": [],
   "source": [
    "# False,True가 아닌 서식(숫자)으로 Bob를 가져오기 \n",
    "# 강사님 버전\n",
    "\n",
    "arr_tmp=np.arange(start=1,stop=5) # arr_tmp=np.array([1,2,3,4])와 동일\n",
    "arr_tmp"
   ]
  },
  {
   "cell_type": "code",
   "execution_count": null,
   "id": "5c1975e4",
   "metadata": {},
   "outputs": [],
   "source": [
    "# boolean indexing에 불리언 표현식을 사용한 경우\n",
    "arr_num[names=='Bob'][:, arr_tmp%2==0]"
   ]
  },
  {
   "cell_type": "code",
   "execution_count": null,
   "id": "33f88d3f",
   "metadata": {},
   "outputs": [],
   "source": [
    "# ==, !=, <, >, &, |, !, ~ \n",
    "# np.logical_and(bool, bool)  => &와 동일\n",
    "# np.logical_or(bool, bool) => |와 동일"
   ]
  },
  {
   "cell_type": "code",
   "execution_count": null,
   "id": "8b584560",
   "metadata": {},
   "outputs": [],
   "source": [
    "# 문제) Bob과 Joe를 제외하고 나머지 사람(위에서는 'Will')을 이름을 쓰지 않고(Will)불리언 표현식을 이용해 가져오기\n",
    "\n",
    "# -내가 한 것\n",
    "\n",
    "arr5 = (names != 'Bob') & (names != 'Joe')\n",
    "result = names[arr5]\n",
    "print(arr5) \n",
    "print(result)"
   ]
  },
  {
   "cell_type": "code",
   "execution_count": null,
   "id": "7963a32f",
   "metadata": {},
   "outputs": [],
   "source": [
    "# 불리언 표현식에 사용할 수 있는 연산자 중에서 and(&)와 같은 방법\n",
    "# np.logical_and(bool, bool) \n",
    "\n",
    "# -내가 한 것\n",
    "\n",
    "arr6 = np.logical_and(names != 'Bob', names != 'Joe')\n",
    "result = names[arr6]\n",
    "print(arr6) \n",
    "print(result)"
   ]
  },
  {
   "cell_type": "code",
   "execution_count": null,
   "id": "a560f961",
   "metadata": {},
   "outputs": [],
   "source": [
    "# 강사님 버전\n",
    "# Will이 나오는 행 중에서 짝수인 원소만 가져오는 경우\n",
    "arr_num[(names!='Bob') & (names != 'Joe')][:, arr_tmp%2==0] "
   ]
  },
  {
   "cell_type": "code",
   "execution_count": null,
   "id": "2f54ae72",
   "metadata": {},
   "outputs": [],
   "source": [
    "# 강사님 버전\n",
    "# Will이 나오는 행 중에서 짝수인 원소만 가져오는 경우\n",
    "arr_num[np.logical_and(names != 'Bob', names != 'Joe')][:, arr_tmp%2==0] "
   ]
  },
  {
   "cell_type": "code",
   "execution_count": null,
   "id": "ada9b599",
   "metadata": {},
   "outputs": [],
   "source": [
    "# 문제)\n",
    "# arr_num의 데이터가 names 배열에 있는 사람들의 순서로 ㅚ어 있다고 간주하고\n",
    "# arr_num에 있는 'Will'에 해당하는 행을 찾아 2,3,3,2로 변경한다.\n",
    "arr7 = (names != 'Bob') & (names != 'Joe')\n",
    "arr7 = [2,3,3,2]\n",
    "print(result)"
   ]
  },
  {
   "cell_type": "code",
   "execution_count": null,
   "id": "078b13bd",
   "metadata": {},
   "outputs": [],
   "source": [
    "print(arr_num)"
   ]
  },
  {
   "cell_type": "code",
   "execution_count": null,
   "id": "64a55c38",
   "metadata": {},
   "outputs": [],
   "source": [
    "arr8 = arr_num[np.logical_and(names != 'Bob', names != 'Joe')]\n",
    "arr8 = [2,3,3,2]\n",
    "print(arr8)"
   ]
  },
  {
   "cell_type": "code",
   "execution_count": null,
   "id": "444418fa",
   "metadata": {},
   "outputs": [],
   "source": [
    "print(arr_num)"
   ]
  },
  {
   "cell_type": "code",
   "execution_count": null,
   "id": "b658005c",
   "metadata": {},
   "outputs": [],
   "source": [
    "arr_num[names=='Will']   # array([[ 8,  9, 10, 11], [16, 17, 18, 19]])"
   ]
  },
  {
   "cell_type": "code",
   "execution_count": null,
   "id": "423f256a",
   "metadata": {},
   "outputs": [],
   "source": [
    "arr_num[names=='Will'] = np.array([2,3,3,2])\n",
    "arr_num[names=='Will']           # array([[2, 3, 3, 2], [2, 3, 3, 2]])"
   ]
  },
  {
   "cell_type": "code",
   "execution_count": null,
   "id": "3f3accd3",
   "metadata": {},
   "outputs": [],
   "source": [
    "idx = [1,3,5]   # 임의의 순서로 행 가져오기\n",
    "arr_num[idx] "
   ]
  },
  {
   "cell_type": "code",
   "execution_count": null,
   "id": "f0ed5609",
   "metadata": {},
   "outputs": [],
   "source": [
    "idx = [4,2,6,3]\n",
    "arr_num[idx]"
   ]
  },
  {
   "cell_type": "code",
   "execution_count": null,
   "id": "914e2266",
   "metadata": {},
   "outputs": [],
   "source": [
    "# 아래의 배열의 행을 무작위로 섞어서 새로운 배열을 생성해보세요\n",
    "arr = np.arange(16).reshape((4,4))\n",
    "arr"
   ]
  },
  {
   "cell_type": "code",
   "execution_count": null,
   "id": "9d80e119",
   "metadata": {
    "scrolled": true
   },
   "outputs": [],
   "source": [
    "# 내가 푼 것\n",
    "np.random.shuffle(arr)\n",
    "print(arr)"
   ]
  },
  {
   "cell_type": "code",
   "execution_count": null,
   "id": "2df42921",
   "metadata": {},
   "outputs": [],
   "source": [
    "# 강사님 버전 (중복 허용됨)\n",
    "rows = [random.randint(0,3) for _ in range(4)]\n",
    "arr[rows]"
   ]
  },
  {
   "cell_type": "code",
   "execution_count": null,
   "id": "19e4affb",
   "metadata": {},
   "outputs": [],
   "source": [
    "# 위의 문제에서 행과 열도 무작위로 섞이게 하세요  (중복 허용을 막고자 sample을 씀)\n",
    "\n",
    "# 행과 열을 무작위로 섞음\n",
    "rows = random.sample(range(4), 4)\n",
    "cols = random.sample(range(4), 4)\n",
    "\n",
    "# 선택된 행과 열에 해당하는 부분 선택\n",
    "selected_part = arr[rows][:, cols]\n",
    "\n",
    "print(selected_part)"
   ]
  },
  {
   "cell_type": "code",
   "execution_count": null,
   "id": "5512fb70",
   "metadata": {},
   "outputs": [],
   "source": [
    "# 강사님 버전\n",
    "\n",
    "# 행과 열을 무작위로 섞음\n",
    "rows = random.sample([0,1,2,3], 4)\n",
    "cols = random.sample([0,1,2,3], 4)\n",
    "\n",
    "arr_1 = arr[rows][:, cols]\n",
    "arr_1"
   ]
  },
  {
   "cell_type": "code",
   "execution_count": null,
   "id": "8fa8dabc",
   "metadata": {},
   "outputs": [],
   "source": [
    "# np.ix_(rows,cols)를 사용하여 위와 동일한 결과를 내는 예\n",
    "arr[np.ix_(rows,cols)]"
   ]
  },
  {
   "cell_type": "markdown",
   "id": "17303746",
   "metadata": {},
   "source": [
    "## 배열 전치와 축 변경\n",
    "- 전치행렬\n",
    "- arr.T\n",
    "- arr.transpose()"
   ]
  },
  {
   "cell_type": "code",
   "execution_count": null,
   "id": "329d2d61",
   "metadata": {},
   "outputs": [],
   "source": [
    "import numpy as np\n",
    "arr = np.arange(15).reshape((3,5))\n",
    "arr"
   ]
  },
  {
   "cell_type": "code",
   "execution_count": null,
   "id": "9112092c",
   "metadata": {},
   "outputs": [],
   "source": [
    "arr.T   # arr을 배열 전치하여 행과 열을 바꿈\n",
    "# 행과 열이 곱해질 때 서로 짝(갯수)가 맞아야 내적 연산이 가능 => 결과값이 또 하나의 행렬이 만들어짐\n",
    "# dot가 내적 연산을 가능하게 함"
   ]
  },
  {
   "cell_type": "markdown",
   "id": "ebb9f09a",
   "metadata": {},
   "source": [
    "#### 표준 정규 분포\n",
    "- standard normal distribution\n",
    "- 전체 데이터의 평균이 0이고 전체 데이터의 '표준편차(std)'가 1 [절대값 기준] => 1을 벗어나는 것은 극히 일부\n",
    "- np.random.randn()"
   ]
  },
  {
   "cell_type": "code",
   "execution_count": null,
   "id": "4298142e",
   "metadata": {
    "scrolled": true
   },
   "outputs": [],
   "source": [
    "# 전치행렬의 사용 예\n",
    "arr = np.random.randn(6,3)   # randn => 표준정규분포\n",
    "arr  # 6x3 표준정규분포(평균(0), 표준편차(1))"
   ]
  },
  {
   "cell_type": "code",
   "execution_count": null,
   "id": "e322844b",
   "metadata": {},
   "outputs": [],
   "source": [
    "dir(arr)"
   ]
  },
  {
   "cell_type": "code",
   "execution_count": null,
   "id": "beb83772",
   "metadata": {},
   "outputs": [],
   "source": [
    "arr.min(), arr.mean(), arr.max()"
   ]
  },
  {
   "cell_type": "code",
   "execution_count": null,
   "id": "d210bb3f",
   "metadata": {},
   "outputs": [],
   "source": [
    "np.random.random()"
   ]
  },
  {
   "cell_type": "code",
   "execution_count": null,
   "id": "d17aa10d",
   "metadata": {},
   "outputs": [],
   "source": [
    "arr_1 = np.random.random(18)\n",
    "arr_1.min(), arr_1.mean(), arr_1.max()"
   ]
  },
  {
   "cell_type": "code",
   "execution_count": null,
   "id": "04f748a3",
   "metadata": {},
   "outputs": [],
   "source": [
    "# 벡터의 내적 연산(Dot Product)  A.B\n",
    "\n",
    "np.dot(arr.T, arr)\n",
    "\n",
    "# 행과 열이 곱해질 때 서로 짝(갯수)가 맞아야 내적 연산이 가능 => 결과값이 또 하나의 행렬이 만들어짐\n",
    "# dot가 내적 연산을 가능하게 함"
   ]
  },
  {
   "cell_type": "markdown",
   "id": "688e1ce0",
   "metadata": {},
   "source": [
    "## 유니버설 함수\n",
    "- ndarray 안에 있는 데이터 원소별로 각각  연산을 수행하는 numpy 함수\n",
    "- 레퍼런스 : http://numpy.org/doc/stable/reference/ufuncs.html"
   ]
  },
  {
   "cell_type": "code",
   "execution_count": null,
   "id": "213ab281",
   "metadata": {},
   "outputs": [],
   "source": [
    "import numpy as np"
   ]
  },
  {
   "cell_type": "code",
   "execution_count": null,
   "id": "ae29ce56",
   "metadata": {},
   "outputs": [],
   "source": [
    "np.array([1,2,3]) * 2   # ndarray 와 스칼라 수의 곱셈"
   ]
  },
  {
   "cell_type": "code",
   "execution_count": null,
   "id": "e1e86618",
   "metadata": {},
   "outputs": [],
   "source": [
    "arr = np.arange(10)\n",
    "arr"
   ]
  },
  {
   "cell_type": "code",
   "execution_count": null,
   "id": "c18b5975",
   "metadata": {
    "scrolled": true
   },
   "outputs": [],
   "source": [
    "np.sqrt(arr)   # sqrt 함수는 배열을 받아서 각각의 원소에 대해 제곱근을 구해 제곱근 배열을 리턴함"
   ]
  },
  {
   "cell_type": "code",
   "execution_count": null,
   "id": "95805645",
   "metadata": {},
   "outputs": [],
   "source": [
    "arr_sqrt = np.sqrt(arr)\n",
    "print(type(arr_sqrt))"
   ]
  },
  {
   "cell_type": "code",
   "execution_count": null,
   "id": "9a9f67b3",
   "metadata": {},
   "outputs": [],
   "source": [
    "np.exp(arr)  # 입력된 배열의 각 원소에 대해 지수함수(E^x) 적용\n",
    "# 자연상수(E) : 2.7182818283...\n",
    "#np.exp(0) = e^0 = 1.00000000e+00\n",
    "#np.exp(1) = e^1 = 2.71828183e+00\n",
    "#np.exp(2) = e^2 = 7.38905610e+00\n",
    "#np.exp(3) = e^3 = 2.00855369e+01\n",
    "#np.exp(4) = e^4 = 5.45981500e+01\n",
    "#np.exp(5) = e^5 = 1.48413159e+02\n",
    "#np.exp(6) = e^6 = 4.03428793e+02\n",
    "#np.exp(7) = e^7 = 1.09663316e+03\n",
    "#np.exp(8) = e^8 = 2.98095799e+03\n",
    "#np.exp(9) = e^9 = 8.10308393e+03"
   ]
  },
  {
   "cell_type": "code",
   "execution_count": null,
   "id": "e088930a",
   "metadata": {},
   "outputs": [],
   "source": [
    "x = np.random.randn(8)\n",
    "y = np.random.randn(8)"
   ]
  },
  {
   "cell_type": "code",
   "execution_count": null,
   "id": "10669aae",
   "metadata": {},
   "outputs": [],
   "source": [
    "x,y"
   ]
  },
  {
   "cell_type": "code",
   "execution_count": null,
   "id": "9b6ed3fc",
   "metadata": {},
   "outputs": [],
   "source": [
    "np.maximum(x,y)  # 2개의 배열에서 동일 위치의 값 중에서 큰 수 리턴"
   ]
  },
  {
   "cell_type": "code",
   "execution_count": null,
   "id": "451f66e8",
   "metadata": {},
   "outputs": [],
   "source": [
    "# 문제) x, y 2개의 배열에 들어 있는 데이터를 각 동일 위치의 데이터와 합산해서 nbarray로 리턴해보기"
   ]
  },
  {
   "cell_type": "code",
   "execution_count": null,
   "id": "2f85e85e",
   "metadata": {},
   "outputs": [],
   "source": [
    "result = np.add(x, y)  # 또는 result = x + y"
   ]
  },
  {
   "cell_type": "markdown",
   "id": "25601a56",
   "metadata": {},
   "source": [
    "### ndarray 함수 vs 일반 반복문을 이용한 계산 속도 비교"
   ]
  },
  {
   "cell_type": "code",
   "execution_count": null,
   "id": "d883f113",
   "metadata": {},
   "outputs": [],
   "source": [
    "import numpy as np"
   ]
  },
  {
   "cell_type": "code",
   "execution_count": null,
   "id": "6d235521",
   "metadata": {},
   "outputs": [],
   "source": [
    "points = np.arange(10000000, dtype='f')  # 데이터 타입을 f(float)로 지정함\n",
    "points[:10]"
   ]
  },
  {
   "cell_type": "code",
   "execution_count": null,
   "id": "625e685c",
   "metadata": {},
   "outputs": [],
   "source": [
    "%%time\n",
    "total = 0\n",
    "for i in points: # 파이썬 반복문을 사용하여 원소들을 합산하는 경우\n",
    "    total *= i\n",
    "print(total)"
   ]
  },
  {
   "cell_type": "code",
   "execution_count": null,
   "id": "c697dcde",
   "metadata": {},
   "outputs": [],
   "source": [
    "%time points.sum() #numpy 함수를 사용한 경우"
   ]
  },
  {
   "cell_type": "markdown",
   "id": "2597da56",
   "metadata": {},
   "source": [
    "## 배열연산으로 조건절 표현하기"
   ]
  },
  {
   "cell_type": "code",
   "execution_count": null,
   "id": "9ba1e8e1",
   "metadata": {},
   "outputs": [],
   "source": [
    "zipObj = zip([1,2,3],['a','b','c'],['가','나','다'])\n",
    "print(zipObj)"
   ]
  },
  {
   "cell_type": "code",
   "execution_count": null,
   "id": "372b1076",
   "metadata": {
    "scrolled": false
   },
   "outputs": [],
   "source": [
    "dir(zipObj)"
   ]
  },
  {
   "cell_type": "code",
   "execution_count": null,
   "id": "1abdf020",
   "metadata": {},
   "outputs": [],
   "source": [
    "for v in zipObj:\n",
    "    print(v)"
   ]
  },
  {
   "cell_type": "code",
   "execution_count": null,
   "id": "0579b396",
   "metadata": {},
   "outputs": [],
   "source": [
    "list(zipObj)   # 위에서 Generator 값을 소진했기 때문에 여기서는 출력값이 없다\n",
    "# (위의 zipObj = zip([1,2,3],['a','b','c'],['가','나','다']) 재실행 필요)"
   ]
  },
  {
   "cell_type": "code",
   "execution_count": null,
   "id": "de8d57d3",
   "metadata": {},
   "outputs": [],
   "source": [
    "def sample_gen():\n",
    "    yield 'a'\n",
    "    yield 'b'\n",
    "    yield 'c'"
   ]
  },
  {
   "cell_type": "code",
   "execution_count": null,
   "id": "928bc905",
   "metadata": {
    "scrolled": true
   },
   "outputs": [],
   "source": [
    "gen1 = sample_gen()\n",
    "gen1 "
   ]
  },
  {
   "cell_type": "code",
   "execution_count": null,
   "id": "84aed278",
   "metadata": {
    "scrolled": false
   },
   "outputs": [],
   "source": [
    "dir(gen1)"
   ]
  },
  {
   "cell_type": "code",
   "execution_count": null,
   "id": "33ad4dd7",
   "metadata": {},
   "outputs": [],
   "source": [
    "# 문제) 1부터 5까지 값을 가져오게끔 제너레이터 함수를 만들어 보세요\n",
    "# 내가 푼 것\n",
    "\n",
    "def sample_gen2():\n",
    "    for value in range(1, 6):  \n",
    "        yield value\n",
    "        \n",
    "gen = sample_gen2()\n",
    "for val in gen:\n",
    "    print(val, end =\", \")   # 1, 2, 3, 4, 5,  [쉼표가 마지막에도 붙음]"
   ]
  },
  {
   "cell_type": "code",
   "execution_count": null,
   "id": "cc350bab",
   "metadata": {},
   "outputs": [],
   "source": [
    "# 내가 푼 것[gpt 참조]\n",
    "\n",
    "def sample_gen2():\n",
    "    for value in range(1, 6):  \n",
    "        yield value\n",
    "        \n",
    "gen = sample_gen2()\n",
    "print(\", \".join(str(val) for val in gen))  # 1, 2, 3, 4, 5  \n",
    "# [ join() 함수의 동작 방식이 문자열 결합시 쉼표를 붙여주고 \n",
    "# 자연스럽게 마지막 값 뒤에 구분자를 붙지 않게 함]"
   ]
  },
  {
   "cell_type": "code",
   "execution_count": null,
   "id": "e34ca14c",
   "metadata": {},
   "outputs": [],
   "source": [
    "# 내가 푼 것[gpt 참조]\n",
    "\n",
    "gen = sample_gen2()\n",
    "for idx, val in enumerate(gen, 1):  # enumerate는 인덱스와 요소 값을 함께 얻는 함수\n",
    "    end_str = \", \" if idx < 5 else \"\\n\"  # 삼항 연산자 사용\n",
    "    print(val, end=end_str)    # 1, 2, 3, 4, 5\n",
    "# print(val, end=end_str) 코드는 val 값을 출력하고 end_str을 사용하여 줄바꿈 대신 다른 문자를 출력\n",
    "# 그래서 인덱스 값은 출력 값에 없음"
   ]
  },
  {
   "cell_type": "code",
   "execution_count": null,
   "id": "64f49dd7",
   "metadata": {},
   "outputs": [],
   "source": [
    "# 1~5까지 값을 생성하는 Generator 작성\n",
    "# 강사님 버전\n",
    "\n",
    "def num_gen():\n",
    "    for v in range(1,6):\n",
    "        yield v "
   ]
  },
  {
   "cell_type": "code",
   "execution_count": null,
   "id": "cbda6baf",
   "metadata": {},
   "outputs": [],
   "source": [
    "for v in num_gen(): # Generator 생성 및 호출\n",
    "    print(v, end=\" \")   \n",
    "# def num_gen()로 함수를 이용해 호출해서 쓰는 거라 소진되지 않고 실행시마다 num_gen() 생성돼 출력됨"
   ]
  },
  {
   "cell_type": "code",
   "execution_count": null,
   "id": "3bc8ef45",
   "metadata": {},
   "outputs": [],
   "source": [
    "def sample_gen():\n",
    "    yield 'a'\n",
    "    yield 'b'\n",
    "    yield 'c'"
   ]
  },
  {
   "cell_type": "code",
   "execution_count": null,
   "id": "1678bfe6",
   "metadata": {},
   "outputs": [],
   "source": [
    "gen1 = sample_gen()"
   ]
  },
  {
   "cell_type": "code",
   "execution_count": null,
   "id": "e2fd2d00",
   "metadata": {},
   "outputs": [],
   "source": [
    "list(gen1)  # 첫번째 실행시에만 값이 출력됨 - Generator 원소 값들을 보고자 할 때 list 이용해 디버깅. "
   ]
  },
  {
   "cell_type": "code",
   "execution_count": null,
   "id": "e0dbce0f",
   "metadata": {},
   "outputs": [],
   "source": [
    "for v in gen1:\n",
    "    print(v, end=\", \")"
   ]
  },
  {
   "cell_type": "code",
   "execution_count": null,
   "id": "37d12eb3",
   "metadata": {},
   "outputs": [],
   "source": [
    "# Generator Comprehension\n",
    "gen2 = (v for v in range(1,6))\n",
    "print(gen2)"
   ]
  },
  {
   "cell_type": "code",
   "execution_count": null,
   "id": "62cd8970",
   "metadata": {},
   "outputs": [],
   "source": [
    "for v in gen2:\n",
    "    print(v, end=\" \")  # 첫번째 실행시에만 값이 출력됨 (gen2로 한번만 만들었므로)"
   ]
  },
  {
   "cell_type": "code",
   "execution_count": null,
   "id": "722bc1b8",
   "metadata": {
    "scrolled": true
   },
   "outputs": [],
   "source": [
    "for v in zipObj:\n",
    "    print(v, end=\", \")"
   ]
  },
  {
   "cell_type": "markdown",
   "id": "59da6cae",
   "metadata": {},
   "source": [
    "###  문제) Generator를 이용하여 텍스트 파일에서 한 행씩 가져오는 예\n",
    "- 파일명 : members.txt\n",
    "- member(num, name, phone)\n",
    "- 한 행씩 Generator를 이용하여 가져와서 화면에 목록으로 표시하기 "
   ]
  },
  {
   "cell_type": "code",
   "execution_count": null,
   "id": "4d8163d1",
   "metadata": {
    "scrolled": true
   },
   "outputs": [],
   "source": [
    "# 내가 푼 버전\n",
    "# 파일을 직접 만든 뒤에 해야 함\n",
    "def member_gen():\n",
    "    with open(\"C://Users/jeongjinhwa/anaconda3/A_Python_Day1/members.txt\") as file:\n",
    "        for member in file:\n",
    "            yield member.strip() \n",
    "\n",
    "gen = member_gen()\n",
    "for member in gen:\n",
    "    print(member)"
   ]
  },
  {
   "cell_type": "code",
   "execution_count": null,
   "id": "37c40e25",
   "metadata": {},
   "outputs": [],
   "source": [
    "# 강사님 버전\n",
    "\n",
    "# 매직 명령을 사용할 때에는 코드의 첫 줄에 주석을 작성하지 않아야 함. 만약 주석을 추가하려면 셀 따로 작성\n",
    "# (중간에 주석 넣어도 주석 내용 파일 저장됨)\n",
    "# 밑에다 작성해도 주석 내용이 파일에 저장됨\n",
    "# 안 그럼 파일 생성 안 되고 오류남\n",
    "# SyntaxError: leading zeros in decimal integer literals are not permitted; use an 0o prefix for octal integers"
   ]
  },
  {
   "cell_type": "code",
   "execution_count": null,
   "id": "73c0df07",
   "metadata": {},
   "outputs": [],
   "source": [
    "%%writefile members.txt\n",
    "11 smith 010-2547-5214\n",
    "12 james 010-6587-4590   \n",
    "13 scott 010-5893-2570\n"
   ]
  },
  {
   "cell_type": "code",
   "execution_count": null,
   "id": "a82a57df",
   "metadata": {},
   "outputs": [],
   "source": [
    "# 강사님 버전\n",
    "\n",
    "def line_gen():\n",
    "    with open('members.txt', 'r') as fin:\n",
    "        for line in fin:\n",
    "            yield line"
   ]
  },
  {
   "cell_type": "code",
   "execution_count": null,
   "id": "6581a7dc",
   "metadata": {
    "scrolled": true
   },
   "outputs": [],
   "source": [
    "# 강사님 버전\n",
    "\n",
    "for line in line_gen():\n",
    "    print(line, end=\"\")"
   ]
  },
  {
   "cell_type": "code",
   "execution_count": null,
   "id": "3bd5bd56",
   "metadata": {},
   "outputs": [],
   "source": [
    "gen = line_gen()    # 강사님 버전"
   ]
  },
  {
   "cell_type": "code",
   "execution_count": null,
   "id": "4fad92b4",
   "metadata": {},
   "outputs": [],
   "source": [
    "next(gen).strip()     # 강사님 버전"
   ]
  },
  {
   "cell_type": "code",
   "execution_count": null,
   "id": "df9fc304",
   "metadata": {},
   "outputs": [],
   "source": [
    "next(gen).strip()    # 강사님 버전"
   ]
  },
  {
   "cell_type": "code",
   "execution_count": null,
   "id": "a823aa4c",
   "metadata": {},
   "outputs": [],
   "source": [
    "next(gen).strip()    # 강사님 버전"
   ]
  },
  {
   "cell_type": "code",
   "execution_count": null,
   "id": "d9c38af9",
   "metadata": {
    "scrolled": true
   },
   "outputs": [],
   "source": [
    "next(gen).strip()  # 오류 StopIteration:   (파일에 더 이상 내용이 없어서 오류)  # 강사님 버전"
   ]
  },
  {
   "cell_type": "code",
   "execution_count": null,
   "id": "305cd483",
   "metadata": {},
   "outputs": [],
   "source": [
    "# Generator 에 대해 루프를 사용하지 않고 한개씩 추출하기\n",
    "gen = num_gen()\n",
    "print(next(gen))  # next() 함수는 Generator의 값 한개를 호출한다\n",
    "print(next(gen))"
   ]
  },
  {
   "cell_type": "code",
   "execution_count": null,
   "id": "543d5e8c",
   "metadata": {},
   "outputs": [],
   "source": [
    "xarr = np.array([1.1,1.2,1.3,1.4,1.5])\n",
    "yarr = np.array([2.1,2.2,2.3,2.4,2.5])\n",
    "cond = np.array([True, False, True, True, False])"
   ]
  },
  {
   "cell_type": "code",
   "execution_count": null,
   "id": "4fc7985c",
   "metadata": {},
   "outputs": [],
   "source": [
    "result = [(x if c else y) for x, y, c in zip(xarr, yarr, cond)] # 삼항 연산자 사용\n",
    "# x if c else y  => x가 '참'쪽/ c가 불리언 표현식/ y가 '거짓'쪽\n",
    "result"
   ]
  },
  {
   "cell_type": "code",
   "execution_count": null,
   "id": "8c0ca57e",
   "metadata": {},
   "outputs": [],
   "source": [
    "# 위와 동일한 결과 값 생성\n",
    "result = np.where(cond, xarr, yarr) # 주어진 조건에 따라 x, y 선별\n",
    "result"
   ]
  },
  {
   "cell_type": "code",
   "execution_count": null,
   "id": "71689317",
   "metadata": {},
   "outputs": [],
   "source": [
    "arr = np.random.randn(4,4)\n",
    "arr"
   ]
  },
  {
   "cell_type": "code",
   "execution_count": null,
   "id": "0d389287",
   "metadata": {
    "scrolled": true
   },
   "outputs": [],
   "source": [
    "arr > 0 "
   ]
  },
  {
   "cell_type": "code",
   "execution_count": null,
   "id": "4e3c677e",
   "metadata": {},
   "outputs": [],
   "source": [
    "np.where(arr > 0, 2, -2)"
   ]
  },
  {
   "cell_type": "code",
   "execution_count": null,
   "id": "2795dddf",
   "metadata": {},
   "outputs": [],
   "source": [
    "np.where(arr > 0, 2, arr)"
   ]
  },
  {
   "cell_type": "markdown",
   "id": "7785be09",
   "metadata": {},
   "source": [
    "## 수학 메소드와 통계"
   ]
  },
  {
   "cell_type": "code",
   "execution_count": null,
   "id": "c9990cbc",
   "metadata": {},
   "outputs": [],
   "source": [
    "arr = np.random.randn(5,4)\n",
    "arr"
   ]
  },
  {
   "cell_type": "code",
   "execution_count": null,
   "id": "2139ed04",
   "metadata": {},
   "outputs": [],
   "source": [
    "arr.mean(), np.mean(arr)  # 평균 구하는 두 가지 방법(변수와 모듈 이용)"
   ]
  },
  {
   "cell_type": "code",
   "execution_count": null,
   "id": "6b6f4a6f",
   "metadata": {},
   "outputs": [],
   "source": [
    "arr.sum(), np.sum(arr)"
   ]
  },
  {
   "cell_type": "markdown",
   "id": "4df5dd0e",
   "metadata": {},
   "source": [
    "### 연산 축(axis)방향\n",
    "- 행 방향(행끼리의 계산) :0, 세로 연산(위에서 아래로 계산)\n",
    "- 열 방형(열끼리의 계산) :1, 가로 연산"
   ]
  },
  {
   "cell_type": "code",
   "execution_count": null,
   "id": "39e7d665",
   "metadata": {},
   "outputs": [],
   "source": [
    "arr = np.arange(9).reshape(3,3)\n",
    "arr"
   ]
  },
  {
   "cell_type": "code",
   "execution_count": null,
   "id": "fae540c6",
   "metadata": {},
   "outputs": [],
   "source": [
    "arr.sum()  # 원소 전체의 합"
   ]
  },
  {
   "cell_type": "code",
   "execution_count": null,
   "id": "bd364e1a",
   "metadata": {},
   "outputs": [],
   "source": [
    "arr.sum(axis=0)  # 행들의 합, 세로 합"
   ]
  },
  {
   "cell_type": "code",
   "execution_count": null,
   "id": "075dfa07",
   "metadata": {},
   "outputs": [],
   "source": [
    "arr.sum(0)    # 위와 동일"
   ]
  },
  {
   "cell_type": "code",
   "execution_count": null,
   "id": "712ebae3",
   "metadata": {},
   "outputs": [],
   "source": [
    "arr.sum(axis=1)  # 열들의 합, 가로 합 "
   ]
  },
  {
   "cell_type": "code",
   "execution_count": null,
   "id": "87285ae4",
   "metadata": {},
   "outputs": [],
   "source": [
    "arr.mean(axis=1)  # 열들의 평균, 가로 평균 "
   ]
  },
  {
   "cell_type": "markdown",
   "id": "33d21797",
   "metadata": {},
   "source": [
    "## 누적연산\n",
    "- arr.cumsum(): 누적 합산마다 산출되는 값 배열 리턴\n",
    "- arr.cumprod(): 누적 곱 과정마다 산출되는 값 배열 리턴"
   ]
  },
  {
   "cell_type": "code",
   "execution_count": null,
   "id": "847ce552",
   "metadata": {},
   "outputs": [],
   "source": [
    "arr = np.arange(9).reshape((3,3))\n",
    "arr"
   ]
  },
  {
   "cell_type": "code",
   "execution_count": null,
   "id": "eeafdd2e",
   "metadata": {},
   "outputs": [],
   "source": [
    "arr.cumsum()         # 전체에 대한 누적 합 과정의 산출 값 배열"
   ]
  },
  {
   "cell_type": "code",
   "execution_count": null,
   "id": "4d0f7722",
   "metadata": {},
   "outputs": [],
   "source": [
    "arr.cumsum(axis=0)   # 행들의 누적 합, 세로 누적 합"
   ]
  },
  {
   "cell_type": "code",
   "execution_count": null,
   "id": "5e7fa67a",
   "metadata": {},
   "outputs": [],
   "source": [
    "arr.cumsum(axis=1)"
   ]
  },
  {
   "cell_type": "code",
   "execution_count": null,
   "id": "dc84e429",
   "metadata": {},
   "outputs": [],
   "source": [
    "arr.cumprod()    # 전체에 대한 누적 곱"
   ]
  },
  {
   "cell_type": "code",
   "execution_count": null,
   "id": "a7e45ddf",
   "metadata": {},
   "outputs": [],
   "source": [
    "arr.cumprod(axis=0)   # 누적 곱 과정 배열"
   ]
  },
  {
   "cell_type": "code",
   "execution_count": null,
   "id": "cfccb0c1",
   "metadata": {},
   "outputs": [],
   "source": [
    "arr.cumprod(axis=1)"
   ]
  },
  {
   "cell_type": "markdown",
   "id": "1ded4848",
   "metadata": {},
   "source": [
    "## 통계 메소드\n",
    "- sum\n",
    "- mean\n",
    "- var(분산):sum(( arr - m )^2)/N  => 분산에 루트를 씌어주면 표준 편차가 됨\n",
    "- std:sqrt(var)\n",
    "- min, max\n",
    "- argmin, argmax: 최소/최대값의 인덱스\n",
    "- cumsum: 누적 합 과정에서 산출되는 값의 배열\n",
    "- comproud: 누적 곱 과정에서 산출되는 값의 배열"
   ]
  },
  {
   "cell_type": "code",
   "execution_count": null,
   "id": "4f5d80db",
   "metadata": {},
   "outputs": [],
   "source": [
    "# 문제) var(분산):sum(( arr - m )^2)/N 를 numpy 계산법으로 바꿔보기\n",
    "# 내가 푼 값 [분산을 먼저 구함]\n",
    "arr = np.arange(5)\n",
    "arr_mean = arr.mean()\n",
    "var1 = sum((arr-arr_mean)**2)/len(arr)\n",
    "print(var1)"
   ]
  },
  {
   "cell_type": "code",
   "execution_count": null,
   "id": "0567f28e",
   "metadata": {},
   "outputs": [],
   "source": [
    "# 내가 푼 값\n",
    "# [표준 편차 구함]\n",
    "print(np.sqrt(var1))"
   ]
  },
  {
   "cell_type": "code",
   "execution_count": null,
   "id": "002e0b72",
   "metadata": {},
   "outputs": [],
   "source": [
    "var1, arr.var()"
   ]
  },
  {
   "cell_type": "code",
   "execution_count": null,
   "id": "0a1b9e50",
   "metadata": {},
   "outputs": [],
   "source": [
    "arr.std()"
   ]
  },
  {
   "cell_type": "code",
   "execution_count": null,
   "id": "928d051a",
   "metadata": {},
   "outputs": [],
   "source": [
    "max_idx = arr.argmax()\n",
    "arr[max_idx]  # 4"
   ]
  },
  {
   "cell_type": "code",
   "execution_count": null,
   "id": "00612dbd",
   "metadata": {},
   "outputs": [],
   "source": [
    "min_idx = arr.argmin()\n",
    "arr[min_idx]   # 0"
   ]
  },
  {
   "cell_type": "code",
   "execution_count": null,
   "id": "6f4b712a",
   "metadata": {},
   "outputs": [],
   "source": [
    "arr"
   ]
  },
  {
   "cell_type": "code",
   "execution_count": null,
   "id": "bcd9d888",
   "metadata": {},
   "outputs": [],
   "source": [
    "# 무작위 실수 10개를 추출하여 그 중 최소/최대값의 인덱스를 구해보세요\n",
    "# 내가 푼 것\n",
    "\n",
    "import numpy as np\n",
    "\n",
    "np.random.seed(0)  # 난수 발생 시드 설정\n",
    "\n",
    "nums = np.random.random(10)  \n",
    "\n",
    "max_idx = np.argmax(nums)  # 최댓값의 인덱스 \n",
    "min_idx = np.argmin(nums)  # 최솟값의 인덱스 \n",
    "\n",
    "print(nums)\n",
    "print(max_idx)\n",
    "print(min_idx)"
   ]
  },
  {
   "cell_type": "code",
   "execution_count": null,
   "id": "d153f0bb",
   "metadata": {},
   "outputs": [],
   "source": [
    "# 무작위 실수 10개를 추출하여 그 중 최소/최대값의 인덱스를 구해보세요\n",
    "# 강사님 버전\n",
    "np.random.seed(0)\n",
    "\n",
    "arr = np.random.random(10)\n",
    "print(arr)\n",
    "\n",
    "max_idx = arr.argmax()\n",
    "min_idx = arr.argmin()\n",
    "\n",
    "print(min_idx, max_idx)\n",
    "print(arr[min_idx], arr[max_idx])"
   ]
  },
  {
   "cell_type": "markdown",
   "id": "f01d80c1",
   "metadata": {},
   "source": [
    "### 불리언 배열에서 True의 갯수 계산"
   ]
  },
  {
   "cell_type": "code",
   "execution_count": null,
   "id": "d827963e",
   "metadata": {},
   "outputs": [],
   "source": [
    "arr = np.random.randn(100)"
   ]
  },
  {
   "cell_type": "code",
   "execution_count": null,
   "id": "3795cab4",
   "metadata": {},
   "outputs": [],
   "source": [
    "arr > 0    # True는 1, False는 0의 값을 가지므로 각각을 값으로 가져올 수 있음"
   ]
  },
  {
   "cell_type": "code",
   "execution_count": null,
   "id": "e6ca046f",
   "metadata": {},
   "outputs": [],
   "source": [
    "(arr > 0).sum()   # 0보다 큰 수의 갯수  53"
   ]
  },
  {
   "cell_type": "code",
   "execution_count": null,
   "id": "8bf74b91",
   "metadata": {},
   "outputs": [],
   "source": [
    "(arr > 0).all()  # 모두 0보다 큰 수인가?  "
   ]
  },
  {
   "cell_type": "markdown",
   "id": "8e4aeeea",
   "metadata": {},
   "source": [
    "### 정렬\n",
    "- np.sort(arr): 원본의 순서를 변경하지 않고 정렬된 사본을 리턴함\n",
    "- arr.sort(): 원본의 순서를 변경하고 값을 리턴하지 않음"
   ]
  },
  {
   "cell_type": "code",
   "execution_count": null,
   "id": "9106edf7",
   "metadata": {},
   "outputs": [],
   "source": [
    "arr = np.random.random(10)\n",
    "arr"
   ]
  },
  {
   "cell_type": "code",
   "execution_count": null,
   "id": "a69e9360",
   "metadata": {},
   "outputs": [],
   "source": [
    "arr.sort()  # 값을 리턴하지 않음(내용은 동일)"
   ]
  },
  {
   "cell_type": "code",
   "execution_count": null,
   "id": "b023a4be",
   "metadata": {},
   "outputs": [],
   "source": [
    "arr  # 원본의 순서를 변경함(내용은 동일)"
   ]
  },
  {
   "cell_type": "code",
   "execution_count": null,
   "id": "f479405c",
   "metadata": {},
   "outputs": [],
   "source": [
    "arr = np.random.random(10)\n",
    "arr"
   ]
  },
  {
   "cell_type": "code",
   "execution_count": null,
   "id": "0f153114",
   "metadata": {},
   "outputs": [],
   "source": [
    "np.sort(arr)  # 원본의 순서를 변경하여 정렬한 사본을 만듬"
   ]
  },
  {
   "cell_type": "code",
   "execution_count": null,
   "id": "60a82a79",
   "metadata": {},
   "outputs": [],
   "source": [
    "arr   # 사본이 따로 있기 때문에 원본의 순서는 변경하지 않음"
   ]
  },
  {
   "cell_type": "markdown",
   "id": "3e4babf3",
   "metadata": {},
   "source": [
    "## 다차원 배열의 정렬"
   ]
  },
  {
   "cell_type": "code",
   "execution_count": null,
   "id": "de7c8699",
   "metadata": {
    "scrolled": false
   },
   "outputs": [],
   "source": [
    "arr = np.random.random(16).reshape((4,4))\n",
    "arr"
   ]
  },
  {
   "cell_type": "code",
   "execution_count": null,
   "id": "52466b6a",
   "metadata": {
    "scrolled": true
   },
   "outputs": [],
   "source": [
    "np.sort(arr, axis=0)   # 세로 정렬"
   ]
  },
  {
   "cell_type": "code",
   "execution_count": null,
   "id": "c085094e",
   "metadata": {},
   "outputs": [],
   "source": [
    "arr"
   ]
  },
  {
   "cell_type": "code",
   "execution_count": null,
   "id": "d68a2261",
   "metadata": {},
   "outputs": [],
   "source": [
    "arr.sort(axis=1)  # 가로 정렬\n",
    "print(arr)"
   ]
  },
  {
   "cell_type": "markdown",
   "id": "bc3a3ffe",
   "metadata": {},
   "source": [
    "## 집합함수"
   ]
  },
  {
   "cell_type": "code",
   "execution_count": null,
   "id": "d20cb6b0",
   "metadata": {},
   "outputs": [],
   "source": [
    "names = np.array(['Bob','Joe','Will','Bob', 'Will','Joe','Joe'])"
   ]
  },
  {
   "cell_type": "code",
   "execution_count": null,
   "id": "83fae803",
   "metadata": {},
   "outputs": [],
   "source": [
    "np.unique(names)  # 중복되지 않은 값 1개씩 추출"
   ]
  },
  {
   "cell_type": "code",
   "execution_count": null,
   "id": "c8868770",
   "metadata": {},
   "outputs": [],
   "source": [
    "ints = np.array([3,3,3,2,2,1,1,4,4])"
   ]
  },
  {
   "cell_type": "code",
   "execution_count": null,
   "id": "bf5d692d",
   "metadata": {},
   "outputs": [],
   "source": [
    "np.unique(ints)"
   ]
  },
  {
   "cell_type": "code",
   "execution_count": null,
   "id": "213421a1",
   "metadata": {},
   "outputs": [],
   "source": [
    "# 교집합 : intersect1d(x,y)\n",
    "# 합집합 : union1d(x,y)\n",
    "# in1d(x,y) : y가 x의 멤버인가? \n",
    "# 차집합 : setdiff1d(x,y)\n",
    "# 대칭차집합 : setxor1d(x,y), 한 집합에는 포함되나 두 집합 모두에는 없는 "
   ]
  },
  {
   "cell_type": "code",
   "execution_count": null,
   "id": "04703011",
   "metadata": {},
   "outputs": [],
   "source": [
    "# 위의 집합들을 각각 예제를 만들어 진행해보세요.\n",
    "# 내가 푼 것\n",
    "\n",
    "x =[1,2,3,4,5,6]\n",
    "y = [4,5,6,7,8,9]"
   ]
  },
  {
   "cell_type": "code",
   "execution_count": null,
   "id": "7811c57a",
   "metadata": {},
   "outputs": [],
   "source": [
    "A = np.intersect1d(x,y) # 교집합\n",
    "print(A)"
   ]
  },
  {
   "cell_type": "code",
   "execution_count": null,
   "id": "a19d204d",
   "metadata": {},
   "outputs": [],
   "source": [
    "B = np.union1d(x,y) # 합집합 \n",
    "print(B)"
   ]
  },
  {
   "cell_type": "code",
   "execution_count": null,
   "id": "67f44be2",
   "metadata": {
    "scrolled": true
   },
   "outputs": [],
   "source": [
    "C = np.isin(x,y) \n",
    "print(C)"
   ]
  },
  {
   "cell_type": "code",
   "execution_count": null,
   "id": "9bc4e8b8",
   "metadata": {},
   "outputs": [],
   "source": [
    "D = np.setdiff1d(x,y) # 차집합 \n",
    "print(D)"
   ]
  },
  {
   "cell_type": "code",
   "execution_count": null,
   "id": "d38a8267",
   "metadata": {},
   "outputs": [],
   "source": [
    "np.setdiff1d(np.union1d(x,y), np.intersect1d(x,y))  # 차집합((합집합, 교집합))"
   ]
  },
  {
   "cell_type": "code",
   "execution_count": null,
   "id": "c52e41d8",
   "metadata": {},
   "outputs": [],
   "source": [
    "E = np.setxor1d(x,y)   # 대칭차집합\n",
    "print(E)"
   ]
  },
  {
   "cell_type": "code",
   "execution_count": null,
   "id": "6ea195b7",
   "metadata": {},
   "outputs": [],
   "source": [
    "np.in1d(x,y)   # (x의 집합 원소를 볼 때) y가 x의 멤버인가? np.isin(x,y)가 결과 동일"
   ]
  },
  {
   "cell_type": "code",
   "execution_count": null,
   "id": "62c51aa2",
   "metadata": {},
   "outputs": [],
   "source": [
    "# 위의 집합들을 각각 예제를 만들어 진행해보세요.\n",
    "# 강사님 버전\n",
    "\n",
    "x = np.array([1,2,3,4,5])\n",
    "y = np.array([4,5,6,7,8])"
   ]
  },
  {
   "cell_type": "code",
   "execution_count": null,
   "id": "bf3e40de",
   "metadata": {},
   "outputs": [],
   "source": [
    "np.intersect1d(x, y)"
   ]
  },
  {
   "cell_type": "code",
   "execution_count": null,
   "id": "fd2a73b1",
   "metadata": {},
   "outputs": [],
   "source": [
    "np.union1d(x, y)"
   ]
  },
  {
   "cell_type": "code",
   "execution_count": null,
   "id": "e812ec4d",
   "metadata": {},
   "outputs": [],
   "source": [
    "arr = np.array([1,2,3,4])\n",
    "np.in1d(arr, 3)   # 3은 arr의 멤버인가?"
   ]
  },
  {
   "cell_type": "code",
   "execution_count": null,
   "id": "ebee52ef",
   "metadata": {},
   "outputs": [],
   "source": [
    "np.setdiff1d(x, y)"
   ]
  },
  {
   "cell_type": "code",
   "execution_count": null,
   "id": "86beb479",
   "metadata": {},
   "outputs": [],
   "source": [
    "np.setxor1d(x, y)   # 합집합에서 교집합 성분을 뺀 것"
   ]
  },
  {
   "cell_type": "code",
   "execution_count": null,
   "id": "9b415f1f",
   "metadata": {},
   "outputs": [],
   "source": [
    "np.setdiff1d(np.union1d(x, y), np.intersect1d(x, y))"
   ]
  },
  {
   "cell_type": "markdown",
   "id": "ab1a014e",
   "metadata": {},
   "source": [
    "### 배열의 원소가 0이면 False, 그 외에는 True로 간주함"
   ]
  },
  {
   "cell_type": "code",
   "execution_count": null,
   "id": "3973be3d",
   "metadata": {
    "scrolled": true
   },
   "outputs": [],
   "source": [
    "arr.any()   # 한개라도 0이 아닌 수가 있나?"
   ]
  },
  {
   "cell_type": "code",
   "execution_count": null,
   "id": "0a907d83",
   "metadata": {},
   "outputs": [],
   "source": [
    "arr.all()   # 모두 0이 아닌가?"
   ]
  },
  {
   "cell_type": "code",
   "execution_count": null,
   "id": "cf875a31",
   "metadata": {},
   "outputs": [],
   "source": [
    "(arr>0).any()  # 0보다 큰수가 한개라도 있는가?"
   ]
  },
  {
   "cell_type": "code",
   "execution_count": null,
   "id": "eb53d3f5",
   "metadata": {},
   "outputs": [],
   "source": [
    "(arr>0).all()  # 모두 0보다 큰수인가?"
   ]
  },
  {
   "cell_type": "code",
   "execution_count": null,
   "id": "87278e3f",
   "metadata": {},
   "outputs": [],
   "source": [
    "## Numpy 배열을 바이너리 형식으로 파일에 저장하고 읽어오기\n",
    "- np.save('파일 경로', ndarray): 배열 1개 저장.   np.save는 파일 확장는 .npy로 지정됨\n",
    "- np.savez('파일 경로', a=arr1, b=arr1,...):로드할 때 a,b는 각 배열의 키로 사용됨. np.savez는 파일 확장자는 .npz로 지정\n",
    "- np.savez('파일 경로', arr1, arr2,...):로드할 때 arr_0, arr_1 형식의 키가 사용됨\n",
    "- np.load('파일 경로')"
   ]
  },
  {
   "cell_type": "code",
   "execution_count": null,
   "id": "f2cda160",
   "metadata": {},
   "outputs": [],
   "source": [
    "%%writefile 'data/file_arr1.npy'\n",
    "import numpy as np\n",
    "\n",
    "arr = np.array([1, 2, 3, 4, 5, 6, 7, 8, 9])\n",
    "np.save('data/file_arr1.npy', arr)"
   ]
  },
  {
   "cell_type": "code",
   "execution_count": null,
   "id": "4c13b0d9",
   "metadata": {},
   "outputs": [],
   "source": [
    "import numpy as np\n",
    "arr1 = np.arange(10)"
   ]
  },
  {
   "cell_type": "code",
   "execution_count": null,
   "id": "0ac69bb6",
   "metadata": {},
   "outputs": [],
   "source": [
    "arr2 = np.arange(5)"
   ]
  },
  {
   "cell_type": "code",
   "execution_count": null,
   "id": "5104567e",
   "metadata": {},
   "outputs": [],
   "source": [
    "# 실행 전에 현재 디렉토리에 data 디렉토리 저장\n",
    "np.save('data/file_arr1.npy',arr1) # 한 개의 배열 저장"
   ]
  },
  {
   "cell_type": "code",
   "execution_count": null,
   "id": "d85dbca9",
   "metadata": {},
   "outputs": [],
   "source": [
    "arr1_load = np.load('data/file_arr1.npy')   # 한 개의 배열 로드\n",
    "arr1_load"
   ]
  },
  {
   "cell_type": "code",
   "execution_count": null,
   "id": "f921b54f",
   "metadata": {},
   "outputs": [],
   "source": [
    "%%writefile 'data/array_archive.npz'\n",
    "import numpy as np\n",
    "\n",
    "arr1 = np.array([1, 2, 3, 4, 5, 6, 7, 8, 9])\n",
    "arr2 = np.array([1, 2, 3, 4,])\n",
    "np.save('data/array_archive.npz', arr)"
   ]
  },
  {
   "cell_type": "code",
   "execution_count": null,
   "id": "b7904663",
   "metadata": {},
   "outputs": [],
   "source": [
    "# %%writefile 'data/array_archive.npz' => 이 파일 안 만들면 위 셀 실행시 오류남 "
   ]
  },
  {
   "cell_type": "code",
   "execution_count": null,
   "id": "d37a6587",
   "metadata": {},
   "outputs": [],
   "source": [
    "np.savez('data/array_archive.npz', a=arr1, b=arr2)  # a, b는 로드할 때 키로 사용"
   ]
  },
  {
   "cell_type": "code",
   "execution_count": null,
   "id": "9d29dbd7",
   "metadata": {},
   "outputs": [],
   "source": [
    "arch = np.load('data/array_archive.npz')  # NpzFile 오브젝트 리턴"
   ]
  },
  {
   "cell_type": "code",
   "execution_count": null,
   "id": "ff9cf458",
   "metadata": {},
   "outputs": [],
   "source": [
    "arch['a']"
   ]
  },
  {
   "cell_type": "code",
   "execution_count": null,
   "id": "46745ef3",
   "metadata": {},
   "outputs": [],
   "source": [
    "arch['b']"
   ]
  },
  {
   "cell_type": "code",
   "execution_count": null,
   "id": "e864317a",
   "metadata": {},
   "outputs": [],
   "source": [
    "# 문제) arr1, arr2를 키워드 없이 위치기반 아규먼트로 전달하여 파일에 저장했을 때\n",
    "# 다시 로드하여 2개의 배열을 화면에 표시해보세요."
   ]
  },
  {
   "cell_type": "code",
   "execution_count": null,
   "id": "bedfeff7",
   "metadata": {},
   "outputs": [],
   "source": [
    "%%writefile 'data/array_positional.npz'\n",
    "import numpy as np\n",
    "\n",
    "arr1 = np.array([1, 2, 3, 4, 5, 6, 7, 8, 9])\n",
    "arr2 = np.array([1, 2, 3, 4,])\n",
    "np.save('data/array_positional.npz', arr)"
   ]
  },
  {
   "cell_type": "code",
   "execution_count": null,
   "id": "a181dd84",
   "metadata": {},
   "outputs": [],
   "source": [
    "# %%writefile 'data/array_positional.npz' => 이 파일 안 만들면 위 셀 실행시 오류남 "
   ]
  },
  {
   "cell_type": "code",
   "execution_count": null,
   "id": "65618812",
   "metadata": {},
   "outputs": [],
   "source": [
    "np.savez('data/array_positional.npz', arr1, arr2)   "
   ]
  },
  {
   "cell_type": "code",
   "execution_count": null,
   "id": "fac10705",
   "metadata": {},
   "outputs": [],
   "source": [
    "arch = np.load('data/array_positional.npz')"
   ]
  },
  {
   "cell_type": "code",
   "execution_count": null,
   "id": "b6a152b1",
   "metadata": {},
   "outputs": [],
   "source": [
    "arch['arr_0']"
   ]
  },
  {
   "cell_type": "code",
   "execution_count": null,
   "id": "023f11b9",
   "metadata": {},
   "outputs": [],
   "source": [
    "arch['arr_1']"
   ]
  },
  {
   "cell_type": "markdown",
   "id": "2ea52400",
   "metadata": {},
   "source": [
    "## 텍스트 파일에 numpy 배열 저장하고 읽어오기"
   ]
  },
  {
   "cell_type": "code",
   "execution_count": null,
   "id": "4f73b1ec",
   "metadata": {},
   "outputs": [],
   "source": [
    "arr = np.arange(9).reshape((3,3))\n",
    "# arr.dtype = np.int32\n",
    "arr"
   ]
  },
  {
   "cell_type": "code",
   "execution_count": null,
   "id": "cd71b563",
   "metadata": {
    "scrolled": true
   },
   "outputs": [],
   "source": [
    "import os\n",
    "\n",
    "if os.path.exists(\"data/array_test.txt\"):\n",
    "    os.remove(\"data/array_test.txt\")\n",
    "else:\n",
    "    print(\"The file does not exist\")"
   ]
  },
  {
   "cell_type": "code",
   "execution_count": null,
   "id": "5ff31f8c",
   "metadata": {},
   "outputs": [],
   "source": [
    "# 위에는 파일 존재 여부를 알려줌 꼭 필요한 단계는 아니나 확인시 필요"
   ]
  },
  {
   "cell_type": "code",
   "execution_count": null,
   "id": "dda6a47a",
   "metadata": {},
   "outputs": [],
   "source": [
    "np.savetxt('data/array_test.txt', arr, delimiter=',')"
   ]
  },
  {
   "cell_type": "code",
   "execution_count": null,
   "id": "1d60c565",
   "metadata": {},
   "outputs": [],
   "source": [
    "# 위의 셀을 실행하면 data/array_test.txt' 파일 생성됨\n",
    "#생성된 후 if os.path.exists(\"data/array_test.txt\"):\n",
    "#    os.remove(\"data/array_test.txt\") 실행하면 파일 제거됨"
   ]
  },
  {
   "cell_type": "code",
   "execution_count": null,
   "id": "91073431",
   "metadata": {},
   "outputs": [],
   "source": [
    "arr_1 = np.loadtxt('data/array_test.txt', delimiter=',')\n",
    "arr_1"
   ]
  },
  {
   "cell_type": "code",
   "execution_count": null,
   "id": "474a5da1",
   "metadata": {},
   "outputs": [],
   "source": [
    "arr_1.astype('int')"
   ]
  },
  {
   "cell_type": "code",
   "execution_count": null,
   "id": "8f7a1cae",
   "metadata": {},
   "outputs": [],
   "source": [
    "arr_1 = arr_1.astype(np.int32)\n",
    "arr_1"
   ]
  },
  {
   "cell_type": "code",
   "execution_count": null,
   "id": "f233bf0c",
   "metadata": {},
   "outputs": [],
   "source": [
    "arr_1 = np.loadtxt('data/array_test.txt', delimiter=',', dtype='int')\n",
    "arr_1  #  오류: Parsing an integer via a float is deprecated."
   ]
  },
  {
   "cell_type": "markdown",
   "id": "c2e6d864",
   "metadata": {},
   "source": [
    "## 선형대수"
   ]
  },
  {
   "cell_type": "code",
   "execution_count": null,
   "id": "eea6cc62",
   "metadata": {},
   "outputs": [],
   "source": [
    "x = np.array([[1.,2.,3.],[4.,5.,6]])\n",
    "x"
   ]
  },
  {
   "cell_type": "code",
   "execution_count": null,
   "id": "5397d070",
   "metadata": {},
   "outputs": [],
   "source": [
    "y = np.array([[6., 23.],[-1,7],[8,9]])\n",
    "y"
   ]
  },
  {
   "cell_type": "code",
   "execution_count": null,
   "id": "b14e9507",
   "metadata": {},
   "outputs": [],
   "source": [
    "# np.dot(x,y), 내적\n",
    "x.dot(y)"
   ]
  },
  {
   "cell_type": "code",
   "execution_count": null,
   "id": "575270d0",
   "metadata": {},
   "outputs": [],
   "source": [
    "# 외적 (2차원에서는 내적과 동일)\n",
    "x @ y"
   ]
  },
  {
   "cell_type": "code",
   "execution_count": null,
   "id": "bce670bc",
   "metadata": {},
   "outputs": [],
   "source": [
    "# 행렬 곱셈(동일성분끼리 곱)\n",
    "x*y.T"
   ]
  },
  {
   "cell_type": "code",
   "execution_count": null,
   "id": "d04764e8",
   "metadata": {},
   "outputs": [],
   "source": [
    "from numpy.linalg import inv"
   ]
  },
  {
   "cell_type": "code",
   "execution_count": null,
   "id": "3ccd7314",
   "metadata": {},
   "outputs": [],
   "source": [
    "X = np.random.randn(5,5)\n",
    "X"
   ]
  },
  {
   "cell_type": "code",
   "execution_count": null,
   "id": "339f018f",
   "metadata": {},
   "outputs": [],
   "source": [
    "mat = X.T.dot(X) # [T : 전치행렬]\n",
    "mat"
   ]
  },
  {
   "cell_type": "code",
   "execution_count": null,
   "id": "d3f9a23d",
   "metadata": {},
   "outputs": [],
   "source": [
    "inv(mat) # 역행렬 생성"
   ]
  },
  {
   "cell_type": "code",
   "execution_count": null,
   "id": "8583c45c",
   "metadata": {},
   "outputs": [],
   "source": [
    "# 행렬 * 역행렬 = 단위행렬\n",
    "mat.dot(inv(mat))"
   ]
  },
  {
   "cell_type": "markdown",
   "id": "358c87ce",
   "metadata": {},
   "source": [
    "## numpy.random\n",
    "- seed: seed 설정\n",
    "- permutation: 순서를 임의로 변경\n",
    "- shuffle: 리스트나 배열의 순서를 뒤섞는다\n",
    "- rand: 균등 분포에서 표본 추출\n",
    "- randint: 주어진 범위 내에서 임의의 난수 추출\n",
    "- randn: 표준 정규분포에서 표본 추출\n",
    "- binomial:이항 분포에서 표본 추출\n",
    "- normal: 정규 분포에서 표본 추출\n",
    "- beta: 베타 분포에서 표본 추출\n",
    "- chisquare: 카이제곱분포에서 표본 추출\n",
    "- gamma: 감마 분포에서 표본 추출\n",
    "- uniform: 균등(0,1)분포에서 표본 추출"
   ]
  },
  {
   "cell_type": "code",
   "execution_count": null,
   "id": "306ba35e",
   "metadata": {},
   "outputs": [],
   "source": [
    "import numpy as np"
   ]
  },
  {
   "cell_type": "code",
   "execution_count": null,
   "id": "134914d6",
   "metadata": {},
   "outputs": [],
   "source": [
    "np.random.permutation(10)  # 0~9 사이의 정수를 무작위로 섞는다"
   ]
  },
  {
   "cell_type": "code",
   "execution_count": null,
   "id": "b277785a",
   "metadata": {},
   "outputs": [],
   "source": [
    "np.random.permutation([1,2,3,4,5])  # 배열이나 리스트를 전달한 경우"
   ]
  },
  {
   "cell_type": "code",
   "execution_count": null,
   "id": "861581c4",
   "metadata": {},
   "outputs": [],
   "source": [
    "np.random.seed(0)   # 기초값을 0으로 주기"
   ]
  },
  {
   "cell_type": "code",
   "execution_count": null,
   "id": "6a9171f2",
   "metadata": {},
   "outputs": [],
   "source": [
    "np.random.permutation(10)  #  0~9 사이의 정수를 무작위로 섞는다"
   ]
  },
  {
   "cell_type": "code",
   "execution_count": null,
   "id": "dc2f8a90",
   "metadata": {},
   "outputs": [],
   "source": [
    "np.random.permutation([1,2,3,4,5])   # 배열이나 리스트를 전달한 경우"
   ]
  },
  {
   "cell_type": "code",
   "execution_count": null,
   "id": "3398c46b",
   "metadata": {},
   "outputs": [],
   "source": [
    "arr = np.arange(16).reshape((4,4))  # 다차원 배열\n",
    "arr"
   ]
  },
  {
   "cell_type": "code",
   "execution_count": null,
   "id": "5de699c3",
   "metadata": {},
   "outputs": [],
   "source": [
    "arr1 = np.random.permutation(arr)   # 다차원 배열 행의 순서 바꾸기 permutations은 원본 유지 "
   ]
  },
  {
   "cell_type": "code",
   "execution_count": null,
   "id": "23e9e1bb",
   "metadata": {},
   "outputs": [],
   "source": [
    "arr1    # 사본 생성"
   ]
  },
  {
   "cell_type": "code",
   "execution_count": null,
   "id": "333bb0f7",
   "metadata": {},
   "outputs": [],
   "source": [
    "arr  # 원본 확인"
   ]
  },
  {
   "cell_type": "code",
   "execution_count": null,
   "id": "f458edef",
   "metadata": {},
   "outputs": [],
   "source": [
    "arr2 = np.random.shuffle(arr)   # shuffle은 원본 변경 (값을 리턴아지 않음. 원본이 바뀌므로)\n",
    "arr2"
   ]
  },
  {
   "cell_type": "code",
   "execution_count": null,
   "id": "fad84146",
   "metadata": {},
   "outputs": [],
   "source": [
    "arr  # 원본 확인"
   ]
  },
  {
   "cell_type": "code",
   "execution_count": null,
   "id": "49c27af6",
   "metadata": {},
   "outputs": [],
   "source": [
    "arr = np.arange(16).reshape((4,4))\n",
    "arr"
   ]
  },
  {
   "cell_type": "code",
   "execution_count": null,
   "id": "ee569b56",
   "metadata": {},
   "outputs": [],
   "source": [
    "np.random.permutation(arr)"
   ]
  },
  {
   "cell_type": "code",
   "execution_count": null,
   "id": "d9292a3f",
   "metadata": {},
   "outputs": [],
   "source": [
    "arr  # 원본 확인"
   ]
  },
  {
   "cell_type": "code",
   "execution_count": null,
   "id": "56ad694a",
   "metadata": {},
   "outputs": [],
   "source": [
    "arr = np.random.permutation(arr) # 리턴된 사본의 내용으로 원본 바꾸기(shuffle 없이)"
   ]
  },
  {
   "cell_type": "code",
   "execution_count": null,
   "id": "8b95f939",
   "metadata": {},
   "outputs": [],
   "source": [
    "arr   # 원본 확인"
   ]
  },
  {
   "cell_type": "code",
   "execution_count": null,
   "id": "6f22ed41",
   "metadata": {},
   "outputs": [],
   "source": [
    "# 균등 분포에서 표본 추출(0~1)\n",
    "np.random.rand(100)"
   ]
  },
  {
   "cell_type": "code",
   "execution_count": null,
   "id": "402a7f8d",
   "metadata": {},
   "outputs": [],
   "source": [
    "np.random.rand(3,3)"
   ]
  },
  {
   "cell_type": "code",
   "execution_count": null,
   "id": "151b4128",
   "metadata": {},
   "outputs": [],
   "source": [
    "import matplotlib.pyplot as plt"
   ]
  },
  {
   "cell_type": "code",
   "execution_count": null,
   "id": "b2460612",
   "metadata": {},
   "outputs": [],
   "source": [
    "arr = np.random.rand(100)\n",
    "plt.hist(arr)\n",
    "plt.show()"
   ]
  },
  {
   "cell_type": "code",
   "execution_count": null,
   "id": "e3dbae78",
   "metadata": {},
   "outputs": [],
   "source": [
    "arr = np.random.randn(100)\n",
    "plt.hist(arr)\n",
    "plt.show()"
   ]
  },
  {
   "cell_type": "code",
   "execution_count": null,
   "id": "50e232df",
   "metadata": {},
   "outputs": [],
   "source": [
    "# 1부터 100까지의 숫자 10000를 추출해 히스토그램으로 나타내기\n",
    "arr = np.random.randint(1,101,1000000)\n",
    "plt.hist(arr)\n",
    "plt.show()"
   ]
  },
  {
   "cell_type": "code",
   "execution_count": null,
   "id": "83025220",
   "metadata": {},
   "outputs": [],
   "source": [
    "# 표준 정규분포에서 숫자 백만개를 추출해 히스토그램으로 나타내기\n",
    "arr = np.random.randn(1000000)\n",
    "plt.hist(arr)\n",
    "plt.show()"
   ]
  },
  {
   "cell_type": "code",
   "execution_count": null,
   "id": "a33c4cc3",
   "metadata": {},
   "outputs": [],
   "source": [
    "# 이항분포(이산확률분포)\n",
    "# 주사위를 10번 던져서 나올 값(10번씩 10회를 실행하는 경우)\n",
    "np.random.binomial(10, 1/6, 10)  # 시도횟수:10, 확률:1/6, size:10"
   ]
  },
  {
   "cell_type": "code",
   "execution_count": null,
   "id": "c1dbdaa7",
   "metadata": {},
   "outputs": [],
   "source": [
    "arr = np.random.normal(50, 1, 10000)  # 평균, 표준편차, 갯수  \n",
    "plt.show()\n",
    "plt.hist(arr)\n",
    "# 세로축 3000은 평균 50이 3000개를 의미하고 이러한 빈도수는 그래프 나오기 전까진 축 값을 알 수 없음"
   ]
  },
  {
   "cell_type": "code",
   "execution_count": null,
   "id": "f63e4ccc",
   "metadata": {},
   "outputs": [],
   "source": [
    "# 균등분포, 정해진 구간 내에서 지정된 사이즈만큼 추출한다\n",
    "np.random.uniform(0, 5, 10)  # 실수 추출: .uniform()    # 정수 추출: .randint()"
   ]
  },
  {
   "cell_type": "code",
   "execution_count": null,
   "id": "7b884e60",
   "metadata": {},
   "outputs": [],
   "source": [
    "# numpy를 이용한 CRUD\n",
    "# 추가 : append(), 삭제: delete()\n",
    "# update => arr[r,c]=value  또는 update => 슬라이스 이용 arr[start:stop] = value\n",
    "# 검색: np.in1d(arr, value) \n",
    "# 키보드에서 성적 추가, 목록, 검색, 수정, 삭제, 종료\n",
    "# 과목 평균, 개인 평균, 전체 평균, 최저/최고 점수 검색\n",
    "# 점수 분포 시각화\n",
    "# '성적추가(a)', 목록(a), 검색(f), 수정(u), 삭제(d), 통계(t), 분포(v), 종료(x)"
   ]
  },
  {
   "cell_type": "code",
   "execution_count": null,
   "id": "5c83d175",
   "metadata": {},
   "outputs": [],
   "source": [
    "# 참고\n",
    "#  기본 색상 순환기에 사용되는 색상 목록이 출력됨 \n",
    "import matplotlib.pyplot as plt\n",
    "plt.rcParams['axes.prop_cycle'].by_key()['color']\n",
    "\n",
    "# ['#1f77b4',\n",
    "# '#ff7f0e',\n",
    "# '#2ca02c',\n",
    "# '#d62728',\n",
    "# '#9467bd',\n",
    "# '#8c564b',\n",
    "# '#e377c2',\n",
    "# '#7f7f7f',\n",
    "# '#bcbd22',\n",
    "# '#17becf']"
   ]
  },
  {
   "cell_type": "code",
   "execution_count": null,
   "id": "6a6c7649",
   "metadata": {},
   "outputs": [],
   "source": [
    "# 참고\n",
    "# 맷플롯립의 기본 색상 순환기가 새로 설정된 색상 목록에 따라 변경됨\n",
    "plt.rcParams['axes.prop_cycle'] = plt.cycler(color=['blue', 'red', 'green', 'orange', 'purple', 'brown'])\n",
    "# 이거 출력하고 위의 내용 다시 실행 하면 코드가 ['blue', 'red', 'green', 'orange', 'purple', 'brown']) 이걸로 덮어쓰기 되어 있음"
   ]
  },
  {
   "cell_type": "code",
   "execution_count": null,
   "id": "a3effef4",
   "metadata": {},
   "outputs": [],
   "source": [
    "import os\n",
    "\n",
    "if os.path.exists(\"data/students_record.npy\"):\n",
    "    os.remove(\"data/students_record.npy\")\n",
    "else:\n",
    "    print(\"The file does not exist\")"
   ]
  },
  {
   "cell_type": "code",
   "execution_count": null,
   "id": "98b76327",
   "metadata": {},
   "outputs": [],
   "source": [
    "%%writefile data/students_record.npy\n",
    "students=[]"
   ]
  },
  {
   "cell_type": "code",
   "execution_count": null,
   "id": "a4b6bf91",
   "metadata": {},
   "outputs": [],
   "source": [
    "file_path = 'student_record.npy'"
   ]
  },
  {
   "cell_type": "code",
   "execution_count": null,
   "id": "b3223193",
   "metadata": {
    "scrolled": false
   },
   "outputs": [],
   "source": [
    "# 내가 푼 것 - 버전1\n",
    "\n",
    "# 과목 평균이 세로 축\n",
    "# 개인 평균이 가로 축 (한 사람이 한 행을 이루므로)\n",
    "# 전체 평균(축 없이 전체 데이터)\n",
    "\n",
    "\n",
    "import numpy as np\n",
    "import matplotlib.pyplot as plt\n",
    "from matplotlib import font_manager, rc\n",
    "\n",
    "font_path = \"C:/Windows/Fonts/malgun.ttf\"  # 맑은 고딕 폰트 예시\n",
    "fontprop = font_manager.FontProperties(fname=font_path)\n",
    "rc('font', family=fontprop.get_name())\n",
    "\n",
    "class Student:\n",
    "    def __init__(self, num, name, English, Math, Korean):\n",
    "        self.num = num\n",
    "        self.name = name\n",
    "        self.English = English\n",
    "        self.Math = Math\n",
    "        self.Korean = Korean\n",
    "\n",
    "    def __str__(self):\n",
    "        return f\"{self.num}\\t{self.name}\\t{self.English}\\t{self.Math}\\t{self.Korean}\"\n",
    "\n",
    "students = []\n",
    "\n",
    "file_path = 'student_record.npy'\n",
    "\n",
    "menu = ['추가(a)', '목록(s)', '검색(f)', '수정(u)', '삭제(d)', '통계(t)', '분포(v)', '종료(x)']\n",
    "print(menu)\n",
    "\n",
    "while True:\n",
    "\n",
    "    choice = input(\"메뉴 선택: \")\n",
    "\n",
    "    if choice == 'a':\n",
    "        num = int(input('번호: '))\n",
    "        name = input('이름: ')\n",
    "        English = float(input('영어: '))\n",
    "        Math = float(input('수학: '))\n",
    "        Korean = float(input('국어: '))\n",
    "\n",
    "        student = Student(num, name, English, Math, Korean)\n",
    "        # student = Student(num, name, float(English), float(Math), float(Korean))\n",
    "        students.append(student)\n",
    "        students_array = np.asarray(students)\n",
    "        np.save(file_path, students_array, allow_pickle=True)\n",
    "        print(student)\n",
    "\n",
    "    elif choice == 's':\n",
    "        import os\n",
    "        if os.path.exists(file_path):\n",
    "            loaded_students = np.load(file_path, allow_pickle=True)\n",
    "            print('\\n'.join(str(student) for student in loaded_students))\n",
    "        else:\n",
    "            print(\"아직 저장된 학생정보가 없습니다.\")\n",
    "\n",
    "    elif choice == 'f':\n",
    "        num = input(\"검색할 번호 입력: \")  \n",
    "        loaded_students = np.load(file_path, allow_pickle=True)\n",
    "\n",
    "        def findbynum(students, num): \n",
    "            for student in students:\n",
    "                if student.num == num:\n",
    "                    return student\n",
    "            return None\n",
    "\n",
    "        result = findbynum(loaded_students, num)\n",
    "        if result:\n",
    "            print(\"검색 결과: \", result)\n",
    "        else:\n",
    "            print(f\"{num} 학생 확인 불가.\")\n",
    "\n",
    "    elif choice == 'u':\n",
    "        loaded_students = np.load(file_path, allow_pickle=True)\n",
    "        num = input(\"수정할 번호 입력: \")\n",
    "        newEnglish = input(\"영어 수정할 점수 입력: \")\n",
    "        newMath = input(\"수학 수정할 점수 입력: \")\n",
    "        newKorean = input(\"국어 수정할 점수 입력: \") \n",
    "\n",
    "        found = False\n",
    "\n",
    "        for student in loaded_students:\n",
    "            if student.num == num:\n",
    "                student.English = newEnglish\n",
    "                student.Math = newMath\n",
    "                student.Korean = newKorean\n",
    "                found = True\n",
    "                break\n",
    "        if found:\n",
    "            np.save(file_path, loaded_students)\n",
    "            print(f\"{num} 학생의 정보 수정 완료.\")\n",
    "            print(student)\n",
    "        else:\n",
    "            print(f\"{num} 학생의 정보 수정 실패.\")\n",
    "\n",
    "            # 삭제 방법 1(numpy에서는 delete로 삭제시 인덱스 이용해야 함)\n",
    "    #elif choice == 'd':\n",
    "        #num = input(\"삭제할 번호를 입력: \")\n",
    "        #loaded_students = np.load(file_path, allow_pickle=True)\n",
    "        #found = False\n",
    "\n",
    "        # 삭제할 학생 인덱스 찾기\n",
    "        #delete_index = None\n",
    "        #for i, student in enumerate(loaded_students):\n",
    "            #if student.num == num:\n",
    "                #delete_index = i\n",
    "                #found = True\n",
    "                #break\n",
    "\n",
    "        #if found:\n",
    "            # 해당 학생 정보를 제외한 새로운 배열 생성\n",
    "            #new_loaded_students = np.delete(loaded_students, delete_index)\n",
    "\n",
    "            #np.save(file_path, new_loaded_students)\n",
    "            #print(f\"{num} 학생의 정보 삭제 완료\")\n",
    "        #else:\n",
    "            #print(f\"{num} 학생의 정보 삭제 실패.\")\n",
    "\n",
    "            \n",
    "            # 삭제 방법 2\n",
    "    elif choice == 'd':\n",
    "        num = input(\"삭제할 번호를 입력: \")\n",
    "        loaded_students = np.load(file_path, allow_pickle=True)\n",
    "        found = False\n",
    "\n",
    "        for index, student in enumerate(loaded_students):\n",
    "            if student.num == num:\n",
    "                loaded_students = np.delete(loaded_students, index) # numpy.delete를 사용하여 값을 삭제함\n",
    "                found = True\n",
    "                break\n",
    "\n",
    "        if found:\n",
    "            np.save(file_path, loaded_students)\n",
    "            print(f\"{num} 학생의 정보 삭제 완료\")\n",
    "        else:\n",
    "            print(f\"{num} 학생의 정보 삭제 실패.\")\n",
    "\n",
    "      \n",
    "    elif choice == 't':\n",
    "        if os.path.exists(file_path):\n",
    "            loaded_students = np.load(file_path, allow_pickle=True)\n",
    "            Eng_scores = np.array([student.English for student in loaded_students])\n",
    "            Math_scores = np.array([student.Math for student in loaded_students])\n",
    "            Kor_scores = np.array([student.Korean for student in loaded_students])\n",
    "\n",
    "            def calc_stats(scores):\n",
    "                return scores.min(), scores.mean(), scores.max()\n",
    "\n",
    "            print(\"영어:\", calc_stats(Eng_scores))\n",
    "            print(\"수학:\", calc_stats(Math_scores))\n",
    "            print(\"국어:\", calc_stats(Kor_scores))\n",
    "        else:\n",
    "            print(\"아직 저장된 학생정보가 없습니다.\")    \n",
    "            \n",
    "   # 전체 평균을 주홍색으로 보이게 해줌\n",
    "    elif choice == 'v':\n",
    "            # 학생 정보를 불러옴\n",
    "            loaded_students = np.load(file_path, allow_pickle=True)\n",
    "            if os.path.exists(file_path):\n",
    "                loaded_students = np.load(file_path, allow_pickle=True)\n",
    "\n",
    "                # 학생들의 점수 배열 생성\n",
    "                Eng_scores = np.array([student.English for student in loaded_students])\n",
    "                Math_scores = np.array([student.Math for student in loaded_students])\n",
    "                Kor_scores = np.array([student.Korean for student in loaded_students])\n",
    "\n",
    "            if len(loaded_students) > 0:\n",
    "                # 개인 평균 점수를 저장할 리스트\n",
    "                student_averages = []\n",
    "\n",
    "                # 영어, 수학, 국어 과목별 합계\n",
    "                eng_sum = 0\n",
    "                math_sum = 0\n",
    "                kor_sum = 0\n",
    "\n",
    "                # 개인 평균 점수 계산 및 과목별 합계 계산\n",
    "                for student in loaded_students:\n",
    "                    eng_sum += student.English\n",
    "                    math_sum += student.Math\n",
    "                    kor_sum += student.Korean\n",
    "                    student_averages.append((student.English + student.Math + student.Korean) / 3)\n",
    "\n",
    "                # 종합 평균 점수 계산\n",
    "                all_subject_avg = np.mean(student_averages)\n",
    "\n",
    "\n",
    "                # 각 학생의 개인 평균 계산\n",
    "                student_avg = (Eng_scores + Math_scores + Kor_scores) / 3\n",
    "\n",
    "                # 색을 지정하지 않으면 plt.hist 실행시 자동으로 색상이 결정되는 것\n",
    "                plt.hist(student_avg, bins=10, alpha=0.5, label='학생 개인 평균')\n",
    "                plt.hist(all_subject_avg, bins=10, alpha=0.5, label='전체 평균')   \n",
    "                plt.xlabel(\"개인 평균\")\n",
    "                plt.ylabel(\"전체 평균\")\n",
    "                plt.title(\"개인 평균 대 전체 평균\")\n",
    "                plt.legend()\n",
    "                plt.show()\n",
    "            else:\n",
    "                print(\"아직 저장된 학생정보가 없습니다.\")\n",
    "\n",
    "    elif choice == 'x':\n",
    "        print(\" 프로그램 종료\")\n",
    "        break\n",
    "\n",
    "    else:\n",
    "        print(\"잘못된 메뉴 선택.\")"
   ]
  },
  {
   "cell_type": "code",
   "execution_count": null,
   "id": "f3594364",
   "metadata": {},
   "outputs": [],
   "source": [
    "# 내가 푼 것 - 버전2\n",
    "\n",
    "# 과목 평균이 세로 축\n",
    "# 개인 평균이 가로 축 (한 사람이 한 행을 이루므로)\n",
    "# 전체 평균(축 없이 전체 데이터)\n",
    "\n",
    "import numpy as np\n",
    "import matplotlib.pyplot as plt\n",
    "from matplotlib import font_manager, rc\n",
    "\n",
    "font_path = \"C:/Windows/Fonts/malgun.ttf\"  # 맑은 고딕 폰트 예시\n",
    "fontprop = font_manager.FontProperties(fname=font_path)\n",
    "rc('font', family=fontprop.get_name())\n",
    "\n",
    "class Student:\n",
    "    def __init__(self, num, name, English, Math, Korean):\n",
    "        self.num = num\n",
    "        self.name = name\n",
    "        self.English = English\n",
    "        self.Math = Math\n",
    "        self.Korean = Korean\n",
    "\n",
    "    def __str__(self):\n",
    "        return f\"{self.num}\\t{self.name}\\t{self.English}\\t{self.Math}\\t{self.Korean}\"\n",
    "\n",
    "students = []\n",
    "\n",
    "file_path = 'student_record.npy'\n",
    "\n",
    "menu = ['추가(a)', '목록(s)', '검색(f)', '수정(u)', '삭제(d)', '통계(t)', '분포(v)', '종료(x)']\n",
    "print(menu)\n",
    "\n",
    "while True:\n",
    "\n",
    "    choice = input(\"메뉴 선택: \")\n",
    "\n",
    "    if choice == 'a':\n",
    "        num = int(input('번호: '))\n",
    "        name = input('이름: ')\n",
    "        English = float(input('영어: '))\n",
    "        Math = float(input('수학: '))\n",
    "        Korean = float(input('국어: '))\n",
    "\n",
    "        student = Student(num, name, English, Math, Korean)\n",
    "        students.append(student)\n",
    "        students_array = np.asarray(students)\n",
    "        np.save(file_path, students_array, allow_pickle=True)\n",
    "        print(student)\n",
    "\n",
    "    elif choice == 's':\n",
    "        import os\n",
    "        if os.path.exists(file_path):\n",
    "            loaded_students = np.load(file_path, allow_pickle=True)\n",
    "            print('\\n'.join(str(student) for student in loaded_students))\n",
    "        else:\n",
    "            print(\"아직 저장된 학생정보가 없습니다.\")\n",
    "\n",
    "    elif choice == 'f':\n",
    "        num = input(\"검색할 번호 입력: \")  \n",
    "        loaded_students = np.load(file_path, allow_pickle=True)\n",
    "\n",
    "        def findbynum(students, num): \n",
    "            for student in students:\n",
    "                if student.num == num:\n",
    "                    return student\n",
    "            return None\n",
    "\n",
    "        result = findbynum(loaded_students, num)\n",
    "        if result:\n",
    "            print(\"검색 결과: \", result)\n",
    "        else:\n",
    "            print(f\"{num} 학생 확인 불가.\")\n",
    "\n",
    "    elif choice == 'u':\n",
    "        loaded_students = np.load(file_path, allow_pickle=True)\n",
    "        num = input(\"수정할 번호 입력: \")\n",
    "        newEnglish = input(\"영어 수정할 점수 입력: \")\n",
    "        newMath = input(\"수학 수정할 점수 입력: \")\n",
    "        newKorean = input(\"국어 수정할 점수 입력: \") \n",
    "\n",
    "        found = False\n",
    "\n",
    "        for student in loaded_students:\n",
    "            if student.num == num:\n",
    "                student.English = newEnglish\n",
    "                student.Math = newMath\n",
    "                student.Korean = newKorean\n",
    "                found = True\n",
    "                break\n",
    "        if found:\n",
    "            np.save(file_path, loaded_students)\n",
    "            print(f\"{num} 학생의 정보 수정 완료.\")\n",
    "            print(student)\n",
    "        else:\n",
    "            print(f\"{num} 학생의 정보 수정 실패.\")\n",
    "\n",
    "            # 삭제 방법 1(numpy에서는 delete로 삭제시 인덱스 이용해야 함)\n",
    "    #elif choice == 'd':\n",
    "        #num = input(\"삭제할 번호를 입력: \")\n",
    "        #loaded_students = np.load(file_path, allow_pickle=True)\n",
    "        #found = False\n",
    "\n",
    "        # 삭제할 학생 인덱스 찾기\n",
    "        #delete_index = None\n",
    "        #for i, student in enumerate(loaded_students):\n",
    "            #if student.num == num:\n",
    "                #delete_index = i\n",
    "                #found = True\n",
    "                #break\n",
    "\n",
    "        #if found:\n",
    "            # 해당 학생 정보를 제외한 새로운 배열 생성\n",
    "            #new_loaded_students = np.delete(loaded_students, delete_index)\n",
    "\n",
    "            #np.save(file_path, new_loaded_students)\n",
    "            #print(f\"{num} 학생의 정보 삭제 완료\")\n",
    "        #else:\n",
    "            #print(f\"{num} 학생의 정보 삭제 실패.\")\n",
    "\n",
    "            \n",
    "            # 삭제 방법 2\n",
    "    elif choice == 'd':\n",
    "        num = input(\"삭제할 번호를 입력: \")\n",
    "        loaded_students = np.load(file_path, allow_pickle=True)\n",
    "        found = False\n",
    "\n",
    "        for index, student in enumerate(loaded_students):\n",
    "            if student.num == num:\n",
    "                loaded_students = np.delete(loaded_students, index) # numpy.delete를 사용하여 값을 삭제함\n",
    "                found = True\n",
    "                break\n",
    "\n",
    "        if found:\n",
    "            np.save(file_path, loaded_students)\n",
    "            print(f\"{num} 학생의 정보 삭제 완료\")\n",
    "        else:\n",
    "            print(f\"{num} 학생의 정보 삭제 실패.\")\n",
    "\n",
    "      \n",
    "    elif choice == 't':\n",
    "        if os.path.exists(file_path):\n",
    "            loaded_students = np.load(file_path, allow_pickle=True)\n",
    "            Eng_scores = np.array([student.English for student in loaded_students])\n",
    "            Math_scores = np.array([student.Math for student in loaded_students])\n",
    "            Kor_scores = np.array([student.Korean for student in loaded_students])\n",
    "\n",
    "            def calc_stats(scores):\n",
    "                return scores.min(), scores.mean(), scores.max()\n",
    "\n",
    "            print(\"영어:\", calc_stats(Eng_scores))\n",
    "            print(\"수학:\", calc_stats(Math_scores))\n",
    "            print(\"국어:\", calc_stats(Kor_scores))\n",
    "        else:\n",
    "            print(\"아직 저장된 학생정보가 없습니다.\")    \n",
    "         \n",
    "        # 위 셀을 학생명을 가로축에 보이게 하고 전체 평균은 빨간선으로 보여줌\n",
    "    elif choice == 'v':\n",
    "    \n",
    "        loaded_students = np.load(file_path, allow_pickle=True)\n",
    "\n",
    "        if len(loaded_students) > 0:\n",
    "\n",
    "            # 학생들의 점수 배열 생성\n",
    "            Eng_scores = np.array([student.English for student in loaded_students])\n",
    "            Math_scores = np.array([student.Math for student in loaded_students])\n",
    "            Kor_scores = np.array([student.Korean for student in loaded_students])\n",
    "\n",
    "            # 각 학생의 개인 평균 계산\n",
    "            student_avg = (Eng_scores + Math_scores + Kor_scores) / 3\n",
    "\n",
    "            # 학생 이름 배열 생성\n",
    "            student_names = [student.name for student in loaded_students]\n",
    "\n",
    "            # 막대 그래프 그리기\n",
    "            plt.bar(student_names, student_avg, alpha=0.5, label='학생 개인 평균')\n",
    "\n",
    "            # 전체 평균 계산\n",
    "            all_subject_avg = np.mean(student_avg)\n",
    "\n",
    "            # 전체 평균 가로선 표시\n",
    "            plt.axhline(y=all_subject_avg, color='r', linestyle='--', linewidth=2, label='전체 평균')\n",
    "\n",
    "            plt.xlabel(\"학생 이름\")\n",
    "            plt.ylabel(\"개인 평균\")\n",
    "            plt.title(\"개인 평균 대 전체 평균\")\n",
    "            plt.legend()\n",
    "            plt.show()\n",
    "        else:\n",
    "            print(\"아직 저장된 학생정보가 없습니다.\")\n",
    "\n",
    "    elif choice == 'x':\n",
    "        print(\" 프로그램 종료\")\n",
    "        break\n",
    "\n",
    "    else:\n",
    "        print(\"잘못된 메뉴 선택.\")"
   ]
  },
  {
   "cell_type": "code",
   "execution_count": null,
   "id": "0c7c5beb",
   "metadata": {},
   "outputs": [],
   "source": [
    "# 내가 푼 것 - 버전3\n",
    "\n",
    "# 과목 평균이 세로 축\n",
    "# 개인 평균이 가로 축 (한 사람이 한 행을 이루므로)\n",
    "# 전체 평균(축 없이 전체 데이터)\n",
    "\n",
    "import numpy as np\n",
    "import matplotlib.pyplot as plt\n",
    "from matplotlib import font_manager, rc\n",
    "\n",
    "font_path = \"C:/Windows/Fonts/malgun.ttf\"  # 맑은 고딕 폰트 예시 (제목이 한글이 아니면 이걸 해줘야 함)\n",
    "fontprop = font_manager.FontProperties(fname=font_path)\n",
    "rc('font', family=fontprop.get_name())\n",
    "\n",
    "class Student:\n",
    "    def __init__(self, num, name, English, Math, Korean):\n",
    "        self.num = num\n",
    "        self.name = name\n",
    "        self.English = English\n",
    "        self.Math = Math\n",
    "        self.Korean = Korean\n",
    "\n",
    "    def __str__(self):\n",
    "        return f\"{self.num}\\t{self.name}\\t{self.English}\\t{self.Math}\\t{self.Korean}\"\n",
    "\n",
    "students = []\n",
    "\n",
    "file_path = 'student_record.npy'\n",
    "\n",
    "menu = ['추가(a)', '목록(s)', '검색(f)', '수정(u)', '삭제(d)', '통계(t)', '분포(v)', '종료(x)']\n",
    "print(menu)\n",
    "\n",
    "while True:\n",
    "\n",
    "    choice = input(\"메뉴 선택: \")\n",
    "\n",
    "    if choice == 'a':\n",
    "        num = int(input('번호: '))\n",
    "        name = input('이름: ')\n",
    "        English = float(input('영어: '))\n",
    "        Math = float(input('수학: '))\n",
    "        Korean = float(input('국어: '))\n",
    "\n",
    "        student = Student(num, name, English, Math, Korean)\n",
    "        students.append(student)\n",
    "        students_array = np.asarray(students)\n",
    "        np.save(file_path, students_array, allow_pickle=True)\n",
    "        print(student)\n",
    "\n",
    "    elif choice == 's':\n",
    "        import os\n",
    "        if os.path.exists(file_path):\n",
    "            loaded_students = np.load(file_path, allow_pickle=True)\n",
    "            print('\\n'.join(str(student) for student in loaded_students))\n",
    "        else:\n",
    "            print(\"아직 저장된 학생정보가 없습니다.\")\n",
    "\n",
    "    elif choice == 'f':\n",
    "        num = input(\"검색할 번호 입력: \")  \n",
    "        loaded_students = np.load(file_path, allow_pickle=True)\n",
    "\n",
    "        def findbynum(students, num): \n",
    "            for student in students:\n",
    "                if student.num == num:\n",
    "                    return student\n",
    "            return None\n",
    "\n",
    "        result = findbynum(loaded_students, num)\n",
    "        if result:\n",
    "            print(\"검색 결과: \", result)\n",
    "        else:\n",
    "            print(f\"{num} 학생 확인 불가.\")\n",
    "\n",
    "    elif choice == 'u':\n",
    "        loaded_students = np.load(file_path, allow_pickle=True)\n",
    "        num = input(\"수정할 번호 입력: \")\n",
    "        newEnglish = input(\"영어 수정할 점수 입력: \")\n",
    "        newMath = input(\"수학 수정할 점수 입력: \")\n",
    "        newKorean = input(\"국어 수정할 점수 입력: \") \n",
    "\n",
    "        found = False\n",
    "\n",
    "        for student in loaded_students:\n",
    "            if student.num == num:\n",
    "                student.English = newEnglish\n",
    "                student.Math = newMath\n",
    "                student.Korean = newKorean\n",
    "                found = True\n",
    "                break\n",
    "        if found:\n",
    "            np.save(file_path, loaded_students)\n",
    "            print(f\"{num} 학생의 정보 수정 완료.\")\n",
    "            print(student)\n",
    "        else:\n",
    "            print(f\"{num} 학생의 정보 수정 실패.\")\n",
    "\n",
    "            # 삭제 방법 1(numpy에서는 delete로 삭제시 인덱스 이용해야 함)\n",
    "    #elif choice == 'd':\n",
    "        #num = input(\"삭제할 번호를 입력: \")\n",
    "        #loaded_students = np.load(file_path, allow_pickle=True)\n",
    "        #found = False\n",
    "\n",
    "        # 삭제할 학생 인덱스 찾기\n",
    "        #delete_index = None\n",
    "        #for i, student in enumerate(loaded_students):\n",
    "            #if student.num == num:\n",
    "                #delete_index = i\n",
    "                #found = True\n",
    "                #break\n",
    "\n",
    "        #if found:\n",
    "            # 해당 학생 정보를 제외한 새로운 배열 생성\n",
    "            #new_loaded_students = np.delete(loaded_students, delete_index)\n",
    "\n",
    "            #np.save(file_path, new_loaded_students)\n",
    "            #print(f\"{num} 학생의 정보 삭제 완료\")\n",
    "        #else:\n",
    "            #print(f\"{num} 학생의 정보 삭제 실패.\")\n",
    "\n",
    "            \n",
    "            # 삭제 방법 2\n",
    "    elif choice == 'd':\n",
    "        num = input(\"삭제할 번호를 입력: \")\n",
    "        loaded_students = np.load(file_path, allow_pickle=True)\n",
    "        found = False\n",
    "\n",
    "        for index, student in enumerate(loaded_students):\n",
    "            if student.num == num:\n",
    "                loaded_students = np.delete(loaded_students, index) # numpy.delete를 사용하여 값을 삭제함\n",
    "                found = True\n",
    "                break\n",
    "\n",
    "        if found:\n",
    "            np.save(file_path, loaded_students)\n",
    "            print(f\"{num} 학생의 정보 삭제 완료\")\n",
    "        else:\n",
    "            print(f\"{num} 학생의 정보 삭제 실패.\")\n",
    "\n",
    "      \n",
    "    elif choice == 't':\n",
    "        if os.path.exists(file_path):\n",
    "            loaded_students = np.load(file_path, allow_pickle=True)\n",
    "            Eng_scores = np.array([student.English for student in loaded_students])\n",
    "            Math_scores = np.array([student.Math for student in loaded_students])\n",
    "            Kor_scores = np.array([student.Korean for student in loaded_students])\n",
    "\n",
    "            def calc_stats(scores):\n",
    "                return scores.min(), scores.mean(), scores.max()\n",
    "\n",
    "            print(\"영어:\", calc_stats(Eng_scores))\n",
    "            print(\"수학:\", calc_stats(Math_scores))\n",
    "            print(\"국어:\", calc_stats(Kor_scores))\n",
    "        else:\n",
    "            print(\"아직 저장된 학생정보가 없습니다.\")    \n",
    "            \n",
    "   # 다양한 색상 표현\n",
    "    elif choice == 'v':\n",
    "        if os.path.exists(file_path):\n",
    "            loaded_students = np.load(file_path, allow_pickle=True)\n",
    "\n",
    "            # 학생들의 점수 배열 생성\n",
    "            Eng_scores = np.array([student.English for student in loaded_students])\n",
    "            Math_scores = np.array([student.Math for student in loaded_students])\n",
    "            Kor_scores = np.array([student.Korean for student in loaded_students])\n",
    "\n",
    "            # 각 학생의 개인 평균 계산\n",
    "            student_avg = (Eng_scores + Math_scores + Kor_scores) / 3\n",
    "\n",
    "            # 전체 평균 계산\n",
    "            students_avg = student_avg.mean()\n",
    "\n",
    "            # 과목별 평균 계산\n",
    "            Eng_subject_avg = np.mean(Eng_scores)\n",
    "            Math_subject_avg = np.mean(Math_scores)\n",
    "            Kor_subject_avg = np.mean(Kor_scores)\n",
    "\n",
    "            # 히스토그램 생성\n",
    "            plt.hist(student_avg, bins=10, alpha=0.5, label='학생 개인 평균')\n",
    "            plt.axvline(x=Eng_subject_avg, color='r', label='영어 평균')\n",
    "            plt.axvline(x=Math_subject_avg, color='g', label='수학 평균')\n",
    "            plt.axvline(x=Kor_subject_avg, color='b', label='국어 평균')\n",
    "            plt.axhline(y=students_avg, color='purple', label='전체 평균')\n",
    "\n",
    "            plt.xlabel('개인 평균')\n",
    "            plt.ylabel('빈도')\n",
    "            plt.title('평균 히스토그램')\n",
    "            plt.legend()\n",
    "            plt.show()\n",
    "        else:\n",
    "            print(\"아직 저장된 학생정보가 없습니다.\")\n",
    "    elif choice == 'x':\n",
    "        print(\" 프로그램 종료\")\n",
    "        break\n",
    "\n",
    "    else:\n",
    "        print(\"잘못된 메뉴 선택.\")"
   ]
  },
  {
   "cell_type": "code",
   "execution_count": null,
   "id": "7110687e",
   "metadata": {
    "scrolled": true
   },
   "outputs": [],
   "source": [
    "# 내가 푼 것 - 버전4\n",
    "\n",
    "# 과목 평균이 세로 축\n",
    "# 개인 평균이 가로 축 (한 사람이 한 행을 이루므로)\n",
    "# 전체 평균(축 없이 전체 데이터)\n",
    "\n",
    "import numpy as np\n",
    "import matplotlib.pyplot as plt\n",
    "from matplotlib import font_manager, rc\n",
    "\n",
    "font_path = \"C:/Windows/Fonts/malgun.ttf\"  # 맑은 고딕 폰트 예시\n",
    "fontprop = font_manager.FontProperties(fname=font_path)\n",
    "rc('font', family=fontprop.get_name())\n",
    "\n",
    "class Student:\n",
    "    def __init__(self, num, name, English, Math, Korean):\n",
    "        self.num = num\n",
    "        self.name = name\n",
    "        self.English = English\n",
    "        self.Math = Math\n",
    "        self.Korean = Korean\n",
    "\n",
    "    def __str__(self):\n",
    "        return f\"{self.num}\\t{self.name}\\t{self.English}\\t{self.Math}\\t{self.Korean}\"\n",
    "\n",
    "students = []\n",
    "\n",
    "file_path = 'student_record.npy'\n",
    "\n",
    "menu = ['추가(a)', '목록(s)', '검색(f)', '수정(u)', '삭제(d)', '통계(t)', '분포(v)', '종료(x)']\n",
    "print(menu)\n",
    "\n",
    "while True:\n",
    "\n",
    "    choice = input(\"메뉴 선택: \")\n",
    "\n",
    "    if choice == 'a':\n",
    "        num = int(input('번호: '))\n",
    "        name = input('이름: ')\n",
    "        English = float(input('영어: '))\n",
    "        Math = float(input('수학: '))\n",
    "        Korean = float(input('국어: '))\n",
    "\n",
    "        student = Student(num, name, English, Math, Korean)\n",
    "        students.append(student)\n",
    "        students_array = np.asarray(students)\n",
    "        np.save(file_path, students_array, allow_pickle=True)\n",
    "        print(student)\n",
    "\n",
    "    elif choice == 's':\n",
    "        import os\n",
    "        if os.path.exists(file_path):\n",
    "            loaded_students = np.load(file_path, allow_pickle=True)\n",
    "            print('\\n'.join(str(student) for student in loaded_students))\n",
    "        else:\n",
    "            print(\"아직 저장된 학생정보가 없습니다.\")\n",
    "\n",
    "    elif choice == 'f':\n",
    "        num = input(\"검색할 번호 입력: \")  \n",
    "        loaded_students = np.load(file_path, allow_pickle=True)\n",
    "\n",
    "        def findbynum(students, num): \n",
    "            for student in students:\n",
    "                if student.num == num:\n",
    "                    return student\n",
    "            return None\n",
    "\n",
    "        result = findbynum(loaded_students, num)\n",
    "        if result:\n",
    "            print(\"검색 결과: \", result)\n",
    "        else:\n",
    "            print(f\"{num} 학생 확인 불가.\")\n",
    "\n",
    "    elif choice == 'u':\n",
    "        loaded_students = np.load(file_path, allow_pickle=True)\n",
    "        num = input(\"수정할 번호 입력: \")\n",
    "        newEnglish = input(\"영어 수정할 점수 입력: \")\n",
    "        newMath = input(\"수학 수정할 점수 입력: \")\n",
    "        newKorean = input(\"국어 수정할 점수 입력: \") \n",
    "\n",
    "        found = False\n",
    "\n",
    "        for student in loaded_students:\n",
    "            if student.num == num:\n",
    "                student.English = newEnglish\n",
    "                student.Math = newMath\n",
    "                student.Korean = newKorean\n",
    "                found = True\n",
    "                break\n",
    "        if found:\n",
    "            np.save(file_path, loaded_students)\n",
    "            print(f\"{num} 학생의 정보 수정 완료.\")\n",
    "            print(student)\n",
    "        else:\n",
    "            print(f\"{num} 학생의 정보 수정 실패.\")\n",
    "\n",
    "            # 삭제 방법 1(numpy에서는 delete로 삭제시 인덱스 이용해야 함)\n",
    "    #elif choice == 'd':\n",
    "        #num = input(\"삭제할 번호를 입력: \")\n",
    "        #loaded_students = np.load(file_path, allow_pickle=True)\n",
    "        #found = False\n",
    "\n",
    "        # 삭제할 학생 인덱스 찾기\n",
    "        #delete_index = None\n",
    "        #for i, student in enumerate(loaded_students):\n",
    "            #if student.num == num:\n",
    "                #delete_index = i\n",
    "                #found = True\n",
    "                #break\n",
    "\n",
    "        #if found:\n",
    "            # 해당 학생 정보를 제외한 새로운 배열 생성\n",
    "            #new_loaded_students = np.delete(loaded_students, delete_index)\n",
    "\n",
    "            #np.save(file_path, new_loaded_students)\n",
    "            #print(f\"{num} 학생의 정보 삭제 완료\")\n",
    "        #else:\n",
    "            #print(f\"{num} 학생의 정보 삭제 실패.\")\n",
    "\n",
    "            \n",
    "            # 삭제 방법 2\n",
    "    elif choice == 'd':\n",
    "        num = input(\"삭제할 번호를 입력: \")\n",
    "        loaded_students = np.load(file_path, allow_pickle=True)\n",
    "        found = False\n",
    "\n",
    "        for index, student in enumerate(loaded_students):\n",
    "            if student.num == num:\n",
    "                loaded_students = np.delete(loaded_students, index) # numpy.delete를 사용하여 값을 삭제함\n",
    "                found = True\n",
    "                break\n",
    "\n",
    "        if found:\n",
    "            np.save(file_path, loaded_students)\n",
    "            print(f\"{num} 학생의 정보 삭제 완료\")\n",
    "        else:\n",
    "            print(f\"{num} 학생의 정보 삭제 실패.\")\n",
    "\n",
    "      \n",
    "    elif choice == 't':\n",
    "        if os.path.exists(file_path):\n",
    "            loaded_students = np.load(file_path, allow_pickle=True)\n",
    "            Eng_scores = np.array([student.English for student in loaded_students])\n",
    "            Math_scores = np.array([student.Math for student in loaded_students])\n",
    "            Kor_scores = np.array([student.Korean for student in loaded_students])\n",
    "\n",
    "            def calc_stats(scores):\n",
    "                return scores.min(), scores.mean(), scores.max()\n",
    "\n",
    "            print(\"영어:\", calc_stats(Eng_scores))\n",
    "            print(\"수학:\", calc_stats(Math_scores))\n",
    "            print(\"국어:\", calc_stats(Kor_scores))\n",
    "        else:\n",
    "            print(\"아직 저장된 학생정보가 없습니다.\")    \n",
    "            \n",
    "       # 막대 바에 학생명이 보이게 해줌     \n",
    "    elif choice == 'v':\n",
    "        loaded_students = np.load(file_path, allow_pickle=True)\n",
    "\n",
    "        if len(loaded_students) > 0:\n",
    "\n",
    "            # 학생들의 점수 배열 생성\n",
    "            Eng_scores = np.array([student.English for student in loaded_students])\n",
    "            Math_scores = np.array([student.Math for student in loaded_students])\n",
    "            Kor_scores = np.array([student.Korean for student in loaded_students])\n",
    "\n",
    "            # 각 학생의 개인 평균 계산\n",
    "            student_avg = (Eng_scores + Math_scores + Kor_scores) / 3\n",
    "\n",
    "            # 학생 이름 배열 생성\n",
    "            student_names = [student.name for student in loaded_students]\n",
    "\n",
    "            # 막대 그래프 그리기\n",
    "            bars = plt.bar(student_names, student_avg, alpha=0.5, label='학생 개인 평균')\n",
    "\n",
    "            # 전체 평균 계산\n",
    "            all_subject_avg = np.mean(student_avg)\n",
    "\n",
    "            # 전체 평균 가로선 표시\n",
    "            plt.axhline(y=all_subject_avg, color='r', linestyle='--', linewidth=2, label='전체 평균')\n",
    "\n",
    "            plt.xlabel(\"학생 이름\")\n",
    "            plt.ylabel(\"개인 평균\")\n",
    "            plt.title(\"개인 평균 대 전체 평균\")\n",
    "            plt.legend()\n",
    "\n",
    "            # 학생 이름을 막대 바 위에 표시(plt.text가 진행함)\n",
    "            for i, bar in enumerate(bars):\n",
    "                plt.text(bar.get_x() + bar.get_width() / 2, bar.get_height() + 0.1, student_names[i],\n",
    "                         ha='center', va='bottom', fontproperties=fontprop)\n",
    "\n",
    "            plt.show()\n",
    "        else:\n",
    "            print(\"아직 저장된 학생정보가 없습니다.\")\n",
    "\n",
    "\n",
    "    elif choice == 'x':\n",
    "        print(\" 프로그램 종료\")\n",
    "        break\n",
    "\n",
    "    else:\n",
    "        print(\"잘못된 메뉴 선택.\")"
   ]
  },
  {
   "cell_type": "code",
   "execution_count": null,
   "id": "3d248ea5",
   "metadata": {},
   "outputs": [],
   "source": [
    "# 강사님 버전\n",
    "\n",
    "# np.append(), np.delete()\n",
    "# arr[r,c] = value, arr[start:stop] = value\n",
    "# np.in1d(arr, value)\n",
    "# 성적관리 프로그램()\n",
    "# 키보드에서 성적 추가, 목록, 검색, 수정, 삭제, 종료\n",
    "# 과목평균, 개인평균, 전체평균, 최저/최고 점수 검색\n",
    "# 점수분포 시각화\n",
    "# 메뉴구성 : '성적추가(a), 목록(s), 검색(f), 수정(u), 삭제(d), 통계(t), 분포(v), 종료(x):'"
   ]
  },
  {
   "cell_type": "code",
   "execution_count": null,
   "id": "c380a882",
   "metadata": {},
   "outputs": [],
   "source": [
    "import numpy as np"
   ]
  },
  {
   "cell_type": "code",
   "execution_count": null,
   "id": "fef00127",
   "metadata": {},
   "outputs": [],
   "source": [
    "# arr_grades = np.empty(shape=(1,4), dtype='int')  # 비어 있는 2차원 배열 생성\n",
    "# 1\t1684124909\t1122742234\t2068758904\t-1622427974 출력돼 아래 내용으로 바꿈\n",
    "\n",
    "arr_grades = np.array([]).reshape(0, 4)   # 비어 있는 2차원 배열 생성 "
   ]
  },
  {
   "cell_type": "code",
   "execution_count": null,
   "id": "8cc6199b",
   "metadata": {},
   "outputs": [],
   "source": [
    "subject = ['java','spring','js','sql']   # 과목명"
   ]
  },
  {
   "cell_type": "code",
   "execution_count": null,
   "id": "02ca1bc8",
   "metadata": {},
   "outputs": [],
   "source": [
    "def add():\n",
    "    global arr_grades\n",
    "    grades = input('java spring js sql:')\n",
    "    tmp = grades.split(' ')\n",
    "    if len(tmp) != 4:\n",
    "        print(\"4개의 점수를 입력해야 합니다.\")   # 추가\n",
    "        return\n",
    "    row = np.array(tmp).astype('float')  # 'int'에서 'float'으로 수정함\n",
    "    row = row.reshape((-1, 4))         # 2차원 배열에 추가할 때는 2차원 데이터이어야 한다\n",
    "    arr_grades = np.append(arr_grades, row, axis=0)\n",
    "    print('성적추가 성공')"
   ]
  },
  {
   "cell_type": "code",
   "execution_count": null,
   "id": "a86ac9e4",
   "metadata": {},
   "outputs": [],
   "source": [
    "def grade_list():\n",
    "    print()\n",
    "    print('점수 목록 (과목별, 개인별)')\n",
    "    print('{}\\t{}\\t{}\\t{}\\t{}'.format('No','java','spring','js','sql'))\n",
    "    print('-----------------------------------')\n",
    "    for i,arr in enumerate(arr_grades, start=1):\n",
    "        java,spring,js,sql = arr.tolist()\n",
    "        print('{}\\t{}\\t{}\\t{}\\t{}'.format(i,java,spring,js,sql))"
   ]
  },
  {
   "cell_type": "code",
   "execution_count": null,
   "id": "c93e3463",
   "metadata": {},
   "outputs": [],
   "source": [
    "def find():\n",
    "    st_num = int(input('학생번호:'))\n",
    "    arr = arr_grades[st_num-1]\n",
    "    java,spring,js,sql = arr.tolist()\n",
    "    print('{}\\t{}\\t{}\\t{}\\t{}'.format('No','java','spring','js','sql'))\n",
    "    print('-----------------------------------')\n",
    "    print('{}\\t{}\\t{}\\t{}\\t{}'.format(st_num, java,spring,js,sql))"
   ]
  },
  {
   "cell_type": "code",
   "execution_count": null,
   "id": "3e34c045",
   "metadata": {},
   "outputs": [],
   "source": [
    "def update():\n",
    "    stno = int(input('수정 대상 번호:'))\n",
    "    arr = arr_grades[stno-1]\n",
    "    if not arr.any():\n",
    "        print('그런 번호는 없습니다')\n",
    "    else:\n",
    "        grades = input('java spring js sql:')\n",
    "        tmp = grades.split(' ')\n",
    "        row = np.array(tmp).astype('float')   # 타입을 'int'에서 'float'으로 수정함\n",
    "        arr_grades[stno - 1] = row\n",
    "        print('수정 성공')"
   ]
  },
  {
   "cell_type": "code",
   "execution_count": null,
   "id": "5766d5dd",
   "metadata": {},
   "outputs": [],
   "source": [
    "def delete():\n",
    "    global arr_grades\n",
    "    stno = int(input('삭제 대상 번호:'))\n",
    "    if stno <= 0 or stno > arr_grades.shape[0]:  #  없는 번호 입력시 에러 처리 추가, 아래와 동일 표현\n",
    "        # 배열의 형태(shape)는 (행의 개수, 열의 개수)로 표현되며, [0]은 첫 번째 차원, 즉 행의 개수를 나타냄\n",
    "    #if stno > len(arr_grades) or stno <= 0:  # 입력된 학생 번호가 범위를 벗어났는지 확인\n",
    "        print('그런 번호는 없습니다')\n",
    "    else:\n",
    "        arr = arr_grades[stno-1]\n",
    "        if not arr.any():\n",
    "            print('그런 번호는 없습니다')\n",
    "        else:\n",
    "            arr_grades = np.delete(arr_grades, [stno-1], axis=0)\n",
    "            print('삭제 성공')"
   ]
  },
  {
   "cell_type": "code",
   "execution_count": null,
   "id": "5b670f52",
   "metadata": {},
   "outputs": [],
   "source": [
    "def mean_subject():\n",
    "    arr_mean = arr_grades.mean(axis=0)\n",
    "    print('과목별 평균')\n",
    "    print('{}\\t{}\\t{}\\t{}'.format('java','spring','js','sql'))\n",
    "    print('----------------------------')\n",
    "    java,spring,js,sql = arr_mean.tolist()\n",
    "    #print('{}\\t{}\\t{}\\t{}'.format(java,spring,js,sql))\n",
    "    print('{:.1f}\\t{:.1f}\\t{:.1f}\\t{:.1f}'.format(java,spring,js,sql))    # 소숫점 첫째자리까지 나타내고자 수정"
   ]
  },
  {
   "cell_type": "code",
   "execution_count": null,
   "id": "a93f9572",
   "metadata": {},
   "outputs": [],
   "source": [
    "def mean_indi():\n",
    "    arr_mean = arr_grades.mean(axis=1)\n",
    "    #print(arr_mean)\n",
    "    print('개인별 평균')\n",
    "    print('------------')\n",
    "    for i,m in enumerate(arr_mean, start=1):\n",
    "        #print('{}.\\t{}'.format(i, m))\n",
    "        print('{}.\\t{:.1f}'.format(i, round(m, 1)))   # 소숫점 첫째자리까지 나타내고자 수정"
   ]
  },
  {
   "cell_type": "code",
   "execution_count": null,
   "id": "62a69b64",
   "metadata": {},
   "outputs": [],
   "source": [
    "def mean_global():\n",
    "    #print('전체평균= {}'.format(np.ravel(arr_grades).mean()))\n",
    "    print('전체평균= {:.1f}'.format(round(np.ravel(arr_grades).mean(), 1)))    # 소숫점 첫째자리까지 나타내고자 수정\n",
    "# 계산 용이함을 위해 평균을 구할 때는 전체 데이터를 하나의 배열로 만들어서 계산. 다차원을 1차원으로 ravel()을 써서 만듬"
   ]
  },
  {
   "cell_type": "code",
   "execution_count": null,
   "id": "ffb947a0",
   "metadata": {},
   "outputs": [],
   "source": [
    "def min_max():\n",
    "    idx_min = np.argmin(arr_grades, axis=0)\n",
    "    idx_max = np.argmax(arr_grades, axis=0)\n",
    "    print()\n",
    "    print('과목별 최저/최고 점수')\n",
    "    print('  \\t{}\\t{}\\t{}\\t{}'.format('java','spring','js','sql'))\n",
    "    print('최저\\t{}\\t{}\\t{}\\t{}'.format(arr_grades[idx_min[0],0], arr_grades[idx_min[1],1],arr_grades[idx_min[2],2],arr_grades[idx_min[3],3]))\n",
    "    print('최고\\t{}\\t{}\\t{}\\t{}'.format(arr_grades[idx_max[0],0], arr_grades[idx_max[1],1],arr_grades[idx_max[2],2],arr_grades[idx_max[3],3]))"
   ]
  },
  {
   "cell_type": "code",
   "execution_count": null,
   "id": "65a1d022",
   "metadata": {},
   "outputs": [],
   "source": [
    "def statistics():\n",
    "    stat_menu = input('과목평균(s), 개인평균(p), 전체평균(g), 최고/최저(m):')\n",
    "    if stat_menu=='s':\n",
    "        mean_subject()\n",
    "    elif stat_menu=='p':\n",
    "        mean_indi()\n",
    "    elif stat_menu=='g':\n",
    "        mean_global()\n",
    "    elif stat_menu=='m':\n",
    "        min_max()\n",
    "    else:\n",
    "        print('메뉴입력 오류')"
   ]
  },
  {
   "cell_type": "code",
   "execution_count": null,
   "id": "862d4df7",
   "metadata": {},
   "outputs": [],
   "source": [
    "def histogram():\n",
    "    import matplotlib.pyplot as plt\n",
    "    \n",
    "    subject_id = int(input('과목번호(1~4):'))\n",
    "    arr_subject = arr_grades[:, subject_id-1]\n",
    "    plt.title('['+subject[subject_id-1] + '] Subject Histogram')\n",
    "    plt.hist(arr_subject)\n",
    "    plt.show()"
   ]
  },
  {
   "cell_type": "code",
   "execution_count": null,
   "id": "fede8539",
   "metadata": {
    "scrolled": false
   },
   "outputs": [],
   "source": [
    "while True:\n",
    "    menu = input('성적추가(a), 목록(s), 검색(f), 수정(u), 삭제(d), 통계(t), 분포(v), 종료(x):')\n",
    "    if menu=='a':\n",
    "        add()\n",
    "    elif menu=='s':\n",
    "        grade_list()\n",
    "    elif menu=='f':\n",
    "        find()\n",
    "    elif menu=='u':\n",
    "        update()\n",
    "    elif menu=='d':\n",
    "        delete()\n",
    "    elif menu=='t':\n",
    "        statistics()\n",
    "    elif menu=='v':\n",
    "        histogram()\n",
    "    elif menu=='x':\n",
    "        break\n",
    "    else:\n",
    "        print('메뉴입력 오류')\n",
    "\n",
    "print('프로그램 종료')"
   ]
  },
  {
   "cell_type": "code",
   "execution_count": 1,
   "id": "dac3da06",
   "metadata": {},
   "outputs": [
    {
     "name": "stdout",
     "output_type": "stream",
     "text": [
      "성적추가(a), 목록(s), 검색(f), 수정(u), 삭제(d), 통계(t), 분포(v), 종료(x):ㄴ\n",
      "메뉴입력 오류\n",
      "성적추가(a), 목록(s), 검색(f), 수정(u), 삭제(d), 통계(t), 분포(v), 종료(x):s\n",
      "\n",
      "점수 목록 (과목별, 개인별)\n",
      "No\tjava\tspring\tjs\tsql\n",
      "-----------------------------------\n",
      "성적추가(a), 목록(s), 검색(f), 수정(u), 삭제(d), 통계(t), 분포(v), 종료(x):a\n",
      "java spring js sql:82.5 45 62 100\n",
      "성적추가 성공\n",
      "성적추가(a), 목록(s), 검색(f), 수정(u), 삭제(d), 통계(t), 분포(v), 종료(x):s\n",
      "\n",
      "점수 목록 (과목별, 개인별)\n",
      "No\tjava\tspring\tjs\tsql\n",
      "-----------------------------------\n",
      "1\t82.5\t45.0\t62.0\t100.0\n",
      "성적추가(a), 목록(s), 검색(f), 수정(u), 삭제(d), 통계(t), 분포(v), 종료(x):d\n",
      "삭제 대상 번호:0\n",
      "그런 번호는 없습니다\n",
      "성적추가(a), 목록(s), 검색(f), 수정(u), 삭제(d), 통계(t), 분포(v), 종료(x):d\n",
      "삭제 대상 번호:5\n",
      "그런 번호는 없습니다\n",
      "성적추가(a), 목록(s), 검색(f), 수정(u), 삭제(d), 통계(t), 분포(v), 종료(x):x\n",
      "프로그램 종료\n"
     ]
    }
   ],
   "source": [
    "# 강사님 버전 한 셀로_  \n",
    "# 오류 수정\n",
    "# np.empty인 경우 이상한 값 나옴 수정 / 입력은 소수로 안 되나 결과는 소수로 나와서 입력 소수 받기 가능으로 수정\n",
    "# add인 경우 점수 일부만 받았을 경우 예외 처리 집어넣음\n",
    "# 평균을 소숫점 첫째자리까지 나타내고자 수정\n",
    "# 없는 번호 삭제 요청시 예외 처리 추가\n",
    "\n",
    "import numpy as np\n",
    "\n",
    "# arr_grades = np.empty(shape=(1,4), dtype='int')  # 비어 있는 2차원 배열 생성 \n",
    "\n",
    "# 1\t1684124909\t1122742234\t2068758904\t-1622427974 출력돼 아래 내용으로 바꿈\n",
    "\n",
    "arr_grades = np.array([]).reshape(0, 4)   # 비어 있는 2차원 배열 생성 \n",
    "\n",
    "subject = ['java','spring','js','sql']   # 과목명\n",
    "\n",
    "\n",
    "def add():\n",
    "    global arr_grades\n",
    "    grades = input('java spring js sql:')\n",
    "    tmp = grades.split(' ')\n",
    "    if len(tmp) != 4:\n",
    "        print(\"4개의 점수를 입력해야 합니다.\")   # 추가\n",
    "        return\n",
    "    row = np.array(tmp).astype('float')   # 'int'에서 'float'으로 수정함\n",
    "    row = row.reshape((-1, 4))         # 2차원 배열에 추가할 때는 2차원 데이터이어야 한다\n",
    "    arr_grades = np.append(arr_grades, row, axis=0)\n",
    "    print('성적추가 성공')\n",
    "\n",
    "\n",
    "def grade_list():\n",
    "    print()\n",
    "    print('점수 목록 (과목별, 개인별)')\n",
    "    print('{}\\t{}\\t{}\\t{}\\t{}'.format('No','java','spring','js','sql'))\n",
    "    print('-----------------------------------')\n",
    "    for i,arr in enumerate(arr_grades, start=1):\n",
    "        java,spring,js,sql = arr.tolist()\n",
    "        print('{}\\t{}\\t{}\\t{}\\t{}'.format(i,java,spring,js,sql))\n",
    "\n",
    "\n",
    "def find():\n",
    "    st_num = int(input('학생번호:'))\n",
    "    arr = arr_grades[st_num-1]\n",
    "    java,spring,js,sql = arr.tolist()\n",
    "    print('{}\\t{}\\t{}\\t{}\\t{}'.format('No','java','spring','js','sql'))\n",
    "    print('-----------------------------------')\n",
    "    print('{}\\t{}\\t{}\\t{}\\t{}'.format(st_num, java,spring,js,sql))\n",
    "\n",
    "\n",
    "def update():\n",
    "    stno = int(input('수정 대상 번호:'))\n",
    "    arr = arr_grades[stno-1]\n",
    "    if not arr.any():\n",
    "        print('그런 번호는 없습니다')\n",
    "    else:\n",
    "        grades = input('java spring js sql:')\n",
    "        tmp = grades.split(' ')\n",
    "        row = np.array(tmp).astype('float')   # 타입을 'int'에서 'float'으로 수정함\n",
    "        arr_grades[stno - 1] = row\n",
    "        print('수정 성공')\n",
    "\n",
    "def delete():\n",
    "    global arr_grades\n",
    "    stno = int(input('삭제 대상 번호:'))\n",
    "    if stno <= 0 or stno > arr_grades.shape[0]:  #  없는 번호 입력시 에러 처리 추가, 아래와 동일 표현\n",
    "        # 배열의 형태(shape)는 (행의 개수, 열의 개수)로 표현되며, [0]은 첫 번째 차원, 즉 행의 개수를 나타냄\n",
    "    #if stno > len(arr_grades) or stno <= 0:  # 입력된 학생 번호가 범위를 벗어났는지 확인\n",
    "        print('그런 번호는 없습니다')\n",
    "    else:\n",
    "        arr = arr_grades[stno-1]\n",
    "        if not arr.any():\n",
    "            print('그런 번호는 없습니다')\n",
    "        else:\n",
    "            arr_grades = np.delete(arr_grades, [stno-1], axis=0)\n",
    "            print('삭제 성공')\n",
    "\n",
    "def mean_subject():\n",
    "    arr_mean = arr_grades.mean(axis=0)\n",
    "    print('과목별 평균')\n",
    "    print('{}\\t{}\\t{}\\t{}'.format('java','spring','js','sql'))\n",
    "    print('----------------------------')\n",
    "    java,spring,js,sql = arr_mean.tolist()\n",
    "    #print('{}\\t{}\\t{}\\t{}'.format(java,spring,js,sql))\n",
    "    print('{:.1f}\\t{:.1f}\\t{:.1f}\\t{:.1f}'.format(java,spring,js,sql))    # 소숫점 첫째자리까지 나타내고자 수정\n",
    "\n",
    "def mean_indi():\n",
    "    arr_mean = arr_grades.mean(axis=1)\n",
    "    #print(arr_mean)\n",
    "    print('개인별 평균')\n",
    "    print('------------')\n",
    "    for i,m in enumerate(arr_mean, start=1):\n",
    "        #print('{}.\\t{}'.format(i, m))\n",
    "        print('{}.\\t{:.1f}'.format(i, round(m, 1)))   # 소숫점 첫째자리까지 나타내고자 수정\n",
    "\n",
    "def mean_global():\n",
    "    #print('전체평균= {}'.format(np.ravel(arr_grades).mean()))\n",
    "    print('전체평균= {:.1f}'.format(round(np.ravel(arr_grades).mean(), 1)))    # 소숫점 첫째자리까지 나타내고자 수정\n",
    "# 계산 용이함을 위해 평균을 구할 때는 전체 데이터를 하나의 배열로 만들어서 계산. 다차원을 1차원으로 ravel()을 써서 만듬\n",
    "\n",
    "def min_max():\n",
    "    idx_min = np.argmin(arr_grades, axis=0)\n",
    "    idx_max = np.argmax(arr_grades, axis=0)\n",
    "    print()\n",
    "    print('과목별 최저/최고 점수')\n",
    "    print('  \\t{}\\t{}\\t{}\\t{}'.format('java','spring','js','sql'))\n",
    "    print('최저\\t{}\\t{}\\t{}\\t{}'.format(arr_grades[idx_min[0],0], arr_grades[idx_min[1],1],arr_grades[idx_min[2],2],arr_grades[idx_min[3],3]))\n",
    "    print('최고\\t{}\\t{}\\t{}\\t{}'.format(arr_grades[idx_max[0],0], arr_grades[idx_max[1],1],arr_grades[idx_max[2],2],arr_grades[idx_max[3],3]))\n",
    "\n",
    "\n",
    "def statistics():\n",
    "    stat_menu = input('과목평균(s), 개인평균(p), 전체평균(g), 최고/최저(m):')\n",
    "    if stat_menu=='s':\n",
    "        mean_subject()\n",
    "    elif stat_menu=='p':\n",
    "        mean_indi()\n",
    "    elif stat_menu=='g':\n",
    "        mean_global()\n",
    "    elif stat_menu=='m':\n",
    "        min_max()\n",
    "    else:\n",
    "        print('메뉴입력 오류')\n",
    "\n",
    "\n",
    "def histogram():\n",
    "    import matplotlib.pyplot as plt\n",
    "    \n",
    "    subject_id = int(input('과목번호(1~4):'))\n",
    "    arr_subject = arr_grades[:, subject_id-1]\n",
    "    plt.title('['+subject[subject_id-1] + '] Subject Histogram')\n",
    "    plt.hist(arr_subject)\n",
    "    plt.show()\n",
    "\n",
    "\n",
    "while True:\n",
    "    menu = input('성적추가(a), 목록(s), 검색(f), 수정(u), 삭제(d), 통계(t), 분포(v), 종료(x):')\n",
    "    if menu=='a':\n",
    "        add()\n",
    "    elif menu=='s':\n",
    "        grade_list()\n",
    "    elif menu=='f':\n",
    "        find()\n",
    "    elif menu=='u':\n",
    "        update()\n",
    "    elif menu=='d':\n",
    "        delete()\n",
    "    elif menu=='t':\n",
    "        statistics()\n",
    "    elif menu=='v':\n",
    "        histogram()\n",
    "    elif menu=='x':\n",
    "        break\n",
    "    else:\n",
    "        print('메뉴입력 오류')\n",
    "\n",
    "print('프로그램 종료')\n"
   ]
  },
  {
   "cell_type": "code",
   "execution_count": null,
   "id": "022b1865",
   "metadata": {},
   "outputs": [],
   "source": [
    "# 강사님 버전 한 셀로_ [원래 강사님 원본 코드 그대로 / 값이 비어있을 때 이상한 숫자 나옴]\n",
    "\n",
    "import numpy as np\n",
    "\n",
    "#arr_grades = np.empty(shape=(1,4), dtype='int') \n",
    "#한 개의 garbage 값이 입력되므로 아래처럼 변경함 \n",
    "arr_grades = np.array([]).reshape((-1,4)).astype('int') # 비어 있는 2차원 배열 생성 \n",
    "\n",
    "subject = ['java','spring','js','sql']   # 과목명\n",
    "\n",
    "\n",
    "def add():\n",
    "    global arr_grades\n",
    "    grades = input('java spring js sql:')\n",
    "    tmp = grades.split(' ')\n",
    "    row = np.array(tmp).astype('int')\n",
    "    row = row.reshape((-1, 4))         # 2차원 배열에 추가할 때는 2차원 데이터이어야 한다\n",
    "    arr_grades = np.append(arr_grades, row, axis=0)\n",
    "    print('성적추가 성공')\n",
    "\n",
    "\n",
    "def grade_list():\n",
    "    print()\n",
    "    print('점수 목록 (과목별, 개인별)')\n",
    "    print('{}\\t{}\\t{}\\t{}\\t{}'.format('No','java','spring','js','sql'))\n",
    "    print('-----------------------------------')\n",
    "    for i,arr in enumerate(arr_grades, start=1):\n",
    "        java,spring,js,sql = arr.tolist()\n",
    "        print('{}\\t{}\\t{}\\t{}\\t{}'.format(i,java,spring,js,sql))\n",
    "\n",
    "\n",
    "def find():\n",
    "    st_num = int(input('학생번호:'))\n",
    "    arr = arr_grades[st_num-1]\n",
    "    java,spring,js,sql = arr.tolist()\n",
    "    print('{}\\t{}\\t{}\\t{}\\t{}'.format('No','java','spring','js','sql'))\n",
    "    print('-----------------------------------')\n",
    "    print('{}\\t{}\\t{}\\t{}\\t{}'.format(st_num, java,spring,js,sql))\n",
    "\n",
    "\n",
    "def update():\n",
    "    stno = int(input('수정대상 번호:'))\n",
    "    arr = arr_grades[stno-1]\n",
    "    if not arr.any():\n",
    "        print('그런 번호는 없습니다')\n",
    "    else:\n",
    "        grades = input('java spring js sql:')\n",
    "        tmp = grades.split(' ')\n",
    "        row = np.array(tmp).astype('int')\n",
    "        arr_grades[stno - 1] = row\n",
    "        print('수정 성공')\n",
    "\n",
    "def delete():\n",
    "    global arr_grades\n",
    "    stno = int(input('삭제 대상 번호:'))\n",
    "    arr = arr_grades[stno-1]\n",
    "    if not arr.any():\n",
    "        print('그런 번호는 없습니다')\n",
    "    else:\n",
    "        arr_grades = np.delete(arr_grades, [stno-1], axis=0)\n",
    "        print('삭제 성공')\n",
    "\n",
    "def mean_subject():\n",
    "    arr_mean = arr_grades.mean(axis=0)\n",
    "    print('과목별 평균')\n",
    "    print('{}\\t{}\\t{}\\t{}'.format('java','spring','js','sql'))\n",
    "    print('----------------------------')\n",
    "    java,spring,js,sql = arr_mean.tolist()\n",
    "    print('{}\\t{}\\t{}\\t{}'.format(java,spring,js,sql))\n",
    "\n",
    "def mean_indi():\n",
    "    arr_mean = arr_grades.mean(axis=1)\n",
    "    #print(arr_mean)\n",
    "    print('개인별 평균')\n",
    "    print('------------')\n",
    "    for i,m in enumerate(arr_mean, start=1):\n",
    "        print('{}.\\t{}'.format(i, m))\n",
    "\n",
    "def mean_global():\n",
    "    print('전체평균= {}'.format(np.ravel(arr_grades).mean()))\n",
    "\n",
    "def min_max():\n",
    "    idx_min = np.argmin(arr_grades, axis=0)\n",
    "    idx_max = np.argmax(arr_grades, axis=0)\n",
    "    print()\n",
    "    print('과목별 최저/최고 점수')\n",
    "    print('  \\t{}\\t{}\\t{}\\t{}'.format('java','spring','js','sql'))\n",
    "    print('최저\\t{}\\t{}\\t{}\\t{}'.format(arr_grades[idx_min[0],0], arr_grades[idx_min[1],1],arr_grades[idx_min[2],2],arr_grades[idx_min[3],3]))\n",
    "    print('최고\\t{}\\t{}\\t{}\\t{}'.format(arr_grades[idx_max[0],0], arr_grades[idx_max[1],1],arr_grades[idx_max[2],2],arr_grades[idx_max[3],3]))\n",
    "\n",
    "\n",
    "def statistics():\n",
    "    stat_menu = input('과목평균(s), 개인평균(p), 전체평균(g), 최고/최저(m):')\n",
    "    if stat_menu=='s':\n",
    "        mean_subject()\n",
    "    elif stat_menu=='p':\n",
    "        mean_indi()\n",
    "    elif stat_menu=='g':\n",
    "        mean_global()\n",
    "    elif stat_menu=='m':\n",
    "        min_max()\n",
    "    else:\n",
    "        print('메뉴입력 오류')\n",
    "\n",
    "\n",
    "def histogram():\n",
    "    import matplotlib.pyplot as plt\n",
    "    \n",
    "    subject_id = int(input('과목번호(1~4):'))\n",
    "    arr_subject = arr_grades[:, subject_id-1]\n",
    "    plt.title('['+subject[subject_id-1] + '] Subject Histogram')\n",
    "    plt.hist(arr_subject)\n",
    "    plt.show()\n",
    "\n",
    "\n",
    "while True:\n",
    "    menu = input('성적추가(a), 목록(s), 검색(f), 수정(u), 삭제(d), 통계(t), 분포(v), 종료(x):')\n",
    "    if menu=='a':\n",
    "        add()\n",
    "    elif menu=='s':\n",
    "        grade_list()\n",
    "    elif menu=='f':\n",
    "        find()\n",
    "    elif menu=='u':\n",
    "        update()\n",
    "    elif menu=='d':\n",
    "        delete()\n",
    "    elif menu=='t':\n",
    "        statistics()\n",
    "    elif menu=='v':\n",
    "        histogram()\n",
    "    elif menu=='x':\n",
    "        break\n",
    "    else:\n",
    "        print('메뉴입력 오류')\n",
    "\n",
    "print('프로그램 종료')\n"
   ]
  },
  {
   "cell_type": "code",
   "execution_count": 1,
   "id": "eef8cfd0",
   "metadata": {},
   "outputs": [
    {
     "name": "stdout",
     "output_type": "stream",
     "text": [
      "배열의 모양: (0, 4)\n",
      "배열의 차원 수: 2\n",
      "배열의 내용:\n",
      " []\n"
     ]
    }
   ],
   "source": [
    "import numpy as np\n",
    "\n",
    "array = np.array([]).reshape(0,4)\n",
    "print(\"배열의 모양:\", array.shape)\n",
    "print(\"배열의 차원 수:\", array.ndim)\n",
    "print(\"배열의 내용:\\n\", array)"
   ]
  },
  {
   "cell_type": "code",
   "execution_count": null,
   "id": "99b22753",
   "metadata": {},
   "outputs": [],
   "source": []
  }
 ],
 "metadata": {
  "kernelspec": {
   "display_name": "Python 3 (ipykernel)",
   "language": "python",
   "name": "python3"
  },
  "language_info": {
   "codemirror_mode": {
    "name": "ipython",
    "version": 3
   },
   "file_extension": ".py",
   "mimetype": "text/x-python",
   "name": "python",
   "nbconvert_exporter": "python",
   "pygments_lexer": "ipython3",
   "version": "3.11.3"
  }
 },
 "nbformat": 4,
 "nbformat_minor": 5
}
