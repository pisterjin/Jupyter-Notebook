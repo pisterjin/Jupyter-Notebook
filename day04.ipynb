{
 "cells": [
  {
   "cell_type": "markdown",
   "id": "015d90ca",
   "metadata": {},
   "source": [
    "## 자료형\n",
    "- int       : 100\n",
    "- float     : 3.14\n",
    "- bool      : True, False\n",
    "- str       : Smith \n",
    "- NoneType  : None"
   ]
  },
  {
   "cell_type": "code",
   "execution_count": null,
   "id": "a519a1b7",
   "metadata": {},
   "outputs": [],
   "source": [
    "a = 100\n",
    "type(a)  # int"
   ]
  },
  {
   "cell_type": "code",
   "execution_count": null,
   "id": "6d95b0ac",
   "metadata": {},
   "outputs": [],
   "source": [
    "pi = 3.14\n",
    "type(pi)  # float"
   ]
  },
  {
   "cell_type": "code",
   "execution_count": null,
   "id": "92b75897",
   "metadata": {},
   "outputs": [],
   "source": [
    "go = True\n",
    "type(go)  # bool"
   ]
  },
  {
   "cell_type": "code",
   "execution_count": null,
   "id": "b5d8f1ad",
   "metadata": {},
   "outputs": [],
   "source": [
    "name = 'Smith'\n",
    "type(name)  # str"
   ]
  },
  {
   "cell_type": "code",
   "execution_count": null,
   "id": "bb2c7099",
   "metadata": {},
   "outputs": [],
   "source": [
    "name = None\n",
    "type(name)  # NoneType"
   ]
  },
  {
   "cell_type": "markdown",
   "id": "fb98f015",
   "metadata": {},
   "source": [
    "## 참조비교, 내용비교\n",
    "- is : 참조비교\n",
    "- == : 내용비교"
   ]
  },
  {
   "cell_type": "code",
   "execution_count": null,
   "id": "59a02eb6",
   "metadata": {},
   "outputs": [],
   "source": [
    "list1 = [1,2,3,4,5]\n",
    "list2 =  [1,2,3,4,5]"
   ]
  },
  {
   "cell_type": "code",
   "execution_count": null,
   "id": "665f8729",
   "metadata": {},
   "outputs": [],
   "source": [
    "id(list1)   # 2840096967808\n",
    "id(list2)   # 2840096964864"
   ]
  },
  {
   "cell_type": "code",
   "execution_count": null,
   "id": "97de2f7c",
   "metadata": {},
   "outputs": [],
   "source": [
    "list1 is list2   # False (참조비교)\n",
    "list1 == list2   # True (내용비교)"
   ]
  },
  {
   "cell_type": "markdown",
   "id": "52c6f5cb",
   "metadata": {},
   "source": [
    "## 3항 연산자\n",
    "- Ternary Operator\n",
    "- [on_true] if [expression] else [on_false]  \n",
    "=> []만 개발 코드 (Application Code 또는 Custom Code),\n",
    "if와 else는 시스템 코드 (System Code 또는 Framework/Library Code)"
   ]
  },
  {
   "cell_type": "code",
   "execution_count": null,
   "id": "b6a7fcef",
   "metadata": {
    "scrolled": true
   },
   "outputs": [],
   "source": [
    "age = 23\n",
    "'y' if age>20 else 'n'  # 'y'"
   ]
  },
  {
   "cell_type": "markdown",
   "id": "508c9009",
   "metadata": {},
   "source": [
    "### lamda expression\n",
    "- 익명함수\n",
    "- 문법 \n",
    "add = lambda a,b : a+b\n",
    "add(3,5)\n",
    "- add와 같은 이름은 호출 필요시에만 줄 수도 있음(좌측의 참조주소를 받음)"
   ]
  },
  {
   "cell_type": "code",
   "execution_count": null,
   "id": "676d213e",
   "metadata": {},
   "outputs": [],
   "source": [
    "add = lambda a,b : a+b   # 이해를 돕기 위해 이름을 만든 것\n",
    "add(3,5)   # 8    "
   ]
  },
  {
   "cell_type": "code",
   "execution_count": null,
   "id": "7d87c9d4",
   "metadata": {},
   "outputs": [],
   "source": [
    "def proxy_func(fun, a,b):   #  proxy_func 는 임의로 지은 이름. 보통 람다는 이렇게 사용됨 \n",
    "    return fun(a,b)     "
   ]
  },
  {
   "cell_type": "code",
   "execution_count": null,
   "id": "304959e4",
   "metadata": {},
   "outputs": [],
   "source": [
    " proxy_func(add, 4,6)   # 10   # 보통 람다는 이렇게 사용됨"
   ]
  },
  {
   "cell_type": "code",
   "execution_count": null,
   "id": "ed68ad8d",
   "metadata": {},
   "outputs": [],
   "source": [
    "# 문제) 익명함수를 프락시함수에 전달하여 a^b 계산(거듭제곱 계산)이 될 수 있는 익명함수 선언 및 사용하기"
   ]
  },
  {
   "cell_type": "code",
   "execution_count": null,
   "id": "2c6b59e2",
   "metadata": {},
   "outputs": [],
   "source": [
    "def proxy2(f, a,b):  \n",
    "    return f(a,b)     "
   ]
  },
  {
   "cell_type": "code",
   "execution_count": null,
   "id": "2ef409b1",
   "metadata": {},
   "outputs": [],
   "source": [
    " proxy2(lambda a,b:a ** b, 2,3)   # 8"
   ]
  },
  {
   "cell_type": "code",
   "execution_count": null,
   "id": "0391fcd7",
   "metadata": {},
   "outputs": [],
   "source": [
    "# 풀이\n",
    "# => proxy2(f, a,b):  임의로 이름지은 메소드  proxy2()에 파라미터 3개를 주고\n",
    "# f라는 곳에 lambda a,b:a ** b 이 값을 주어\n",
    "\n",
    "# return f(a,b) \n",
    "# f를 메소드로 만들어 lambda a,b:a ** b가 f라는 메소드가 되게하고 \n",
    "# proxy2(lambda a,b:a ** b, 2,3)\n",
    "# f를 이용한 a,b의 값을 리턴하게 해줌   => 값이 8"
   ]
  },
  {
   "cell_type": "code",
   "execution_count": null,
   "id": "f1e87bdd",
   "metadata": {},
   "outputs": [],
   "source": [
    "import random\n",
    "random.randint(0,5)"
   ]
  },
  {
   "cell_type": "code",
   "execution_count": null,
   "id": "a1eb9e38",
   "metadata": {},
   "outputs": [],
   "source": [
    "# 문제) 0~10 사이의 무작위 5개를 추출하여 리스트 리턴"
   ]
  },
  {
   "cell_type": "code",
   "execution_count": null,
   "id": "2de7a4fc",
   "metadata": {},
   "outputs": [],
   "source": [
    "# 방법1  (셋은 중복 허용)\n",
    "n = set()\n",
    "while len(n) <5:\n",
    "    i= random.randint(0,10)  #randint는 뒷자리수를 포함\n",
    "    n.add(i)\n",
    "print(n)"
   ]
  },
  {
   "cell_type": "code",
   "execution_count": null,
   "id": "e1c23f64",
   "metadata": {},
   "outputs": [],
   "source": [
    "# 방법2 (리스트는 중복 허용)\n",
    "n = []\n",
    "while len(n) < 6:\n",
    "    i = random.randint(0, 10)\n",
    "    n.append(i)\n",
    "print(n)"
   ]
  },
  {
   "cell_type": "code",
   "execution_count": null,
   "id": "a0785f2c",
   "metadata": {},
   "outputs": [],
   "source": [
    "# 방법3   =>  seed()를 쓰면 횟수에 따라 값이 일정\n",
    "random.seed(0)\n",
    "nums = []\n",
    "for _ in range(0,5):   # 5번만 추첨하므로 for 루프 사용\n",
    "    nums.append(random.randint(0,10))\n",
    "nums"
   ]
  },
  {
   "cell_type": "code",
   "execution_count": null,
   "id": "ef657d61",
   "metadata": {},
   "outputs": [],
   "source": [
    "col = set()  # 몇 번의 추첨이 필요한지 정확히 알 수 없기 때문에 while 루프를 사용. (중복을 허용하므로)\n",
    "# while 루프는 조건식을 만족하는 동안 반복, 이 경우에는 set의 크기가 10이 될 때까지 무작위 숫자를 추가\n",
    "# 추첨 횟수를 정확히 알고 있느냐, 모르느냐에 따라서 for 또는 while 중 결정\n",
    "while len(col) < 10:  # set의 크기가 10이 될 때까지 반복(0부터 인덱스가 시작하니 9까지만 받아야 10개)\n",
    "    i = random.randint(0, 20)  # 0부터 10까지의 숫자 중 랜덤으로 하나를 선택\n",
    "    col.add(i)  # 선택한 숫자를 set에 추가\n",
    "print(col)"
   ]
  },
  {
   "cell_type": "code",
   "execution_count": null,
   "id": "a60cc733",
   "metadata": {},
   "outputs": [],
   "source": [
    "random.seed(0)  # seed()를 따로 빼서 써도 위의 값과 동일"
   ]
  },
  {
   "cell_type": "code",
   "execution_count": null,
   "id": "515bf069",
   "metadata": {},
   "outputs": [],
   "source": [
    "nums = []\n",
    "for _ in range(0,5):   # 중복 허용하지 않는다는 말도 없고 5번만 돌리니까 while 아닌 for루프 사용.... 변수명 안 쓸 때 언더바 사용\n",
    "    nums.append(random.randint(0,10))\n",
    "nums"
   ]
  },
  {
   "cell_type": "markdown",
   "id": "87f4dd36",
   "metadata": {},
   "source": [
    "### List Comprehension\n",
    "- [v for v in iterable]"
   ]
  },
  {
   "cell_type": "code",
   "execution_count": null,
   "id": "8b3ae0aa",
   "metadata": {
    "scrolled": false
   },
   "outputs": [],
   "source": [
    "msg = \"Hello World\"\n",
    "msg[6]    # 'W'\n",
    "msg[6] = 'w'\n",
    "msg"
   ]
  },
  {
   "cell_type": "code",
   "execution_count": null,
   "id": "55a61e18",
   "metadata": {},
   "outputs": [],
   "source": [
    "list1 = list(msg)\n",
    "list1[6] = 'w'\n",
    "# list1\n",
    "msg = ''.join(list1)   # 리스트 원소들을 공백 없이 붙여서 문자열 생성\n",
    "msg"
   ]
  },
  {
   "cell_type": "markdown",
   "id": "507bb755",
   "metadata": {},
   "source": [
    "### Magic Commands\n",
    "- %writefile test.py : 셀에 입력된 코드를 *.py(모듈)에 저장\n",
    "- %run test.py       : *.py 파일을 쥬피터 노트북 셀에서 실행\n",
    "- %time [함수호출]   : 함수를 호출하여 실행 경과 시간을 측정\n",
    "- %%time             : 아래에 나오는 모든 코드의 실행 시간 측정"
   ]
  },
  {
   "cell_type": "code",
   "execution_count": null,
   "id": "c6c2fae8",
   "metadata": {
    "scrolled": true
   },
   "outputs": [],
   "source": [
    "%time print('Hello World')"
   ]
  },
  {
   "cell_type": "code",
   "execution_count": null,
   "id": "ffcb712f",
   "metadata": {
    "scrolled": true
   },
   "outputs": [],
   "source": [
    "%%time \n",
    "total = 0\n",
    "for i in range(10000001):\n",
    "    total += i"
   ]
  },
  {
   "cell_type": "code",
   "execution_count": null,
   "id": "c0673254",
   "metadata": {},
   "outputs": [],
   "source": [
    "%%writefile mymodule.py\n",
    "a = 5 \n",
    "b = 7\n",
    "c = a+b\n",
    "print(f'{a} + {b} = {c}')"
   ]
  },
  {
   "cell_type": "code",
   "execution_count": null,
   "id": "76917fa1",
   "metadata": {},
   "outputs": [],
   "source": [
    "%run mymodule.py"
   ]
  },
  {
   "cell_type": "code",
   "execution_count": null,
   "id": "8ad13ce2",
   "metadata": {},
   "outputs": [],
   "source": [
    "%%writefile mystat.py\n",
    "def avg(score):\n",
    "    total = 0\n",
    "    for s in score:\n",
    "        total += s\n",
    "    return total / len(score)\n",
    "\n",
    "def sum(score):\n",
    "    total = 0\n",
    "    for s in score:\n",
    "        total += s\n",
    "    return total"
   ]
  },
  {
   "cell_type": "code",
   "execution_count": null,
   "id": "e13c98d7",
   "metadata": {},
   "outputs": [],
   "source": [
    "# import 방법1\n",
    "import mystat as ms\n",
    "ms.sum([1,2,3,4,5])"
   ]
  },
  {
   "cell_type": "code",
   "execution_count": null,
   "id": "a7a84d90",
   "metadata": {
    "scrolled": true
   },
   "outputs": [],
   "source": [
    "# import 방법2\n",
    "import mystat as ms\n",
    "print('총점:%s점'%(ms.sum([1,2,3,4,5])))\n",
    "print('평균:{}'.format(ms.avg([1,2,3,4,5])))"
   ]
  },
  {
   "cell_type": "code",
   "execution_count": null,
   "id": "cded3457",
   "metadata": {},
   "outputs": [],
   "source": []
  },
  {
   "cell_type": "markdown",
   "id": "9eed4630",
   "metadata": {},
   "source": [
    "[ v for v in range(5)]"
   ]
  },
  {
   "cell_type": "code",
   "execution_count": null,
   "id": "10997853",
   "metadata": {},
   "outputs": [],
   "source": [
    "list1 = list('Hello World')\n",
    "list1"
   ]
  },
  {
   "cell_type": "code",
   "execution_count": null,
   "id": "41d00ef9",
   "metadata": {},
   "outputs": [],
   "source": [
    "# for루프에서 산출된 값 필터링\n",
    "[v for v in range(5) if v%2==0]"
   ]
  },
  {
   "cell_type": "code",
   "execution_count": null,
   "id": "c9d1e663",
   "metadata": {},
   "outputs": [],
   "source": [
    "# 리스트 아닌 딕셔너리 기호'{}'로 표현 방법 => set임\n",
    "{v for v in range(5) if v%2==0}"
   ]
  },
  {
   "cell_type": "code",
   "execution_count": null,
   "id": "1ee2e33d",
   "metadata": {},
   "outputs": [],
   "source": [
    "# set 리턴\n",
    "{v for v in range(5)}"
   ]
  },
  {
   "cell_type": "code",
   "execution_count": null,
   "id": "3e8c1989",
   "metadata": {},
   "outputs": [],
   "source": [
    "# 딕셔너리 만들기\n",
    "{str(v):v for v in range(5)}"
   ]
  },
  {
   "cell_type": "markdown",
   "id": "9636a0ee",
   "metadata": {},
   "source": [
    "### enumerator\n",
    "- iterable 값에 첨자(index)를 추가하여 객체로 변환해준다\n",
    "- index는 start 파라미터로 시작 값을 지정할 수 있다"
   ]
  },
  {
   "cell_type": "code",
   "execution_count": null,
   "id": "b7350d06",
   "metadata": {
    "scrolled": true
   },
   "outputs": [],
   "source": [
    "# enumerator\n",
    "for v in enumerate(range(5)):   # v가 튜플로 반환됨\n",
    "    print(v)"
   ]
  },
  {
   "cell_type": "code",
   "execution_count": null,
   "id": "2e9b457d",
   "metadata": {},
   "outputs": [],
   "source": [
    "# enumerator\n",
    "for v in enumerate(range(5)):   # v가 튜플로 반환됨\n",
    "    print(v[1])"
   ]
  },
  {
   "cell_type": "code",
   "execution_count": null,
   "id": "35ce1a5a",
   "metadata": {},
   "outputs": [],
   "source": [
    "# enumerator\n",
    "for (i,v) in enumerate(range(5)):   # 위와 동일값 출력됨\n",
    "    print(v)"
   ]
  },
  {
   "cell_type": "code",
   "execution_count": null,
   "id": "561b6054",
   "metadata": {},
   "outputs": [],
   "source": [
    "# enumerator\n",
    "for (i,v) in enumerate(range(5), start=5):   # index 지정 방법\n",
    "    print(i, '-', v)"
   ]
  },
  {
   "cell_type": "markdown",
   "id": "24d62264",
   "metadata": {},
   "source": [
    "## 직렬화(Serialization)\n",
    "- import pickle\n",
    "- 직렬화 : pickle.dump(data, fout)\n",
    "- 역직렬화 : pickle.load(fin)"
   ]
  },
  {
   "cell_type": "code",
   "execution_count": null,
   "id": "3444c25f",
   "metadata": {},
   "outputs": [],
   "source": [
    "# list에 3개의 사원정보를 dict 형식으로 저장하고\n",
    "# 파일에 직렬화한 후에\n",
    "# 다시 역직렬화하여 그 목록을 화면에 표시해보세요"
   ]
  },
  {
   "cell_type": "code",
   "execution_count": null,
   "id": "8e1756de",
   "metadata": {},
   "outputs": [],
   "source": [
    "# 내가 푼 것\n",
    "\n",
    "import pickle\n",
    "\n",
    "emp1 = {'num': 11, 'name': 'smith', 'deptno': 20, 'sal': 3300, 'hiredate':'2023-01-01'}\n",
    "emp2 = {'num': 12, 'name': 'scott', 'deptno': 30, 'sal': 3300, 'hiredate':'2022-10-18'}\n",
    "emp3 = {'num': 13, 'name': 'blake', 'deptno': 20, 'sal': 3000, 'hiredate':'2021-11-21'}\n",
    "\n",
    "list1 = [emp1, emp2, emp3]\n",
    "\n",
    "with open('D:/test/python_emp.ser', 'wb') as fout:\n",
    "    pickle.dump(list1, fout)\n",
    "\n",
    "\n",
    "with open('D:/test/python_emp.ser', 'rb') as fin:\n",
    "    loaded_list = pickle.load(fin)\n",
    "\n",
    "print(loaded_list)  "
   ]
  },
  {
   "cell_type": "code",
   "execution_count": null,
   "id": "9076d791",
   "metadata": {},
   "outputs": [],
   "source": [
    "emp1 = {'num': 11, 'name': 'smith', 'deptno': 20, 'sal': 3300, 'hiredate': '2023-01-01'}\n",
    "emp2 = {'num': 12, 'name': 'scott', 'deptno': 30, 'sal': 3300, 'hiredate': '2022-10-18'}\n",
    "emp3 = {'num': 13, 'name': 'blake', 'deptno': 20, 'sal': 3000, 'hiredate': '2021-11-21'}\n",
    "\n",
    "list1 = [emp1, emp2, emp3]\n",
    "\n",
    "# 리스트의 각 딕셔너리를 '\\n'으로 구분하여 하나의 문자열로 만듬\n",
    "data_str = '\\n'.join(str(emp) for emp in list1)\n",
    "\n",
    "with open('D:/test/python_emp.txt', 'w') as fout:\n",
    "    fout.write(data_str)\n",
    "\n",
    "# 파일을 열어서 각 라인을 읽어 출력\n",
    "with open('D:/test/python_emp.txt', 'r') as fin:\n",
    "    for line in fin:\n",
    "        print(line.strip())"
   ]
  },
  {
   "cell_type": "code",
   "execution_count": null,
   "id": "cf0ed7c9",
   "metadata": {
    "scrolled": true
   },
   "outputs": [],
   "source": [
    "# 강사님 버전\n",
    "# 메모리에 저장된 것을\n",
    "# 전원을 오프해도 객체가 영구히 저장되게 하려면 디스크에 저장, \n",
    "# 오브젝트를 다른 피씨에 보내려면 파일에 저장해야 하므로 \n",
    "# 직렬화 과정 필요\n",
    "emps =[\n",
    "         {\"empno\":11, \"ename\": \"smith\"},\n",
    "         {\"empno\":12, \"ename\": \"scott\"},\n",
    "         {\"empno\":13, \"ename\": \"blake\"},\n",
    "       ]\n",
    "\n",
    "import pickle    # pickle을 이용한 아웃풋 스트림\n",
    "with open('D:/test/python_emps.pkl', 'wb') as fout:\n",
    "    pickle.dump(emps, fout)\n",
    "    print('리스트를 파일에 저장했음')"
   ]
  },
  {
   "cell_type": "code",
   "execution_count": null,
   "id": "a8de3df5",
   "metadata": {},
   "outputs": [],
   "source": [
    "import pickle  \n",
    "with open('D:/test/python_emps.pkl', 'rb') as fin:\n",
    "    list2 = pickle.load(fin)\n",
    "    for d in list2:\n",
    "        for (k,v) in d. items():\n",
    "            print('{}\\t'.format(v), end=\" \")\n",
    "        print()"
   ]
  },
  {
   "cell_type": "code",
   "execution_count": null,
   "id": "ee412f7e",
   "metadata": {},
   "outputs": [],
   "source": [
    "# 문제) 자동차 판매회사에서 차종별 정보 관리 시스템을 직렬화와 역직렬화 이용하여 CRUD 만들기 \n",
    "# name, price, year, maker : 4가지 정보를 이용한 크루드 만들기 (fuel=> 전기차 등)\n",
    "# 가격은 업데이트 가능해야 함"
   ]
  },
  {
   "cell_type": "code",
   "execution_count": null,
   "id": "79324309",
   "metadata": {},
   "outputs": [],
   "source": [
    "# 내가 푼 것"
   ]
  },
  {
   "cell_type": "code",
   "execution_count": 1,
   "id": "ec6005ad",
   "metadata": {},
   "outputs": [],
   "source": [
    "cars = []"
   ]
  },
  {
   "cell_type": "code",
   "execution_count": 2,
   "id": "fc85f04b",
   "metadata": {},
   "outputs": [],
   "source": [
    "fname = 'd:/test/python_cars.pkl'"
   ]
  },
  {
   "cell_type": "code",
   "execution_count": 3,
   "id": "fe6e0e44",
   "metadata": {},
   "outputs": [],
   "source": [
    "#import pickle\n",
    "\n",
    "#try:\n",
    "#    fin = open(fname, 'rb')\n",
    "#    pickle.load(fin)    # 역직렬화\n",
    "#    fin.close()\n",
    "#except FileNotFoundError:\n",
    "#    fout = open(fname, 'wb')\n",
    "#    pickle.dump(cars, fout)   # 직렬화\n",
    "#    fout.close()\n",
    "#    print('파일 생성함')"
   ]
  },
  {
   "cell_type": "code",
   "execution_count": 4,
   "id": "ef5063ca",
   "metadata": {},
   "outputs": [],
   "source": [
    "import pickle\n",
    "\n",
    "try:\n",
    "    with open(fname, 'rb') as fin:\n",
    "        cars = pickle.load(fin)    # 역직렬화\n",
    "except FileNotFoundError:\n",
    "    with open(fname, 'wb') as fout:\n",
    "        cars = pickle.dump(cars, fout)   # 직렬화\n",
    "        print('파일 생성함')"
   ]
  },
  {
   "cell_type": "code",
   "execution_count": 5,
   "id": "4bcf571d",
   "metadata": {},
   "outputs": [],
   "source": [
    "def overwrite(cars):\n",
    "    with open(fname, 'wb') as fout:\n",
    "         pickle.dump(cars, fout)\n",
    "         print('파일에 저장 성공')\n",
    "         return True"
   ]
  },
  {
   "cell_type": "code",
   "execution_count": 6,
   "id": "a1254bcf",
   "metadata": {},
   "outputs": [],
   "source": [
    "def load():\n",
    "    global cars\n",
    "    try:\n",
    "        with open(fname, 'rb') as fin:\n",
    "            cars = pickle.load(fin)\n",
    "    except FileNotFoundError:\n",
    "        print(\"파일 없음\")"
   ]
  },
  {
   "cell_type": "code",
   "execution_count": 7,
   "id": "b9296716",
   "metadata": {},
   "outputs": [],
   "source": [
    "# name, price, year, maker \n",
    "def add_car():\n",
    "    load()\n",
    "    id = input('id: ')\n",
    "    name = input('name: ')\n",
    "    price = int(input('price: '))\n",
    "    year = input('year: ')\n",
    "    maker = input('maker: ')\n",
    "    \n",
    "    car_dic = {}\n",
    "    car_dic['id'] = id\n",
    "    car_dic['name'] = name\n",
    "    car_dic['price'] = price\n",
    "    car_dic['year']= year\n",
    "    car_dic['maker']= maker\n",
    "    cars.append(car_dic)\n",
    "    overwrite(cars)"
   ]
  },
  {
   "cell_type": "code",
   "execution_count": 8,
   "id": "2027924e",
   "metadata": {},
   "outputs": [],
   "source": [
    "def car_list():\n",
    "    load()\n",
    "    for d in cars:\n",
    "        line = '%s\\t%s\\t%s\\t%s\\t%s' %(d['id'], d['name'], d['price'], d['year'], d['maker'])\n",
    "        print(line)"
   ]
  },
  {
   "cell_type": "code",
   "execution_count": 9,
   "id": "df99aca4",
   "metadata": {},
   "outputs": [],
   "source": [
    "def find():\n",
    "    name = input('car name: ')\n",
    "    found = False\n",
    "    for d in cars:\n",
    "        if d['name'] == name:\n",
    "            line = '%s\\t%s\\t%s\\t%s\\t%s' %(d['id'],d['name'], d['price'], d['year'], d['maker'])\n",
    "            print(line)\n",
    "            found = True\n",
    "    if not found:\n",
    "        print('검색 실패')"
   ]
  },
  {
   "cell_type": "code",
   "execution_count": 10,
   "id": "49a6dd4a",
   "metadata": {},
   "outputs": [],
   "source": [
    "def update():\n",
    "    id = input('변경 대상 id: ')\n",
    "    price = input('새 가격: ')\n",
    "    load()\n",
    "    update = False\n",
    "    idx = 0\n",
    "    for d in cars:\n",
    "        if d['id'] == id:\n",
    "            d['price'] = price\n",
    "            cars[idx] = d\n",
    "            \n",
    "            updated = overwrite(cars)\n",
    "            print('수정 성공')\n",
    "            break\n",
    "        idx += 1\n",
    "    if not updated:\n",
    "        print('수정 실패')"
   ]
  },
  {
   "cell_type": "code",
   "execution_count": 11,
   "id": "df354067",
   "metadata": {},
   "outputs": [],
   "source": [
    "def delete():\n",
    "    id = input('삭제 대상 id: ')    # add할 때 문자열로 받았기 때문에 정수로[id = int(input('삭제 대상 id: '))]로 받으면 안 됨\n",
    "    deleted = False\n",
    "    for (i, d) in enumerate(cars, start=0):\n",
    "        #print(f\"[{d['id']}], [{id}]\") => 디버깅용\n",
    "        if d['id'] == id:  \n",
    "            print('삭제 대상 발견')\n",
    "            try:\n",
    "                cars.remove(d)\n",
    "                deleted = overwrite(cars)\n",
    "                print('삭제 성공')\n",
    "                break\n",
    "            except:\n",
    "                print('삭제 실패')\n",
    "    else:\n",
    "        if not deleted:\n",
    "            print('삭제 실패')\n",
    "    return deleted"
   ]
  },
  {
   "cell_type": "code",
   "execution_count": 12,
   "id": "0c99dc06",
   "metadata": {
    "scrolled": true
   },
   "outputs": [
    {
     "name": "stdout",
     "output_type": "stream",
     "text": [
      "목록(s) 추가(a) 검색(f) 수정(u) 삭제(d) 종료(x): s\n",
      "1\t소나타\t3000\t2019\t현대\n",
      "3\t그랜져\t4000\t2023\t현대\n",
      "4\tk5\t3100\t2022\t기아\n",
      "목록(s) 추가(a) 검색(f) 수정(u) 삭제(d) 종료(x): x\n",
      "프로그램 종료\n"
     ]
    }
   ],
   "source": [
    "go = True\n",
    "while go:\n",
    "    menu = input('목록(s) 추가(a) 검색(f) 수정(u) 삭제(d) 종료(x): ')\n",
    "    if menu == 'a':\n",
    "        add_car()\n",
    "    elif menu == 's':\n",
    "        car_list()\n",
    "    elif menu == 'f':\n",
    "        find()\n",
    "    elif menu == 'u':\n",
    "        update()\n",
    "    elif menu == 'd':\n",
    "        delete()\n",
    "    elif menu == 'x':\n",
    "        break\n",
    "    else:\n",
    "        print('메뉴 입력 오류')\n",
    "    \n",
    "print('프로그램 종료')"
   ]
  },
  {
   "cell_type": "markdown",
   "id": "9806d812",
   "metadata": {},
   "source": [
    "## 클래스 사용하기"
   ]
  },
  {
   "cell_type": "code",
   "execution_count": 29,
   "id": "983522bc",
   "metadata": {},
   "outputs": [],
   "source": [
    "class Emp:\n",
    "    \n",
    "    def __init__(self, num, name):    # 생성된 인스턴스의 주소가 전달\n",
    "        self.id = num                # 인스턴스에 변수 생성 및 초기화\n",
    "        self.ename = name\n",
    "        #print(id(self))"
   ]
  },
  {
   "cell_type": "code",
   "execution_count": 26,
   "id": "f94f0ce5",
   "metadata": {},
   "outputs": [
    {
     "name": "stdout",
     "output_type": "stream",
     "text": [
      "2295846155984\n",
      "11\n",
      "Scott\n",
      "2295846155984\n"
     ]
    }
   ],
   "source": [
    "e = Emp(11, 'Scott')     # 인스턴스 생성 및 주소 리턴\n",
    "print(e.id)             # 인스턴스가 생성된 위치에서 id 변수의 값 출력\n",
    "print(e.ename)\n",
    "print(id(e))"
   ]
  },
  {
   "cell_type": "code",
   "execution_count": 27,
   "id": "38ff3ed4",
   "metadata": {},
   "outputs": [
    {
     "data": {
      "text/plain": [
       "['__class__',\n",
       " '__delattr__',\n",
       " '__dict__',\n",
       " '__dir__',\n",
       " '__doc__',\n",
       " '__eq__',\n",
       " '__format__',\n",
       " '__ge__',\n",
       " '__getattribute__',\n",
       " '__getstate__',\n",
       " '__gt__',\n",
       " '__hash__',\n",
       " '__init__',\n",
       " '__init_subclass__',\n",
       " '__le__',\n",
       " '__lt__',\n",
       " '__module__',\n",
       " '__ne__',\n",
       " '__new__',\n",
       " '__reduce__',\n",
       " '__reduce_ex__',\n",
       " '__repr__',\n",
       " '__setattr__',\n",
       " '__sizeof__',\n",
       " '__str__',\n",
       " '__subclasshook__',\n",
       " '__weakref__',\n",
       " 'ename',\n",
       " 'id']"
      ]
     },
     "execution_count": 27,
     "metadata": {},
     "output_type": "execute_result"
    }
   ],
   "source": [
    "dir(e)"
   ]
  },
  {
   "cell_type": "code",
   "execution_count": 28,
   "id": "b46cf74d",
   "metadata": {},
   "outputs": [
    {
     "name": "stdout",
     "output_type": "stream",
     "text": [
      "2295851826704\n",
      "2295860061968\n"
     ]
    },
    {
     "data": {
      "text/plain": [
       "False"
      ]
     },
     "execution_count": 28,
     "metadata": {},
     "output_type": "execute_result"
    }
   ],
   "source": [
    "e11 = Emp(11, 'Smith')\n",
    "e12 = Emp(12, 'Ward')\n",
    "\n",
    "e11==e12    # False"
   ]
  },
  {
   "cell_type": "code",
   "execution_count": 30,
   "id": "1822fa71",
   "metadata": {
    "scrolled": true
   },
   "outputs": [
    {
     "data": {
      "text/plain": [
       "False"
      ]
     },
     "execution_count": 30,
     "metadata": {},
     "output_type": "execute_result"
    }
   ],
   "source": [
    "e11 is e12    # False"
   ]
  },
  {
   "cell_type": "code",
   "execution_count": 31,
   "id": "aeb4d277",
   "metadata": {},
   "outputs": [],
   "source": [
    "e12 = Emp(11, 'Smith')"
   ]
  },
  {
   "cell_type": "code",
   "execution_count": 33,
   "id": "29b26617",
   "metadata": {},
   "outputs": [
    {
     "data": {
      "text/plain": [
       "False"
      ]
     },
     "execution_count": 33,
     "metadata": {},
     "output_type": "execute_result"
    }
   ],
   "source": [
    "e11 == e12    # False\n",
    "e11 is e12    # False"
   ]
  },
  {
   "cell_type": "markdown",
   "id": "e4b33a0b",
   "metadata": {},
   "source": [
    "### Operator Overload\n",
    "- 동등 비교 연산자의 디폴트 기능을 개조하여 사번이 동일한 객체는 동일한 것으로 간주\n",
    "- \\__eq\\__\\() 오버로드"
   ]
  },
  {
   "cell_type": "code",
   "execution_count": null,
   "id": "47573ac0",
   "metadata": {},
   "outputs": [],
   "source": [
    "# 연산자 오버로드(Op)"
   ]
  },
  {
   "cell_type": "code",
   "execution_count": 35,
   "id": "4c3495ff",
   "metadata": {},
   "outputs": [],
   "source": [
    "class Emp:\n",
    "    \n",
    "    def __init__(self, num, name):    \n",
    "        self.id = num                \n",
    "        self.ename = name\n",
    "    def __eq__(self, other):\n",
    "        return self.id==other.id"
   ]
  },
  {
   "cell_type": "code",
   "execution_count": 36,
   "id": "2901052a",
   "metadata": {},
   "outputs": [],
   "source": [
    "e11 = Emp(11, 'Smith')\n",
    "e12 = Emp(11, 'Smith')"
   ]
  },
  {
   "cell_type": "code",
   "execution_count": 37,
   "id": "60689006",
   "metadata": {},
   "outputs": [
    {
     "data": {
      "text/plain": [
       "True"
      ]
     },
     "execution_count": 37,
     "metadata": {},
     "output_type": "execute_result"
    }
   ],
   "source": [
    "e11 == e12  # True     e11.__eq__(e12) 와 동일"
   ]
  },
  {
   "cell_type": "code",
   "execution_count": 40,
   "id": "9adb18e7",
   "metadata": {},
   "outputs": [
    {
     "data": {
      "text/plain": [
       "True"
      ]
     },
     "execution_count": 40,
     "metadata": {},
     "output_type": "execute_result"
    }
   ],
   "source": [
    "e11.__eq__(e12)   # True "
   ]
  },
  {
   "cell_type": "code",
   "execution_count": 38,
   "id": "3aef165d",
   "metadata": {},
   "outputs": [
    {
     "data": {
      "text/plain": [
       "False"
      ]
     },
     "execution_count": 38,
     "metadata": {},
     "output_type": "execute_result"
    }
   ],
   "source": [
    "e11 is e12   # False"
   ]
  },
  {
   "cell_type": "code",
   "execution_count": 39,
   "id": "09cb087d",
   "metadata": {},
   "outputs": [
    {
     "name": "stdout",
     "output_type": "stream",
     "text": [
      "2295858737360\n",
      "2295851826704\n"
     ]
    }
   ],
   "source": [
    "print(id(e11))    # 2295858737360\n",
    "print(id(e12))    # 2295851826704"
   ]
  },
  {
   "cell_type": "code",
   "execution_count": 41,
   "id": "b9e26789",
   "metadata": {},
   "outputs": [
    {
     "data": {
      "text/plain": [
       "False"
      ]
     },
     "execution_count": 41,
     "metadata": {},
     "output_type": "execute_result"
    }
   ],
   "source": [
    "emps = [e11, e12]\n",
    "e13 = Emp(13, 'James')\n",
    "e13 in emps   # False # in을 멤버 연산자(# Member Operator라고 함)"
   ]
  },
  {
   "cell_type": "code",
   "execution_count": 42,
   "id": "e550cdc8",
   "metadata": {},
   "outputs": [
    {
     "data": {
      "text/plain": [
       "True"
      ]
     },
     "execution_count": 42,
     "metadata": {},
     "output_type": "execute_result"
    }
   ],
   "source": [
    "e11 in emps   # True "
   ]
  },
  {
   "cell_type": "code",
   "execution_count": null,
   "id": "436fbd17",
   "metadata": {},
   "outputs": [],
   "source": [
    "# 키보드에서 사원정보(번호, 이름, 부서)를 입력 받아서\n",
    "# Emp 인스턴스를 생성하고, 리스트에 저장한다(3인 정보)\n",
    "# 다시 키보드에서 검색 대상 사번을 입력 받아서 리스트에서 검색하여\n",
    "# 검색된 사원정보를 화면에 표시해보세요."
   ]
  },
  {
   "cell_type": "code",
   "execution_count": 44,
   "id": "cfd12217",
   "metadata": {},
   "outputs": [],
   "source": [
    "class Emp:\n",
    "    \n",
    "    def __init__(self, num, name=None, deptno):    \n",
    "        self.num = num              \n",
    "        self.nam = name\n",
    "        self.deptno = deptno\n",
    "    def __eq__(self, other):\n",
    "        return self.num==other.num"
   ]
  },
  {
   "cell_type": "code",
   "execution_count": null,
   "id": "61c86546",
   "metadata": {},
   "outputs": [],
   "source": [
    "emp = []"
   ]
  },
  {
   "cell_type": "code",
   "execution_count": 47,
   "id": "f012740b",
   "metadata": {},
   "outputs": [
    {
     "name": "stdout",
     "output_type": "stream",
     "text": [
      "사원번호: 11\n",
      "사원명: smith\n",
      "부서: 20\n"
     ]
    }
   ],
   "source": [
    "for _ in range(3):\n",
    "empno = int(input('사번: '))\n",
    "ename = input('사원명: ')\n",
    "deptno = int(input('부서: '))\n",
    "emps.append(Emp)"
   ]
  },
  {
   "cell_type": "code",
   "execution_count": 1,
   "id": "1bbf7443",
   "metadata": {},
   "outputs": [],
   "source": [
    "# 강사님 버전\n",
    "\n",
    "# 키보드에서 사원정보(번호, 이름, 부서)를 입력받아서\n",
    "# Emp 인스턴스를 생성하고, 리스트에 저장한다(3인 정보)\n",
    "# 다시 키보드에서 검색대상 사번을 입력 받아서 리스트에서 검색하여\n",
    "# 검색된 사원정보를 화면에 표시해보세요.\n",
    "\n",
    "class Emp:\n",
    "    def __init__(self, num,name=None,deptno=0):\n",
    "        self.num = num\n",
    "        self.name = name\n",
    "        self.deptno = deptno\n",
    "    def __eq__(self, other):\n",
    "        return self.num==other.num\n",
    "\n",
    "emps = []    \n",
    "    \n",
    "for _ in range(3):\n",
    "    empno = int(input('사번:'))\n",
    "    ename = input('이름:')\n",
    "    deptno = int(input('부서:'))\n",
    "    emps.append(Emp(empno,ename,deptno))\n",
    "    \n",
    "# 검색\n",
    "empno = int(input('검색대상 사번:'))\n",
    "key = Emp(empno)\n",
    "key in emps"
   ]
  }
 ],
 "metadata": {
  "kernelspec": {
   "display_name": "Python 3 (ipykernel)",
   "language": "python",
   "name": "python3"
  },
  "language_info": {
   "codemirror_mode": {
    "name": "ipython",
    "version": 3
   },
   "file_extension": ".py",
   "mimetype": "text/x-python",
   "name": "python",
   "nbconvert_exporter": "python",
   "pygments_lexer": "ipython3",
   "version": "3.11.3"
  }
 },
 "nbformat": 4,
 "nbformat_minor": 5
}
