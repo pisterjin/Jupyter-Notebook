{
 "cells": [
  {
   "cell_type": "code",
   "execution_count": null,
   "id": "fbd14a75",
   "metadata": {},
   "outputs": [],
   "source": [
    "# 8월 29일"
   ]
  },
  {
   "cell_type": "markdown",
   "id": "b7ff3f0b",
   "metadata": {},
   "source": [
    "# KModes\n",
    "- 이용자들을 비슷한 성향끼리 분류할 수 있음\n",
    "- 비지도학습에 해당됨\n",
    "- Clustering\n",
    "- 모든 데이터가 범주형이어야 함(범주형 데이터에 적용 가능)\n",
    "- 반면에 KMeans는 연속형(수치형) 데이터에 적용 가능\n",
    "- 같지 않음을 가지고 비교\n",
    "- 숫자로 치환해 뺄셈 적용 =>  다르면 1, 같으면 0 (0-0은 0이라서 차이 구분이 불가하니 다르면 1을 주는 것)\n",
    "- 숫자가 클수록 비유사도가 크고 값이 0이면 같다는 의미 (항목별로 합산을 해 총 비유사도를 구함)\n",
    "- 비유사도를 계산하여 클러스터를 구성함\n",
    "- K: 클러스터의 수(사람이 지정)\n",
    "- Modes: **최빈값**(빈도수가 가장 높은 값/데이터셋 내에서 가장 많이 발견되는 값)\n",
    "- 수치 데이터가 아니라서 평균을 못 찾는 것이고 최빈값을 찾는 것임(최빈값을 찾기 위해 위치를 바꿔감- new leader 찾음)\n",
    "- 최빈값이 바뀔 때마다 비유사도를 다시 계산[갱신]해 mode(최빈값)를 다시 찾음 \n",
    "   <br> => KMeans가 거리를 다시 계산해 평균(mean)에 해당되는 진짜 centroid를 찾아가는 것과 동일\n",
    "   <br> => 비교시 최빈값이 없이 동률만 있으면 무작위로 중심값(leader)이 결정됨 \n",
    "   <br> => 최빈값은 행이나 데이터와 관계 없고 데이터내에서 없기도 함\n",
    "   <br> => leader가 안 바뀔 때까지 new leader와 클러스터의 값들이 사로 비교 작업 반복\n",
    "- 클러스터가 구성되면 다시 최빈값을 추출하여 Leader를 구성한다\n",
    "- 새로 구성된 Leader와 데이터들 간의 비유사도를 계산하여 다시 클러스터 구성\n",
    "- 위의 2개 과정을 반복하여 Leader가 더 이상 변경되지 않을 때까지 반복함"
   ]
  },
  {
   "cell_type": "code",
   "execution_count": null,
   "id": "966d1ae3",
   "metadata": {},
   "outputs": [],
   "source": [
    "# 비지도학습, KModes Clustering (아나콘다에 미설치/별도 설치 필요 \n",
    "# => 아나콘다 프롬프트에서 pip install kmodes 입력 후 엔터치면 설치됨 "
   ]
  },
  {
   "cell_type": "code",
   "execution_count": 3,
   "id": "a7c75778",
   "metadata": {},
   "outputs": [
    {
     "name": "stdout",
     "output_type": "stream",
     "text": [
      "Requirement already satisfied: kmodes in c:\\users\\jeongjinhwa\\lib\\site-packages (0.12.2)\n",
      "Requirement already satisfied: numpy>=1.10.4 in c:\\users\\jeongjinhwa\\lib\\site-packages (from kmodes) (1.24.3)\n",
      "Requirement already satisfied: scikit-learn>=0.22.0 in c:\\users\\jeongjinhwa\\lib\\site-packages (from kmodes) (1.2.2)\n",
      "Requirement already satisfied: scipy>=0.13.3 in c:\\users\\jeongjinhwa\\lib\\site-packages (from kmodes) (1.10.1)\n",
      "Requirement already satisfied: joblib>=0.11 in c:\\users\\jeongjinhwa\\lib\\site-packages (from kmodes) (1.2.0)\n",
      "Requirement already satisfied: threadpoolctl>=2.0.0 in c:\\users\\jeongjinhwa\\lib\\site-packages (from scikit-learn>=0.22.0->kmodes) (2.2.0)\n"
     ]
    }
   ],
   "source": [
    "# KModes 모듈 설치 / 아나콘다 프롬프트 아니어도 셀에서 이렇게 설치해도 됨. 단 모듈행 써 있는 곳에 주석 있으면 안 됨\n",
    "!pip install kmodes  "
   ]
  },
  {
   "cell_type": "code",
   "execution_count": 3,
   "id": "0b47560b",
   "metadata": {},
   "outputs": [],
   "source": [
    "import matplotlib.pyplot as plt\n",
    "from kmodes.kmodes import KModes\n",
    "import pandas as pd\n",
    "import numpy as np"
   ]
  },
  {
   "cell_type": "code",
   "execution_count": 6,
   "id": "7d87ee72",
   "metadata": {},
   "outputs": [
    {
     "data": {
      "text/plain": [
       "array([['A', 'B', 'C'],\n",
       "       ['A', 'B', 'A'],\n",
       "       ['A', 'A', 'B'],\n",
       "       ['A', 'A', 'C'],\n",
       "       ['B', 'B', 'B'],\n",
       "       ['B', 'B', 'C'],\n",
       "       ['B', 'B', 'A'],\n",
       "       ['C', 'A', 'B'],\n",
       "       ['C', 'A', 'C'],\n",
       "       ['C', 'C', 'A']], dtype='<U1')"
      ]
     },
     "execution_count": 6,
     "metadata": {},
     "output_type": "execute_result"
    }
   ],
   "source": [
    "data = np.array([['A', 'B', 'C'],\n",
    "                 ['A', 'B', 'A'],\n",
    "                 ['A', 'A', 'B'],\n",
    "                 ['A', 'A', 'C'],\n",
    "                 ['B', 'B', 'B'],\n",
    "                 ['B', 'B', 'C'],\n",
    "                 ['B', 'B', 'A'],\n",
    "                 ['C', 'A', 'B'],\n",
    "                 ['C', 'A', 'C'],\n",
    "                 ['C', 'C', 'A']])\n",
    "data"
   ]
  },
  {
   "cell_type": "code",
   "execution_count": 10,
   "id": "1f8c3e9e",
   "metadata": {
    "scrolled": false
   },
   "outputs": [
    {
     "name": "stdout",
     "output_type": "stream",
     "text": [
      "Init: initializing centroids\n",
      "Init: initializing clusters\n",
      "Starting iterations...\n",
      "Run 1, iteration: 1/100, moves: 0, cost: 17.0\n",
      "Init: initializing centroids\n",
      "Init: initializing clusters\n",
      "Starting iterations...\n",
      "Run 2, iteration: 1/100, moves: 0, cost: 17.0\n",
      "Init: initializing centroids\n",
      "Init: initializing clusters\n",
      "Starting iterations...\n",
      "Run 3, iteration: 1/100, moves: 0, cost: 17.0\n",
      "Init: initializing centroids\n",
      "Init: initializing clusters\n",
      "Starting iterations...\n",
      "Run 4, iteration: 1/100, moves: 0, cost: 17.0\n",
      "Init: initializing centroids\n",
      "Init: initializing clusters\n",
      "Starting iterations...\n",
      "Run 5, iteration: 1/100, moves: 0, cost: 17.0\n",
      "Best run was number 1\n",
      "Init: initializing centroids\n",
      "Init: initializing clusters\n",
      "Starting iterations...\n",
      "Run 1, iteration: 1/100, moves: 0, cost: 11.0\n",
      "Init: initializing centroids\n",
      "Init: initializing clusters\n",
      "Starting iterations...\n",
      "Run 2, iteration: 1/100, moves: 2, cost: 12.0\n",
      "Init: initializing centroids\n",
      "Init: initializing clusters\n",
      "Starting iterations...\n",
      "Run 3, iteration: 1/100, moves: 0, cost: 11.0\n",
      "Init: initializing centroids\n",
      "Init: initializing clusters\n",
      "Starting iterations...\n",
      "Run 4, iteration: 1/100, moves: 0, cost: 12.0\n",
      "Init: initializing centroids\n",
      "Init: initializing clusters\n",
      "Starting iterations...\n",
      "Run 5, iteration: 1/100, moves: 0, cost: 12.0\n",
      "Best run was number 1\n",
      "Init: initializing centroids\n",
      "Init: initializing clusters\n",
      "Starting iterations...\n",
      "Run 1, iteration: 1/100, moves: 0, cost: 9.0\n",
      "Init: initializing centroids\n",
      "Init: initializing clusters\n",
      "Starting iterations...\n",
      "Run 2, iteration: 1/100, moves: 3, cost: 8.0\n",
      "Run 2, iteration: 2/100, moves: 0, cost: 8.0\n",
      "Init: initializing centroids\n",
      "Init: initializing clusters\n",
      "Starting iterations...\n",
      "Run 3, iteration: 1/100, moves: 0, cost: 9.0\n",
      "Init: initializing centroids\n",
      "Init: initializing clusters\n",
      "Starting iterations...\n",
      "Run 4, iteration: 1/100, moves: 3, cost: 9.0\n",
      "Run 4, iteration: 2/100, moves: 1, cost: 9.0\n",
      "Init: initializing centroids\n",
      "Init: initializing clusters\n",
      "Starting iterations...\n",
      "Run 5, iteration: 1/100, moves: 0, cost: 9.0\n",
      "Best run was number 2\n",
      "Init: initializing centroids\n",
      "Init: initializing clusters\n",
      "Starting iterations...\n",
      "Run 1, iteration: 1/100, moves: 2, cost: 7.0\n",
      "Init: initializing centroids\n",
      "Init: initializing clusters\n",
      "Starting iterations...\n",
      "Run 2, iteration: 1/100, moves: 2, cost: 7.0\n",
      "Init: initializing centroids\n",
      "Init: initializing clusters\n",
      "Starting iterations...\n",
      "Run 3, iteration: 1/100, moves: 2, cost: 7.0\n",
      "Init: initializing centroids\n",
      "Init: initializing clusters\n",
      "Starting iterations...\n",
      "Run 4, iteration: 1/100, moves: 1, cost: 7.0\n",
      "Init: initializing centroids\n",
      "Init: initializing clusters\n",
      "Starting iterations...\n",
      "Run 5, iteration: 1/100, moves: 1, cost: 8.0\n",
      "Run 5, iteration: 2/100, moves: 0, cost: 8.0\n",
      "Best run was number 1\n",
      "Init: initializing centroids\n",
      "Init: initializing clusters\n",
      "Starting iterations...\n",
      "Run 1, iteration: 1/100, moves: 1, cost: 7.0\n",
      "Init: initializing centroids\n",
      "Init: initializing clusters\n",
      "Starting iterations...\n",
      "Run 2, iteration: 1/100, moves: 3, cost: 7.0\n",
      "Init: initializing centroids\n",
      "Init: initializing clusters\n",
      "Starting iterations...\n",
      "Run 3, iteration: 1/100, moves: 2, cost: 6.0\n",
      "Init: initializing centroids\n",
      "Init: initializing clusters\n",
      "Starting iterations...\n",
      "Run 4, iteration: 1/100, moves: 6, cost: 5.0\n",
      "Run 4, iteration: 2/100, moves: 0, cost: 5.0\n",
      "Init: initializing centroids\n",
      "Init: initializing clusters\n",
      "Starting iterations...\n",
      "Run 5, iteration: 1/100, moves: 0, cost: 9.0\n",
      "Best run was number 4\n"
     ]
    },
    {
     "data": {
      "image/png": "[encoded data removed]",
      "text/plain": [
       "<Figure size 640x480 with 1 Axes>"
      ]
     },
     "metadata": {},
     "output_type": "display_data"
    }
   ],
   "source": [
    "# 엘보우 차트(최적의 K를 찾는 과정)\n",
    "cost = []\n",
    "K = range(1,6) #  KModes 알고리즘을 각각 다른 클러스터 개수로 실행하기 위해 사용\n",
    "for k in list(K): # 반복문을 통해 K의 각 값을 순회. list(k)를 사용하여 범위 객체 K를 리스트로 변환\n",
    "    km = KModes(n_clusters=k, init='random', n_init=5, verbose=1)  #  KModes 객체를 생성\n",
    "# n_clusters 매개변수에는 현재 순회 중인 클러스터 개수인 k가 전달. \n",
    "# init='random' => 초기화 방법으로 무작위 초기화를 사용함을 의미\n",
    "#  n_init=5는 알고리즘을 5번 실행하여 최적의 결과를 선택하도록 한 것\n",
    "# verbose=1은 실행 과정에서 상세한 출력 정보를 표시하도록 설정\n",
    "    clusters = km.fit_predict(data)\n",
    "    \n",
    "    cost.append(km.cost_)\n",
    "    \n",
    "plt.plot(K, cost)    # K => range 오브젝트  # cost => 모델에서 나온 y값\n",
    "plt.xlabel('No. of Clusters')\n",
    "plt.ylabel('Cost') \n",
    "plt.title('Elbow Curve')\n",
    "plt.show()"
   ]
  },
  {
   "cell_type": "code",
   "execution_count": null,
   "id": "7e62c69a",
   "metadata": {},
   "outputs": [],
   "source": [
    "# verbose=0과 verbose=1의 차이\n",
    "# verbose=0은 KModes 알고리즘 실행 시 출력되는 정보의 양을 조절하는 매개변수. verbose 값에 따라 출력 레벨이 변경됨.\n",
    "\n",
    "# verbose=0: 출력 없음. 알고리즘 실행 도중 어떤 정보도 표시하지 않음.\n",
    "# verbose=1: 기본값. 실행 도중 진행 상황과 클러스터링 결과에 대한 간단한 정보를 표시.\n",
    "# 일반적으로 verbose=1을 사용하면 알고리즘이 진행되는 동안 유용한 정보를 확인할 수 있음. \n",
    "# 예를 들어, 각 클러스터링 단계에서 할당된 클러스터 번호, 비용 값, 반복 횟수 등이 출력됨.\n",
    "\n",
    "# 반면에 verbose=0으로 설정하면 출력이 제거되므로 실행 과정에서의 추가 정보를 확인할 수 없게 됨. \n",
    "# 이는 대규모 데이터셋이나 반복 횟수가 많은 경우에 유용할 수 있음."
   ]
  },
  {
   "cell_type": "code",
   "execution_count": 11,
   "id": "eba21eea",
   "metadata": {},
   "outputs": [
    {
     "data": {
      "text/plain": [
       "array([0, 1, 0, 0, 1, 1, 1, 0, 0, 1], dtype=uint16)"
      ]
     },
     "execution_count": 11,
     "metadata": {},
     "output_type": "execute_result"
    }
   ],
   "source": [
    "# 엘보우 차트에서 보여준 적절한 K값(2)를 적용하여 KModes를 학습한다\n",
    "km = KModes(n_clusters=2, init='random', n_init=5, verbose=0)\n",
    "clusters = km.fit_predict(data)\n",
    "clusters"
   ]
  },
  {
   "cell_type": "code",
   "execution_count": 14,
   "id": "94a77e8c",
   "metadata": {},
   "outputs": [
    {
     "data": {
      "text/plain": [
       "array([1], dtype=uint16)"
      ]
     },
     "execution_count": 14,
     "metadata": {},
     "output_type": "execute_result"
    }
   ],
   "source": [
    "km.predict(data[4].reshape(1,-1))  # 다섯번째 학습된 데이터를 2 차원으로 만들어 어느 그룹인지 값 확인"
   ]
  },
  {
   "cell_type": "code",
   "execution_count": 15,
   "id": "f237d066",
   "metadata": {},
   "outputs": [
    {
     "data": {
      "text/plain": [
       "array([0], dtype=uint16)"
      ]
     },
     "execution_count": 15,
     "metadata": {},
     "output_type": "execute_result"
    }
   ],
   "source": [
    "km.predict(data[8].reshape(1,-1)) "
   ]
  },
  {
   "cell_type": "code",
   "execution_count": 20,
   "id": "51d25bb3",
   "metadata": {},
   "outputs": [
    {
     "data": {
      "text/html": [
       "<div>\n",
       "<style scoped>\n",
       "    .dataframe tbody tr th:only-of-type {\n",
       "        vertical-align: middle;\n",
       "    }\n",
       "\n",
       "    .dataframe tbody tr th {\n",
       "        vertical-align: top;\n",
       "    }\n",
       "\n",
       "    .dataframe thead th {\n",
       "        text-align: right;\n",
       "    }\n",
       "</style>\n",
       "<table border=\"1\" class=\"dataframe\">\n",
       "  <thead>\n",
       "    <tr style=\"text-align: right;\">\n",
       "      <th></th>\n",
       "      <th>x1</th>\n",
       "      <th>x2</th>\n",
       "      <th>x3</th>\n",
       "      <th>Cluster</th>\n",
       "    </tr>\n",
       "  </thead>\n",
       "  <tbody>\n",
       "    <tr>\n",
       "      <th>0</th>\n",
       "      <td>A</td>\n",
       "      <td>B</td>\n",
       "      <td>C</td>\n",
       "      <td>0</td>\n",
       "    </tr>\n",
       "    <tr>\n",
       "      <th>1</th>\n",
       "      <td>A</td>\n",
       "      <td>B</td>\n",
       "      <td>A</td>\n",
       "      <td>1</td>\n",
       "    </tr>\n",
       "    <tr>\n",
       "      <th>2</th>\n",
       "      <td>A</td>\n",
       "      <td>A</td>\n",
       "      <td>B</td>\n",
       "      <td>0</td>\n",
       "    </tr>\n",
       "    <tr>\n",
       "      <th>3</th>\n",
       "      <td>A</td>\n",
       "      <td>A</td>\n",
       "      <td>C</td>\n",
       "      <td>0</td>\n",
       "    </tr>\n",
       "    <tr>\n",
       "      <th>4</th>\n",
       "      <td>B</td>\n",
       "      <td>B</td>\n",
       "      <td>B</td>\n",
       "      <td>1</td>\n",
       "    </tr>\n",
       "    <tr>\n",
       "      <th>5</th>\n",
       "      <td>B</td>\n",
       "      <td>B</td>\n",
       "      <td>C</td>\n",
       "      <td>1</td>\n",
       "    </tr>\n",
       "    <tr>\n",
       "      <th>6</th>\n",
       "      <td>B</td>\n",
       "      <td>B</td>\n",
       "      <td>A</td>\n",
       "      <td>1</td>\n",
       "    </tr>\n",
       "    <tr>\n",
       "      <th>7</th>\n",
       "      <td>C</td>\n",
       "      <td>A</td>\n",
       "      <td>B</td>\n",
       "      <td>0</td>\n",
       "    </tr>\n",
       "    <tr>\n",
       "      <th>8</th>\n",
       "      <td>C</td>\n",
       "      <td>A</td>\n",
       "      <td>C</td>\n",
       "      <td>0</td>\n",
       "    </tr>\n",
       "    <tr>\n",
       "      <th>9</th>\n",
       "      <td>C</td>\n",
       "      <td>C</td>\n",
       "      <td>A</td>\n",
       "      <td>1</td>\n",
       "    </tr>\n",
       "  </tbody>\n",
       "</table>\n",
       "</div>"
      ],
      "text/plain": [
       "  x1 x2 x3  Cluster\n",
       "0  A  B  C        0\n",
       "1  A  B  A        1\n",
       "2  A  A  B        0\n",
       "3  A  A  C        0\n",
       "4  B  B  B        1\n",
       "5  B  B  C        1\n",
       "6  B  B  A        1\n",
       "7  C  A  B        0\n",
       "8  C  A  C        0\n",
       "9  C  C  A        1"
      ]
     },
     "execution_count": 20,
     "metadata": {},
     "output_type": "execute_result"
    }
   ],
   "source": [
    "# 학습된 데이터가 어느 그룹에 속하는지 분류한 내용이 보이게 데이터프레임 만들기\n",
    "\n",
    "df=pd.DataFrame(data, columns=['x1','x2','x3'])\n",
    "df['Cluster']=clusters\n",
    "df"
   ]
  },
  {
   "cell_type": "code",
   "execution_count": null,
   "id": "fbd6c3f7",
   "metadata": {},
   "outputs": [],
   "source": [
    "# 질문]\n",
    "'''\n",
    "data = np.array([['A', 'B', 'C'],\n",
    "                 ['A', 'B', 'A'],\n",
    "                 ['A', 'A', 'B'],\n",
    "                 ['A', 'A', 'C'],\n",
    "                 ['B', 'B', 'B'],\n",
    "                 ['B', 'B', 'C'],\n",
    "                 ['B', 'B', 'A'],\n",
    "                 ['C', 'A', 'B'],\n",
    "                 ['C', 'A', 'C'],\n",
    "                 ['C', 'C', 'A']])\n",
    "data\n",
    "\n",
    "\n",
    "km = KModes(n_clusters=2, init='random', n_init=5, verbose=0)\n",
    "clusters = km.fit_predict(data)\n",
    "clusters\n",
    "'''\n",
    "\n",
    "# => 여기서 x값들이 A,B,C가 되는 거죠? clusters가 y값이 되고요?\n",
    "\n",
    "\n",
    "# 답변]\n",
    "'''\n",
    "네, 맞습니다. 제시된 코드에서 data는 X값(데이터)이고, clusters는 Y값(클러스터 할당 결과)입니다.\n",
    "\n",
    "data: 배열 형태로 표현된 데이터입니다. \n",
    "각 행은 개별 데이터 포인트를 나타내며, 열은 해당 데이터 포인트의 특성을 나타냅니다. \n",
    "여기서는 'A', 'B', 'C' 세 가지 카테고리로 구성된 범주형 데이터가 사용되었습니다.\n",
    "km = KModes(n_clusters=2, init='random', n_init=5, verbose=0): KModes 객체를 생성합니다. \n",
    "n_clusters=2는 클러스터 개수를 2개로 설정하였으며, init='random'은 초기화 방법으로 무작위 초기화를 사용합니다. \n",
    "n_init=5는 알고리즘을 5번 실행하여 최적의 결과를 선택하도록 합니다. \n",
    "마지막으로 verbose=0으로 설정하여 출력 정보가 표시되지 않도록 합니다.\n",
    "clusters = km.fit_predict(data): KModes 알고리즘을 사용하여 데이터에 대한 클러스터 할당을 수행합니다. \n",
    "이 때, 입력 데이터인 data에 대해 각 데이터 포인트가 어떤 클러스터에 속하는지 예측한 결과를 반환하며, \n",
    "이 값들이 변수 clusters에 저장됩니다.\n",
    "따라서 여기서 X값은 'A', 'B', 'C'와 같은 범주형 데이터이며, Y값은 각 데이터 포인트의 클러스터 할당 결과입니다.\n",
    "''''''\n",
    "\n"
   ]
  },
  {
   "cell_type": "markdown",
   "id": "308d1050",
   "metadata": {},
   "source": [
    "# DBSCAN(Density-Based Spatial Clustering of Applications with Noise)\n",
    "- core point: 주어진 반경(epsilon)의 원 안에 지정된 개수의 데이터를 가지는 데이터\n",
    "<br> 밀도가 끊어질 때까지 core point 찾음\n",
    "- epsilon : 반경\n",
    "- minPts : 원 안에 들어와야 할 최소의 점 개수. epsilon 반경을 가진 원 안에 존재해야 할 최소의 데이터 수\n",
    "- border point: 클러스터 안에는 포함되지만 core point가 아닌 데이터 \n",
    "- noise : 어떤 클러스터에도 포함되지 않는 데이터"
   ]
  },
  {
   "cell_type": "markdown",
   "id": "d5df03d1",
   "metadata": {},
   "source": [
    "- DBSCAN은 밀도 기반의 공간 클러스터링 알고리즘. \n",
    "- 데이터 포인트들이 밀도가 높은 지역에 속한 경우 같은 클러스터로 그룹화하고(반경 기반으로 같은 밀도로 그룹화), \n",
    "<br>비교적 낮은 밀도를 가진 지역을 경계로 하여 다른 클러스터로 구분. \n",
    "<br>이 알고리즘은 데이터의 분포에 따라 유연하게 클러스터를 찾을 수 있으며, \n",
    "<br>이상치(outlier)에 대해서도 강건한 성능을 보임.\n",
    "\n",
    "- DBSCAN 알고리즘의 동작 방식:\n",
    "<br>임의의 데이터 포인트를 선택.\n",
    "<br>선택한 데이터 포인트에서 일정 거리(epsilon) 내에 있는 다른 데이터 포인트들을 찾음.\n",
    "<br>만약 해당 거리 내에 최소 개수(min_samples) 이상의 데이터 포인트가 있다면, => 사람이 지정(MinPts => MinPoints를 의미)\n",
    "<br>해당 데이터 포인트와 그 주변에 있는 모든 점들을 하나의 클러스터로 할당.\n",
    "<br>선택한 데이터 포인트 주변에 최소 개수(min_samples)보다 적은 개수의 데이터 포인트가 있다면, \n",
    "<br>이는 경계점(border point)으로 처리되며 어떤 클러스터에도 속하지 않음.\n",
    "- 위 과정을 반복하여 모든 데이터 포인트를 탐색하고, 모든 점들이 클러스터링될 때까지 진행.\n",
    "- DBSCAN 알고리즘은 입력으로 epsilon(거리 범위)와 min_samples(최소 점 개수)라는 두 가지 매개변수를 필요로 함. \n",
    "- epsilon(반경) 매개변수는 한 점에서 다른 점까지의 거리를 정의하며, min_samples 매개변수는 한 점 주변에서 구성하는 최소 개수.\n",
    "<br> => 클러스터(Cluster)내의 epsilon(반경) 매개변수 => 사람이 정의해줌 / 코어 포인트(Core point) 결정에 기여\n",
    "<br> => Core point가 안 되면 Border point가 됨 \n",
    "<br> => 클러스터 밖에 있으면 Noise로 봄\n",
    "<br> => Core point가 될 수 있는지 지속 반복하게 됨\n",
    "- DBSCAN은 밀집된 영역과 비어있는 영역을 구분할 수 있기 때문에 잡음(noise)이나 이상치(outlier) 처리에 효과적. \n",
    "- 또한 원형 형태뿐만 아니라 비선형 형태의 클러스터도 잘 찾아낼 수 있음."
   ]
  },
  {
   "cell_type": "code",
   "execution_count": 21,
   "id": "f5693739",
   "metadata": {},
   "outputs": [],
   "source": [
    "from sklearn.cluster import DBSCAN\n",
    "from sklearn.datasets import make_blobs\n",
    "import matplotlib.pyplot as plt"
   ]
  },
  {
   "cell_type": "code",
   "execution_count": 25,
   "id": "899824ff",
   "metadata": {},
   "outputs": [
    {
     "data": {
      "text/plain": [
       "((500, 2), (500,))"
      ]
     },
     "execution_count": 25,
     "metadata": {},
     "output_type": "execute_result"
    }
   ],
   "source": [
    "X, y = make_blobs(n_samples=500, n_features=2, centers=3, random_state=1)\n",
    "X.shape, y.shape"
   ]
  },
  {
   "cell_type": "code",
   "execution_count": 26,
   "id": "9bffdc17",
   "metadata": {},
   "outputs": [
    {
     "data": {
      "image/png": "[encoded data removed]",
      "text/plain": [
       "<Figure size 640x480 with 1 Axes>"
      ]
     },
     "metadata": {},
     "output_type": "display_data"
    }
   ],
   "source": [
    "plt.scatter(X[:,0], X[:,1], c=y, s=5)\n",
    "plt.show()"
   ]
  },
  {
   "cell_type": "code",
   "execution_count": 27,
   "id": "19d352a0",
   "metadata": {},
   "outputs": [
    {
     "data": {
      "text/html": [
       "<style>#sk-container-id-1 {color: black;background-color: white;}#sk-container-id-1 pre{padding: 0;}#sk-container-id-1 div.sk-toggleable {background-color: white;}#sk-container-id-1 label.sk-toggleable__label {cursor: pointer;display: block;width: 100%;margin-bottom: 0;padding: 0.3em;box-sizing: border-box;text-align: center;}#sk-container-id-1 label.sk-toggleable__label-arrow:before {content: \"▸\";float: left;margin-right: 0.25em;color: #696969;}#sk-container-id-1 label.sk-toggleable__label-arrow:hover:before {color: black;}#sk-container-id-1 div.sk-estimator:hover label.sk-toggleable__label-arrow:before {color: black;}#sk-container-id-1 div.sk-toggleable__content {max-height: 0;max-width: 0;overflow: hidden;text-align: left;background-color: #f0f8ff;}#sk-container-id-1 div.sk-toggleable__content pre {margin: 0.2em;color: black;border-radius: 0.25em;background-color: #f0f8ff;}#sk-container-id-1 input.sk-toggleable__control:checked~div.sk-toggleable__content {max-height: 200px;max-width: 100%;overflow: auto;}#sk-container-id-1 input.sk-toggleable__control:checked~label.sk-toggleable__label-arrow:before {content: \"▾\";}#sk-container-id-1 div.sk-estimator input.sk-toggleable__control:checked~label.sk-toggleable__label {background-color: #d4ebff;}#sk-container-id-1 div.sk-label input.sk-toggleable__control:checked~label.sk-toggleable__label {background-color: #d4ebff;}#sk-container-id-1 input.sk-hidden--visually {border: 0;clip: rect(1px 1px 1px 1px);clip: rect(1px, 1px, 1px, 1px);height: 1px;margin: -1px;overflow: hidden;padding: 0;position: absolute;width: 1px;}#sk-container-id-1 div.sk-estimator {font-family: monospace;background-color: #f0f8ff;border: 1px dotted black;border-radius: 0.25em;box-sizing: border-box;margin-bottom: 0.5em;}#sk-container-id-1 div.sk-estimator:hover {background-color: #d4ebff;}#sk-container-id-1 div.sk-parallel-item::after {content: \"\";width: 100%;border-bottom: 1px solid gray;flex-grow: 1;}#sk-container-id-1 div.sk-label:hover label.sk-toggleable__label {background-color: #d4ebff;}#sk-container-id-1 div.sk-serial::before {content: \"\";position: absolute;border-left: 1px solid gray;box-sizing: border-box;top: 0;bottom: 0;left: 50%;z-index: 0;}#sk-container-id-1 div.sk-serial {display: flex;flex-direction: column;align-items: center;background-color: white;padding-right: 0.2em;padding-left: 0.2em;position: relative;}#sk-container-id-1 div.sk-item {position: relative;z-index: 1;}#sk-container-id-1 div.sk-parallel {display: flex;align-items: stretch;justify-content: center;background-color: white;position: relative;}#sk-container-id-1 div.sk-item::before, #sk-container-id-1 div.sk-parallel-item::before {content: \"\";position: absolute;border-left: 1px solid gray;box-sizing: border-box;top: 0;bottom: 0;left: 50%;z-index: -1;}#sk-container-id-1 div.sk-parallel-item {display: flex;flex-direction: column;z-index: 1;position: relative;background-color: white;}#sk-container-id-1 div.sk-parallel-item:first-child::after {align-self: flex-end;width: 50%;}#sk-container-id-1 div.sk-parallel-item:last-child::after {align-self: flex-start;width: 50%;}#sk-container-id-1 div.sk-parallel-item:only-child::after {width: 0;}#sk-container-id-1 div.sk-dashed-wrapped {border: 1px dashed gray;margin: 0 0.4em 0.5em 0.4em;box-sizing: border-box;padding-bottom: 0.4em;background-color: white;}#sk-container-id-1 div.sk-label label {font-family: monospace;font-weight: bold;display: inline-block;line-height: 1.2em;}#sk-container-id-1 div.sk-label-container {text-align: center;}#sk-container-id-1 div.sk-container {/* jupyter's `normalize.less` sets `[hidden] { display: none; }` but bootstrap.min.css set `[hidden] { display: none !important; }` so we also need the `!important` here to be able to override the default hidden behavior on the sphinx rendered scikit-learn.org. See: https://github.com/scikit-learn/scikit-learn/issues/21755 */display: inline-block !important;position: relative;}#sk-container-id-1 div.sk-text-repr-fallback {display: none;}</style><div id=\"sk-container-id-1\" class=\"sk-top-container\"><div class=\"sk-text-repr-fallback\"><pre>DBSCAN(eps=2)</pre><b>In a Jupyter environment, please rerun this cell to show the HTML representation or trust the notebook. <br />On GitHub, the HTML representation is unable to render, please try loading this page with nbviewer.org.</b></div><div class=\"sk-container\" hidden><div class=\"sk-item\"><div class=\"sk-estimator sk-toggleable\"><input class=\"sk-toggleable__control sk-hidden--visually\" id=\"sk-estimator-id-1\" type=\"checkbox\" checked><label for=\"sk-estimator-id-1\" class=\"sk-toggleable__label sk-toggleable__label-arrow\">DBSCAN</label><div class=\"sk-toggleable__content\"><pre>DBSCAN(eps=2)</pre></div></div></div></div></div>"
      ],
      "text/plain": [
       "DBSCAN(eps=2)"
      ]
     },
     "execution_count": 27,
     "metadata": {},
     "output_type": "execute_result"
    }
   ],
   "source": [
    "dbscan = DBSCAN(eps=2, min_samples=5, metric='euclidean')   # eps 변경하면서 테스트\n",
    "dbscan       # 객체 생성"
   ]
  },
  {
   "cell_type": "code",
   "execution_count": null,
   "id": "d7e98c86",
   "metadata": {},
   "outputs": [],
   "source": [
    "# metric='euclidean'은 DBSCAN 알고리즘에서 사용되는 거리 측정 방법을 지정하는 매개변수.\n",
    "# 여기서 'euclidean'은 유클리디안 거리(Euclidean distance)를 의미.\n",
    "\n",
    "# 유클리디안 거리는 가장 일반적으로 사용되는 거리 측정 방법 중 하나로, 두 데이터 포인트 간의 직선 거리를 계산. \n",
    "# 유클리디안 거리는 공간에서의 물체 사이의 실제 길이를 나타내며, \n",
    "# 데이터 포인트가 숫자로 표현된 특성들로 이루어진 경우에 자주 활용됨.\n",
    "\n",
    "# DBSCAN 알고리즘에서 metric='euclidean'을 설정하면, \n",
    "# 데이터 포인트 간의 유클리디안 거리를 기반으로 클러스터링을 수행. \n",
    "# 이렇게 설정하면 DBSCAN은 유클리디안 공간에서 데이터 포인트들 간의 밀도와 접근 가능성을 평가하여 클러스터를 형성.\n",
    "\n",
    "# 만약 다른 거리 측정 방법을 사용하고 싶다면 metric 매개변수에 해당 거리 측정 방법의 이름을 지정할 수 있음. \n",
    "# 예를 들어, metric='manhattan'은 맨해튼 거리(Manhattan distance)를 사용함을 의미."
   ]
  },
  {
   "cell_type": "code",
   "execution_count": 28,
   "id": "0f901b4d",
   "metadata": {},
   "outputs": [
    {
     "data": {
      "text/html": [
       "<style>#sk-container-id-2 {color: black;background-color: white;}#sk-container-id-2 pre{padding: 0;}#sk-container-id-2 div.sk-toggleable {background-color: white;}#sk-container-id-2 label.sk-toggleable__label {cursor: pointer;display: block;width: 100%;margin-bottom: 0;padding: 0.3em;box-sizing: border-box;text-align: center;}#sk-container-id-2 label.sk-toggleable__label-arrow:before {content: \"▸\";float: left;margin-right: 0.25em;color: #696969;}#sk-container-id-2 label.sk-toggleable__label-arrow:hover:before {color: black;}#sk-container-id-2 div.sk-estimator:hover label.sk-toggleable__label-arrow:before {color: black;}#sk-container-id-2 div.sk-toggleable__content {max-height: 0;max-width: 0;overflow: hidden;text-align: left;background-color: #f0f8ff;}#sk-container-id-2 div.sk-toggleable__content pre {margin: 0.2em;color: black;border-radius: 0.25em;background-color: #f0f8ff;}#sk-container-id-2 input.sk-toggleable__control:checked~div.sk-toggleable__content {max-height: 200px;max-width: 100%;overflow: auto;}#sk-container-id-2 input.sk-toggleable__control:checked~label.sk-toggleable__label-arrow:before {content: \"▾\";}#sk-container-id-2 div.sk-estimator input.sk-toggleable__control:checked~label.sk-toggleable__label {background-color: #d4ebff;}#sk-container-id-2 div.sk-label input.sk-toggleable__control:checked~label.sk-toggleable__label {background-color: #d4ebff;}#sk-container-id-2 input.sk-hidden--visually {border: 0;clip: rect(1px 1px 1px 1px);clip: rect(1px, 1px, 1px, 1px);height: 1px;margin: -1px;overflow: hidden;padding: 0;position: absolute;width: 1px;}#sk-container-id-2 div.sk-estimator {font-family: monospace;background-color: #f0f8ff;border: 1px dotted black;border-radius: 0.25em;box-sizing: border-box;margin-bottom: 0.5em;}#sk-container-id-2 div.sk-estimator:hover {background-color: #d4ebff;}#sk-container-id-2 div.sk-parallel-item::after {content: \"\";width: 100%;border-bottom: 1px solid gray;flex-grow: 1;}#sk-container-id-2 div.sk-label:hover label.sk-toggleable__label {background-color: #d4ebff;}#sk-container-id-2 div.sk-serial::before {content: \"\";position: absolute;border-left: 1px solid gray;box-sizing: border-box;top: 0;bottom: 0;left: 50%;z-index: 0;}#sk-container-id-2 div.sk-serial {display: flex;flex-direction: column;align-items: center;background-color: white;padding-right: 0.2em;padding-left: 0.2em;position: relative;}#sk-container-id-2 div.sk-item {position: relative;z-index: 1;}#sk-container-id-2 div.sk-parallel {display: flex;align-items: stretch;justify-content: center;background-color: white;position: relative;}#sk-container-id-2 div.sk-item::before, #sk-container-id-2 div.sk-parallel-item::before {content: \"\";position: absolute;border-left: 1px solid gray;box-sizing: border-box;top: 0;bottom: 0;left: 50%;z-index: -1;}#sk-container-id-2 div.sk-parallel-item {display: flex;flex-direction: column;z-index: 1;position: relative;background-color: white;}#sk-container-id-2 div.sk-parallel-item:first-child::after {align-self: flex-end;width: 50%;}#sk-container-id-2 div.sk-parallel-item:last-child::after {align-self: flex-start;width: 50%;}#sk-container-id-2 div.sk-parallel-item:only-child::after {width: 0;}#sk-container-id-2 div.sk-dashed-wrapped {border: 1px dashed gray;margin: 0 0.4em 0.5em 0.4em;box-sizing: border-box;padding-bottom: 0.4em;background-color: white;}#sk-container-id-2 div.sk-label label {font-family: monospace;font-weight: bold;display: inline-block;line-height: 1.2em;}#sk-container-id-2 div.sk-label-container {text-align: center;}#sk-container-id-2 div.sk-container {/* jupyter's `normalize.less` sets `[hidden] { display: none; }` but bootstrap.min.css set `[hidden] { display: none !important; }` so we also need the `!important` here to be able to override the default hidden behavior on the sphinx rendered scikit-learn.org. See: https://github.com/scikit-learn/scikit-learn/issues/21755 */display: inline-block !important;position: relative;}#sk-container-id-2 div.sk-text-repr-fallback {display: none;}</style><div id=\"sk-container-id-2\" class=\"sk-top-container\"><div class=\"sk-text-repr-fallback\"><pre>DBSCAN(eps=2)</pre><b>In a Jupyter environment, please rerun this cell to show the HTML representation or trust the notebook. <br />On GitHub, the HTML representation is unable to render, please try loading this page with nbviewer.org.</b></div><div class=\"sk-container\" hidden><div class=\"sk-item\"><div class=\"sk-estimator sk-toggleable\"><input class=\"sk-toggleable__control sk-hidden--visually\" id=\"sk-estimator-id-2\" type=\"checkbox\" checked><label for=\"sk-estimator-id-2\" class=\"sk-toggleable__label sk-toggleable__label-arrow\">DBSCAN</label><div class=\"sk-toggleable__content\"><pre>DBSCAN(eps=2)</pre></div></div></div></div></div>"
      ],
      "text/plain": [
       "DBSCAN(eps=2)"
      ]
     },
     "execution_count": 28,
     "metadata": {},
     "output_type": "execute_result"
    }
   ],
   "source": [
    "# 분류 구획에 대한 고차함수를 학습\n",
    "dbscan.fit(X) "
   ]
  },
  {
   "cell_type": "code",
   "execution_count": 30,
   "id": "02360197",
   "metadata": {},
   "outputs": [
    {
     "data": {
      "text/plain": [
       "array([ 0,  0,  0,  1,  0,  1,  0,  0,  0,  0,  0,  0,  0,  1,  0,  0,  1,\n",
       "        0,  1,  0,  0,  0,  0,  1,  0,  0,  1,  1,  0,  0,  0,  1,  0,  0,\n",
       "        0,  0,  1,  0,  0,  1,  0,  0,  1,  0,  0,  0,  0,  0,  1,  1,  1,\n",
       "        0,  0,  0,  1,  0,  0,  0,  0,  1,  1,  1,  1,  0,  1,  0,  0,  0,\n",
       "        0,  0,  0,  1,  0,  0,  0,  0,  0,  0,  0,  1,  0,  1,  0,  1,  1,\n",
       "        1,  1,  1,  0,  0,  1,  0,  0,  0,  1,  0,  0,  0,  0,  1,  1,  0,\n",
       "        1,  1,  1,  0,  0,  1,  1,  0,  0,  0,  1,  1,  1,  1,  1,  0,  1,\n",
       "        0,  0,  0,  0,  0,  0,  1,  1,  0,  0,  0,  1,  1,  0,  0,  0,  0,\n",
       "        1,  0,  1,  1,  0,  0,  0,  1,  1,  1,  0,  0,  0,  0,  0,  1,  1,\n",
       "        0,  1,  0,  0,  0,  0,  1,  0,  1,  1,  1,  0,  0,  0,  0,  1,  0,\n",
       "        1,  0,  0,  1,  0,  0,  0,  0,  0,  0,  1,  1,  0,  0,  0,  0,  0,\n",
       "        0,  0,  1,  1,  0,  0,  0,  1,  0,  0,  0,  1,  0,  1,  0,  0,  0,\n",
       "        0,  0,  0,  0,  0,  0,  0,  0,  0,  0,  0,  1,  0,  1,  0,  0,  0,\n",
       "        0,  0,  0,  1,  0,  0,  1,  0,  1,  0,  0,  1,  1,  0,  0,  1,  0,\n",
       "        0,  1,  0,  0,  0,  0,  0,  1,  0,  1,  0,  1,  1,  0,  0,  1,  0,\n",
       "        1,  0,  0,  1,  0,  1,  1,  1,  1,  0,  0,  0,  0,  0,  1,  0,  1,\n",
       "        1,  0,  1,  0,  0,  1,  0,  1,  0,  0,  1,  0,  1,  1,  0,  0,  0,\n",
       "        1,  0,  0,  0,  0,  1,  0,  0,  0,  0,  0,  0,  0,  0,  0,  0,  0,\n",
       "        0,  0,  1,  1,  0,  0,  0,  1,  1,  0,  0,  1,  1,  0,  0,  1,  1,\n",
       "        0,  1,  1,  1,  0,  0,  0,  1,  0,  0,  0,  1,  1,  0,  0,  1,  0,\n",
       "        0,  1,  1,  0,  1,  1,  1,  1,  0,  0,  0,  1,  1,  0,  0,  1,  0,\n",
       "        1,  0,  1,  0,  0,  0,  1,  0,  0,  0,  1,  0,  0,  0,  0,  0,  0,\n",
       "        0,  0,  1,  0,  1,  1,  0,  1,  0,  1,  0,  0,  1,  0,  1,  0,  0,\n",
       "        1,  0,  0,  0,  1,  1,  0,  0,  0,  1,  0,  0,  0,  0,  0,  0,  0,\n",
       "        0,  0,  0,  0,  0,  1,  0,  1,  0,  0,  1,  0,  0,  1,  0,  0,  1,\n",
       "        1,  0,  0,  0,  0,  0,  1,  0,  0,  1,  0,  0,  0,  1,  1,  0,  0,\n",
       "        0,  0,  0,  0,  0,  0,  0,  0,  0,  0,  0,  0,  0,  0, -1,  0,  1,\n",
       "        1,  0,  0,  0,  1,  1,  1,  0,  0,  0,  0,  1,  1,  0,  0,  1,  0,\n",
       "        1,  0,  0,  1,  1,  0,  0,  0,  0,  1,  1,  0,  0,  0,  1,  1,  0,\n",
       "        0,  0,  0,  0,  0,  1,  0], dtype=int64)"
      ]
     },
     "execution_count": 30,
     "metadata": {},
     "output_type": "execute_result"
    }
   ],
   "source": [
    "dbscan.labels_   # 학습되었는지 확인"
   ]
  },
  {
   "cell_type": "code",
   "execution_count": 32,
   "id": "1f507a72",
   "metadata": {},
   "outputs": [
    {
     "data": {
      "text/plain": [
       " 0    332\n",
       " 1    167\n",
       "-1      1\n",
       "dtype: int64"
      ]
     },
     "execution_count": 32,
     "metadata": {},
     "output_type": "execute_result"
    }
   ],
   "source": [
    "pd.Series(dbscan.labels_).value_counts()   # value_counts()를 쓰기 위해 판다스로 변경"
   ]
  },
  {
   "cell_type": "code",
   "execution_count": 117,
   "id": "fa2a55f0",
   "metadata": {},
   "outputs": [
    {
     "data": {
      "text/html": [
       "<style>#sk-container-id-39 {color: black;background-color: white;}#sk-container-id-39 pre{padding: 0;}#sk-container-id-39 div.sk-toggleable {background-color: white;}#sk-container-id-39 label.sk-toggleable__label {cursor: pointer;display: block;width: 100%;margin-bottom: 0;padding: 0.3em;box-sizing: border-box;text-align: center;}#sk-container-id-39 label.sk-toggleable__label-arrow:before {content: \"▸\";float: left;margin-right: 0.25em;color: #696969;}#sk-container-id-39 label.sk-toggleable__label-arrow:hover:before {color: black;}#sk-container-id-39 div.sk-estimator:hover label.sk-toggleable__label-arrow:before {color: black;}#sk-container-id-39 div.sk-toggleable__content {max-height: 0;max-width: 0;overflow: hidden;text-align: left;background-color: #f0f8ff;}#sk-container-id-39 div.sk-toggleable__content pre {margin: 0.2em;color: black;border-radius: 0.25em;background-color: #f0f8ff;}#sk-container-id-39 input.sk-toggleable__control:checked~div.sk-toggleable__content {max-height: 200px;max-width: 100%;overflow: auto;}#sk-container-id-39 input.sk-toggleable__control:checked~label.sk-toggleable__label-arrow:before {content: \"▾\";}#sk-container-id-39 div.sk-estimator input.sk-toggleable__control:checked~label.sk-toggleable__label {background-color: #d4ebff;}#sk-container-id-39 div.sk-label input.sk-toggleable__control:checked~label.sk-toggleable__label {background-color: #d4ebff;}#sk-container-id-39 input.sk-hidden--visually {border: 0;clip: rect(1px 1px 1px 1px);clip: rect(1px, 1px, 1px, 1px);height: 1px;margin: -1px;overflow: hidden;padding: 0;position: absolute;width: 1px;}#sk-container-id-39 div.sk-estimator {font-family: monospace;background-color: #f0f8ff;border: 1px dotted black;border-radius: 0.25em;box-sizing: border-box;margin-bottom: 0.5em;}#sk-container-id-39 div.sk-estimator:hover {background-color: #d4ebff;}#sk-container-id-39 div.sk-parallel-item::after {content: \"\";width: 100%;border-bottom: 1px solid gray;flex-grow: 1;}#sk-container-id-39 div.sk-label:hover label.sk-toggleable__label {background-color: #d4ebff;}#sk-container-id-39 div.sk-serial::before {content: \"\";position: absolute;border-left: 1px solid gray;box-sizing: border-box;top: 0;bottom: 0;left: 50%;z-index: 0;}#sk-container-id-39 div.sk-serial {display: flex;flex-direction: column;align-items: center;background-color: white;padding-right: 0.2em;padding-left: 0.2em;position: relative;}#sk-container-id-39 div.sk-item {position: relative;z-index: 1;}#sk-container-id-39 div.sk-parallel {display: flex;align-items: stretch;justify-content: center;background-color: white;position: relative;}#sk-container-id-39 div.sk-item::before, #sk-container-id-39 div.sk-parallel-item::before {content: \"\";position: absolute;border-left: 1px solid gray;box-sizing: border-box;top: 0;bottom: 0;left: 50%;z-index: -1;}#sk-container-id-39 div.sk-parallel-item {display: flex;flex-direction: column;z-index: 1;position: relative;background-color: white;}#sk-container-id-39 div.sk-parallel-item:first-child::after {align-self: flex-end;width: 50%;}#sk-container-id-39 div.sk-parallel-item:last-child::after {align-self: flex-start;width: 50%;}#sk-container-id-39 div.sk-parallel-item:only-child::after {width: 0;}#sk-container-id-39 div.sk-dashed-wrapped {border: 1px dashed gray;margin: 0 0.4em 0.5em 0.4em;box-sizing: border-box;padding-bottom: 0.4em;background-color: white;}#sk-container-id-39 div.sk-label label {font-family: monospace;font-weight: bold;display: inline-block;line-height: 1.2em;}#sk-container-id-39 div.sk-label-container {text-align: center;}#sk-container-id-39 div.sk-container {/* jupyter's `normalize.less` sets `[hidden] { display: none; }` but bootstrap.min.css set `[hidden] { display: none !important; }` so we also need the `!important` here to be able to override the default hidden behavior on the sphinx rendered scikit-learn.org. See: https://github.com/scikit-learn/scikit-learn/issues/21755 */display: inline-block !important;position: relative;}#sk-container-id-39 div.sk-text-repr-fallback {display: none;}</style><div id=\"sk-container-id-39\" class=\"sk-top-container\"><div class=\"sk-text-repr-fallback\"><pre>DBSCAN(eps=2, min_samples=2)</pre><b>In a Jupyter environment, please rerun this cell to show the HTML representation or trust the notebook. <br />On GitHub, the HTML representation is unable to render, please try loading this page with nbviewer.org.</b></div><div class=\"sk-container\" hidden><div class=\"sk-item\"><div class=\"sk-estimator sk-toggleable\"><input class=\"sk-toggleable__control sk-hidden--visually\" id=\"sk-estimator-id-39\" type=\"checkbox\" checked><label for=\"sk-estimator-id-39\" class=\"sk-toggleable__label sk-toggleable__label-arrow\">DBSCAN</label><div class=\"sk-toggleable__content\"><pre>DBSCAN(eps=2, min_samples=2)</pre></div></div></div></div></div>"
      ],
      "text/plain": [
       "DBSCAN(eps=2, min_samples=2)"
      ]
     },
     "execution_count": 117,
     "metadata": {},
     "output_type": "execute_result"
    }
   ],
   "source": [
    "# 두 개로 분류된 위 데이터를 분류가 세 개로 되게끔 바꾸기 : 뭘 바꿀지 답은 정해지지 않음 1) min_samples의 개수를 줄여봄\n",
    "\n",
    "dbscan = DBSCAN(eps=2, min_samples=2, metric='euclidean')   # eps 변경하면서 테스트\n",
    "dbscan       # 객체 생성"
   ]
  },
  {
   "cell_type": "code",
   "execution_count": 118,
   "id": "d7555414",
   "metadata": {},
   "outputs": [
    {
     "data": {
      "text/html": [
       "<style>#sk-container-id-40 {color: black;background-color: white;}#sk-container-id-40 pre{padding: 0;}#sk-container-id-40 div.sk-toggleable {background-color: white;}#sk-container-id-40 label.sk-toggleable__label {cursor: pointer;display: block;width: 100%;margin-bottom: 0;padding: 0.3em;box-sizing: border-box;text-align: center;}#sk-container-id-40 label.sk-toggleable__label-arrow:before {content: \"▸\";float: left;margin-right: 0.25em;color: #696969;}#sk-container-id-40 label.sk-toggleable__label-arrow:hover:before {color: black;}#sk-container-id-40 div.sk-estimator:hover label.sk-toggleable__label-arrow:before {color: black;}#sk-container-id-40 div.sk-toggleable__content {max-height: 0;max-width: 0;overflow: hidden;text-align: left;background-color: #f0f8ff;}#sk-container-id-40 div.sk-toggleable__content pre {margin: 0.2em;color: black;border-radius: 0.25em;background-color: #f0f8ff;}#sk-container-id-40 input.sk-toggleable__control:checked~div.sk-toggleable__content {max-height: 200px;max-width: 100%;overflow: auto;}#sk-container-id-40 input.sk-toggleable__control:checked~label.sk-toggleable__label-arrow:before {content: \"▾\";}#sk-container-id-40 div.sk-estimator input.sk-toggleable__control:checked~label.sk-toggleable__label {background-color: #d4ebff;}#sk-container-id-40 div.sk-label input.sk-toggleable__control:checked~label.sk-toggleable__label {background-color: #d4ebff;}#sk-container-id-40 input.sk-hidden--visually {border: 0;clip: rect(1px 1px 1px 1px);clip: rect(1px, 1px, 1px, 1px);height: 1px;margin: -1px;overflow: hidden;padding: 0;position: absolute;width: 1px;}#sk-container-id-40 div.sk-estimator {font-family: monospace;background-color: #f0f8ff;border: 1px dotted black;border-radius: 0.25em;box-sizing: border-box;margin-bottom: 0.5em;}#sk-container-id-40 div.sk-estimator:hover {background-color: #d4ebff;}#sk-container-id-40 div.sk-parallel-item::after {content: \"\";width: 100%;border-bottom: 1px solid gray;flex-grow: 1;}#sk-container-id-40 div.sk-label:hover label.sk-toggleable__label {background-color: #d4ebff;}#sk-container-id-40 div.sk-serial::before {content: \"\";position: absolute;border-left: 1px solid gray;box-sizing: border-box;top: 0;bottom: 0;left: 50%;z-index: 0;}#sk-container-id-40 div.sk-serial {display: flex;flex-direction: column;align-items: center;background-color: white;padding-right: 0.2em;padding-left: 0.2em;position: relative;}#sk-container-id-40 div.sk-item {position: relative;z-index: 1;}#sk-container-id-40 div.sk-parallel {display: flex;align-items: stretch;justify-content: center;background-color: white;position: relative;}#sk-container-id-40 div.sk-item::before, #sk-container-id-40 div.sk-parallel-item::before {content: \"\";position: absolute;border-left: 1px solid gray;box-sizing: border-box;top: 0;bottom: 0;left: 50%;z-index: -1;}#sk-container-id-40 div.sk-parallel-item {display: flex;flex-direction: column;z-index: 1;position: relative;background-color: white;}#sk-container-id-40 div.sk-parallel-item:first-child::after {align-self: flex-end;width: 50%;}#sk-container-id-40 div.sk-parallel-item:last-child::after {align-self: flex-start;width: 50%;}#sk-container-id-40 div.sk-parallel-item:only-child::after {width: 0;}#sk-container-id-40 div.sk-dashed-wrapped {border: 1px dashed gray;margin: 0 0.4em 0.5em 0.4em;box-sizing: border-box;padding-bottom: 0.4em;background-color: white;}#sk-container-id-40 div.sk-label label {font-family: monospace;font-weight: bold;display: inline-block;line-height: 1.2em;}#sk-container-id-40 div.sk-label-container {text-align: center;}#sk-container-id-40 div.sk-container {/* jupyter's `normalize.less` sets `[hidden] { display: none; }` but bootstrap.min.css set `[hidden] { display: none !important; }` so we also need the `!important` here to be able to override the default hidden behavior on the sphinx rendered scikit-learn.org. See: https://github.com/scikit-learn/scikit-learn/issues/21755 */display: inline-block !important;position: relative;}#sk-container-id-40 div.sk-text-repr-fallback {display: none;}</style><div id=\"sk-container-id-40\" class=\"sk-top-container\"><div class=\"sk-text-repr-fallback\"><pre>DBSCAN(eps=2, min_samples=2)</pre><b>In a Jupyter environment, please rerun this cell to show the HTML representation or trust the notebook. <br />On GitHub, the HTML representation is unable to render, please try loading this page with nbviewer.org.</b></div><div class=\"sk-container\" hidden><div class=\"sk-item\"><div class=\"sk-estimator sk-toggleable\"><input class=\"sk-toggleable__control sk-hidden--visually\" id=\"sk-estimator-id-40\" type=\"checkbox\" checked><label for=\"sk-estimator-id-40\" class=\"sk-toggleable__label sk-toggleable__label-arrow\">DBSCAN</label><div class=\"sk-toggleable__content\"><pre>DBSCAN(eps=2, min_samples=2)</pre></div></div></div></div></div>"
      ],
      "text/plain": [
       "DBSCAN(eps=2, min_samples=2)"
      ]
     },
     "execution_count": 118,
     "metadata": {},
     "output_type": "execute_result"
    }
   ],
   "source": [
    "# 분류 구획에 대한 고차함수를 학습\n",
    "dbscan.fit(X) "
   ]
  },
  {
   "cell_type": "code",
   "execution_count": 119,
   "id": "87694102",
   "metadata": {},
   "outputs": [
    {
     "data": {
      "text/plain": [
       "array([ 0,  0,  0,  1,  0,  1,  0,  0,  0,  0,  0,  0,  0,  1,  0,  0,  1,\n",
       "        0,  1,  0,  0,  0,  0,  1,  0,  0,  1,  1,  0,  0,  0,  1,  0,  0,\n",
       "        0,  0,  1,  0,  0,  1,  0,  0,  1,  0,  0,  0,  0,  0,  1,  1,  1,\n",
       "        0,  0,  0,  1,  0,  0,  0,  0,  1,  1,  1,  1,  0,  1,  0,  0,  0,\n",
       "        0,  0,  0,  1,  0,  0,  0,  0,  0,  0,  0,  1,  0,  1,  0,  1,  1,\n",
       "        1,  1,  1,  0,  0,  1,  0,  0,  0,  1,  0,  0,  0,  0,  1,  1,  0,\n",
       "        1,  1,  1,  0,  0,  1,  1,  0,  0,  0,  1,  1,  1,  1,  1,  0,  1,\n",
       "        0,  0,  0,  0,  0,  0,  1,  1,  0,  0,  0,  1,  1,  0,  0,  0,  0,\n",
       "        1,  0,  1,  1,  0,  0,  0,  1,  1,  1,  0,  0,  0,  0,  0,  1,  1,\n",
       "        0,  1,  0,  0,  0,  0,  1,  0,  1,  1,  1,  0,  0,  0,  0,  1,  0,\n",
       "        1,  0,  0,  1,  0,  0,  0,  0,  0,  0,  1,  1,  0,  0,  0,  0,  0,\n",
       "        0,  0,  1,  1,  0,  0,  0,  1,  0,  0,  0,  1,  0,  1,  0,  0,  0,\n",
       "        0,  0,  0,  0,  0,  0,  0,  0,  0,  0,  0,  1,  0,  1,  0,  0,  0,\n",
       "        0,  0,  0,  1,  0,  0,  1,  0,  1,  0,  0,  1,  1,  0,  0,  1,  0,\n",
       "        0,  1,  0,  0,  0,  0,  0,  1,  0,  1,  0,  1,  1,  0,  0,  1,  0,\n",
       "        1,  0,  0,  1,  0,  1,  1,  1,  1,  0,  0,  0,  0,  0,  1,  0,  1,\n",
       "        1,  0,  1,  0,  0,  1,  0,  1,  0,  0,  1,  0,  1,  1,  0,  0,  0,\n",
       "        1,  0,  0,  0,  0,  1,  0,  0,  0,  0,  0,  0,  0,  0,  0,  0,  0,\n",
       "        0,  0,  1,  1,  0,  0,  0,  1,  1,  0,  0,  1,  1,  0,  0,  1,  1,\n",
       "        0,  1,  1,  1,  0,  0,  0,  1,  0,  0,  0,  1,  1,  0,  0,  1,  0,\n",
       "        0,  1,  1,  0,  1,  1,  1,  1,  0,  0,  0,  1,  1,  0,  0,  1,  0,\n",
       "        1,  0,  1,  0,  0,  0,  1,  0,  0,  0,  1,  0,  0,  0,  0,  0,  0,\n",
       "        0,  0,  1,  0,  1,  1,  0,  1,  0,  1,  0,  0,  1,  0,  1,  0,  0,\n",
       "        1,  0,  0,  0,  1,  1,  0,  0,  0,  1,  0,  0,  0,  0,  0,  0,  0,\n",
       "        0,  0,  0,  0,  0,  1,  0,  1,  0,  0,  1,  0,  0,  1,  0,  0,  1,\n",
       "        1,  0,  0,  0,  0,  0,  1,  0,  0,  1,  0,  0,  0,  1,  1,  0,  0,\n",
       "        0,  0,  0,  0,  0,  0,  0,  0,  0,  0,  0,  0,  0,  0, -1,  0,  1,\n",
       "        1,  0,  0,  0,  1,  1,  1,  0,  0,  0,  0,  1,  1,  0,  0,  1,  0,\n",
       "        1,  0,  0,  1,  1,  0,  0,  0,  0,  1,  1,  0,  0,  0,  1,  1,  0,\n",
       "        0,  0,  0,  0,  0,  1,  0], dtype=int64)"
      ]
     },
     "execution_count": 119,
     "metadata": {},
     "output_type": "execute_result"
    }
   ],
   "source": [
    "dbscan.labels_   # 학습되었는지 확인"
   ]
  },
  {
   "cell_type": "code",
   "execution_count": 120,
   "id": "476e8794",
   "metadata": {},
   "outputs": [
    {
     "data": {
      "text/plain": [
       " 0    332\n",
       " 1    167\n",
       "-1      1\n",
       "dtype: int64"
      ]
     },
     "execution_count": 120,
     "metadata": {},
     "output_type": "execute_result"
    }
   ],
   "source": [
    "pd.Series(dbscan.labels_).value_counts() "
   ]
  },
  {
   "cell_type": "code",
   "execution_count": 121,
   "id": "8974e595",
   "metadata": {},
   "outputs": [
    {
     "data": {
      "text/html": [
       "<style>#sk-container-id-41 {color: black;background-color: white;}#sk-container-id-41 pre{padding: 0;}#sk-container-id-41 div.sk-toggleable {background-color: white;}#sk-container-id-41 label.sk-toggleable__label {cursor: pointer;display: block;width: 100%;margin-bottom: 0;padding: 0.3em;box-sizing: border-box;text-align: center;}#sk-container-id-41 label.sk-toggleable__label-arrow:before {content: \"▸\";float: left;margin-right: 0.25em;color: #696969;}#sk-container-id-41 label.sk-toggleable__label-arrow:hover:before {color: black;}#sk-container-id-41 div.sk-estimator:hover label.sk-toggleable__label-arrow:before {color: black;}#sk-container-id-41 div.sk-toggleable__content {max-height: 0;max-width: 0;overflow: hidden;text-align: left;background-color: #f0f8ff;}#sk-container-id-41 div.sk-toggleable__content pre {margin: 0.2em;color: black;border-radius: 0.25em;background-color: #f0f8ff;}#sk-container-id-41 input.sk-toggleable__control:checked~div.sk-toggleable__content {max-height: 200px;max-width: 100%;overflow: auto;}#sk-container-id-41 input.sk-toggleable__control:checked~label.sk-toggleable__label-arrow:before {content: \"▾\";}#sk-container-id-41 div.sk-estimator input.sk-toggleable__control:checked~label.sk-toggleable__label {background-color: #d4ebff;}#sk-container-id-41 div.sk-label input.sk-toggleable__control:checked~label.sk-toggleable__label {background-color: #d4ebff;}#sk-container-id-41 input.sk-hidden--visually {border: 0;clip: rect(1px 1px 1px 1px);clip: rect(1px, 1px, 1px, 1px);height: 1px;margin: -1px;overflow: hidden;padding: 0;position: absolute;width: 1px;}#sk-container-id-41 div.sk-estimator {font-family: monospace;background-color: #f0f8ff;border: 1px dotted black;border-radius: 0.25em;box-sizing: border-box;margin-bottom: 0.5em;}#sk-container-id-41 div.sk-estimator:hover {background-color: #d4ebff;}#sk-container-id-41 div.sk-parallel-item::after {content: \"\";width: 100%;border-bottom: 1px solid gray;flex-grow: 1;}#sk-container-id-41 div.sk-label:hover label.sk-toggleable__label {background-color: #d4ebff;}#sk-container-id-41 div.sk-serial::before {content: \"\";position: absolute;border-left: 1px solid gray;box-sizing: border-box;top: 0;bottom: 0;left: 50%;z-index: 0;}#sk-container-id-41 div.sk-serial {display: flex;flex-direction: column;align-items: center;background-color: white;padding-right: 0.2em;padding-left: 0.2em;position: relative;}#sk-container-id-41 div.sk-item {position: relative;z-index: 1;}#sk-container-id-41 div.sk-parallel {display: flex;align-items: stretch;justify-content: center;background-color: white;position: relative;}#sk-container-id-41 div.sk-item::before, #sk-container-id-41 div.sk-parallel-item::before {content: \"\";position: absolute;border-left: 1px solid gray;box-sizing: border-box;top: 0;bottom: 0;left: 50%;z-index: -1;}#sk-container-id-41 div.sk-parallel-item {display: flex;flex-direction: column;z-index: 1;position: relative;background-color: white;}#sk-container-id-41 div.sk-parallel-item:first-child::after {align-self: flex-end;width: 50%;}#sk-container-id-41 div.sk-parallel-item:last-child::after {align-self: flex-start;width: 50%;}#sk-container-id-41 div.sk-parallel-item:only-child::after {width: 0;}#sk-container-id-41 div.sk-dashed-wrapped {border: 1px dashed gray;margin: 0 0.4em 0.5em 0.4em;box-sizing: border-box;padding-bottom: 0.4em;background-color: white;}#sk-container-id-41 div.sk-label label {font-family: monospace;font-weight: bold;display: inline-block;line-height: 1.2em;}#sk-container-id-41 div.sk-label-container {text-align: center;}#sk-container-id-41 div.sk-container {/* jupyter's `normalize.less` sets `[hidden] { display: none; }` but bootstrap.min.css set `[hidden] { display: none !important; }` so we also need the `!important` here to be able to override the default hidden behavior on the sphinx rendered scikit-learn.org. See: https://github.com/scikit-learn/scikit-learn/issues/21755 */display: inline-block !important;position: relative;}#sk-container-id-41 div.sk-text-repr-fallback {display: none;}</style><div id=\"sk-container-id-41\" class=\"sk-top-container\"><div class=\"sk-text-repr-fallback\"><pre>DBSCAN(eps=5)</pre><b>In a Jupyter environment, please rerun this cell to show the HTML representation or trust the notebook. <br />On GitHub, the HTML representation is unable to render, please try loading this page with nbviewer.org.</b></div><div class=\"sk-container\" hidden><div class=\"sk-item\"><div class=\"sk-estimator sk-toggleable\"><input class=\"sk-toggleable__control sk-hidden--visually\" id=\"sk-estimator-id-41\" type=\"checkbox\" checked><label for=\"sk-estimator-id-41\" class=\"sk-toggleable__label sk-toggleable__label-arrow\">DBSCAN</label><div class=\"sk-toggleable__content\"><pre>DBSCAN(eps=5)</pre></div></div></div></div></div>"
      ],
      "text/plain": [
       "DBSCAN(eps=5)"
      ]
     },
     "execution_count": 121,
     "metadata": {},
     "output_type": "execute_result"
    }
   ],
   "source": [
    "# 두 개로 분류된 위 데이터를 분류가 세 개로 되게끔 바꾸기: 뭘 바꿀지 답은 정해지지 않음  \n",
    "# 2) min_samples은 그대로 eps의 개수를 늘려봄\n",
    "\n",
    "dbscan = DBSCAN(eps=5, min_samples=5, metric='euclidean')   # eps 변경하면서 테스트\n",
    "dbscan       # 객체 생성"
   ]
  },
  {
   "cell_type": "code",
   "execution_count": 122,
   "id": "870c4236",
   "metadata": {},
   "outputs": [
    {
     "data": {
      "text/html": [
       "<style>#sk-container-id-42 {color: black;background-color: white;}#sk-container-id-42 pre{padding: 0;}#sk-container-id-42 div.sk-toggleable {background-color: white;}#sk-container-id-42 label.sk-toggleable__label {cursor: pointer;display: block;width: 100%;margin-bottom: 0;padding: 0.3em;box-sizing: border-box;text-align: center;}#sk-container-id-42 label.sk-toggleable__label-arrow:before {content: \"▸\";float: left;margin-right: 0.25em;color: #696969;}#sk-container-id-42 label.sk-toggleable__label-arrow:hover:before {color: black;}#sk-container-id-42 div.sk-estimator:hover label.sk-toggleable__label-arrow:before {color: black;}#sk-container-id-42 div.sk-toggleable__content {max-height: 0;max-width: 0;overflow: hidden;text-align: left;background-color: #f0f8ff;}#sk-container-id-42 div.sk-toggleable__content pre {margin: 0.2em;color: black;border-radius: 0.25em;background-color: #f0f8ff;}#sk-container-id-42 input.sk-toggleable__control:checked~div.sk-toggleable__content {max-height: 200px;max-width: 100%;overflow: auto;}#sk-container-id-42 input.sk-toggleable__control:checked~label.sk-toggleable__label-arrow:before {content: \"▾\";}#sk-container-id-42 div.sk-estimator input.sk-toggleable__control:checked~label.sk-toggleable__label {background-color: #d4ebff;}#sk-container-id-42 div.sk-label input.sk-toggleable__control:checked~label.sk-toggleable__label {background-color: #d4ebff;}#sk-container-id-42 input.sk-hidden--visually {border: 0;clip: rect(1px 1px 1px 1px);clip: rect(1px, 1px, 1px, 1px);height: 1px;margin: -1px;overflow: hidden;padding: 0;position: absolute;width: 1px;}#sk-container-id-42 div.sk-estimator {font-family: monospace;background-color: #f0f8ff;border: 1px dotted black;border-radius: 0.25em;box-sizing: border-box;margin-bottom: 0.5em;}#sk-container-id-42 div.sk-estimator:hover {background-color: #d4ebff;}#sk-container-id-42 div.sk-parallel-item::after {content: \"\";width: 100%;border-bottom: 1px solid gray;flex-grow: 1;}#sk-container-id-42 div.sk-label:hover label.sk-toggleable__label {background-color: #d4ebff;}#sk-container-id-42 div.sk-serial::before {content: \"\";position: absolute;border-left: 1px solid gray;box-sizing: border-box;top: 0;bottom: 0;left: 50%;z-index: 0;}#sk-container-id-42 div.sk-serial {display: flex;flex-direction: column;align-items: center;background-color: white;padding-right: 0.2em;padding-left: 0.2em;position: relative;}#sk-container-id-42 div.sk-item {position: relative;z-index: 1;}#sk-container-id-42 div.sk-parallel {display: flex;align-items: stretch;justify-content: center;background-color: white;position: relative;}#sk-container-id-42 div.sk-item::before, #sk-container-id-42 div.sk-parallel-item::before {content: \"\";position: absolute;border-left: 1px solid gray;box-sizing: border-box;top: 0;bottom: 0;left: 50%;z-index: -1;}#sk-container-id-42 div.sk-parallel-item {display: flex;flex-direction: column;z-index: 1;position: relative;background-color: white;}#sk-container-id-42 div.sk-parallel-item:first-child::after {align-self: flex-end;width: 50%;}#sk-container-id-42 div.sk-parallel-item:last-child::after {align-self: flex-start;width: 50%;}#sk-container-id-42 div.sk-parallel-item:only-child::after {width: 0;}#sk-container-id-42 div.sk-dashed-wrapped {border: 1px dashed gray;margin: 0 0.4em 0.5em 0.4em;box-sizing: border-box;padding-bottom: 0.4em;background-color: white;}#sk-container-id-42 div.sk-label label {font-family: monospace;font-weight: bold;display: inline-block;line-height: 1.2em;}#sk-container-id-42 div.sk-label-container {text-align: center;}#sk-container-id-42 div.sk-container {/* jupyter's `normalize.less` sets `[hidden] { display: none; }` but bootstrap.min.css set `[hidden] { display: none !important; }` so we also need the `!important` here to be able to override the default hidden behavior on the sphinx rendered scikit-learn.org. See: https://github.com/scikit-learn/scikit-learn/issues/21755 */display: inline-block !important;position: relative;}#sk-container-id-42 div.sk-text-repr-fallback {display: none;}</style><div id=\"sk-container-id-42\" class=\"sk-top-container\"><div class=\"sk-text-repr-fallback\"><pre>DBSCAN(eps=5)</pre><b>In a Jupyter environment, please rerun this cell to show the HTML representation or trust the notebook. <br />On GitHub, the HTML representation is unable to render, please try loading this page with nbviewer.org.</b></div><div class=\"sk-container\" hidden><div class=\"sk-item\"><div class=\"sk-estimator sk-toggleable\"><input class=\"sk-toggleable__control sk-hidden--visually\" id=\"sk-estimator-id-42\" type=\"checkbox\" checked><label for=\"sk-estimator-id-42\" class=\"sk-toggleable__label sk-toggleable__label-arrow\">DBSCAN</label><div class=\"sk-toggleable__content\"><pre>DBSCAN(eps=5)</pre></div></div></div></div></div>"
      ],
      "text/plain": [
       "DBSCAN(eps=5)"
      ]
     },
     "execution_count": 122,
     "metadata": {},
     "output_type": "execute_result"
    }
   ],
   "source": [
    "# 분류 구획에 대한 고차함수를 학습\n",
    "dbscan.fit(X) "
   ]
  },
  {
   "cell_type": "code",
   "execution_count": 123,
   "id": "1c0204df",
   "metadata": {},
   "outputs": [
    {
     "data": {
      "text/plain": [
       "array([0, 0, 0, 1, 0, 1, 0, 0, 0, 0, 0, 0, 0, 1, 0, 0, 1, 0, 1, 0, 0, 0,\n",
       "       0, 1, 0, 0, 1, 1, 0, 0, 0, 1, 0, 0, 0, 0, 1, 0, 0, 1, 0, 0, 1, 0,\n",
       "       0, 0, 0, 0, 1, 1, 1, 0, 0, 0, 1, 0, 0, 0, 0, 1, 1, 1, 1, 0, 1, 0,\n",
       "       0, 0, 0, 0, 0, 1, 0, 0, 0, 0, 0, 0, 0, 1, 0, 1, 0, 1, 1, 1, 1, 1,\n",
       "       0, 0, 1, 0, 0, 0, 1, 0, 0, 0, 0, 1, 1, 0, 1, 1, 1, 0, 0, 1, 1, 0,\n",
       "       0, 0, 1, 1, 1, 1, 1, 0, 1, 0, 0, 0, 0, 0, 0, 1, 1, 0, 0, 0, 1, 1,\n",
       "       0, 0, 0, 0, 1, 0, 1, 1, 0, 0, 0, 1, 1, 1, 0, 0, 0, 0, 0, 1, 1, 0,\n",
       "       1, 0, 0, 0, 0, 1, 0, 1, 1, 1, 0, 0, 0, 0, 1, 0, 1, 0, 0, 1, 0, 0,\n",
       "       0, 0, 0, 0, 1, 1, 0, 0, 0, 0, 0, 0, 0, 1, 1, 0, 0, 0, 1, 0, 0, 0,\n",
       "       1, 0, 1, 0, 0, 0, 0, 0, 0, 0, 0, 0, 0, 0, 0, 0, 0, 1, 0, 1, 0, 0,\n",
       "       0, 0, 0, 0, 1, 0, 0, 1, 0, 1, 0, 0, 1, 1, 0, 0, 1, 0, 0, 1, 0, 0,\n",
       "       0, 0, 0, 1, 0, 1, 0, 1, 1, 0, 0, 1, 0, 1, 0, 0, 1, 0, 1, 1, 1, 1,\n",
       "       0, 0, 0, 0, 0, 1, 0, 1, 1, 0, 1, 0, 0, 1, 0, 1, 0, 0, 1, 0, 1, 1,\n",
       "       0, 0, 0, 1, 0, 0, 0, 0, 1, 0, 0, 0, 0, 0, 0, 0, 0, 0, 0, 0, 0, 0,\n",
       "       1, 1, 0, 0, 0, 1, 1, 0, 0, 1, 1, 0, 0, 1, 1, 0, 1, 1, 1, 0, 0, 0,\n",
       "       1, 0, 0, 0, 1, 1, 0, 0, 1, 0, 0, 1, 1, 0, 1, 1, 1, 1, 0, 0, 0, 1,\n",
       "       1, 0, 0, 1, 0, 1, 0, 1, 0, 0, 0, 1, 0, 0, 0, 1, 0, 0, 0, 0, 0, 0,\n",
       "       0, 0, 1, 0, 1, 1, 0, 1, 0, 1, 0, 0, 1, 0, 1, 0, 0, 1, 0, 0, 0, 1,\n",
       "       1, 0, 0, 0, 1, 0, 0, 0, 0, 0, 0, 0, 0, 0, 0, 0, 0, 1, 0, 1, 0, 0,\n",
       "       1, 0, 0, 1, 0, 0, 1, 1, 0, 0, 0, 0, 0, 1, 0, 0, 1, 0, 0, 0, 1, 1,\n",
       "       0, 0, 0, 0, 0, 0, 0, 0, 0, 0, 0, 0, 0, 0, 0, 0, 0, 0, 1, 1, 0, 0,\n",
       "       0, 1, 1, 1, 0, 0, 0, 0, 1, 1, 0, 0, 1, 0, 1, 0, 0, 1, 1, 0, 0, 0,\n",
       "       0, 1, 1, 0, 0, 0, 1, 1, 0, 0, 0, 0, 0, 0, 1, 0], dtype=int64)"
      ]
     },
     "execution_count": 123,
     "metadata": {},
     "output_type": "execute_result"
    }
   ],
   "source": [
    "dbscan.labels_   # 학습되었는지 확인"
   ]
  },
  {
   "cell_type": "code",
   "execution_count": 124,
   "id": "07ded6a9",
   "metadata": {},
   "outputs": [
    {
     "data": {
      "text/plain": [
       "0    333\n",
       "1    167\n",
       "dtype: int64"
      ]
     },
     "execution_count": 124,
     "metadata": {},
     "output_type": "execute_result"
    }
   ],
   "source": [
    "pd.Series(dbscan.labels_).value_counts()   # 이상치가 사라짐"
   ]
  },
  {
   "cell_type": "code",
   "execution_count": 125,
   "id": "c2ad2a14",
   "metadata": {},
   "outputs": [
    {
     "data": {
      "text/html": [
       "<style>#sk-container-id-43 {color: black;background-color: white;}#sk-container-id-43 pre{padding: 0;}#sk-container-id-43 div.sk-toggleable {background-color: white;}#sk-container-id-43 label.sk-toggleable__label {cursor: pointer;display: block;width: 100%;margin-bottom: 0;padding: 0.3em;box-sizing: border-box;text-align: center;}#sk-container-id-43 label.sk-toggleable__label-arrow:before {content: \"▸\";float: left;margin-right: 0.25em;color: #696969;}#sk-container-id-43 label.sk-toggleable__label-arrow:hover:before {color: black;}#sk-container-id-43 div.sk-estimator:hover label.sk-toggleable__label-arrow:before {color: black;}#sk-container-id-43 div.sk-toggleable__content {max-height: 0;max-width: 0;overflow: hidden;text-align: left;background-color: #f0f8ff;}#sk-container-id-43 div.sk-toggleable__content pre {margin: 0.2em;color: black;border-radius: 0.25em;background-color: #f0f8ff;}#sk-container-id-43 input.sk-toggleable__control:checked~div.sk-toggleable__content {max-height: 200px;max-width: 100%;overflow: auto;}#sk-container-id-43 input.sk-toggleable__control:checked~label.sk-toggleable__label-arrow:before {content: \"▾\";}#sk-container-id-43 div.sk-estimator input.sk-toggleable__control:checked~label.sk-toggleable__label {background-color: #d4ebff;}#sk-container-id-43 div.sk-label input.sk-toggleable__control:checked~label.sk-toggleable__label {background-color: #d4ebff;}#sk-container-id-43 input.sk-hidden--visually {border: 0;clip: rect(1px 1px 1px 1px);clip: rect(1px, 1px, 1px, 1px);height: 1px;margin: -1px;overflow: hidden;padding: 0;position: absolute;width: 1px;}#sk-container-id-43 div.sk-estimator {font-family: monospace;background-color: #f0f8ff;border: 1px dotted black;border-radius: 0.25em;box-sizing: border-box;margin-bottom: 0.5em;}#sk-container-id-43 div.sk-estimator:hover {background-color: #d4ebff;}#sk-container-id-43 div.sk-parallel-item::after {content: \"\";width: 100%;border-bottom: 1px solid gray;flex-grow: 1;}#sk-container-id-43 div.sk-label:hover label.sk-toggleable__label {background-color: #d4ebff;}#sk-container-id-43 div.sk-serial::before {content: \"\";position: absolute;border-left: 1px solid gray;box-sizing: border-box;top: 0;bottom: 0;left: 50%;z-index: 0;}#sk-container-id-43 div.sk-serial {display: flex;flex-direction: column;align-items: center;background-color: white;padding-right: 0.2em;padding-left: 0.2em;position: relative;}#sk-container-id-43 div.sk-item {position: relative;z-index: 1;}#sk-container-id-43 div.sk-parallel {display: flex;align-items: stretch;justify-content: center;background-color: white;position: relative;}#sk-container-id-43 div.sk-item::before, #sk-container-id-43 div.sk-parallel-item::before {content: \"\";position: absolute;border-left: 1px solid gray;box-sizing: border-box;top: 0;bottom: 0;left: 50%;z-index: -1;}#sk-container-id-43 div.sk-parallel-item {display: flex;flex-direction: column;z-index: 1;position: relative;background-color: white;}#sk-container-id-43 div.sk-parallel-item:first-child::after {align-self: flex-end;width: 50%;}#sk-container-id-43 div.sk-parallel-item:last-child::after {align-self: flex-start;width: 50%;}#sk-container-id-43 div.sk-parallel-item:only-child::after {width: 0;}#sk-container-id-43 div.sk-dashed-wrapped {border: 1px dashed gray;margin: 0 0.4em 0.5em 0.4em;box-sizing: border-box;padding-bottom: 0.4em;background-color: white;}#sk-container-id-43 div.sk-label label {font-family: monospace;font-weight: bold;display: inline-block;line-height: 1.2em;}#sk-container-id-43 div.sk-label-container {text-align: center;}#sk-container-id-43 div.sk-container {/* jupyter's `normalize.less` sets `[hidden] { display: none; }` but bootstrap.min.css set `[hidden] { display: none !important; }` so we also need the `!important` here to be able to override the default hidden behavior on the sphinx rendered scikit-learn.org. See: https://github.com/scikit-learn/scikit-learn/issues/21755 */display: inline-block !important;position: relative;}#sk-container-id-43 div.sk-text-repr-fallback {display: none;}</style><div id=\"sk-container-id-43\" class=\"sk-top-container\"><div class=\"sk-text-repr-fallback\"><pre>DBSCAN(eps=0.8, min_samples=2)</pre><b>In a Jupyter environment, please rerun this cell to show the HTML representation or trust the notebook. <br />On GitHub, the HTML representation is unable to render, please try loading this page with nbviewer.org.</b></div><div class=\"sk-container\" hidden><div class=\"sk-item\"><div class=\"sk-estimator sk-toggleable\"><input class=\"sk-toggleable__control sk-hidden--visually\" id=\"sk-estimator-id-43\" type=\"checkbox\" checked><label for=\"sk-estimator-id-43\" class=\"sk-toggleable__label sk-toggleable__label-arrow\">DBSCAN</label><div class=\"sk-toggleable__content\"><pre>DBSCAN(eps=0.8, min_samples=2)</pre></div></div></div></div></div>"
      ],
      "text/plain": [
       "DBSCAN(eps=0.8, min_samples=2)"
      ]
     },
     "execution_count": 125,
     "metadata": {},
     "output_type": "execute_result"
    }
   ],
   "source": [
    "# 두 개로 분류된 위 데이터를 분류가 세 개로 되게끔 바꾸기 : 뭘 바꿀지 답은 정해지지 않음. 직접 테스트 해봐야 함  \n",
    "# 3)eps을 0.8로, min_samples은 2로 바꿔봄\n",
    "\n",
    "dbscan = DBSCAN(eps=0.8, min_samples=2, metric='euclidean')   # eps 변경하면서 테스트\n",
    "dbscan       # 객체 생성"
   ]
  },
  {
   "cell_type": "code",
   "execution_count": 126,
   "id": "802a4adc",
   "metadata": {},
   "outputs": [
    {
     "data": {
      "text/html": [
       "<style>#sk-container-id-44 {color: black;background-color: white;}#sk-container-id-44 pre{padding: 0;}#sk-container-id-44 div.sk-toggleable {background-color: white;}#sk-container-id-44 label.sk-toggleable__label {cursor: pointer;display: block;width: 100%;margin-bottom: 0;padding: 0.3em;box-sizing: border-box;text-align: center;}#sk-container-id-44 label.sk-toggleable__label-arrow:before {content: \"▸\";float: left;margin-right: 0.25em;color: #696969;}#sk-container-id-44 label.sk-toggleable__label-arrow:hover:before {color: black;}#sk-container-id-44 div.sk-estimator:hover label.sk-toggleable__label-arrow:before {color: black;}#sk-container-id-44 div.sk-toggleable__content {max-height: 0;max-width: 0;overflow: hidden;text-align: left;background-color: #f0f8ff;}#sk-container-id-44 div.sk-toggleable__content pre {margin: 0.2em;color: black;border-radius: 0.25em;background-color: #f0f8ff;}#sk-container-id-44 input.sk-toggleable__control:checked~div.sk-toggleable__content {max-height: 200px;max-width: 100%;overflow: auto;}#sk-container-id-44 input.sk-toggleable__control:checked~label.sk-toggleable__label-arrow:before {content: \"▾\";}#sk-container-id-44 div.sk-estimator input.sk-toggleable__control:checked~label.sk-toggleable__label {background-color: #d4ebff;}#sk-container-id-44 div.sk-label input.sk-toggleable__control:checked~label.sk-toggleable__label {background-color: #d4ebff;}#sk-container-id-44 input.sk-hidden--visually {border: 0;clip: rect(1px 1px 1px 1px);clip: rect(1px, 1px, 1px, 1px);height: 1px;margin: -1px;overflow: hidden;padding: 0;position: absolute;width: 1px;}#sk-container-id-44 div.sk-estimator {font-family: monospace;background-color: #f0f8ff;border: 1px dotted black;border-radius: 0.25em;box-sizing: border-box;margin-bottom: 0.5em;}#sk-container-id-44 div.sk-estimator:hover {background-color: #d4ebff;}#sk-container-id-44 div.sk-parallel-item::after {content: \"\";width: 100%;border-bottom: 1px solid gray;flex-grow: 1;}#sk-container-id-44 div.sk-label:hover label.sk-toggleable__label {background-color: #d4ebff;}#sk-container-id-44 div.sk-serial::before {content: \"\";position: absolute;border-left: 1px solid gray;box-sizing: border-box;top: 0;bottom: 0;left: 50%;z-index: 0;}#sk-container-id-44 div.sk-serial {display: flex;flex-direction: column;align-items: center;background-color: white;padding-right: 0.2em;padding-left: 0.2em;position: relative;}#sk-container-id-44 div.sk-item {position: relative;z-index: 1;}#sk-container-id-44 div.sk-parallel {display: flex;align-items: stretch;justify-content: center;background-color: white;position: relative;}#sk-container-id-44 div.sk-item::before, #sk-container-id-44 div.sk-parallel-item::before {content: \"\";position: absolute;border-left: 1px solid gray;box-sizing: border-box;top: 0;bottom: 0;left: 50%;z-index: -1;}#sk-container-id-44 div.sk-parallel-item {display: flex;flex-direction: column;z-index: 1;position: relative;background-color: white;}#sk-container-id-44 div.sk-parallel-item:first-child::after {align-self: flex-end;width: 50%;}#sk-container-id-44 div.sk-parallel-item:last-child::after {align-self: flex-start;width: 50%;}#sk-container-id-44 div.sk-parallel-item:only-child::after {width: 0;}#sk-container-id-44 div.sk-dashed-wrapped {border: 1px dashed gray;margin: 0 0.4em 0.5em 0.4em;box-sizing: border-box;padding-bottom: 0.4em;background-color: white;}#sk-container-id-44 div.sk-label label {font-family: monospace;font-weight: bold;display: inline-block;line-height: 1.2em;}#sk-container-id-44 div.sk-label-container {text-align: center;}#sk-container-id-44 div.sk-container {/* jupyter's `normalize.less` sets `[hidden] { display: none; }` but bootstrap.min.css set `[hidden] { display: none !important; }` so we also need the `!important` here to be able to override the default hidden behavior on the sphinx rendered scikit-learn.org. See: https://github.com/scikit-learn/scikit-learn/issues/21755 */display: inline-block !important;position: relative;}#sk-container-id-44 div.sk-text-repr-fallback {display: none;}</style><div id=\"sk-container-id-44\" class=\"sk-top-container\"><div class=\"sk-text-repr-fallback\"><pre>DBSCAN(eps=0.8, min_samples=2)</pre><b>In a Jupyter environment, please rerun this cell to show the HTML representation or trust the notebook. <br />On GitHub, the HTML representation is unable to render, please try loading this page with nbviewer.org.</b></div><div class=\"sk-container\" hidden><div class=\"sk-item\"><div class=\"sk-estimator sk-toggleable\"><input class=\"sk-toggleable__control sk-hidden--visually\" id=\"sk-estimator-id-44\" type=\"checkbox\" checked><label for=\"sk-estimator-id-44\" class=\"sk-toggleable__label sk-toggleable__label-arrow\">DBSCAN</label><div class=\"sk-toggleable__content\"><pre>DBSCAN(eps=0.8, min_samples=2)</pre></div></div></div></div></div>"
      ],
      "text/plain": [
       "DBSCAN(eps=0.8, min_samples=2)"
      ]
     },
     "execution_count": 126,
     "metadata": {},
     "output_type": "execute_result"
    }
   ],
   "source": [
    "# 분류 구획에 대한 고차함수를 학습\n",
    "dbscan.fit(X) "
   ]
  },
  {
   "cell_type": "code",
   "execution_count": 127,
   "id": "c7b887e1",
   "metadata": {},
   "outputs": [
    {
     "data": {
      "text/plain": [
       "array([ 0,  0,  0,  1,  0,  1,  0,  0,  0,  0,  0,  0,  0,  1,  0,  0,  1,\n",
       "        0,  1,  0,  0,  0,  0,  1,  0,  0,  1,  1,  0,  0,  0,  1,  0,  0,\n",
       "        0,  0,  1,  0,  0,  1,  0,  0,  1,  0,  0,  0,  0,  0,  1,  1,  1,\n",
       "        0,  0,  0, -1,  0,  0,  0,  0,  1,  1,  1,  1,  0,  1,  0,  0,  0,\n",
       "        0, -1,  0,  1,  0,  0,  0,  0,  0,  0,  0,  1,  0,  1,  0,  1,  1,\n",
       "        1,  1,  1,  0,  0,  1,  0,  0,  0,  1,  0,  0,  0,  0,  1,  1,  0,\n",
       "        1,  1,  1,  0,  0,  1,  1,  0,  0,  0,  1,  1,  1,  1,  1,  0,  1,\n",
       "        0,  0,  0,  0,  0,  0,  1,  1,  0,  0,  0,  1,  1,  0,  0,  0,  0,\n",
       "        1,  0,  1,  1,  0,  0,  0,  1,  1,  1,  0,  0,  0,  0,  0,  1,  1,\n",
       "        0,  1,  0,  0,  0,  0,  1,  0,  1,  1,  1,  2,  0,  0,  0,  1,  0,\n",
       "        1,  0,  0, -1,  0,  0,  0,  0,  0,  0, -1,  1,  0,  0,  0,  0,  0,\n",
       "        0,  0,  1,  1,  0,  0,  0,  1,  0,  0,  0,  1,  0,  1,  0,  0,  0,\n",
       "        0,  0,  0,  0,  0,  0,  0,  0,  0,  0,  0,  1,  0,  1,  0,  0,  0,\n",
       "        0,  0,  0,  1,  0,  0,  1,  0,  1,  0,  0,  1,  1,  0,  0,  1,  0,\n",
       "        0,  1, -1,  0,  0,  0,  0,  1,  0,  1,  0,  1,  1,  0,  0,  1,  0,\n",
       "        1,  0,  0,  1,  0,  1,  1,  1,  1,  0,  0,  0,  0,  0,  1,  0,  1,\n",
       "        1,  0,  1,  0,  0,  1,  0,  1,  0,  0,  1,  0,  1,  1,  0,  0,  0,\n",
       "        1,  0,  0,  0,  0,  1,  0,  0,  0,  0,  0,  0,  0,  0,  0,  0,  0,\n",
       "        0,  2,  1,  1,  0,  0,  0,  1,  1,  0,  0,  1,  1,  0,  0,  1,  1,\n",
       "        0,  1,  1,  1,  0,  0,  0,  1,  0,  0,  0,  1,  1,  0,  0,  1,  0,\n",
       "        0,  1,  1,  0,  1,  1, -1,  1,  0,  0,  0,  1,  1,  0,  0,  1,  0,\n",
       "        1,  0,  1,  0,  0,  0,  1,  0,  0,  0,  1,  0,  0,  0,  0,  0,  0,\n",
       "        0,  0,  1,  0,  1,  1,  0,  1,  0,  1,  0,  0,  1,  0,  1,  0,  0,\n",
       "        1,  0,  0,  0,  1,  1,  0,  0,  0,  1,  0,  0,  0,  0,  0,  0,  0,\n",
       "        0,  0,  0,  0,  0,  1,  0,  1,  0,  0,  1,  0,  0,  1,  0,  0,  1,\n",
       "        1,  0,  0,  0,  0,  0,  1,  0,  0,  1,  0,  0,  0,  1,  1,  0,  0,\n",
       "        0,  0,  0,  0,  0,  0,  0,  0,  0,  0,  0,  0,  0,  0, -1,  0,  1,\n",
       "        1,  0,  0,  0,  1,  1,  1,  0,  0,  0,  0,  1,  1,  0,  0,  1,  0,\n",
       "        1,  0,  2,  1,  1,  0,  0,  0,  0,  1,  1,  0,  0,  0,  1,  1, -1,\n",
       "        0,  0,  0,  0,  0,  1,  0], dtype=int64)"
      ]
     },
     "execution_count": 127,
     "metadata": {},
     "output_type": "execute_result"
    }
   ],
   "source": [
    "dbscan.labels_   # 학습되었는지 확인"
   ]
  },
  {
   "cell_type": "code",
   "execution_count": 128,
   "id": "b9b4b394",
   "metadata": {
    "scrolled": true
   },
   "outputs": [
    {
     "data": {
      "text/plain": [
       " 0    326\n",
       " 1    163\n",
       "-1      8\n",
       " 2      3\n",
       "dtype: int64"
      ]
     },
     "execution_count": 128,
     "metadata": {},
     "output_type": "execute_result"
    }
   ],
   "source": [
    "pd.Series(dbscan.labels_).value_counts()   "
   ]
  },
  {
   "cell_type": "code",
   "execution_count": 129,
   "id": "bcbf4378",
   "metadata": {},
   "outputs": [
    {
     "data": {
      "image/png": "[encoded data removed]",
      "text/plain": [
       "<Figure size 640x480 with 1 Axes>"
      ]
     },
     "metadata": {},
     "output_type": "display_data"
    }
   ],
   "source": [
    "plt.scatter(X[:, 0], X[:, 1], c=dbscan.labels_, s=5)\n",
    "plt.show()"
   ]
  },
  {
   "cell_type": "code",
   "execution_count": 130,
   "id": "9a5bbf8f",
   "metadata": {},
   "outputs": [
    {
     "data": {
      "text/html": [
       "<style>#sk-container-id-45 {color: black;background-color: white;}#sk-container-id-45 pre{padding: 0;}#sk-container-id-45 div.sk-toggleable {background-color: white;}#sk-container-id-45 label.sk-toggleable__label {cursor: pointer;display: block;width: 100%;margin-bottom: 0;padding: 0.3em;box-sizing: border-box;text-align: center;}#sk-container-id-45 label.sk-toggleable__label-arrow:before {content: \"▸\";float: left;margin-right: 0.25em;color: #696969;}#sk-container-id-45 label.sk-toggleable__label-arrow:hover:before {color: black;}#sk-container-id-45 div.sk-estimator:hover label.sk-toggleable__label-arrow:before {color: black;}#sk-container-id-45 div.sk-toggleable__content {max-height: 0;max-width: 0;overflow: hidden;text-align: left;background-color: #f0f8ff;}#sk-container-id-45 div.sk-toggleable__content pre {margin: 0.2em;color: black;border-radius: 0.25em;background-color: #f0f8ff;}#sk-container-id-45 input.sk-toggleable__control:checked~div.sk-toggleable__content {max-height: 200px;max-width: 100%;overflow: auto;}#sk-container-id-45 input.sk-toggleable__control:checked~label.sk-toggleable__label-arrow:before {content: \"▾\";}#sk-container-id-45 div.sk-estimator input.sk-toggleable__control:checked~label.sk-toggleable__label {background-color: #d4ebff;}#sk-container-id-45 div.sk-label input.sk-toggleable__control:checked~label.sk-toggleable__label {background-color: #d4ebff;}#sk-container-id-45 input.sk-hidden--visually {border: 0;clip: rect(1px 1px 1px 1px);clip: rect(1px, 1px, 1px, 1px);height: 1px;margin: -1px;overflow: hidden;padding: 0;position: absolute;width: 1px;}#sk-container-id-45 div.sk-estimator {font-family: monospace;background-color: #f0f8ff;border: 1px dotted black;border-radius: 0.25em;box-sizing: border-box;margin-bottom: 0.5em;}#sk-container-id-45 div.sk-estimator:hover {background-color: #d4ebff;}#sk-container-id-45 div.sk-parallel-item::after {content: \"\";width: 100%;border-bottom: 1px solid gray;flex-grow: 1;}#sk-container-id-45 div.sk-label:hover label.sk-toggleable__label {background-color: #d4ebff;}#sk-container-id-45 div.sk-serial::before {content: \"\";position: absolute;border-left: 1px solid gray;box-sizing: border-box;top: 0;bottom: 0;left: 50%;z-index: 0;}#sk-container-id-45 div.sk-serial {display: flex;flex-direction: column;align-items: center;background-color: white;padding-right: 0.2em;padding-left: 0.2em;position: relative;}#sk-container-id-45 div.sk-item {position: relative;z-index: 1;}#sk-container-id-45 div.sk-parallel {display: flex;align-items: stretch;justify-content: center;background-color: white;position: relative;}#sk-container-id-45 div.sk-item::before, #sk-container-id-45 div.sk-parallel-item::before {content: \"\";position: absolute;border-left: 1px solid gray;box-sizing: border-box;top: 0;bottom: 0;left: 50%;z-index: -1;}#sk-container-id-45 div.sk-parallel-item {display: flex;flex-direction: column;z-index: 1;position: relative;background-color: white;}#sk-container-id-45 div.sk-parallel-item:first-child::after {align-self: flex-end;width: 50%;}#sk-container-id-45 div.sk-parallel-item:last-child::after {align-self: flex-start;width: 50%;}#sk-container-id-45 div.sk-parallel-item:only-child::after {width: 0;}#sk-container-id-45 div.sk-dashed-wrapped {border: 1px dashed gray;margin: 0 0.4em 0.5em 0.4em;box-sizing: border-box;padding-bottom: 0.4em;background-color: white;}#sk-container-id-45 div.sk-label label {font-family: monospace;font-weight: bold;display: inline-block;line-height: 1.2em;}#sk-container-id-45 div.sk-label-container {text-align: center;}#sk-container-id-45 div.sk-container {/* jupyter's `normalize.less` sets `[hidden] { display: none; }` but bootstrap.min.css set `[hidden] { display: none !important; }` so we also need the `!important` here to be able to override the default hidden behavior on the sphinx rendered scikit-learn.org. See: https://github.com/scikit-learn/scikit-learn/issues/21755 */display: inline-block !important;position: relative;}#sk-container-id-45 div.sk-text-repr-fallback {display: none;}</style><div id=\"sk-container-id-45\" class=\"sk-top-container\"><div class=\"sk-text-repr-fallback\"><pre>DBSCAN(eps=1, min_samples=10)</pre><b>In a Jupyter environment, please rerun this cell to show the HTML representation or trust the notebook. <br />On GitHub, the HTML representation is unable to render, please try loading this page with nbviewer.org.</b></div><div class=\"sk-container\" hidden><div class=\"sk-item\"><div class=\"sk-estimator sk-toggleable\"><input class=\"sk-toggleable__control sk-hidden--visually\" id=\"sk-estimator-id-45\" type=\"checkbox\" checked><label for=\"sk-estimator-id-45\" class=\"sk-toggleable__label sk-toggleable__label-arrow\">DBSCAN</label><div class=\"sk-toggleable__content\"><pre>DBSCAN(eps=1, min_samples=10)</pre></div></div></div></div></div>"
      ],
      "text/plain": [
       "DBSCAN(eps=1, min_samples=10)"
      ]
     },
     "execution_count": 130,
     "metadata": {},
     "output_type": "execute_result"
    }
   ],
   "source": [
    "dbscan = DBSCAN(eps=1, min_samples=10, metric='euclidean')   # eps 변경하면서 테스트\n",
    "dbscan       # 객체 생성"
   ]
  },
  {
   "cell_type": "code",
   "execution_count": 131,
   "id": "5ba8df2a",
   "metadata": {},
   "outputs": [
    {
     "data": {
      "text/html": [
       "<style>#sk-container-id-46 {color: black;background-color: white;}#sk-container-id-46 pre{padding: 0;}#sk-container-id-46 div.sk-toggleable {background-color: white;}#sk-container-id-46 label.sk-toggleable__label {cursor: pointer;display: block;width: 100%;margin-bottom: 0;padding: 0.3em;box-sizing: border-box;text-align: center;}#sk-container-id-46 label.sk-toggleable__label-arrow:before {content: \"▸\";float: left;margin-right: 0.25em;color: #696969;}#sk-container-id-46 label.sk-toggleable__label-arrow:hover:before {color: black;}#sk-container-id-46 div.sk-estimator:hover label.sk-toggleable__label-arrow:before {color: black;}#sk-container-id-46 div.sk-toggleable__content {max-height: 0;max-width: 0;overflow: hidden;text-align: left;background-color: #f0f8ff;}#sk-container-id-46 div.sk-toggleable__content pre {margin: 0.2em;color: black;border-radius: 0.25em;background-color: #f0f8ff;}#sk-container-id-46 input.sk-toggleable__control:checked~div.sk-toggleable__content {max-height: 200px;max-width: 100%;overflow: auto;}#sk-container-id-46 input.sk-toggleable__control:checked~label.sk-toggleable__label-arrow:before {content: \"▾\";}#sk-container-id-46 div.sk-estimator input.sk-toggleable__control:checked~label.sk-toggleable__label {background-color: #d4ebff;}#sk-container-id-46 div.sk-label input.sk-toggleable__control:checked~label.sk-toggleable__label {background-color: #d4ebff;}#sk-container-id-46 input.sk-hidden--visually {border: 0;clip: rect(1px 1px 1px 1px);clip: rect(1px, 1px, 1px, 1px);height: 1px;margin: -1px;overflow: hidden;padding: 0;position: absolute;width: 1px;}#sk-container-id-46 div.sk-estimator {font-family: monospace;background-color: #f0f8ff;border: 1px dotted black;border-radius: 0.25em;box-sizing: border-box;margin-bottom: 0.5em;}#sk-container-id-46 div.sk-estimator:hover {background-color: #d4ebff;}#sk-container-id-46 div.sk-parallel-item::after {content: \"\";width: 100%;border-bottom: 1px solid gray;flex-grow: 1;}#sk-container-id-46 div.sk-label:hover label.sk-toggleable__label {background-color: #d4ebff;}#sk-container-id-46 div.sk-serial::before {content: \"\";position: absolute;border-left: 1px solid gray;box-sizing: border-box;top: 0;bottom: 0;left: 50%;z-index: 0;}#sk-container-id-46 div.sk-serial {display: flex;flex-direction: column;align-items: center;background-color: white;padding-right: 0.2em;padding-left: 0.2em;position: relative;}#sk-container-id-46 div.sk-item {position: relative;z-index: 1;}#sk-container-id-46 div.sk-parallel {display: flex;align-items: stretch;justify-content: center;background-color: white;position: relative;}#sk-container-id-46 div.sk-item::before, #sk-container-id-46 div.sk-parallel-item::before {content: \"\";position: absolute;border-left: 1px solid gray;box-sizing: border-box;top: 0;bottom: 0;left: 50%;z-index: -1;}#sk-container-id-46 div.sk-parallel-item {display: flex;flex-direction: column;z-index: 1;position: relative;background-color: white;}#sk-container-id-46 div.sk-parallel-item:first-child::after {align-self: flex-end;width: 50%;}#sk-container-id-46 div.sk-parallel-item:last-child::after {align-self: flex-start;width: 50%;}#sk-container-id-46 div.sk-parallel-item:only-child::after {width: 0;}#sk-container-id-46 div.sk-dashed-wrapped {border: 1px dashed gray;margin: 0 0.4em 0.5em 0.4em;box-sizing: border-box;padding-bottom: 0.4em;background-color: white;}#sk-container-id-46 div.sk-label label {font-family: monospace;font-weight: bold;display: inline-block;line-height: 1.2em;}#sk-container-id-46 div.sk-label-container {text-align: center;}#sk-container-id-46 div.sk-container {/* jupyter's `normalize.less` sets `[hidden] { display: none; }` but bootstrap.min.css set `[hidden] { display: none !important; }` so we also need the `!important` here to be able to override the default hidden behavior on the sphinx rendered scikit-learn.org. See: https://github.com/scikit-learn/scikit-learn/issues/21755 */display: inline-block !important;position: relative;}#sk-container-id-46 div.sk-text-repr-fallback {display: none;}</style><div id=\"sk-container-id-46\" class=\"sk-top-container\"><div class=\"sk-text-repr-fallback\"><pre>DBSCAN(eps=1, min_samples=10)</pre><b>In a Jupyter environment, please rerun this cell to show the HTML representation or trust the notebook. <br />On GitHub, the HTML representation is unable to render, please try loading this page with nbviewer.org.</b></div><div class=\"sk-container\" hidden><div class=\"sk-item\"><div class=\"sk-estimator sk-toggleable\"><input class=\"sk-toggleable__control sk-hidden--visually\" id=\"sk-estimator-id-46\" type=\"checkbox\" checked><label for=\"sk-estimator-id-46\" class=\"sk-toggleable__label sk-toggleable__label-arrow\">DBSCAN</label><div class=\"sk-toggleable__content\"><pre>DBSCAN(eps=1, min_samples=10)</pre></div></div></div></div></div>"
      ],
      "text/plain": [
       "DBSCAN(eps=1, min_samples=10)"
      ]
     },
     "execution_count": 131,
     "metadata": {},
     "output_type": "execute_result"
    }
   ],
   "source": [
    "# 분류 구획에 대한 고차함수를 학습\n",
    "dbscan.fit(X) "
   ]
  },
  {
   "cell_type": "code",
   "execution_count": 132,
   "id": "63b4f9e1",
   "metadata": {},
   "outputs": [
    {
     "data": {
      "text/plain": [
       "array([ 0,  0,  1, -1,  1,  2,  0,  1,  0,  1,  1,  1,  1,  2,  0,  1,  2,\n",
       "        1,  2,  1,  0,  1,  0,  2,  1,  1,  2,  2,  0,  0,  0,  2,  0,  0,\n",
       "        0,  0,  2,  0,  0,  2,  1,  1,  2,  1,  1,  0, -1,  1,  2,  2,  2,\n",
       "        1,  1,  1, -1,  1,  0,  0,  0,  2,  2,  2,  2,  0,  2,  0,  1,  0,\n",
       "        0,  1,  1,  2,  1,  0,  1,  0,  0,  1,  1,  2,  0,  2,  1,  2,  2,\n",
       "        2,  2,  2,  0,  1,  2,  0,  0,  1,  2,  0,  0,  1,  0,  2,  2,  0,\n",
       "        2,  2,  2,  0,  0,  2,  2,  0,  0,  0,  2,  2,  2,  2,  2,  1,  2,\n",
       "        1,  1,  0,  1,  0,  1,  2,  2,  0,  0,  0,  2,  2,  0,  1,  1,  0,\n",
       "        2,  1,  2,  2,  0,  0,  0,  2,  2,  2,  1,  0,  1,  1,  1,  2,  2,\n",
       "        1,  2,  1,  1,  0,  0,  2,  0,  2,  2,  2,  1,  1,  1,  1,  2,  0,\n",
       "        2,  0,  0,  2,  0,  1,  0,  1,  0,  1, -1,  2,  1,  0,  1,  1,  0,\n",
       "        0,  1,  2,  2,  0,  1,  1,  2,  1,  0,  1,  2,  0,  2,  1,  0,  0,\n",
       "        0,  0,  1,  1,  0,  0,  0,  1,  1,  0,  0,  2,  0,  2,  1,  0,  0,\n",
       "        1,  0,  0,  2,  1,  0,  2,  1,  2,  0,  0,  2,  2,  0,  1,  2,  1,\n",
       "        1,  2, -1,  1,  1,  0,  1,  2,  1,  2,  1,  2,  2,  1,  1,  2,  0,\n",
       "        2,  1,  0,  2,  1,  2,  2,  2,  2,  1,  1,  0,  0,  0,  2,  1,  2,\n",
       "        2,  1,  2,  0,  1,  2,  0,  2,  0,  1,  2,  1,  2,  2,  1,  0,  0,\n",
       "        2,  1,  1,  1,  0,  2,  1,  0,  0,  1,  0,  0,  0,  0,  0,  1,  0,\n",
       "        1,  1,  2,  2,  1,  1,  1,  2,  2,  1,  0,  2,  2,  1,  0,  2,  2,\n",
       "        1,  2,  2,  2,  1, -1,  0,  2,  0,  1,  1,  2,  2,  1,  1,  2,  1,\n",
       "        1,  2,  2,  0,  2,  2,  2,  2,  0,  0,  1,  2,  2,  1,  1,  2,  0,\n",
       "        2,  1,  2,  0,  1,  0,  2,  1,  1,  1,  2,  0,  1,  0,  0,  0,  0,\n",
       "        0,  0,  2,  0,  2,  2,  0,  2,  1,  2,  1,  0,  2,  0,  2,  0,  1,\n",
       "        2,  0,  0,  0,  2,  2,  1,  0,  1,  2,  1,  1,  1,  1,  1,  0,  0,\n",
       "        0,  1,  0,  0,  0,  2,  0,  2,  0,  1,  2,  0,  1,  2,  1,  1,  2,\n",
       "        2,  0,  1,  0,  1,  0,  2,  0,  1,  2,  0,  0,  0,  2,  2,  1,  0,\n",
       "        1,  1,  0,  0,  0,  1,  1,  1,  1,  1,  1,  0,  1,  0, -1,  1,  2,\n",
       "        2,  1,  0,  1,  2,  2,  2,  0,  1,  0,  1,  2,  2,  1,  0,  2,  1,\n",
       "        2,  0,  1,  2,  2,  0,  0,  1,  0,  2,  2,  0,  0,  1,  2,  2,  1,\n",
       "        0,  0,  0,  1,  1,  2,  0], dtype=int64)"
      ]
     },
     "execution_count": 132,
     "metadata": {},
     "output_type": "execute_result"
    }
   ],
   "source": [
    "# 학습되었는지 결과 확인\n",
    "dbscan.labels_   # 0, 1, 2 값들 확인됨"
   ]
  },
  {
   "cell_type": "code",
   "execution_count": 133,
   "id": "e3e67a5a",
   "metadata": {},
   "outputs": [
    {
     "data": {
      "text/plain": [
       " 0    166\n",
       " 2    164\n",
       " 1    163\n",
       "-1      7\n",
       "dtype: int64"
      ]
     },
     "execution_count": 133,
     "metadata": {},
     "output_type": "execute_result"
    }
   ],
   "source": [
    "# 세 분류 확인됨\n",
    "pd.Series(dbscan.labels_).value_counts()   "
   ]
  },
  {
   "cell_type": "code",
   "execution_count": 134,
   "id": "5af5f02e",
   "metadata": {},
   "outputs": [
    {
     "data": {
      "image/png": "[encoded data removed]",
      "text/plain": [
       "<Figure size 640x480 with 1 Axes>"
      ]
     },
     "metadata": {},
     "output_type": "display_data"
    }
   ],
   "source": [
    "# 두 개로 분류된 위 데이터를 분류가 세 개로 되게끔 바꾸기 : 뭘 바꿀지 답은 정해지지 않음. 직접 테스트 해봐야 함  \n",
    "\n",
    "# 강사님 버전\n",
    "plt.scatter(X[:, 0], X[:, 1], c=dbscan.labels_, s=5)\n",
    "plt.show()   # 이 차트처럼 완전히 떨어진 것이 아닌 선으로 나눠지는 것들이 있으면 KModes보다 KMeans로 분류해야 함\n",
    "# 지금은 DBSCAN을 배우고자 해본 것"
   ]
  },
  {
   "cell_type": "code",
   "execution_count": 138,
   "id": "f35dcb42",
   "metadata": {},
   "outputs": [
    {
     "data": {
      "image/png": "[encoded data removed]",
      "text/plain": [
       "<Figure size 640x480 with 2 Axes>"
      ]
     },
     "metadata": {},
     "output_type": "display_data"
    }
   ],
   "source": [
    "fig = plt.figure()   \n",
    "\n",
    "ax1 = fig.add_subplot(121)  # 한 행을 2개로 나눠서 첫 번째 차트를 그릴 수 있는 axis 객체 \n",
    "# ax1.set_title('origin data')    =>  plt.shoow() 안 쓸 거면 제목 달 때 이거 써줘야 함\n",
    "plt.title('origin data')\n",
    "scatter1 = ax1.scatter(X[:,0], X[:,1], c=y, s=5)\n",
    "\n",
    "\n",
    "ax2 = fig.add_subplot(122)  # 한 행을 2개로 나눠서 두 번째 차트를 그릴 수 있는 axis 객체\n",
    "plt.title('Three kind data')\n",
    "scatter2 = ax2.scatter(X[:, 0], X[:, 1], c=dbscan.labels_, s=5)\n",
    "\n",
    "plt.show()   # plt.show() 안 쓰면  plt.title() 이렇게 제목 쓰면 오류남\n",
    "# plt.shoow() 안 쓸 거면 제목 달 때 ax1.set_title() 이거 써줘야 함"
   ]
  },
  {
   "cell_type": "code",
   "execution_count": null,
   "id": "4744e8ee",
   "metadata": {},
   "outputs": [],
   "source": [
    "# KMeans, KModes, DBSCAN\n",
    "# 연속형, 범주형 데이터가 혼합되어 있는 데이터셋에 클러스터링(비지도학습)을 적용하려면?\n",
    "# 자료형이 혼합된 데이터에 대해서 비유사도를 계산하여 매트릭스를 얻을 수 있다면?\n",
    "# gower 모듈을 사용(비유사도 매트릭스를 DBSCAN에 전달해 분류)하면 혼합된 데이터의 비유사도 매트릭스를 구할 수 있다\n",
    "# 비유사도 매트릭스(밀도 비슷한 값- 각 데이터간에 비유사도가 나와있으므로)를 DBSCAN에 전달하여 밀도기반 클러스터링 수행\n",
    "# => 비슷한 이용자를 한 그룹으로 형성"
   ]
  },
  {
   "cell_type": "markdown",
   "id": "723dac8b",
   "metadata": {},
   "source": [
    "### KMeans, KModes 및 DBSCAN은 모두 비지도 학습 알고리즘.\n",
    "\n",
    "- KMeans: KMeans는 주어진 데이터를 지정된 클러스터 수(K)로 그룹화하는 클러스터링 알고리즘. \n",
    "    <br>각 클러스터의 중심(centroid)을 계산하고, 데이터 포인트를 가장 가까운 중심에 할당하여 클러스터를 형성함.\n",
    "- KModes: KModes는 범주형 데이터에 특화된 클러스터링 알고리즘으로, \n",
    "    <br>주어진 범주형 변수들을 기반으로 데이터를 그룹화함. 각 클러스터는 대표적인 범주값(mode)을 가지며, \n",
    "    <br>각 데이터 포인트는 해당하는 클러스터에 할당됨.\n",
    "- DBSCAN: DBSCAN은 밀도 기반의 클러스터링 알고리즘으로, 주변 밀도가 높은 데이터 포인트들을 하나의 클러스터로 그룹화함. \n",
    "    <br>이상치(outlier)와 밀집된 지역(dense region)을 구분할 수 있으며, 군집의 개수를 사전에 지정할 필요가 없음."
   ]
  },
  {
   "cell_type": "markdown",
   "id": "8700246d",
   "metadata": {},
   "source": [
    "### Gower 모듈\n",
    "\n",
    "- Gower 거리(Gower distance)는 연속형과 범주형 데이터가 혼합된 데이터에 대해 거리를 계산하는 방법 중 하나. \n",
    "- Gower 거리는 연속형 변수 간의 유클리드 거리와 범주형 변수 간의 매칭 여부를 고려하여 데이터 간의 유사성을 측정.\n",
    "\n",
    "-  Gower 모듈은 Python에서 Gower 거리를 계산하기 위한 도구로 사용될 수 있음. \n",
    "-  이 모듈은 다양한 변수 유형(연속형, 범주형, 이진 등)을 처리하고 Gower 거리 행렬을 생성하는 기능을 제공. \n",
    "-  연속형과 범주형 변수가 혼합된 데이터에 대해 KMeans, KModes 및 DBSCAN과 같은 클러스터링 알고리즘에 \n",
    "<br>Gower 모듈을 사용하여 입력 데이터로 활용할 수 있음.\n",
    "\n",
    "- Gower 모듈은 gower.gower_matrix() 함수를 통해 입력 데이터프레임 또는 배열에서 Gower 거리 행렬을 생성. \n",
    "이후 생성된 행렬은 클러스터링 알고리즘에 적용될 수 있음.\n",
    "\n",
    "```\n",
    "예)\n",
    "\n",
    "import gower\n",
    "\n",
    "# 입력 데이터프레임에서 필요한 열만 선택하여 gower_matrix() 함수에 전달\n",
    "distance_matrix = gower.gower_matrix(df[['continuous_var1', 'continuous_var2', 'categorical_var']], weight=None)\n",
    "\n",
    "# KMeans, KModes 또는 DBSCAN 등의 클러스터링 알고리즘에 distance_matrix를 활용하여 클러스터링 수행\n",
    "```\n",
    "\n",
    "- 위 코드에서 df는 입력 데이터프레임이며, \n",
    "<br>'continuous_var1', 'continuous_var2', 'categorical_var'는 연속형 및 범주형 변수 열의 이름. \n",
    "<br>gower.gower_matrix() 함수를 사용하여 Gower 거리 행렬(distance_matrix)을 생성하고, \n",
    "<br>이를 원하는 클러스터링 알고리즘에 적용할 수 있음.\n",
    "\n",
    "- weight=None : weight 매개변수는 Gower 거리 계산 시 각 변수의 가중치를 지정하는 데 사용됨. \n",
    "<br>기본적으로 weight=None으로 설정되어 있으며, 이는 모든 변수에 동일한 가중치를 부여함을 의미.\n",
    "<br>만약 weight 매개변수에 사용자 정의 가중치를 제공하고 싶다면, \n",
    "<br>weight 인자에 변수 이름과 해당 변수의 가중치 값을 딕셔너리 형태로 전달할 수 있음. \n",
    "\n",
    "    <br>예를 들어, 연속형 변수와 범주형 변수에 대해 다른 가중치를 부여하려면 다음과 같이 작성:\n",
    "```\n",
    "weights = {'continuous_var1': 0.5, 'continuous_var2': 0.5, 'categorical_var': 1.0}\n",
    "distance_matrix = gower.gower_matrix(df[['continuous_var1', 'continuous_var2', 'categorical_var']], weight=weights)\n",
    "```\n",
    "- 위 코드에서 'continuous_var1', 'continuous_var2', 'categorical_var'는 데이터프레임에서 사용되는 열 이름.\n",
    "<br>weights 딕셔너리에서 연속형 변수인 'continuous_var1', 'continuous_var2'에는 0.5의 가중치가 할당되고, \n",
    "<br>범주형 변수인 'categorical_var'에는 1.0의 가중치가 할당됨.\n",
    "<br>Gower 거리 계산 시 각각의 변수에 다른 중요도 또는 유사성을 반영하고 싶다면\n",
    "<br>weight 매개변수를 사용하여 적절한 가중치를 지정할 수 있음. \n",
    "<br>만약 모든 변수가 동일한 중요도를 갖는다면 weight=None(기본값)으로 설정하여 모든 변수에 동일한 가중치가 적용됨."
   ]
  },
  {
   "cell_type": "code",
   "execution_count": 4,
   "id": "df0a7324",
   "metadata": {},
   "outputs": [
    {
     "name": "stdout",
     "output_type": "stream",
     "text": [
      "Collecting gower\n",
      "  Downloading gower-0.1.2-py3-none-any.whl (5.2 kB)\n",
      "Requirement already satisfied: numpy in c:\\users\\jeongjinhwa\\lib\\site-packages (from gower) (1.24.3)\n",
      "Requirement already satisfied: scipy in c:\\users\\jeongjinhwa\\lib\\site-packages (from gower) (1.10.1)\n",
      "Installing collected packages: gower\n",
      "Successfully installed gower-0.1.2\n"
     ]
    }
   ],
   "source": [
    "# gower  모듈 설치\n",
    "!pip install gower"
   ]
  },
  {
   "cell_type": "code",
   "execution_count": 107,
   "id": "86997d1a",
   "metadata": {},
   "outputs": [],
   "source": [
    "# 이용자 정보로 된 연속형, 범주형으로 되어 있는 혼합 데이터 생성 (보통의 데이터 상태가 이러함) \n",
    "\n",
    "customers = {\n",
    "    'age':[22,25,30,34,45,34,50,47,59,62],\n",
    "    'gender':['m','m','f','m','f','m','f','f','m','f'],\n",
    "    'marriage':['y','n','n','y','y','n','y','y','n','y'],\n",
    "    'salary':[3400,3500,4300,3900,4020,4800, 5030,2900,4500,3400],\n",
    "    'children':[True, False,False,True,True,False,True,False,True,False],\n",
    "    'purchase_type':['low','low','low','heavy','heavy','low','heavy','low','heavy','low']\n",
    "}\n",
    "\n",
    "# 이걸 기반으로 비유사도 매트릭스를 gower 모듈을 이용해 만듬"
   ]
  },
  {
   "cell_type": "code",
   "execution_count": 109,
   "id": "d1674614",
   "metadata": {},
   "outputs": [
    {
     "data": {
      "text/html": [
       "<div>\n",
       "<style scoped>\n",
       "    .dataframe tbody tr th:only-of-type {\n",
       "        vertical-align: middle;\n",
       "    }\n",
       "\n",
       "    .dataframe tbody tr th {\n",
       "        vertical-align: top;\n",
       "    }\n",
       "\n",
       "    .dataframe thead th {\n",
       "        text-align: right;\n",
       "    }\n",
       "</style>\n",
       "<table border=\"1\" class=\"dataframe\">\n",
       "  <thead>\n",
       "    <tr style=\"text-align: right;\">\n",
       "      <th></th>\n",
       "      <th>age</th>\n",
       "      <th>gender</th>\n",
       "      <th>marriage</th>\n",
       "      <th>salary</th>\n",
       "      <th>children</th>\n",
       "      <th>purchase_type</th>\n",
       "    </tr>\n",
       "  </thead>\n",
       "  <tbody>\n",
       "    <tr>\n",
       "      <th>0</th>\n",
       "      <td>22</td>\n",
       "      <td>m</td>\n",
       "      <td>y</td>\n",
       "      <td>3400</td>\n",
       "      <td>True</td>\n",
       "      <td>low</td>\n",
       "    </tr>\n",
       "    <tr>\n",
       "      <th>1</th>\n",
       "      <td>25</td>\n",
       "      <td>m</td>\n",
       "      <td>n</td>\n",
       "      <td>3500</td>\n",
       "      <td>False</td>\n",
       "      <td>low</td>\n",
       "    </tr>\n",
       "    <tr>\n",
       "      <th>2</th>\n",
       "      <td>30</td>\n",
       "      <td>f</td>\n",
       "      <td>n</td>\n",
       "      <td>4300</td>\n",
       "      <td>False</td>\n",
       "      <td>low</td>\n",
       "    </tr>\n",
       "    <tr>\n",
       "      <th>3</th>\n",
       "      <td>34</td>\n",
       "      <td>m</td>\n",
       "      <td>y</td>\n",
       "      <td>3900</td>\n",
       "      <td>True</td>\n",
       "      <td>heavy</td>\n",
       "    </tr>\n",
       "    <tr>\n",
       "      <th>4</th>\n",
       "      <td>45</td>\n",
       "      <td>f</td>\n",
       "      <td>y</td>\n",
       "      <td>4020</td>\n",
       "      <td>True</td>\n",
       "      <td>heavy</td>\n",
       "    </tr>\n",
       "    <tr>\n",
       "      <th>5</th>\n",
       "      <td>34</td>\n",
       "      <td>m</td>\n",
       "      <td>n</td>\n",
       "      <td>4800</td>\n",
       "      <td>False</td>\n",
       "      <td>low</td>\n",
       "    </tr>\n",
       "    <tr>\n",
       "      <th>6</th>\n",
       "      <td>50</td>\n",
       "      <td>f</td>\n",
       "      <td>y</td>\n",
       "      <td>5030</td>\n",
       "      <td>True</td>\n",
       "      <td>heavy</td>\n",
       "    </tr>\n",
       "    <tr>\n",
       "      <th>7</th>\n",
       "      <td>47</td>\n",
       "      <td>f</td>\n",
       "      <td>y</td>\n",
       "      <td>2900</td>\n",
       "      <td>False</td>\n",
       "      <td>low</td>\n",
       "    </tr>\n",
       "    <tr>\n",
       "      <th>8</th>\n",
       "      <td>59</td>\n",
       "      <td>m</td>\n",
       "      <td>n</td>\n",
       "      <td>4500</td>\n",
       "      <td>True</td>\n",
       "      <td>heavy</td>\n",
       "    </tr>\n",
       "    <tr>\n",
       "      <th>9</th>\n",
       "      <td>62</td>\n",
       "      <td>f</td>\n",
       "      <td>y</td>\n",
       "      <td>3400</td>\n",
       "      <td>False</td>\n",
       "      <td>low</td>\n",
       "    </tr>\n",
       "  </tbody>\n",
       "</table>\n",
       "</div>"
      ],
      "text/plain": [
       "   age gender marriage  salary  children purchase_type\n",
       "0   22      m        y    3400      True           low\n",
       "1   25      m        n    3500     False           low\n",
       "2   30      f        n    4300     False           low\n",
       "3   34      m        y    3900      True         heavy\n",
       "4   45      f        y    4020      True         heavy\n",
       "5   34      m        n    4800     False           low\n",
       "6   50      f        y    5030      True         heavy\n",
       "7   47      f        y    2900     False           low\n",
       "8   59      m        n    4500      True         heavy\n",
       "9   62      f        y    3400     False           low"
      ]
     },
     "execution_count": 109,
     "metadata": {},
     "output_type": "execute_result"
    }
   ],
   "source": [
    "# 위 데이터를 데이터 프레임으로 표시. 딕셔너리라 만들기는 어렵지 않음\n",
    "import pandas as pd\n",
    "df = pd.DataFrame(customers)\n",
    "df"
   ]
  },
  {
   "cell_type": "code",
   "execution_count": 110,
   "id": "a1c40df4",
   "metadata": {},
   "outputs": [
    {
     "data": {
      "text/plain": [
       "(10, 10)"
      ]
     },
     "execution_count": 110,
     "metadata": {},
     "output_type": "execute_result"
    }
   ],
   "source": [
    "# 이 데이터 프레임을 gower 모듈에 줘서 비유사도 매트릭스 만들어 내게끔 함(gower가 비유사도 계산을 함)\n",
    "import gower\n",
    "gower_matrix = gower.gower_matrix(df)\n",
    "gower_matrix.shape   # 만들어진 매트릭스 데이터 형태 확인 : (10, 10) / 10행 10열로 되어 있음 =>  한 사람당 10명과 각 비교하므로\n",
    "# 즉, 한 사람이 10개의 컬럼과 10개의 행을 가진 매트릭스가 만들어지게 됨(행 수 만큼의 행과 행 수만큼의 열이 생성됨)\n",
    "# 비유사도 계산이므로 위 데이터에서는 숫자 age 빼고 비교하여 비유사도 계산해줌\n",
    "\n",
    "\n",
    "# 데이터 프레임은 (10, 6)의 형태를 가지고 있는 것이고 \n",
    "# Gower 거리 메트릭스는 각 관측치 간의 거리를 계산하는 메트릭스이므로,\n",
    "# 데이터 프레임에 있는 행의 개수에 따라 결과 메트릭스의 크기가 결정됨. \n",
    "# 데이터 프레임에 10개의 행이 있다면 각 행 간의 거리를 계산하기 위해 (10, 10) 크기의 메트릭스가 생성됨. \n",
    "# 각 행은 다른 모든 행과의 거리를 측정하게 되므로 결과 메트릭스의 크기가 (10, 10)이 됨.\n",
    "# Gower 거리 메트릭스의 결과가 (10, 10)인 것입니다. 데이터 프레임 df에는 10개의 관측치(행)와 6개의 변수(열)이 있으므로, \n",
    "# Gower 거리 메트릭스는 10개의 관측치 간의 거리를 계산한 것임.\n",
    "# 따라서 Gower 거리 메트릭스의 결과가 (10, 10)인 것은 데이터 프레임 df에 있는 10개의 관측치 간의 거리를 포함하고 있음을 나타냄. \n",
    "# 이 메트릭스는 각 관측치 쌍 간의 Gower 거리를 나타내며, \n",
    "# 데이터 간의 유사성 또는 거리를 측정하는 데 사용됨.\n",
    "# 데이터 프레임 df에는 10개의 고객 정보가 있으며, \n",
    "# Gower 거리 메트릭스는 각 고객 간의 유사성을 측정하기 위해 사용되었으며, 따라서 10x10 행렬로 표현되었음."
   ]
  },
  {
   "cell_type": "code",
   "execution_count": 111,
   "id": "19238343",
   "metadata": {},
   "outputs": [
    {
     "data": {
      "text/plain": [
       "array([[0.        , 0.35365805, 0.6037559 , 0.2557903 , 0.47767997,\n",
       "        0.4928795 , 0.577543  , 0.47662362, 0.573572  , 0.5       ],\n",
       "       [0.35365805, 0.        , 0.2500978 , 0.5687989 , 0.7906886 ,\n",
       "        0.13922144, 0.8905516 , 0.47194836, 0.5532473 , 0.49532473],\n",
       "       [0.6037559 , 0.2500978 , 0.        , 0.7146322 , 0.58440924,\n",
       "        0.22245696, 0.6404538 , 0.34704617, 0.6364828 , 0.37042254],\n",
       "       [0.2557903 , 0.5687989 , 0.7146322 , 0.        , 0.22188967,\n",
       "        0.57042253, 0.32175273, 0.6324139 , 0.3177817 , 0.65579027],\n",
       "       [0.47767997, 0.7906886 , 0.58440924, 0.22188967, 0.        ,\n",
       "        0.77353287, 0.09986307, 0.42930362, 0.42922536, 0.45267996],\n",
       "       [0.4928795 , 0.13922144, 0.22245696, 0.57042253, 0.77353287,\n",
       "        0.        , 0.7513302 , 0.5361698 , 0.4609742 , 0.5595462 ],\n",
       "       [0.577543  , 0.8905516 , 0.6404538 , 0.32175273, 0.09986307,\n",
       "        0.7513302 , 0.        , 0.5125    , 0.41230437, 0.51087636],\n",
       "       [0.47662362, 0.47194836, 0.34704617, 0.6324139 , 0.42930362,\n",
       "        0.5361698 , 0.5125    , 0.        , 0.84186226, 0.10162363],\n",
       "       [0.573572  , 0.5532473 , 0.6364828 , 0.3177817 , 0.42922536,\n",
       "        0.4609742 , 0.41230437, 0.84186226, 0.        , 0.76523864],\n",
       "       [0.5       , 0.49532473, 0.37042254, 0.65579027, 0.45267996,\n",
       "        0.5595462 , 0.51087636, 0.10162363, 0.76523864, 0.        ]],\n",
       "      dtype=float32)"
      ]
     },
     "execution_count": 111,
     "metadata": {},
     "output_type": "execute_result"
    }
   ],
   "source": [
    "gower_matrix   # 비유사도가 0인 것은 자기 자신 / 첫 번째 사람은 0.2557903와 가장 유사(비유사도가 가장 낮으므로)"
   ]
  },
  {
   "cell_type": "code",
   "execution_count": 113,
   "id": "83819126",
   "metadata": {},
   "outputs": [
    {
     "data": {
      "text/plain": [
       "array([0, 0, 0, 0, 0, 0, 0, 0, 0, 0], dtype=int64)"
      ]
     },
     "execution_count": 113,
     "metadata": {},
     "output_type": "execute_result"
    }
   ],
   "source": [
    "from sklearn.cluster import DBSCAN\n",
    "dbscan = DBSCAN(eps=0.5, min_samples=2, metric='precomputed') # eps=0.5, min_samples=2를 임의로 지정\n",
    "# metric은 측정 도구를 의미함. gower distance는 이미 위에서 나왔으므로 여기선 거리가 필요 없어 'precomputed'를 씀\n",
    "# 'precomputed' => 미리 계산됐다는 의미\n",
    "# 비유사도와 거리는 흡사해 dlstance라고 하는 것\n",
    "df_gower = pd.DataFrame(gower_matrix)\n",
    "dbscan.fit(df_gower)\n",
    "\n",
    "dbscan.labels_  # 결과가 한 그룹으로 나옴"
   ]
  },
  {
   "cell_type": "code",
   "execution_count": 114,
   "id": "59b6ef35",
   "metadata": {},
   "outputs": [
    {
     "data": {
      "text/plain": [
       "array([ 0,  1,  1,  0,  0,  1,  0,  2, -1,  2], dtype=int64)"
      ]
     },
     "execution_count": 114,
     "metadata": {},
     "output_type": "execute_result"
    }
   ],
   "source": [
    "from sklearn.cluster import DBSCAN\n",
    "dbscan = DBSCAN(eps=0.3, min_samples=2, metric='precomputed') \n",
    "# metric은 측정 도구 gower distance는 이미 나왔으므로 여기선 필요 없어 'precomputed'를 씀\n",
    "df_gower = pd.DataFrame(gower_matrix)\n",
    "dbscan.fit(df_gower)\n",
    "\n",
    "dbscan.labels_    # array([ 0,  1,  1,  0,  0,  1,  0,  2, -1,  2], dtype=int64) => noise -1\n",
    "# 가급적 노이즈가 없도록 파라미터 값을 조정해야 함 [추천시스템 등 이용시 노이즈가 제외되지 않도록]"
   ]
  },
  {
   "cell_type": "code",
   "execution_count": 115,
   "id": "0d39febb",
   "metadata": {
    "scrolled": true
   },
   "outputs": [
    {
     "data": {
      "text/html": [
       "<div>\n",
       "<style scoped>\n",
       "    .dataframe tbody tr th:only-of-type {\n",
       "        vertical-align: middle;\n",
       "    }\n",
       "\n",
       "    .dataframe tbody tr th {\n",
       "        vertical-align: top;\n",
       "    }\n",
       "\n",
       "    .dataframe thead th {\n",
       "        text-align: right;\n",
       "    }\n",
       "</style>\n",
       "<table border=\"1\" class=\"dataframe\">\n",
       "  <thead>\n",
       "    <tr style=\"text-align: right;\">\n",
       "      <th></th>\n",
       "      <th>age</th>\n",
       "      <th>gender</th>\n",
       "      <th>marriage</th>\n",
       "      <th>salary</th>\n",
       "      <th>children</th>\n",
       "      <th>purchase_type</th>\n",
       "      <th>cluster</th>\n",
       "    </tr>\n",
       "  </thead>\n",
       "  <tbody>\n",
       "    <tr>\n",
       "      <th>0</th>\n",
       "      <td>22</td>\n",
       "      <td>m</td>\n",
       "      <td>y</td>\n",
       "      <td>3400</td>\n",
       "      <td>True</td>\n",
       "      <td>low</td>\n",
       "      <td>0</td>\n",
       "    </tr>\n",
       "    <tr>\n",
       "      <th>1</th>\n",
       "      <td>25</td>\n",
       "      <td>m</td>\n",
       "      <td>n</td>\n",
       "      <td>3500</td>\n",
       "      <td>False</td>\n",
       "      <td>low</td>\n",
       "      <td>1</td>\n",
       "    </tr>\n",
       "    <tr>\n",
       "      <th>2</th>\n",
       "      <td>30</td>\n",
       "      <td>f</td>\n",
       "      <td>n</td>\n",
       "      <td>4300</td>\n",
       "      <td>False</td>\n",
       "      <td>low</td>\n",
       "      <td>1</td>\n",
       "    </tr>\n",
       "    <tr>\n",
       "      <th>3</th>\n",
       "      <td>34</td>\n",
       "      <td>m</td>\n",
       "      <td>y</td>\n",
       "      <td>3900</td>\n",
       "      <td>True</td>\n",
       "      <td>heavy</td>\n",
       "      <td>0</td>\n",
       "    </tr>\n",
       "    <tr>\n",
       "      <th>4</th>\n",
       "      <td>45</td>\n",
       "      <td>f</td>\n",
       "      <td>y</td>\n",
       "      <td>4020</td>\n",
       "      <td>True</td>\n",
       "      <td>heavy</td>\n",
       "      <td>0</td>\n",
       "    </tr>\n",
       "    <tr>\n",
       "      <th>5</th>\n",
       "      <td>34</td>\n",
       "      <td>m</td>\n",
       "      <td>n</td>\n",
       "      <td>4800</td>\n",
       "      <td>False</td>\n",
       "      <td>low</td>\n",
       "      <td>1</td>\n",
       "    </tr>\n",
       "    <tr>\n",
       "      <th>6</th>\n",
       "      <td>50</td>\n",
       "      <td>f</td>\n",
       "      <td>y</td>\n",
       "      <td>5030</td>\n",
       "      <td>True</td>\n",
       "      <td>heavy</td>\n",
       "      <td>0</td>\n",
       "    </tr>\n",
       "    <tr>\n",
       "      <th>7</th>\n",
       "      <td>47</td>\n",
       "      <td>f</td>\n",
       "      <td>y</td>\n",
       "      <td>2900</td>\n",
       "      <td>False</td>\n",
       "      <td>low</td>\n",
       "      <td>2</td>\n",
       "    </tr>\n",
       "    <tr>\n",
       "      <th>8</th>\n",
       "      <td>59</td>\n",
       "      <td>m</td>\n",
       "      <td>n</td>\n",
       "      <td>4500</td>\n",
       "      <td>True</td>\n",
       "      <td>heavy</td>\n",
       "      <td>-1</td>\n",
       "    </tr>\n",
       "    <tr>\n",
       "      <th>9</th>\n",
       "      <td>62</td>\n",
       "      <td>f</td>\n",
       "      <td>y</td>\n",
       "      <td>3400</td>\n",
       "      <td>False</td>\n",
       "      <td>low</td>\n",
       "      <td>2</td>\n",
       "    </tr>\n",
       "  </tbody>\n",
       "</table>\n",
       "</div>"
      ],
      "text/plain": [
       "   age gender marriage  salary  children purchase_type  cluster\n",
       "0   22      m        y    3400      True           low        0\n",
       "1   25      m        n    3500     False           low        1\n",
       "2   30      f        n    4300     False           low        1\n",
       "3   34      m        y    3900      True         heavy        0\n",
       "4   45      f        y    4020      True         heavy        0\n",
       "5   34      m        n    4800     False           low        1\n",
       "6   50      f        y    5030      True         heavy        0\n",
       "7   47      f        y    2900     False           low        2\n",
       "8   59      m        n    4500      True         heavy       -1\n",
       "9   62      f        y    3400     False           low        2"
      ]
     },
     "execution_count": 115,
     "metadata": {},
     "output_type": "execute_result"
    }
   ],
   "source": [
    "# 이용자별로 분류된 그룹도 데이트 프레임에 표기\n",
    "df['cluster'] = dbscan.labels_\n",
    "df "
   ]
  },
  {
   "cell_type": "code",
   "execution_count": null,
   "id": "d3831d48",
   "metadata": {},
   "outputs": [],
   "source": [
    "# 위와 같이 분류만 해주면 분류된 것을 sql에 디비로 넣어 놓고 이 이용자 정보를 가지고 그룹별로 이용해 뭘 추천할지를 결정 \n",
    "# 분류된 데이터베이스를 이용해 데이터 프레임으로 만들어 csv 파일 또는 파이썬 이용해 가공 가능"
   ]
  },
  {
   "cell_type": "code",
   "execution_count": null,
   "id": "14d31bae",
   "metadata": {},
   "outputs": [],
   "source": [
    "# 머신러닝을 위한 사이킷런은 아나콘다에서 제공되는 모듈이나 \n",
    "# 딥러닝은 아나콘다에 없고 구글에서 만든 인경신경망 이론 이용"
   ]
  }
 ],
 "metadata": {
  "kernelspec": {
   "display_name": "Python 3 (ipykernel)",
   "language": "python",
   "name": "python3"
  },
  "language_info": {
   "codemirror_mode": {
    "name": "ipython",
    "version": 3
   },
   "file_extension": ".py",
   "mimetype": "text/x-python",
   "name": "python",
   "nbconvert_exporter": "python",
   "pygments_lexer": "ipython3",
   "version": "3.11.3"
  }
 },
 "nbformat": 4,
 "nbformat_minor": 5
}
