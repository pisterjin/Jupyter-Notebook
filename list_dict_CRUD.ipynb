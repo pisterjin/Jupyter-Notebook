{
 "cells": [
  {
   "cell_type": "markdown",
   "id": "42ad255f",
   "metadata": {},
   "source": [
    "#### 키보드 입력을 이용하여 list, dictionary 자료구조에 저장/수정/삭제/검색\n",
    "- 사번, 이름, 부서, 급여, 입사일\n",
    "- 프로그램이 시작되면 메뉴 표시\n",
    "- 무한히 실행되는 기능구현\n",
    "- 이용자가 x 입력시 종료\n",
    "- 키보드에서 5개의 정보를 입력하여 파이썬 자료구조에 저장하기\n",
    "- 추가(a), 목록(s), 검색(f), 수정(u), 삭제(d), 종료(x)"
   ]
  },
  {
   "cell_type": "code",
   "execution_count": 1,
   "id": "da4289a3",
   "metadata": {},
   "outputs": [],
   "source": [
    "emps = []"
   ]
  },
  {
   "cell_type": "code",
   "execution_count": 2,
   "id": "255d6d40",
   "metadata": {},
   "outputs": [],
   "source": [
    "def add():\n",
    "    global emps\n",
    "    empno = int(input('사번:'))\n",
    "    ename = input('이름:')\n",
    "    deptno = int(input('부서:'))\n",
    "    sal = int(input('급여:'))\n",
    "    hiredate = input('입사일:')\n",
    "    emp = {\"empno\":empno, \"ename\":ename,\"deptno\":deptno, \"sal\":sal, \"hiredate\":hiredate}\n",
    "    emps.append(emp)\n",
    "    print('사원정보 저장 성공')"
   ]
  },
  {
   "cell_type": "code",
   "execution_count": 3,
   "id": "b98ceda0",
   "metadata": {},
   "outputs": [],
   "source": [
    "def empList():\n",
    "    global emps\n",
    "    for emp in emps:\n",
    "        for (k,v) in emp.items():\n",
    "            print(v,'\\t',end=\" \")\n",
    "        print()"
   ]
  },
  {
   "cell_type": "code",
   "execution_count": 4,
   "id": "f663b564",
   "metadata": {},
   "outputs": [],
   "source": [
    "def find_index(empno):\n",
    "    found = False\n",
    "    for emp in emps:\n",
    "        if emp['empno']==empno:\n",
    "            found = True\n",
    "            return emps.index(emp)\n",
    "    if not found:\n",
    "        return -1"
   ]
  },
  {
   "cell_type": "code",
   "execution_count": 5,
   "id": "936f780c",
   "metadata": {},
   "outputs": [],
   "source": [
    "def find():\n",
    "    global emps\n",
    "    empno = int(input('검색할 사번:'))\n",
    "    idx = find_index(empno)\n",
    "    if idx==-1:\n",
    "        print('검색 실패')\n",
    "    else:\n",
    "        for (k,v) in emps[idx].items():\n",
    "            print(v, '\\t', end=\" \")"
   ]
  },
  {
   "cell_type": "code",
   "execution_count": 6,
   "id": "28f478c9",
   "metadata": {},
   "outputs": [],
   "source": [
    "def update():\n",
    "    empno = int(input('변경대상 사번:'))\n",
    "    newSal = int(input('새 급여:'))\n",
    "    idx = find_index(empno)\n",
    "    if idx==-1:\n",
    "        print('변경 실패')\n",
    "    else:\n",
    "        emps[idx]['sal'] = newSal\n",
    "        print('변경 성공')"
   ]
  },
  {
   "cell_type": "code",
   "execution_count": 7,
   "id": "02514d6b",
   "metadata": {},
   "outputs": [],
   "source": [
    "def delete():\n",
    "    empno = int(input('삭제대상 사번:'))\n",
    "    idx = find_index(empno)\n",
    "    if idx==-1:\n",
    "        print('삭제 실패')\n",
    "    else:\n",
    "        del emps[idx]\n",
    "        print('삭제 성공')"
   ]
  },
  {
   "cell_type": "code",
   "execution_count": 8,
   "id": "7ae7057c",
   "metadata": {
    "scrolled": true
   },
   "outputs": [
    {
     "name": "stdout",
     "output_type": "stream",
     "text": [
      "추가(a), 목록(s), 검색(f), 수정(u), 삭제(d), 종료(x):a\n",
      "사번:11\n",
      "이름:smith\n",
      "부서:20\n",
      "급여:4200\n",
      "입사일:2010-12-13\n",
      "사원정보 저장 성공\n",
      "추가(a), 목록(s), 검색(f), 수정(u), 삭제(d), 종료(x):s\n",
      "11 \t smith \t 20 \t 4200 \t 2010-12-13 \t \n",
      "추가(a), 목록(s), 검색(f), 수정(u), 삭제(d), 종료(x):a\n",
      "사번:12\n",
      "이름:James\n",
      "부서:10\n",
      "급여:3600\n",
      "입사일:2020-10-14\n",
      "사원정보 저장 성공\n",
      "추가(a), 목록(s), 검색(f), 수정(u), 삭제(d), 종료(x):s\n",
      "11 \t smith \t 20 \t 4200 \t 2010-12-13 \t \n",
      "12 \t James \t 10 \t 3600 \t 2020-10-14 \t \n",
      "추가(a), 목록(s), 검색(f), 수정(u), 삭제(d), 종료(x):f\n",
      "검색할 사번:12\n",
      "12 \t James \t 10 \t 3600 \t 2020-10-14 \t 추가(a), 목록(s), 검색(f), 수정(u), 삭제(d), 종료(x):u\n",
      "변경대상 사번:12\n",
      "새 급여:4500\n",
      "변경 성공\n",
      "추가(a), 목록(s), 검색(f), 수정(u), 삭제(d), 종료(x):s\n",
      "11 \t smith \t 20 \t 4200 \t 2010-12-13 \t \n",
      "12 \t James \t 10 \t 4500 \t 2020-10-14 \t \n",
      "추가(a), 목록(s), 검색(f), 수정(u), 삭제(d), 종료(x):d\n",
      "삭제대상 사번:11\n",
      "삭제 성공\n",
      "추가(a), 목록(s), 검색(f), 수정(u), 삭제(d), 종료(x):s\n",
      "12 \t James \t 10 \t 4500 \t 2020-10-14 \t \n",
      "추가(a), 목록(s), 검색(f), 수정(u), 삭제(d), 종료(x):x\n",
      "프로그램 종료\n"
     ]
    }
   ],
   "source": [
    "go=True\n",
    "while go:\n",
    "    menu = input('추가(a), 목록(s), 검색(f), 수정(u), 삭제(d), 종료(x):')\n",
    "    if menu=='a':\n",
    "        add()\n",
    "    elif menu==\"s\":\n",
    "        empList()\n",
    "    elif menu==\"f\":\n",
    "        find()\n",
    "    elif menu==\"u\":\n",
    "        update()\n",
    "    elif menu==\"d\":\n",
    "        delete()\n",
    "    elif menu=='x':\n",
    "        go = False\n",
    "    else:\n",
    "        print('메뉴입력 오류')\n",
    "print('프로그램 종료')"
   ]
  },
  {
   "cell_type": "code",
   "execution_count": null,
   "id": "1cf2b872",
   "metadata": {},
   "outputs": [],
   "source": []
  }
 ],
 "metadata": {
  "kernelspec": {
   "display_name": "Python 3 (ipykernel)",
   "language": "python",
   "name": "python3"
  },
  "language_info": {
   "codemirror_mode": {
    "name": "ipython",
    "version": 3
   },
   "file_extension": ".py",
   "mimetype": "text/x-python",
   "name": "python",
   "nbconvert_exporter": "python",
   "pygments_lexer": "ipython3",
   "version": "3.11.3"
  }
 },
 "nbformat": 4,
 "nbformat_minor": 5
}
