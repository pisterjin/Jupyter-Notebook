{
 "cells": [
  {
   "cell_type": "code",
   "execution_count": null,
   "id": "9cd48944",
   "metadata": {},
   "outputs": [],
   "source": [
    "s = 'Hello World'\n",
    "','. join(s)"
   ]
  },
  {
   "cell_type": "markdown",
   "id": "273cc7ef",
   "metadata": {},
   "source": [
    "### list, tuple, dictionary, set\n",
    "- list : 저장 순서 유지, 중복 허용, 원소 수정/삭제 가능, 성능 느림 [a,b, ..... ]\n",
    "- tuple: list와 같으나 원소 수정/삭제 불가, 성능 빠름 (a,b, .....)\n",
    "- dictionary : key, value 쌍으로 저장, 순차 검색 필요 없어 검색 성능 좋음 {'k':'v',....}\n",
    "- set :  중복 불허, 합집합, 교집합, 차집합, 대칭차집합 {a, b, ....}"
   ]
  },
  {
   "cell_type": "code",
   "execution_count": null,
   "id": "42b05209",
   "metadata": {},
   "outputs": [],
   "source": [
    "set1 = set({1,2,3,4})\n",
    "set2 = {3,4,5,6,7}\n",
    "type(set1), type(set2)"
   ]
  },
  {
   "cell_type": "code",
   "execution_count": null,
   "id": "3e8c77dd",
   "metadata": {},
   "outputs": [],
   "source": [
    "# 무작위 추첨, 무작위 샘플링\n",
    "# 내장 함수 : import 불필요\n",
    "# 외장 함수 : import 필요\n",
    "# 사용자 정의 함수\n",
    "import random\n",
    "random.sample([1,2,4,5], 2)\n",
    "random.sample(range(100),10)\n",
    "random.sample(range(10),5)"
   ]
  },
  {
   "cell_type": "code",
   "execution_count": null,
   "id": "55b35fc4",
   "metadata": {},
   "outputs": [],
   "source": [
    "for n in range(10):\n",
    "    i=random.sample(range(10),1)\n",
    "    print(i, end=\" \")"
   ]
  },
  {
   "cell_type": "code",
   "execution_count": null,
   "id": "72631601",
   "metadata": {},
   "outputs": [],
   "source": [
    "col = []\n",
    "for n in range(10):\n",
    "    i=random.sample(range(10),1)\n",
    "    col.append(i)\n",
    "col    "
   ]
  },
  {
   "cell_type": "code",
   "execution_count": null,
   "id": "d6cc0a8e",
   "metadata": {},
   "outputs": [],
   "source": [
    "col = []\n",
    "for n in range(10):\n",
    "    i=random.sample(range(10),1)\n",
    "    col.append(i[0])\n",
    "col "
   ]
  },
  {
   "cell_type": "code",
   "execution_count": null,
   "id": "b1914111",
   "metadata": {},
   "outputs": [],
   "source": [
    "set_test = {} # 이렇게 하면 딕셔너리 옴\n",
    "type(set_test)"
   ]
  },
  {
   "cell_type": "code",
   "execution_count": null,
   "id": "a206d993",
   "metadata": {},
   "outputs": [],
   "source": [
    "set_test = {1,2,3}\n",
    "type(set_test)"
   ]
  },
  {
   "cell_type": "code",
   "execution_count": null,
   "id": "870cdf72",
   "metadata": {
    "scrolled": true
   },
   "outputs": [],
   "source": [
    "set_test = set()\n",
    "type(set_test)"
   ]
  },
  {
   "cell_type": "code",
   "execution_count": null,
   "id": "afe03c4d",
   "metadata": {},
   "outputs": [],
   "source": [
    "dir(set_test)"
   ]
  },
  {
   "cell_type": "code",
   "execution_count": null,
   "id": "e26164f6",
   "metadata": {},
   "outputs": [],
   "source": [
    "set_test."
   ]
  },
  {
   "cell_type": "code",
   "execution_count": null,
   "id": "3826b135",
   "metadata": {},
   "outputs": [],
   "source": [
    "set1^set2 # 대칭차집합(합집합 결과 중에서 교집합 성분 제거)"
   ]
  },
  {
   "cell_type": "code",
   "execution_count": null,
   "id": "d49198e6",
   "metadata": {
    "scrolled": true
   },
   "outputs": [],
   "source": [
    "# 대칭차집합과 같은 의미의 연산\n",
    "(set1 | set2) - (set1 & set2)"
   ]
  },
  {
   "cell_type": "markdown",
   "id": "cfcd39c0",
   "metadata": {},
   "source": [
    "## 무작위 수(0~20)를 한 개씩 추출하여 중복되지 않게 10개를 추출해보세요"
   ]
  },
  {
   "cell_type": "code",
   "execution_count": null,
   "id": "1b93b1e6",
   "metadata": {},
   "outputs": [],
   "source": [
    "# 방법 1\n",
    "myset = set()  # set으로 변경\n",
    "while len(myset)<10:  # set의 크기가 10이 될 때까지 반복(0부터 인덱스가 시작하니 9까지만 받아야 10개)\n",
    "    myset.add(random.sample(range(20), 1)[0])  # sample이 리스트를 반환\n",
    "myset\n",
    "print(myset)"
   ]
  },
  {
   "cell_type": "code",
   "execution_count": null,
   "id": "8fc8ec75",
   "metadata": {
    "scrolled": true
   },
   "outputs": [],
   "source": [
    "myset[0] # 에러 'set' object is not subscriptable"
   ]
  },
  {
   "cell_type": "code",
   "execution_count": null,
   "id": "6f034205",
   "metadata": {},
   "outputs": [],
   "source": [
    "# set을 list로 변경하면 인덱스 사용 가능\n",
    "list1 = list(myset)\n",
    "list1[2]  # 위의 결과에 인덱스 2번째 자리에 오는 숫자 반환"
   ]
  },
  {
   "cell_type": "code",
   "execution_count": null,
   "id": "a1016870",
   "metadata": {},
   "outputs": [],
   "source": [
    "# 방법 2\n",
    "col = set()  # set으로 변경\n",
    "\n",
    "while len(col) < 10:  # set의 크기가 10이 될 때까지 반복(0부터 인덱스가 시작하니 9까지만 받아야 10개)\n",
    "    i = random.randint(0, 20)  # 0부터 10까지의 숫자 중 랜덤으로 하나를 선택\n",
    "    col.add(i)  # 선택한 숫자를 set에 추가\n",
    "\n",
    "print(col)"
   ]
  },
  {
   "cell_type": "code",
   "execution_count": null,
   "id": "cdbc0959",
   "metadata": {},
   "outputs": [],
   "source": [
    "set1 = {1,2,3,4}\n",
    "set2 = {3,4,5,6}"
   ]
  },
  {
   "cell_type": "code",
   "execution_count": null,
   "id": "c0269838",
   "metadata": {},
   "outputs": [],
   "source": [
    "set1 | set2  # 합집합  {1, 2, 3, 4, 5, 6}"
   ]
  },
  {
   "cell_type": "code",
   "execution_count": null,
   "id": "68ce7fdd",
   "metadata": {},
   "outputs": [],
   "source": [
    "# 교집합\n",
    "set1 & set2  # 결과도 집합으로 나옴 {3, 4}"
   ]
  },
  {
   "cell_type": "code",
   "execution_count": null,
   "id": "6c1a35a9",
   "metadata": {},
   "outputs": [],
   "source": [
    "# 차집합\n",
    "set1 - set2"
   ]
  },
  {
   "cell_type": "code",
   "execution_count": null,
   "id": "e8741730",
   "metadata": {},
   "outputs": [],
   "source": [
    "# 대칭 차집합\n",
    "set1^set2 # 합집합 원소 중에서 교집합 원소를 빼는 것 {1,2,5,6}"
   ]
  },
  {
   "cell_type": "code",
   "execution_count": null,
   "id": "7501cad5",
   "metadata": {},
   "outputs": [],
   "source": [
    "(set1 | set2)-(set1 & set2) # 대칭 차집합 풀이"
   ]
  },
  {
   "cell_type": "markdown",
   "id": "8f9e7004",
   "metadata": {},
   "source": [
    "### 서식 문자열 작성하기\n",
    "- '%s xxxx %s' => 예) %(name, age)\n",
    "- '{} xxxx {}' => 예) .format(name, age)\n",
    "- f'{name} xxxx {age}'"
   ]
  },
  {
   "cell_type": "code",
   "execution_count": null,
   "id": "5b67b116",
   "metadata": {},
   "outputs": [],
   "source": [
    "name = 'Smith'\n",
    "age = 30"
   ]
  },
  {
   "cell_type": "code",
   "execution_count": null,
   "id": "177520da",
   "metadata": {
    "scrolled": true
   },
   "outputs": [],
   "source": [
    "'%s의 나이는 %s' %(name, age)"
   ]
  },
  {
   "cell_type": "code",
   "execution_count": null,
   "id": "9aba7c22",
   "metadata": {},
   "outputs": [],
   "source": [
    "'{}의 나이는 {}'.format(name, age)"
   ]
  },
  {
   "cell_type": "code",
   "execution_count": null,
   "id": "9650b2ab",
   "metadata": {},
   "outputs": [],
   "source": [
    "f'{name}의 나이는 {age}'"
   ]
  },
  {
   "cell_type": "code",
   "execution_count": null,
   "id": "117dac83",
   "metadata": {},
   "outputs": [],
   "source": [
    "msg = '%s의 나이는 %s' %(name, age)\n",
    "msg"
   ]
  },
  {
   "cell_type": "markdown",
   "id": "15ceed1f",
   "metadata": {},
   "source": [
    "### 예외처리\n",
    "- try     : 예외 발생 가능한 블럭\n",
    "- except  : 예외가 발생했을 때 실행되는 블럭\n",
    "- else    : 예외가 발생하지 않았을 때 실행되는 블럭\n",
    "- finally : 예외 발생과 무관하게 항상 실행되는 블럭"
   ]
  },
  {
   "cell_type": "code",
   "execution_count": null,
   "id": "b94aae52",
   "metadata": {},
   "outputs": [],
   "source": [
    " # 키보드에서 2개의 정수를 입력 받는다\n",
    " # 첫번째 수를 두 번째 수로 나눗셈하고 그 계산식과 결과값을 화면에 표시한다\n",
    "n1 = int(input('첫 번째 정수를 입력하세요: '))\n",
    "n2 = int(input('두 번째 정수를 입력하세요: '))\n",
    "n3 = n1 / n2\n",
    "print(\"'%d 나누기 %d'는 %f입니다.\" % (n1, n2, n3))\n",
    "print(\"'%d 나누기 %d'는 %.2f입니다.\" % (n1, n2, n3))\n",
    "print(\"'%s 나누기 %s'는 %s입니다.\" % (n1, n2, n3))"
   ]
  },
  {
   "cell_type": "code",
   "execution_count": null,
   "id": "ab88efe6",
   "metadata": {},
   "outputs": [],
   "source": [
    "i1 = int(input('정수1: '))\n",
    "i2 = int(input('정수2: '))\n",
    "ans = i1/i2\n",
    "res = f'{i1} / {i2} = {ans}'\n",
    "res"
   ]
  },
  {
   "cell_type": "code",
   "execution_count": null,
   "id": "98c5326d",
   "metadata": {},
   "outputs": [],
   "source": [
    "i1 = int(input('정수1: '))\n",
    "i2 = int(input('정수2: '))\n",
    "ans = i1/i2\n",
    "res = f'{i1} / {i2} = {ans}'\n",
    "res      # 0으로 나누면 에러남 ZeroDivisionError 에러 뭐가 나오는지 출력해봐야 에러 내용 넣어서 예외처리 가능"
   ]
  },
  {
   "cell_type": "code",
   "execution_count": null,
   "id": "e6e0ae79",
   "metadata": {},
   "outputs": [],
   "source": [
    "i1 = int(input('정수1: '))\n",
    "i2 = int(input('정수2: '))\n",
    "try:\n",
    "    ans = i1/i2\n",
    "    res = f'{i1} / {i2} = {ans}'\n",
    "    print(res)  \n",
    "except:\n",
    "    print('오류 발생')\n",
    "else:\n",
    "    print('정상 실행')\n",
    "finally:\n",
    "    print('실행 종료')   #else  및 finally는 선택 코딩 입력임"
   ]
  },
  {
   "cell_type": "code",
   "execution_count": null,
   "id": "4c374eff",
   "metadata": {},
   "outputs": [],
   "source": [
    "i1 = int(input('정수1: '))\n",
    "i2 = int(input('정수2: '))\n",
    "try:\n",
    "    ans = i1/i2\n",
    "    res = f'{i1} / {i2} = {ans}'\n",
    "    print(res)  \n",
    "except ZeroDivisionError as zde:\n",
    "    print('0이 분모가 될 수 없습니다')\n",
    "else:\n",
    "    print('정상 실행')\n",
    "finally:\n",
    "    print('실행 종료')  #else  및 finally는 선택 코딩 입력임"
   ]
  },
  {
   "cell_type": "code",
   "execution_count": null,
   "id": "ba87438b",
   "metadata": {},
   "outputs": [],
   "source": [
    "i1 = int(input('정수1: '))\n",
    "i2 = int(input('정수2: '))\n",
    "ans = 0.0\n",
    "try:\n",
    "    ans = i1/i2\n",
    "except ZeroDivisionError as zde:\n",
    "    print('0이 분모가 될 수 없습니다')\n",
    "else:\n",
    "    res = f'{i1} / {i2} = {ans}'\n",
    "    print(res)  \n",
    "finally:\n",
    "    print('실행 종료')  # else에 실행 기능한 코드 삽입"
   ]
  },
  {
   "cell_type": "code",
   "execution_count": null,
   "id": "01694062",
   "metadata": {},
   "outputs": [],
   "source": [
    "# 만약 키보드에서 숫자가 입력되지 않았다면 어떤 결과가 나오는가 확인하고\n",
    "# 예외 처리 코드를 적용해보세요"
   ]
  },
  {
   "cell_type": "code",
   "execution_count": null,
   "id": "4656ef23",
   "metadata": {},
   "outputs": [],
   "source": [
    "# 내가 한 것\n",
    "i1 = input('정수1: ')\n",
    "i2 = input('정수2: ')\n",
    "try:\n",
    "    i1 = int(i1)\n",
    "    i2 = int(i2)\n",
    "    ans = i1 / i2\n",
    "except ValueError as ver:  # 별칭 주는 건 선택 사항 (에러 객체를 변수에 넣어서 표현)\n",
    "    print('올바른 정수를 입력해주세요.')\n",
    "except ZeroDivisionError as zde:\n",
    "    print('0이 분모가 될 수 없습니다.')\n",
    "else:\n",
    "    res = f'{i1} / {i2} = {ans}'\n",
    "    print(res)\n",
    "finally:\n",
    "    print('실행 종료')"
   ]
  },
  {
   "cell_type": "code",
   "execution_count": null,
   "id": "1d2257d6",
   "metadata": {},
   "outputs": [],
   "source": [
    "# 강사님이 한 것\n",
    "ans = 0.0\n",
    "\n",
    "try:\n",
    "    i1 = int(input('정수1: '))\n",
    "    i2 = int(input('정수2: '))\n",
    "    ans = i1 / i2\n",
    "except ZeroDivisionError as zde:\n",
    "    print('0이 분모가 될 수 없습니다.', zde)\n",
    "except ValueError as ve:  # 별칭 주는 건 선택 사항 (에러 객체를 변수에 넣어서 표현)\n",
    "    print('숫자와의 문자는 계산이 안 됩니다.' , ve)\n",
    "else:\n",
    "    res = f'{i1} / {i2} = {ans}'\n",
    "    print(res)\n",
    "finally:\n",
    "    print('실행 종료')"
   ]
  },
  {
   "cell_type": "code",
   "execution_count": null,
   "id": "563a283e",
   "metadata": {},
   "outputs": [],
   "source": [
    "# 강사님이 한 것\n",
    "ans = 0.0\n",
    "\n",
    "try:\n",
    "    i1 = int(input('정수1: '))\n",
    "    i2 = int(input('정수2: '))\n",
    "    ans = i1 / i2\n",
    "    '''    \n",
    "    except ZeroDivisionError as zde:\n",
    "        print('0이 분모가 될 수 없습니다.', zde)\n",
    "    except ValueError as ve:  # 별칭 주는 건 선택 사항 (에러 객체를 변수에 넣어서 표현)\n",
    "        print('숫자와의 문자는 계산이 안 됩니다.' , ve)\n",
    "    '''    \n",
    "except Exception as ex: \n",
    "    print('예외 발생.' , ex)\n",
    "else:\n",
    "    res = f'{i1} / {i2} = {ans}'\n",
    "    print(res)\n",
    "finally:\n",
    "    print('실행 종료')"
   ]
  },
  {
   "cell_type": "code",
   "execution_count": null,
   "id": "ca065af9",
   "metadata": {
    "scrolled": true
   },
   "outputs": [],
   "source": [
    "ans = 0.0\n",
    "\n",
    "try:\n",
    "    i1 = int(input('정수1: '))\n",
    "    i2 = int(input('정수2: '))\n",
    "    ans = i1 / i2\n",
    "    '''    \n",
    "    except ZeroDivisionError as zde:\n",
    "        print('0이 분모가 될 수 없습니다.', zde)\n",
    "    except ValueError as ve:  # 별칭 주는 건 선택 사항 (에러 객체를 변수에 넣어서 표현)\n",
    "        print('숫자와의 문자는 계산이 안 됩니다.' , ve)\n",
    "    '''    \n",
    "except Exception as ex: \n",
    "     #print('예외 발생.' , ex)\n",
    "     # instanceof    : obj instanceof Emp   <-- 자바의 경우\n",
    "        if isinstance(ex,ZeroDivisionError):\n",
    "            print('0이 분모가 될 수 없습니다.', ex)\n",
    "        elif isinstance(ex,ValueError):  \n",
    "            print('숫자와의 문자는 계산이 안 됩니다.' , ex)\n",
    "else:\n",
    "    res = f'{i1} / {i2} = {ans}'\n",
    "    print(res)\n",
    "finally:\n",
    "    print('실행 종료')"
   ]
  },
  {
   "cell_type": "markdown",
   "id": "e2c9d18a",
   "metadata": {},
   "source": [
    "## 파일 다루기\n",
    "- open()  : 파일 경로를 이용하여 파일 입출력 스트림을 얻는다\n",
    "- read, write, append 등의 작업 수행\n",
    "- close() : 파일 입출력시 사용했던 리소스를 해제한다"
   ]
  },
  {
   "cell_type": "code",
   "execution_count": null,
   "id": "d53c63cc",
   "metadata": {},
   "outputs": [],
   "source": [
    "# 파일에 저장된 모든 텍스트 가져오기\n",
    "fin = open('d:/test/sample.txt','r' , encoding='utf-8')\n",
    "data = fin.read()\n",
    "data"
   ]
  },
  {
   "cell_type": "code",
   "execution_count": null,
   "id": "3511b4f8",
   "metadata": {},
   "outputs": [],
   "source": [
    "fin = open('d:/test/sample.txt','r' , encoding='utf-8')\n",
    "#dir(fin)\n",
    "line = fin.readline()\n",
    "line"
   ]
  },
  {
   "cell_type": "code",
   "execution_count": null,
   "id": "53dbb2b5",
   "metadata": {},
   "outputs": [],
   "source": [
    "fin = open('d:/test/sample.txt','r' , encoding='utf-8')\n",
    "#dir(fin)\n",
    "line = fin.readline()\n",
    "line.strip()"
   ]
  },
  {
   "cell_type": "code",
   "execution_count": null,
   "id": "e434f56a",
   "metadata": {},
   "outputs": [],
   "source": [
    "fin = open('d:/test/sample.txt','r' , encoding='utf-8')\n",
    "#dir(fin)\n",
    "line = fin.readline()\n",
    "print(line.strip())\n",
    "\n",
    "line = fin.readline()\n",
    "print(line.strip())"
   ]
  },
  {
   "cell_type": "code",
   "execution_count": null,
   "id": "dbac2175",
   "metadata": {},
   "outputs": [],
   "source": [
    "fin = open('d:/test/sample.txt','r' , encoding='utf-8')\n",
    "#dir(fin)\n",
    "line = fin.readline()\n",
    "print(line.strip())\n",
    "\n",
    "line = fin.readline()\n",
    "print(line.strip())\n",
    "\n",
    "line = fin.readline()\n",
    "print(line.strip())"
   ]
  },
  {
   "cell_type": "code",
   "execution_count": null,
   "id": "02583c4a",
   "metadata": {},
   "outputs": [],
   "source": [
    "fin.readlines()"
   ]
  },
  {
   "cell_type": "code",
   "execution_count": null,
   "id": "06cde88d",
   "metadata": {},
   "outputs": [],
   "source": [
    "for line in fin.readlines():\n",
    "    print(line.strip())"
   ]
  },
  {
   "cell_type": "code",
   "execution_count": null,
   "id": "767b7ea6",
   "metadata": {
    "scrolled": true
   },
   "outputs": [],
   "source": [
    "fin = open('d:/test/sample.txt','r' , encoding='utf-8')\n",
    "for v in fin:\n",
    "    #print(v)\n",
    "    #print('[',v,']')\n",
    "    print(v.strip())"
   ]
  },
  {
   "cell_type": "code",
   "execution_count": null,
   "id": "07a1a396",
   "metadata": {},
   "outputs": [],
   "source": [
    "fin = open('d:/test/sample.txt','r' , encoding='utf-8')\n",
    "for line in fin.readlines():\n",
    "    print(line.rstrip())"
   ]
  },
  {
   "cell_type": "code",
   "execution_count": null,
   "id": "ec0826db",
   "metadata": {},
   "outputs": [],
   "source": [
    "# 파일에 저장된 모든 텍스트 가져오기\n",
    "fin = open('d:/test/sample.txt','r' , encoding='utf-8')\n",
    "data = fin.read()\n",
    "fin.close()\n",
    "data"
   ]
  },
  {
   "cell_type": "code",
   "execution_count": null,
   "id": "b5beba5d",
   "metadata": {},
   "outputs": [],
   "source": [
    "fin = open('d:/test/sample.txt','r' , encoding='utf-8')\n",
    "#dir(fin)\n",
    "line = fin.readline()\n",
    "print(line.strip())\n",
    "\n",
    "line = fin.readline()\n",
    "print(line.strip())\n",
    "\n",
    "line = fin.readline()\n",
    "print(line.strip())\n",
    "fin.close()"
   ]
  },
  {
   "cell_type": "code",
   "execution_count": null,
   "id": "7b57c72a",
   "metadata": {},
   "outputs": [],
   "source": [
    "fin = open('d:/test/sample.txt','r' , encoding='utf-8')\n",
    "for line in fin.readlines():\n",
    "    print(line.rstrip())\n",
    "fin.close()    "
   ]
  },
  {
   "cell_type": "code",
   "execution_count": null,
   "id": "2f65b9b7",
   "metadata": {},
   "outputs": [],
   "source": [
    "with open('d:/test/sample.txt','r' , encoding='utf-8') as fin: \n",
    "# with A as B:  \n",
    "#    => close()를 안 써도 자동 리소스를 해제시켜줌\n",
    "    for line in fin:\n",
    "        print(line.rstrip())"
   ]
  },
  {
   "cell_type": "markdown",
   "id": "8e4df79e",
   "metadata": {},
   "source": [
    "## 파일에 텍스트 쓰기"
   ]
  },
  {
   "cell_type": "code",
   "execution_count": 17,
   "id": "d4c7c62d",
   "metadata": {},
   "outputs": [],
   "source": [
    "with open('D:/test/python_dict.txt', 'w') as fout: \n",
    "#  with open('D:/test/python_dict.txt', mode='w') as fout:  와 동일  \n",
    "    fout.write(\"한행 쓰기\\n\")"
   ]
  },
  {
   "cell_type": "code",
   "execution_count": 18,
   "id": "9282b432",
   "metadata": {},
   "outputs": [],
   "source": [
    "with open('D:/test/python_dict.txt', 'a') as fout: \n",
    "    fout.write(\"한행 쓰기\\n\")"
   ]
  },
  {
   "cell_type": "code",
   "execution_count": 19,
   "id": "63a1cda8",
   "metadata": {},
   "outputs": [],
   "source": [
    "# 문제)\n",
    "\n",
    "# 키보드에서 입력되는 회원번호(번호, 이름, 전화)\n",
    "# 이용자가 x 눌러 프로그램 종료시까지 반복해서 파일에 저장한다\n",
    "# 파일에 이어쓰기 하려면 mode='a' 또는 'a'\n",
    "# with open('D:/test/python_dict.txt', 'a') as fout: \n",
    "# 이용자가 x 눌러 종료하면 지금까지 누적된 모든 회원정보를 목록으로 표시\n",
    "# => a는 자바의 이어쓰기 했을 때의 true와 동일"
   ]
  },
  {
   "cell_type": "code",
   "execution_count": 23,
   "id": "8b1c0de4",
   "metadata": {},
   "outputs": [
    {
     "ename": "FileNotFoundError",
     "evalue": "[Errno 2] No such file or directory: 'D:/test/python_crud.txtr'",
     "output_type": "error",
     "traceback": [
      "\u001b[1;31m---------------------------------------------------------------------------\u001b[0m",
      "\u001b[1;31mFileNotFoundError\u001b[0m                         Traceback (most recent call last)",
      "Cell \u001b[1;32mIn[23], line 3\u001b[0m\n\u001b[0;32m      1\u001b[0m \u001b[38;5;28;01mwith\u001b[39;00m \u001b[38;5;28mopen\u001b[39m(\u001b[38;5;124m'\u001b[39m\u001b[38;5;124mD:/test/python_crud.txt\u001b[39m\u001b[38;5;124m'\u001b[39m, \u001b[38;5;124m'\u001b[39m\u001b[38;5;124mw\u001b[39m\u001b[38;5;124m'\u001b[39m) \u001b[38;5;28;01mas\u001b[39;00m fout:\n\u001b[0;32m      2\u001b[0m     fout\u001b[38;5;241m.\u001b[39mwrite(\u001b[38;5;124m\"\u001b[39m\u001b[38;5;124m파일 만들고 쓰기\u001b[39m\u001b[38;5;130;01m\\n\u001b[39;00m\u001b[38;5;124m\"\u001b[39m)\n\u001b[1;32m----> 3\u001b[0m \u001b[38;5;28;01mwith\u001b[39;00m \u001b[38;5;28mopen\u001b[39m(\u001b[38;5;124m'\u001b[39m\u001b[38;5;124mD:/test/python_crud.txt\u001b[39m\u001b[38;5;124m'\u001b[39m \u001b[38;5;124m'\u001b[39m\u001b[38;5;124mr\u001b[39m\u001b[38;5;124m'\u001b[39m, encoding\u001b[38;5;241m=\u001b[39m\u001b[38;5;124m'\u001b[39m\u001b[38;5;124mutf-8\u001b[39m\u001b[38;5;124m'\u001b[39m) \u001b[38;5;28;01mas\u001b[39;00m fin:\n\u001b[0;32m      4\u001b[0m     \u001b[38;5;28;01mfor\u001b[39;00m line \u001b[38;5;129;01min\u001b[39;00m fin:\n\u001b[0;32m      5\u001b[0m         \u001b[38;5;28mprint\u001b[39m(line\u001b[38;5;241m.\u001b[39mrstrip())\n",
      "File \u001b[1;32m~\\anaconda3\\Lib\\site-packages\\IPython\\core\\interactiveshell.py:284\u001b[0m, in \u001b[0;36m_modified_open\u001b[1;34m(file, *args, **kwargs)\u001b[0m\n\u001b[0;32m    277\u001b[0m \u001b[38;5;28;01mif\u001b[39;00m file \u001b[38;5;129;01min\u001b[39;00m {\u001b[38;5;241m0\u001b[39m, \u001b[38;5;241m1\u001b[39m, \u001b[38;5;241m2\u001b[39m}:\n\u001b[0;32m    278\u001b[0m     \u001b[38;5;28;01mraise\u001b[39;00m \u001b[38;5;167;01mValueError\u001b[39;00m(\n\u001b[0;32m    279\u001b[0m         \u001b[38;5;124mf\u001b[39m\u001b[38;5;124m\"\u001b[39m\u001b[38;5;124mIPython won\u001b[39m\u001b[38;5;124m'\u001b[39m\u001b[38;5;124mt let you open fd=\u001b[39m\u001b[38;5;132;01m{\u001b[39;00mfile\u001b[38;5;132;01m}\u001b[39;00m\u001b[38;5;124m by default \u001b[39m\u001b[38;5;124m\"\u001b[39m\n\u001b[0;32m    280\u001b[0m         \u001b[38;5;124m\"\u001b[39m\u001b[38;5;124mas it is likely to crash IPython. If you know what you are doing, \u001b[39m\u001b[38;5;124m\"\u001b[39m\n\u001b[0;32m    281\u001b[0m         \u001b[38;5;124m\"\u001b[39m\u001b[38;5;124myou can use builtins\u001b[39m\u001b[38;5;124m'\u001b[39m\u001b[38;5;124m open.\u001b[39m\u001b[38;5;124m\"\u001b[39m\n\u001b[0;32m    282\u001b[0m     )\n\u001b[1;32m--> 284\u001b[0m \u001b[38;5;28;01mreturn\u001b[39;00m io_open(file, \u001b[38;5;241m*\u001b[39margs, \u001b[38;5;241m*\u001b[39m\u001b[38;5;241m*\u001b[39mkwargs)\n",
      "\u001b[1;31mFileNotFoundError\u001b[0m: [Errno 2] No such file or directory: 'D:/test/python_crud.txtr'"
     ]
    }
   ],
   "source": [
    "with open('D:/test/python_crud.txt', 'w') as fout:\n",
    "    fout.write(\"파일 만들고 쓰기\\n\")\n",
    "with open('D:/test/python_crud.txt' 'r', encoding='utf-8') as fin:\n",
    "    for line in fin:\n",
    "        print(line.rstrip())\n",
    "with open('D:/test/python_crud.txt', 'a') as fout:\n",
    "    fout.write(\"이어서 쓰기\\n\")"
   ]
  },
  {
   "cell_type": "code",
   "execution_count": 24,
   "id": "93123d27",
   "metadata": {},
   "outputs": [],
   "source": [
    "members = []"
   ]
  },
  {
   "cell_type": "code",
   "execution_count": 25,
   "id": "e6939e08",
   "metadata": {},
   "outputs": [
    {
     "data": {
      "text/plain": [
       "['__add__',\n",
       " '__class__',\n",
       " '__class_getitem__',\n",
       " '__contains__',\n",
       " '__delattr__',\n",
       " '__delitem__',\n",
       " '__dir__',\n",
       " '__doc__',\n",
       " '__eq__',\n",
       " '__format__',\n",
       " '__ge__',\n",
       " '__getattribute__',\n",
       " '__getitem__',\n",
       " '__getstate__',\n",
       " '__gt__',\n",
       " '__hash__',\n",
       " '__iadd__',\n",
       " '__imul__',\n",
       " '__init__',\n",
       " '__init_subclass__',\n",
       " '__iter__',\n",
       " '__le__',\n",
       " '__len__',\n",
       " '__lt__',\n",
       " '__mul__',\n",
       " '__ne__',\n",
       " '__new__',\n",
       " '__reduce__',\n",
       " '__reduce_ex__',\n",
       " '__repr__',\n",
       " '__reversed__',\n",
       " '__rmul__',\n",
       " '__setattr__',\n",
       " '__setitem__',\n",
       " '__sizeof__',\n",
       " '__str__',\n",
       " '__subclasshook__',\n",
       " 'append',\n",
       " 'clear',\n",
       " 'copy',\n",
       " 'count',\n",
       " 'extend',\n",
       " 'index',\n",
       " 'insert',\n",
       " 'pop',\n",
       " 'remove',\n",
       " 'reverse',\n",
       " 'sort']"
      ]
     },
     "execution_count": 25,
     "metadata": {},
     "output_type": "execute_result"
    }
   ],
   "source": [
    "dir(members)"
   ]
  },
  {
   "cell_type": "code",
   "execution_count": 26,
   "id": "851ffb85",
   "metadata": {},
   "outputs": [],
   "source": [
    "# 내가 한 코드\n",
    "def add():\n",
    "    global members\n",
    "    num = int(input('번호: '))\n",
    "    name = input('이름: ')\n",
    "    phone = input('전화: ')\n",
    "    member = {'num':num, 'name': name, 'phone': phone}\n",
    "    members.append(member)\n",
    "    \n",
    "    with open('D:/test/python_crud.txt', 'w') as fout:\n",
    "        for v in members:\n",
    "             fout.write(f\"{member['num']} {member['name']} {member['phone']}\\n\")\n",
    "    print('회원 정보 저장 성공')"
   ]
  },
  {
   "cell_type": "code",
   "execution_count": 27,
   "id": "8fdfe014",
   "metadata": {},
   "outputs": [
    {
     "name": "stdout",
     "output_type": "stream",
     "text": [
      "번호: 1\n",
      "이름: smith\n",
      "전화: 010-2222-3333\n",
      "회원 정보 저장 성공\n"
     ]
    }
   ],
   "source": [
    "add()"
   ]
  },
  {
   "cell_type": "code",
   "execution_count": 29,
   "id": "28ea7574",
   "metadata": {},
   "outputs": [],
   "source": [
    "def read():\n",
    "    global members\n",
    "    with open('D:/test/python_crud.txt', encoding='utf-8') as fin:\n",
    "        for line in fin:\n",
    "            print(line.rstrip())"
   ]
  },
  {
   "cell_type": "code",
   "execution_count": 31,
   "id": "1684493c",
   "metadata": {
    "scrolled": true
   },
   "outputs": [
    {
     "name": "stdout",
     "output_type": "stream",
     "text": [
      "1 smith 010-2222-3333\n"
     ]
    }
   ],
   "source": [
    "read()"
   ]
  },
  {
   "cell_type": "code",
   "execution_count": 32,
   "id": "5780471f",
   "metadata": {},
   "outputs": [
    {
     "name": "stdout",
     "output_type": "stream",
     "text": [
      "추가(a): , 종료(x): x\n",
      "{'num': 1, 'name': 'smith', 'phone': '010-2222-3321'}\n",
      "프로그램 종료\n"
     ]
    }
   ],
   "source": [
    "# 강사님 버전\n",
    "\n",
    "def mem_add(mem_dict):\n",
    "    with open('d:/test/python_mem.txt', 'a') as fout:\n",
    "        fout.write(str(mem_dict)+'\\n')\n",
    "        return True\n",
    "\n",
    "def mem_list():\n",
    "    with open('d:/test/python_mem.txt','r') as fin:\n",
    "        for line in fin:\n",
    "            print(line.strip())\n",
    "\n",
    "while True:\n",
    "    if input('추가(a): , 종료(x): ')=='x':\n",
    "        break\n",
    "    num = int(input('번호: '))\n",
    "    name = input('이름: ')\n",
    "    phone = input('전화: ')\n",
    "    \n",
    "    mem_dic = {}\n",
    "    mem_dic['num'] = num\n",
    "    mem_dic['name'] = name\n",
    "    mem_dic['phone'] = phone\n",
    "    \n",
    "    if mem_add(mem_dic):\n",
    "        print('회원정보 추가 성공')\n",
    "    else:\n",
    "        print('회원정보 추가 오류')\n",
    "   \n",
    "mem_list()\n",
    "print('프로그램 종료')"
   ]
  },
  {
   "cell_type": "markdown",
   "id": "24130c1d",
   "metadata": {},
   "source": [
    "### eval() 사용하기\n",
    "- evaluation\n",
    "- 문자열을 파이썬 코드 상태로 실행\n",
    "- eval( 'print('Hello')' )\n",
    "- 딕셔너리 문자열을 주면 딕셔너리로 반환"
   ]
  },
  {
   "cell_type": "code",
   "execution_count": 33,
   "id": "b9ee8dd7",
   "metadata": {},
   "outputs": [
    {
     "name": "stdout",
     "output_type": "stream",
     "text": [
      "Hello\n"
     ]
    }
   ],
   "source": [
    "eval('print(\"Hello\")') # 파이썬 문법에 따라서 작성된 텍스트라면 파이썬 코드로 평가하고 실행함"
   ]
  },
  {
   "cell_type": "code",
   "execution_count": 34,
   "id": "80382353",
   "metadata": {},
   "outputs": [
    {
     "data": {
      "text/plain": [
       "3"
      ]
     },
     "execution_count": 34,
     "metadata": {},
     "output_type": "execute_result"
    }
   ],
   "source": [
    "eval('1+2')"
   ]
  },
  {
   "cell_type": "code",
   "execution_count": 35,
   "id": "5b98cabb",
   "metadata": {},
   "outputs": [
    {
     "data": {
      "text/plain": [
       "8"
      ]
     },
     "execution_count": 35,
     "metadata": {},
     "output_type": "execute_result"
    }
   ],
   "source": [
    "eval('2**3')   # 문자열로 적혀져 있어도 파이썬 문법에 맞다면 파이썬 코드로 실행됨"
   ]
  },
  {
   "cell_type": "code",
   "execution_count": 36,
   "id": "788b2618",
   "metadata": {},
   "outputs": [
    {
     "data": {
      "text/plain": [
       "{'a': 10, 'b': 'hello'}"
      ]
     },
     "execution_count": 36,
     "metadata": {},
     "output_type": "execute_result"
    }
   ],
   "source": [
    "dict_str = '{\"a\":10, \"b\":\"hello\"}'   # '{\"a\":10, \"b\":\"hello\"}'은 문자열이고 따옴표를 떼면 딕셔너리.\n",
    "ret = eval(dict_str) #  딕셔너리로 된 문법 코드를 문자열로 받았어도 eval이 딕셔너리로 반환해줌\n",
    "ret"
   ]
  },
  {
   "cell_type": "code",
   "execution_count": 37,
   "id": "bcb26d88",
   "metadata": {},
   "outputs": [
    {
     "data": {
      "text/plain": [
       "dict"
      ]
     },
     "execution_count": 37,
     "metadata": {},
     "output_type": "execute_result"
    }
   ],
   "source": [
    "type(ret) # dict => ret의 타입이 딕셔너리"
   ]
  },
  {
   "cell_type": "code",
   "execution_count": 38,
   "id": "63f2a4d4",
   "metadata": {},
   "outputs": [
    {
     "data": {
      "text/plain": [
       "\"{'a': 10, 'b': 'hello'}\""
      ]
     },
     "execution_count": 38,
     "metadata": {},
     "output_type": "execute_result"
    }
   ],
   "source": [
    "str(ret)  # 딕셔너리인 ret 타입을 문자열로 전환. 이 상태로 파일에 들어갔을 때 eval로 읽어오면 딕셔너리가 됨\n",
    "# 딕셔너리를 문자열로 문자열을 딕셔러리로 쉽게 eval을 통해 바꿀 수 있음"
   ]
  },
  {
   "cell_type": "code",
   "execution_count": 39,
   "id": "e76bfe7f",
   "metadata": {},
   "outputs": [
    {
     "data": {
      "text/plain": [
       "list"
      ]
     },
     "execution_count": 39,
     "metadata": {},
     "output_type": "execute_result"
    }
   ],
   "source": [
    "list1=[{'name':'smith', 'age':30},{'name':'laura', 'age':25}] # 리스트 안에 딕셔너리가 2개 \n",
    "str1 = str(list1) # 리스트를 문자열로 바꾸면 더 이상 리스트가 아닌 문자열이 됨\n",
    "ret = eval(str1)  # 그러나 그 문자열을 다시 eval을 하니 \n",
    "type(ret)    # 타입이 리스트가 됨 (딕셔너리를 가지고 있는 리스트)"
   ]
  },
  {
   "cell_type": "code",
   "execution_count": 40,
   "id": "5021301c",
   "metadata": {},
   "outputs": [],
   "source": [
    "with open('D:/test/python_dict.txt', 'w') as fout:\n",
    "    fout.write(str(ret))  # 딕셔너리를 가지고 있는 리스트를 문자열로 전환 => 텍스트 파일에 저장해야 하므로\n",
    "    # 오브젝트가 텍스트는 아니니 저장을 위해 텍스트 형식으로 전환 필요"
   ]
  },
  {
   "cell_type": "code",
   "execution_count": 41,
   "id": "00e2621c",
   "metadata": {},
   "outputs": [
    {
     "name": "stdout",
     "output_type": "stream",
     "text": [
      "[{'name': 'smith', 'age': 30}, {'name': 'laura', 'age': 25}]\n"
     ]
    }
   ],
   "source": [
    "with open('D:/test/python_dict.txt','r' , encoding='utf-8') as fin: \n",
    "    print(fin.read())  # 전체 문자열\n",
    "    # .read()는 전체 읽어오는 메소드이므로 저장된 파일 전체를 읽어옴(문자열로 자료 구조 그대로 읽어오게 됨)"
   ]
  },
  {
   "cell_type": "code",
   "execution_count": 42,
   "id": "8a6dbc6c",
   "metadata": {},
   "outputs": [
    {
     "name": "stdout",
     "output_type": "stream",
     "text": [
      "<class 'str'>\n"
     ]
    }
   ],
   "source": [
    "with open('D:/test/python_dict.txt','r' , encoding='utf-8') as fin: \n",
    "    print(type(fin.read())) #str"
   ]
  },
  {
   "cell_type": "code",
   "execution_count": 43,
   "id": "0c0562fe",
   "metadata": {},
   "outputs": [
    {
     "name": "stdout",
     "output_type": "stream",
     "text": [
      "<class 'list'>\n"
     ]
    }
   ],
   "source": [
    "with open('D:/test/python_dict.txt','r' , encoding='utf-8') as fin: \n",
    "    obj = eval(fin.read())\n",
    "    print(type(obj))   # list"
   ]
  },
  {
   "cell_type": "code",
   "execution_count": 44,
   "id": "3d866599",
   "metadata": {},
   "outputs": [
    {
     "name": "stdout",
     "output_type": "stream",
     "text": [
      "30\n"
     ]
    }
   ],
   "source": [
    "with open('D:/test/python_dict.txt','r' , encoding='utf-8') as fin: \n",
    "    mem_list = eval(fin.read())\n",
    "    print(mem_list[0]['age'])  "
   ]
  },
  {
   "cell_type": "markdown",
   "id": "53b8dd52",
   "metadata": {},
   "source": [
    "### 키보드에서 pet 정보를 입력하고 파일에 저장하여 CRUD \n",
    "- pet(id, species, weight, length)\n",
    "- 추가(a), 목록(s), 검색(f), 수정(u), 삭제(d), 종료(x)"
   ]
  },
  {
   "cell_type": "code",
   "execution_count": 16,
   "id": "b25668a5",
   "metadata": {},
   "outputs": [
    {
     "name": "stdout",
     "output_type": "stream",
     "text": [
      "['추가(a)', '목록(s)', '검색(f)', '수정(u)', '삭제(d)', '종료(x)']\n",
      "메뉴를 선택하세요: f\n",
      "검색할 아이디를 입력하세요: 1\n",
      "아이디 1에 해당하는 정보를 찾을 수 없습니다.\n",
      "메뉴를 선택하세요: f\n",
      "검색할 아이디를 입력하세요: 1\n",
      "아이디 1에 해당하는 정보를 찾을 수 없습니다.\n",
      "메뉴를 선택하세요: f\n",
      "검색할 아이디를 입력하세요: 1\n",
      "아이디 1에 해당하는 정보를 찾을 수 없습니다.\n",
      "메뉴를 선택하세요: a\n",
      "id: 1\n",
      "species: 토끼\n",
      "weight: 20\n",
      "length: 55\n",
      "회원 정보 저장 성공\n",
      "메뉴를 선택하세요: ㄴ\n",
      "잘못된 메뉴 선택입니다.\n",
      "메뉴를 선택하세요: s\n",
      "{'id': 1, 'species': '토끼', 'weight': '20', 'length': '55'}\n",
      "메뉴를 선택하세요: f\n",
      "검색할 아이디를 입력하세요: 1\n",
      "{'id': 1, 'species': '토끼', 'weight': '20', 'length': '55'}\n",
      "메뉴를 선택하세요: u\n",
      "수정할 펫 아이디를 입력하세요: 1\n",
      "수정할 몸무게를 입력하세요: 30\n",
      "1님의 정보가 수정되었습니다.\n",
      "메뉴를 선택하세요: s\n",
      "{'id': 1, 'species': '토끼', 'weight': '30', 'length': '55'}\n",
      "메뉴를 선택하세요: d\n",
      "삭제할 펫의 아이디를 입력하세요: 1\n",
      "1님의 정보가 삭제되었습니다.\n",
      "메뉴를 선택하세요: x\n",
      "종료되었습니다\n"
     ]
    }
   ],
   "source": [
    "menu = ['추가(a)', '목록(s)', '검색(f)', '수정(u)', '삭제(d)', '종료(x)']\n",
    "print(menu)\n",
    "\n",
    "pets = []\n",
    "\n",
    "def save(file_path, pets):\n",
    "    with open(file_path, 'w', encoding='utf-8') as fout:\n",
    "        for pet in pets:\n",
    "            pet_str = str(pet)\n",
    "            fout.write(f\"{pet_str}\\n\")\n",
    "\n",
    "def load(file_path):\n",
    "    global pets\n",
    "    with open(file_path, 'r', encoding='utf-8') as fin:\n",
    "        for line in fin:\n",
    "            pet = eval(line)\n",
    "            pets.append(pet)\n",
    "    return pets\n",
    "\n",
    "while True:\n",
    "    choice = input(\"메뉴를 선택하세요: \")\n",
    "\n",
    "    if choice == 'a':\n",
    "        num = int(input(\"id: \"))\n",
    "        species = input(\"species: \")\n",
    "        weight = input(\"weight: \")\n",
    "        length = input(\"length: \")\n",
    "\n",
    "        pet = {'id': num, 'species': species, 'weight': weight, 'length': length}\n",
    "        pets.append(pet)\n",
    "        save('D:/test/pet_crud.txt', pets)\n",
    "        print('회원 정보 저장 성공')\n",
    "\n",
    "    elif choice == 's':\n",
    "        pets = load_pets_from_file('D:/test/pet_crud.txt')\n",
    "        for pet in pets:\n",
    "            print(pet)\n",
    "\n",
    "    elif choice == 'f':\n",
    "        num = int(input(\"검색할 아이디를 입력하세요: \"))\n",
    "        pets = load('D:/test/pet_crud.txt')\n",
    "        found = False\n",
    "\n",
    "        for pet in pets:\n",
    "            if pet['id'] == num:\n",
    "                print(pet)\n",
    "                found = True\n",
    "                break\n",
    "\n",
    "        if not found:\n",
    "            print(f\"아이디 {num}에 해당하는 정보를 찾을 수 없습니다.\")\n",
    "\n",
    "    elif choice == 'u':\n",
    "        num = int(input(\"수정할 펫 아이디를 입력하세요: \"))\n",
    "        weight = input(\"수정할 몸무게를 입력하세요: \")\n",
    "        pets = load('D:/test/pet_crud.txt')\n",
    "        found = False\n",
    "\n",
    "        for pet in pets:\n",
    "            if pet['id'] == num:\n",
    "                pet['weight'] = weight\n",
    "                found = True\n",
    "                break\n",
    "\n",
    "        if found:\n",
    "            save('D:/test/pet_crud.txt', pets)\n",
    "            print(f\"{num}님의 정보가 수정되었습니다.\")\n",
    "        else:\n",
    "            print(f\"{num}님의 정보를 찾을 수 없습니다.\")\n",
    "\n",
    "    elif choice == 'd':\n",
    "        num = int(input(\"삭제할 펫의 아이디를 입력하세요: \"))\n",
    "        pets = load('D:/test/pet_crud.txt')\n",
    "        found = False\n",
    "\n",
    "        for pet in pets:\n",
    "            if pet['id'] == num:\n",
    "                pets.remove(pet)\n",
    "                save('D:/test/pet_crud.txt', pets)\n",
    "                found = True\n",
    "                break\n",
    "\n",
    "        if found:\n",
    "            print(f\"{num}님의 정보가 삭제되었습니다.\")\n",
    "        else:\n",
    "            print(f\"{num}님의 정보를 찾을 수 없습니다.\")\n",
    "\n",
    "    elif choice == 'x':\n",
    "        print(\"종료되었습니다\")\n",
    "        break\n",
    "\n",
    "    else:\n",
    "        print(\"잘못된 메뉴 선택입니다.\")\n"
   ]
  }
 ],
 "metadata": {
  "kernelspec": {
   "display_name": "Python 3 (ipykernel)",
   "language": "python",
   "name": "python3"
  },
  "language_info": {
   "codemirror_mode": {
    "name": "ipython",
    "version": 3
   },
   "file_extension": ".py",
   "mimetype": "text/x-python",
   "name": "python",
   "nbconvert_exporter": "python",
   "pygments_lexer": "ipython3",
   "version": "3.11.3"
  }
 },
 "nbformat": 4,
 "nbformat_minor": 5
}
